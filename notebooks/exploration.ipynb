{
 "cells": [
  {
   "cell_type": "markdown",
   "metadata": {
    "slideshow": {
     "slide_type": "slide"
    }
   },
   "source": [
    "# Data Expo 2009 - Airline on-time performance\n",
    "## by (Mahmoud Lotfi)\n",
    "\n",
    "## Preliminary Wrangling\n",
    "\n",
    "- The data consists of flight arrival and departure details for all commercial flights within the USA, from October 1987 to April 2008. \n",
    "- This is a large dataset: there are nearly 120 million records in total, and takes up 1.6 gigabytes of space compressed and 12 gigabytes when uncompressed. \n",
    "- The data comes originally from RITA where it is described in detail. \n",
    "- the data in bzipped csv file. \n",
    "- These files have derivable variables removed, are packaged in yearly chunks and have been more heavily compressed than the originals.\n",
    "- in this project we will discuss flight delay for __2008__ data set"
   ]
  },
  {
   "cell_type": "markdown",
   "metadata": {
    "slideshow": {
     "slide_type": "subslide"
    }
   },
   "source": [
    "### Individual years:\n",
    "\n",
    "1987, 1988, 1989, 1990, 1991, 1992, 1993, 1994, 1995, 1996, 1997, 1998, 1999, 2000, 2001, 2002, 2003, 2004, 2005, 2006, 2007, 2008\n",
    "\n",
    "### Our scope on 2008 dataset"
   ]
  },
  {
   "cell_type": "markdown",
   "metadata": {
    "slideshow": {
     "slide_type": "notes"
    }
   },
   "source": [
    "## How to Run the project:\n",
    "- Insrt raw data download in __\"./data/raw\"__\n",
    "- Run the script __\"Communicate-Dtata-Finding\\src\\data\\make_dataset.py\"__\n",
    "- Now you can find output data from script  __\"Communicate-Dtata-Finding/data/interim/*.csv\"__\n",
    "- Run the notebook in __\"Communicate-Dtata-Finding\\notebooks\\exploration.ipynb\"__ to find __Exploratory data__\n",
    "- Run the notebook in __\"Communicate-Dtata-Finding\\notebooks\\explanatory.ipynb\"__ to find __Explanatory data__"
   ]
  },
  {
   "cell_type": "code",
   "execution_count": 23,
   "metadata": {
    "slideshow": {
     "slide_type": "skip"
    }
   },
   "outputs": [],
   "source": [
    "# import all packages and set plots to be embedded inline\n",
    "import numpy as np\n",
    "import pandas as pd\n",
    "import matplotlib.pyplot as plt\n",
    "import seaborn as sns\n",
    "import time\n",
    "\n",
    "# display static image online \n",
    "%matplotlib inline\n",
    "\n",
    "# display zoomable images inline\n",
    "#%matplotlib notebook\n",
    "\n",
    "# suppress warnings from final output\n",
    "import warnings\n",
    "warnings.simplefilter(\"ignore\")"
   ]
  },
  {
   "cell_type": "markdown",
   "metadata": {
    "slideshow": {
     "slide_type": "notes"
    }
   },
   "source": [
    "### User define function and general configrations"
   ]
  },
  {
   "cell_type": "code",
   "execution_count": 24,
   "metadata": {
    "slideshow": {
     "slide_type": "notes"
    }
   },
   "outputs": [
    {
     "data": {
      "text/plain": [
       "'\\n# center plot figure\\nfrom IPython.core.display import HTML\\nHTML(\\n    \"\"\"\\n    <style>    .output_png \\n    {    \\n    display: table-cell;    \\n    text-align: center;    \\n    vertical-align: \\n    middle;\\n    }\\n    </style>\\n    \"\"\"\\n    )\\n\\n'"
      ]
     },
     "execution_count": 24,
     "metadata": {},
     "output_type": "execute_result"
    }
   ],
   "source": [
    "'''\n",
    "# center plot figure\n",
    "from IPython.core.display import HTML\n",
    "HTML(\n",
    "    \"\"\"\n",
    "    <style>    .output_png \n",
    "    {    \n",
    "    display: table-cell;    \n",
    "    text-align: center;    \n",
    "    vertical-align: \n",
    "    middle;\n",
    "    }\n",
    "    </style>\n",
    "    \"\"\"\n",
    "    )\n",
    "\n",
    "'''"
   ]
  },
  {
   "cell_type": "code",
   "execution_count": 25,
   "metadata": {
    "slideshow": {
     "slide_type": "skip"
    }
   },
   "outputs": [],
   "source": [
    "# reset seaborn settings\n",
    "sns.reset_orig()\n",
    "# set plotting color\n",
    "base_color = sns.color_palette()[0]"
   ]
  },
  {
   "cell_type": "code",
   "execution_count": 26,
   "metadata": {
    "slideshow": {
     "slide_type": "skip"
    }
   },
   "outputs": [],
   "source": [
    "def load_dataset(name='flights'):\n",
    "    '''\n",
    "    Description: load dataset acoordding to year\n",
    "    parameter name string flights, diverted, canceled\n",
    "    return dataframe\n",
    "    '''\n",
    "    t1 = time.time()\n",
    "    df = pd.read_csv('../data/interim/{}.csv'.format(name))\n",
    "    t2 = time.time()\n",
    "    print('Elapsed loading time :', t2-t1)\n",
    "    return df"
   ]
  },
  {
   "cell_type": "code",
   "execution_count": 27,
   "metadata": {
    "slideshow": {
     "slide_type": "skip"
    }
   },
   "outputs": [],
   "source": [
    "def plot_bar_str(df, col, inc=1, base_color=sns.color_palette()[0] , \n",
    "                            title = None ,  fontsize =40, \n",
    "                            figsize = None, rotation = 0, log =None):\n",
    "    '''\n",
    "    Description: custom bar plot\n",
    "    parameter   df : dataframe\n",
    "                col: destent colunm \n",
    "                inc: increment value for yaxis \n",
    "                base_color : bar color\n",
    "                title: chart title\n",
    "                fontsize: font size\n",
    "                figsize: chart size \n",
    "                rotation: x-axis label rotation\n",
    "                log : y-axis log scale\n",
    "    return dataframe\n",
    "    '''\n",
    "    month_frq = df[col].value_counts()\n",
    "    if figsize: plt.figure(figsize=figsize)\n",
    "    if not log:\n",
    "        month_max_count = month_frq[0]\n",
    "        month_max_prop = month_max_count/1000\n",
    "        tick_prop = np.arange(0, month_max_prop, inc)\n",
    "        tick_names = ['{:0.0f}K'.format(v) for v in tick_prop]\n",
    "        plt.yticks(tick_prop*1000, tick_names)  \n",
    "        \n",
    "    ax = plt.gca()\n",
    "    ax.spines[\"top\"].set_visible(False)\n",
    "    ax.spines[\"right\"].set_visible(False)\n",
    "    ax.spines[\"left\"].set_visible(False)\n",
    "    \n",
    "    plt.xticks(rotation=rotation)\n",
    "    \n",
    "    sns.countplot(data = flights, x=col, color = base_color, ax=ax);\n",
    "    if  log  : \n",
    "        plt.yscale('log')\n",
    "    if  title: \n",
    "        plt.title( label = title, fontsize=fontsize)  \n",
    "    plt.grid()\n",
    "    return ax"
   ]
  },
  {
   "cell_type": "code",
   "execution_count": 28,
   "metadata": {
    "slideshow": {
     "slide_type": "skip"
    }
   },
   "outputs": [],
   "source": [
    "def sort_time_fmt(df1, col):\n",
    "    '''\n",
    "    Description: create new dataframe contain hour, \n",
    "                frequency order by hour mintes from string format column dataframe\n",
    "    parameter :\n",
    "       df1 : dataframe\n",
    "       col: target column\n",
    "    return dataframe\n",
    "    '''\n",
    "    df = df1[col].value_counts().to_frame()\n",
    "    df['hours'] = pd.to_datetime(df.index, format='%I:%M %p').hour\n",
    "    df['minutes'] = pd.to_datetime(df.index, format='%I:%M %p').minute\n",
    "    df = df.reset_index()\n",
    "    df.columns = [col, 'frequency' , 'hours' , 'minutes']\n",
    "    df = df.sort_values(['hours', 'minutes'])\n",
    "    df = df.drop(columns=['minutes'])\n",
    "    df = df.groupby('hours').sum().reset_index()\n",
    "    df.columns = [col, 'frequency']   \n",
    "    return df"
   ]
  },
  {
   "cell_type": "code",
   "execution_count": 29,
   "metadata": {},
   "outputs": [],
   "source": [
    "def plot_line_month(df, x, figsize=(12, 4), title = None ,  fontsize =40, rotation = 0 ):\n",
    "    '''\n",
    "    Description: custom line plot\n",
    "    parameter :\n",
    "       df : dataframe\n",
    "       x,y : target column axes\n",
    "       figsize : chart frame size\n",
    "       title , fontsize : title label and size\n",
    "    return dataframe\n",
    "    '''\n",
    "    # make it a datetime so that we can sort it: \n",
    "    # use %b because the data use the abbriviation of month\n",
    "    df[\"Month\"] = pd.to_datetime(df.Month, format='%b', errors='coerce').dt.month\n",
    "    df = df.sort_values(by=\"Month\")\n",
    "    order = df.index\n",
    "    max_count = df[y].max()\n",
    "    max_prop = max_count/1000\n",
    "    tick_prop = np.arange(0, max_prop, 100)\n",
    "    tick_names = ['{:0.0f}K'.format(v) for v in tick_prop]\n",
    "    plt.figure(figsize=figsize)\n",
    "    ax = plt.gca()\n",
    "    ax.spines[\"top\"].set_visible(False)\n",
    "    ax.spines[\"right\"].set_visible(False)\n",
    "    ax.spines[\"left\"].set_visible(False)\n",
    "    plt.yticks(tick_prop*1000, tick_names)        \n",
    "    if  title: plt.title( label=title, fontsize=fontsize)  \n",
    "    df.plot(x=x, y=y, ax =ax);\n",
    "    plt.grid()"
   ]
  },
  {
   "cell_type": "code",
   "execution_count": 30,
   "metadata": {
    "slideshow": {
     "slide_type": "skip"
    }
   },
   "outputs": [],
   "source": [
    "def plot_line_time_fmt(df, x, y='frequency', figsize=(12, 4),  \n",
    "                            title = None ,  fontsize =40, \n",
    "                            xtitle= None , xfontsize =18,\n",
    "                            ytitle= None , yfontsize =18, \n",
    "                            rotation = 0 ):\n",
    "    '''\n",
    "    Description: custom line plot\n",
    "    parameter :\n",
    "       df : dataframe\n",
    "       x,y : target column axes\n",
    "       figsize : chart frame size\n",
    "       title , fontsize : title label and size\n",
    "       xtitle , xfontsize : title label and size\n",
    "       ytitle , yfontsize : title label and size\n",
    "       \n",
    "    return dataframe\n",
    "    '''\n",
    "    order = df.index\n",
    "    max_count = df[y].max()\n",
    "    max_prop = max_count/1000\n",
    "    tick_prop = np.arange(0, max_prop, 100)\n",
    "    tick_names = ['{:0.0f}K'.format(v) for v in tick_prop]\n",
    "    plt.figure(figsize=figsize)\n",
    "    ax = plt.gca()\n",
    "    ax.spines[\"top\"].set_visible(False)\n",
    "    ax.spines[\"right\"].set_visible(False)\n",
    "    ax.spines[\"left\"].set_visible(False)\n",
    "    plt.yticks(tick_prop*1000, tick_names)        \n",
    "    if  title: plt.title( label=title, fontsize=fontsize)  \n",
    "    df.plot(x=x, y=y, ax =ax);\n",
    "    plt.grid()"
   ]
  },
  {
   "cell_type": "code",
   "execution_count": 31,
   "metadata": {
    "slideshow": {
     "slide_type": "skip"
    }
   },
   "outputs": [],
   "source": [
    "def plot_hist(col, inc, \n",
    "                            title = None ,  fontsize =40, \n",
    "                            xtitle= None , xfontsize =18,\n",
    "                            ytitle= None , yfontsize =18, \n",
    "                            figsize = None,rotation = 0,             \n",
    "                            log =None , scale=1):\n",
    "    '''\n",
    "    Description: custom hist plot\n",
    "    parameter :\n",
    "       col : col from dataframe \n",
    "       inc : y increment value\n",
    "       figsize : chart frame size\n",
    "       title , fontsize : title label and size\n",
    "       xtitle , xfontsize : title label and size\n",
    "       ytitle , yfontsize : title label and size\n",
    "       \n",
    "    return dataframe\n",
    "    '''\n",
    "    if scale == 1000:\n",
    "        k='K'\n",
    "    else:\n",
    "        k=''\n",
    "    inc = 1\n",
    "    max_prop = (1.25*flights['ActualElapsedTimePmile'].max())/scale\n",
    "    tick_prop = np.arange(0, max_prop, inc)\n",
    "    tick_names = ['{:0.0f}{}'.format(v,k) for v in tick_prop]\n",
    "    if figsize:  plt.figure(figsize=figsize)\n",
    "\n",
    "    plt.yticks(tick_prop*scale, tick_names)\n",
    "    ax = plt.gca()\n",
    "\n",
    "    plt.xticks(rotation=rotation)\n",
    "    if log: plt.yscale('log')\n",
    "    plt.grid(alpha= 0.2)\n",
    "    sns.distplot(flights['ActualElapsedTimePmile'], ax=ax);\n",
    "    \n",
    "    plt.xlim(right=1);  # adjust the right leaving left unchanged\n",
    "    plt.xlim(left=0);  # adjust the left leaving right unchanged\n",
    "    \n",
    "    ax.spines[\"top\"].set_visible(False)\n",
    "    ax.spines[\"right\"].set_visible(False)\n",
    "    ax.spines[\"left\"].set_visible(False)\n",
    "    if  title: plt.title( label=title, fontsize=fontsize)  \n",
    "    if xtitle: plt.xlabel(label=title, fontsize=xfontsize)\n",
    "    if ytitle: plt.ylabel(label=title, fontsize=yfontsize)\n",
    "    plt.grid()"
   ]
  },
  {
   "cell_type": "code",
   "execution_count": 32,
   "metadata": {
    "slideshow": {
     "slide_type": "skip"
    }
   },
   "outputs": [
    {
     "data": {
      "text/plain": [
       "\"\\n# relative frequency\\n# return the highest frequency \\nmonth_max_count = month_frq[0]\\nmonth_max_prop = month_max_count/flights.shape[0]\\ntick_prop = np.arange(0, month_max_prop, 0.02)\\ntick_names = ['{:0.2f}'.format(v) for v in tick_prop]\\nplt.yticks(tick_prop*flights.shape[0], tick_names)\\nplt.grid()\\nsns.countplot(data = flights, x='Month', color = base_color, order = month_frq.index);\\n\""
      ]
     },
     "execution_count": 32,
     "metadata": {},
     "output_type": "execute_result"
    }
   ],
   "source": [
    "'''\n",
    "# relative frequency\n",
    "# return the highest frequency \n",
    "month_max_count = month_frq[0]\n",
    "month_max_prop = month_max_count/flights.shape[0]\n",
    "tick_prop = np.arange(0, month_max_prop, 0.02)\n",
    "tick_names = ['{:0.2f}'.format(v) for v in tick_prop]\n",
    "plt.yticks(tick_prop*flights.shape[0], tick_names)\n",
    "plt.grid()\n",
    "sns.countplot(data = flights, x='Month', color = base_color, order = month_frq.index);\n",
    "'''"
   ]
  },
  {
   "cell_type": "markdown",
   "metadata": {
    "slideshow": {
     "slide_type": "skip"
    }
   },
   "source": [
    "#### Run \"../src/data/make_dataset.py\" to divide the data set into three part for easier handling nan values\n",
    "the output of the script in:\n",
    "- ../data/interim/flights.csv\n",
    "- ../data/interim/diverted.csv\n",
    "- ../data/interim/canceled.csv"
   ]
  },
  {
   "cell_type": "code",
   "execution_count": null,
   "metadata": {
    "slideshow": {
     "slide_type": "skip"
    }
   },
   "outputs": [],
   "source": [
    "# now we will load flights dataset 2008\n",
    "flights = load_dataset()\n",
    "# print df size\n",
    "print(flights.shape)\n",
    "# dispay first 10 rows\n",
    "flights.head()"
   ]
  },
  {
   "cell_type": "code",
   "execution_count": null,
   "metadata": {
    "slideshow": {
     "slide_type": "skip"
    }
   },
   "outputs": [],
   "source": [
    "# get df data types and schema\n",
    "flights.info()"
   ]
  },
  {
   "cell_type": "code",
   "execution_count": null,
   "metadata": {
    "slideshow": {
     "slide_type": "skip"
    }
   },
   "outputs": [],
   "source": [
    "flights.columns"
   ]
  },
  {
   "cell_type": "code",
   "execution_count": null,
   "metadata": {
    "slideshow": {
     "slide_type": "skip"
    }
   },
   "outputs": [],
   "source": [
    "totals_flights = flights.shape[0]"
   ]
  },
  {
   "cell_type": "code",
   "execution_count": null,
   "metadata": {
    "slideshow": {
     "slide_type": "skip"
    }
   },
   "outputs": [],
   "source": [
    "# find the number of duplicated rows\n",
    "flights.duplicated().sum()"
   ]
  },
  {
   "cell_type": "code",
   "execution_count": null,
   "metadata": {
    "slideshow": {
     "slide_type": "skip"
    }
   },
   "outputs": [],
   "source": [
    "# drop duplicated rows\n",
    "flights = flights.drop_duplicates()"
   ]
  },
  {
   "cell_type": "code",
   "execution_count": null,
   "metadata": {
    "slideshow": {
     "slide_type": "skip"
    }
   },
   "outputs": [],
   "source": [
    "# check number of duplicated rows\n",
    "flights.duplicated().sum()"
   ]
  },
  {
   "cell_type": "code",
   "execution_count": null,
   "metadata": {
    "slideshow": {
     "slide_type": "skip"
    }
   },
   "outputs": [],
   "source": [
    "# check for null in each column\n",
    "# flights.isna().sum()\n",
    "flights.isnull().sum()"
   ]
  },
  {
   "cell_type": "code",
   "execution_count": null,
   "metadata": {
    "slideshow": {
     "slide_type": "skip"
    }
   },
   "outputs": [],
   "source": [
    "# drop all rows with any NaN and Null values\n",
    "flights = flights.dropna()"
   ]
  },
  {
   "cell_type": "code",
   "execution_count": null,
   "metadata": {
    "slideshow": {
     "slide_type": "skip"
    }
   },
   "outputs": [],
   "source": [
    "# check for null in each column\n",
    "# flights.isna().sum()\n",
    "flights.isnull().sum()"
   ]
  },
  {
   "cell_type": "code",
   "execution_count": null,
   "metadata": {
    "slideshow": {
     "slide_type": "skip"
    }
   },
   "outputs": [],
   "source": [
    "# the size after deleting null\n",
    "flights.shape[0] - totals_flights"
   ]
  },
  {
   "cell_type": "code",
   "execution_count": null,
   "metadata": {
    "slideshow": {
     "slide_type": "skip"
    }
   },
   "outputs": [],
   "source": [
    "# change schema\n",
    "flights['Year']              = flights['Year'].astype('str')\n",
    "flights['Month']             = flights['Month'].astype('str')\n",
    "flights['DayofMonth']        = flights['DayofMonth'].astype('str')\n",
    "flights['DayOfWeek']         = flights['DayOfWeek'].astype('str')\n",
    "\n",
    "flights['DepTime']           = flights['DepTime'].astype('str')          \n",
    "flights['CRSDepTime']        = flights['CRSDepTime'].astype('str')        \n",
    "flights['ArrTime']           = flights['ArrTime'].astype('str')          \n",
    "flights['CRSArrTime']        = flights['CRSArrTime'].astype('str')        \n",
    "\n",
    "flights['UniqueCarrier']     = flights['UniqueCarrier'].astype('str')  \n",
    "flights['FlightNum']         = flights['FlightNum'].astype('str')  \n",
    "flights['TailNum']           = flights['TailNum'].astype('str') \n",
    "\n",
    "flights['ActualElapsedTime'] = flights['ActualElapsedTime'].astype('int') \n",
    "flights['CRSElapsedTime']    = flights['CRSElapsedTime'].astype('int') \n",
    "flights['AirTime']           = flights['AirTime'].astype('int') \n",
    "flights['ArrDelay']          = flights['ArrDelay'].astype('int') \n",
    "flights['DepDelay']          = flights['DepDelay'].astype('int') \n",
    "\n",
    "flights['Origin']            = flights['Origin'].astype('str') \n",
    "flights['Dest']              = flights['Dest'].astype('str') \n",
    "\n",
    "flights['Distance']          = flights['Distance'].astype('int') \n",
    "\n",
    "flights['TaxiIn']            = flights['TaxiIn'].astype('int')  \n",
    "flights['TaxiOut']           = flights['TaxiOut'].astype('int') \n",
    "\n",
    "flights['CarrierDelay']      = flights['CarrierDelay'].astype('int')  \n",
    "flights['WeatherDelay']      = flights['WeatherDelay'].astype('int') \n",
    "flights['NASDelay']          = flights['NASDelay'].astype('int') \n",
    "flights['SecurityDelay']     = flights['SecurityDelay'].astype('int') \n",
    "flights['LateAircraftDelay'] = flights['LateAircraftDelay'].astype('int') "
   ]
  },
  {
   "cell_type": "code",
   "execution_count": null,
   "metadata": {
    "slideshow": {
     "slide_type": "skip"
    }
   },
   "outputs": [],
   "source": [
    "# get df data types and schema\n",
    "flights.info()"
   ]
  },
  {
   "cell_type": "code",
   "execution_count": null,
   "metadata": {
    "scrolled": true,
    "slideshow": {
     "slide_type": "skip"
    }
   },
   "outputs": [],
   "source": [
    "flights.describe().astype(int)"
   ]
  },
  {
   "cell_type": "markdown",
   "metadata": {
    "slideshow": {
     "slide_type": "slide"
    }
   },
   "source": [
    "## 01. Flights without cancellation nor divertion dataset:"
   ]
  },
  {
   "cell_type": "markdown",
   "metadata": {
    "slideshow": {
     "slide_type": "slide"
    }
   },
   "source": [
    "### What is the structure of your dataset?\n",
    "\n",
    "> There are 6,851,832 flight observations with 26 features in 2008 without diverted/cancelled flights and missing or incorrect​ data.\n",
    "\n",
    "\n",
    "### What is/are the main feature(s) of interest in your dataset?\n",
    "\n",
    "> Delayed flights in terms of carriers, origin & time.\n",
    "\n",
    "\n",
    "### What features in the dataset do you think will help support your investigation into your feature(s) of interest?\n",
    "\n",
    "> ArrDelay, Month, DayOfWeek, DepTime, ArrTime, UniqueCarrier."
   ]
  },
  {
   "cell_type": "code",
   "execution_count": null,
   "metadata": {
    "slideshow": {
     "slide_type": "skip"
    }
   },
   "outputs": [],
   "source": [
    "# now we will load flights dataset 2008\n",
    "cancelled = load_dataset('canceled')\n",
    "# print df size\n",
    "print(cancelled.shape)\n",
    "# dispay first 10 rows\n",
    "cancelled.head()"
   ]
  },
  {
   "cell_type": "code",
   "execution_count": null,
   "metadata": {
    "slideshow": {
     "slide_type": "skip"
    }
   },
   "outputs": [],
   "source": [
    "# get df data types and schema\n",
    "cancelled.info()"
   ]
  },
  {
   "cell_type": "code",
   "execution_count": null,
   "metadata": {
    "slideshow": {
     "slide_type": "skip"
    }
   },
   "outputs": [],
   "source": [
    "cancelled.columns"
   ]
  },
  {
   "cell_type": "code",
   "execution_count": null,
   "metadata": {
    "slideshow": {
     "slide_type": "skip"
    }
   },
   "outputs": [],
   "source": [
    "totals_cancelled = cancelled.shape[0]"
   ]
  },
  {
   "cell_type": "code",
   "execution_count": null,
   "metadata": {
    "slideshow": {
     "slide_type": "skip"
    }
   },
   "outputs": [],
   "source": [
    "# find the number of duplicated rows\n",
    "cancelled.duplicated().sum()"
   ]
  },
  {
   "cell_type": "code",
   "execution_count": null,
   "metadata": {
    "slideshow": {
     "slide_type": "skip"
    }
   },
   "outputs": [],
   "source": [
    "# check for null in each column\n",
    "# flights.isna().sum()\n",
    "cancelled.isnull().sum()"
   ]
  },
  {
   "cell_type": "code",
   "execution_count": null,
   "metadata": {
    "slideshow": {
     "slide_type": "skip"
    }
   },
   "outputs": [],
   "source": [
    "# drop all columns with any NaN and NaT values\n",
    "cancelled = cancelled.dropna(axis=1)"
   ]
  },
  {
   "cell_type": "code",
   "execution_count": null,
   "metadata": {
    "slideshow": {
     "slide_type": "skip"
    }
   },
   "outputs": [],
   "source": [
    "# check for null in each column\n",
    "# flights.isna().sum()\n",
    "cancelled.isnull().sum()"
   ]
  },
  {
   "cell_type": "code",
   "execution_count": null,
   "metadata": {
    "slideshow": {
     "slide_type": "skip"
    }
   },
   "outputs": [],
   "source": [
    "# the size after deleting null\n",
    "cancelled.shape[0] - totals_cancelled"
   ]
  },
  {
   "cell_type": "code",
   "execution_count": null,
   "metadata": {
    "slideshow": {
     "slide_type": "skip"
    }
   },
   "outputs": [],
   "source": [
    "# change schema\n",
    "cancelled['Year']              = cancelled['Year'].astype('str')\n",
    "cancelled['Month']             = cancelled['Month'].astype('str')\n",
    "cancelled['DayofMonth']        = cancelled['DayofMonth'].astype('str')\n",
    "cancelled['DayOfWeek']         = cancelled['DayOfWeek'].astype('str')\n",
    "\n",
    "cancelled['CRSDepTime']        = cancelled['CRSDepTime'].astype('str')        \n",
    "cancelled['CRSArrTime']        = cancelled['CRSArrTime'].astype('str')        \n",
    "\n",
    "cancelled['UniqueCarrier']     = cancelled['UniqueCarrier'].astype('str')  \n",
    "cancelled['FlightNum']         = cancelled['FlightNum'].astype('str')  \n",
    "\n",
    "cancelled['Origin']            = cancelled['Origin'].astype('str') \n",
    "cancelled['Dest']              = cancelled['Dest'].astype('str') \n",
    "\n",
    "cancelled['Distance']          = cancelled['Distance'].astype('int') \n",
    "cancelled['CancellationCode']  = cancelled['CancellationCode'].astype('str') "
   ]
  },
  {
   "cell_type": "code",
   "execution_count": null,
   "metadata": {
    "slideshow": {
     "slide_type": "skip"
    }
   },
   "outputs": [],
   "source": [
    "# get df data types and schema\n",
    "cancelled.info()"
   ]
  },
  {
   "cell_type": "code",
   "execution_count": null,
   "metadata": {
    "scrolled": true,
    "slideshow": {
     "slide_type": "skip"
    }
   },
   "outputs": [],
   "source": [
    "cancelled.describe().astype(int)"
   ]
  },
  {
   "cell_type": "markdown",
   "metadata": {
    "slideshow": {
     "slide_type": "slide"
    }
   },
   "source": [
    "## 02. Flights that have been Cancellation:"
   ]
  },
  {
   "cell_type": "markdown",
   "metadata": {
    "slideshow": {
     "slide_type": "slide"
    }
   },
   "source": [
    "### What is the structure of your dataset?\n",
    "\n",
    "> There are 137,434 flight observations with 12 features in 2008.\n",
    "\n",
    "\n",
    "### What is/are the main feature(s) of interest in your dataset?\n",
    "\n",
    " - what are the worstest airlines in terms of cancelled flighes?\n",
    " - what are the most cases of flights cancelled?\n",
    "\n",
    "\n",
    "### What features in the dataset do you think will help support your investigation into your feature(s) of interest?\n",
    "\n",
    "> UniqueCarrier, CancellationCode"
   ]
  },
  {
   "cell_type": "code",
   "execution_count": null,
   "metadata": {
    "slideshow": {
     "slide_type": "skip"
    }
   },
   "outputs": [],
   "source": [
    "# now we will load flights dataset 2008\n",
    "diverted = load_dataset('diverted')\n",
    "# print df size\n",
    "print(diverted.shape)\n",
    "# dispay first 10 rows\n",
    "diverted.head()"
   ]
  },
  {
   "cell_type": "code",
   "execution_count": null,
   "metadata": {
    "slideshow": {
     "slide_type": "skip"
    }
   },
   "outputs": [],
   "source": [
    "# get df data types and schema\n",
    "diverted.info()"
   ]
  },
  {
   "cell_type": "code",
   "execution_count": null,
   "metadata": {
    "slideshow": {
     "slide_type": "skip"
    }
   },
   "outputs": [],
   "source": [
    "diverted.columns"
   ]
  },
  {
   "cell_type": "code",
   "execution_count": null,
   "metadata": {
    "slideshow": {
     "slide_type": "skip"
    }
   },
   "outputs": [],
   "source": [
    "totals_diverted = diverted.shape[0]"
   ]
  },
  {
   "cell_type": "code",
   "execution_count": null,
   "metadata": {
    "slideshow": {
     "slide_type": "skip"
    }
   },
   "outputs": [],
   "source": [
    "# find the number of duplicated rows\n",
    "diverted.duplicated().sum()"
   ]
  },
  {
   "cell_type": "code",
   "execution_count": null,
   "metadata": {
    "slideshow": {
     "slide_type": "skip"
    }
   },
   "outputs": [],
   "source": [
    "# check for null in each column\n",
    "# flights.isna().sum()\n",
    "diverted.isnull().sum()"
   ]
  },
  {
   "cell_type": "code",
   "execution_count": null,
   "metadata": {
    "slideshow": {
     "slide_type": "skip"
    }
   },
   "outputs": [],
   "source": [
    "# drop all columns with any NaN and NaT values\n",
    "diverted = diverted.dropna(axis=1)"
   ]
  },
  {
   "cell_type": "code",
   "execution_count": null,
   "metadata": {
    "slideshow": {
     "slide_type": "skip"
    }
   },
   "outputs": [],
   "source": [
    "# check for null in each column\n",
    "# flights.isna().sum()\n",
    "diverted.isnull().sum()"
   ]
  },
  {
   "cell_type": "code",
   "execution_count": null,
   "metadata": {
    "slideshow": {
     "slide_type": "skip"
    }
   },
   "outputs": [],
   "source": [
    "# the size after deleting null\n",
    "diverted.shape[0] - totals_diverted"
   ]
  },
  {
   "cell_type": "code",
   "execution_count": null,
   "metadata": {
    "slideshow": {
     "slide_type": "skip"
    }
   },
   "outputs": [],
   "source": [
    "# change schema\n",
    "diverted['Year']              = diverted['Year'].astype('str')\n",
    "diverted['Month']             = diverted['Month'].astype('str')\n",
    "diverted['DayofMonth']        = diverted['DayofMonth'].astype('str')\n",
    "diverted['DayOfWeek']         = diverted['DayOfWeek'].astype('str')\n",
    "\n",
    "diverted['DepTime']           = diverted['DepTime'].astype('str')          \n",
    "diverted['CRSDepTime']        = diverted['CRSDepTime'].astype('str')        \n",
    "\n",
    "diverted['UniqueCarrier']     = diverted['UniqueCarrier'].astype('str')  \n",
    "diverted['FlightNum']         = diverted['FlightNum'].astype('str')  \n",
    "\n",
    "diverted['DepDelay']          = diverted['DepDelay'].astype('int') \n",
    "\n",
    "diverted['Origin']            = diverted['Origin'].astype('str') \n",
    "diverted['Dest']              = diverted['Dest'].astype('str') \n",
    "\n",
    "diverted['Distance']          = diverted['Distance'].astype('int') "
   ]
  },
  {
   "cell_type": "code",
   "execution_count": null,
   "metadata": {
    "slideshow": {
     "slide_type": "skip"
    }
   },
   "outputs": [],
   "source": [
    "# get df data types and schema\n",
    "diverted.info()"
   ]
  },
  {
   "cell_type": "code",
   "execution_count": null,
   "metadata": {
    "scrolled": true,
    "slideshow": {
     "slide_type": "skip"
    }
   },
   "outputs": [],
   "source": [
    "diverted.describe().astype(int)"
   ]
  },
  {
   "cell_type": "markdown",
   "metadata": {
    "slideshow": {
     "slide_type": "slide"
    }
   },
   "source": [
    "## 03. Flights that have been diverted:"
   ]
  },
  {
   "cell_type": "markdown",
   "metadata": {
    "slideshow": {
     "slide_type": "slide"
    }
   },
   "source": [
    "### What is the structure of your dataset?\n",
    "\n",
    "> There are 17,265 flight observations with 12 features in 2008.\n",
    "\n",
    "\n",
    "### What is/are the main feature(s) of interest in your dataset?\n",
    "\n",
    "> what are the Origin & Dest that have the most diverted flighes?\n",
    "\n",
    "\n",
    "### What features in the dataset do you think will help support your investigation into your feature(s) of interest?\n",
    "\n",
    "> Origin & Dest."
   ]
  },
  {
   "cell_type": "markdown",
   "metadata": {
    "slideshow": {
     "slide_type": "slide"
    }
   },
   "source": [
    "## Expoloring Flights dataset:"
   ]
  },
  {
   "cell_type": "markdown",
   "metadata": {
    "slideshow": {
     "slide_type": "subslide"
    }
   },
   "source": [
    "### 01. Flight dataset Year column:\n",
    "    range :\t 1987-2008 "
   ]
  },
  {
   "cell_type": "code",
   "execution_count": null,
   "metadata": {
    "scrolled": true,
    "slideshow": {
     "slide_type": "subslide"
    }
   },
   "outputs": [],
   "source": [
    "flights.Year.value_counts()"
   ]
  },
  {
   "cell_type": "markdown",
   "metadata": {
    "slideshow": {
     "slide_type": "subslide"
    }
   },
   "source": [
    "### 02. Flight dataset Month column:\n",
    "    range :\t 1-12                                                        "
   ]
  },
  {
   "cell_type": "code",
   "execution_count": null,
   "metadata": {
    "slideshow": {
     "slide_type": "skip"
    }
   },
   "outputs": [],
   "source": [
    "flights.Month.describe()"
   ]
  },
  {
   "cell_type": "code",
   "execution_count": null,
   "metadata": {
    "slideshow": {
     "slide_type": "skip"
    }
   },
   "outputs": [],
   "source": [
    "months = ['', 'January', 'February', 'March', 'April', 'May', 'June', 'July', \n",
    "           'August', 'September', 'October', 'November', 'December']\n",
    "# substitute number with actual day of month name \n",
    "for i in flights.Month.unique():\n",
    "    if str(i).isnumeric():\n",
    "        flights.Month.replace(i,months[int(i)], inplace=True)"
   ]
  },
  {
   "cell_type": "code",
   "execution_count": null,
   "metadata": {},
   "outputs": [],
   "source": [
    "flights.Month.unique()"
   ]
  },
  {
   "cell_type": "code",
   "execution_count": null,
   "metadata": {
    "slideshow": {
     "slide_type": "skip"
    }
   },
   "outputs": [],
   "source": [
    "plot_bar_str(flights, 'Month', 100, base_color, figsize=(11, 5), title = 'The Number Of Flights Per Month', fontsize =14); \n",
    "plt.xlabel('Months In 2008',fontsize =14);                          \n",
    "plt.ylabel('Number Of Flights',fontsize =14);"
   ]
  },
  {
   "cell_type": "markdown",
   "metadata": {
    "slideshow": {
     "slide_type": "subslide"
    }
   },
   "source": [
    "### Bar plot indicate the number of flights per month"
   ]
  },
  {
   "cell_type": "code",
   "execution_count": null,
   "metadata": {
    "slideshow": {
     "slide_type": "subslide"
    }
   },
   "outputs": [],
   "source": [
    "plot_bar_str(flights, 'Month', 100, base_color, figsize=(11, 5), title = 'The Number Of Flights Per Month', fontsize =14, log =True)\n",
    "plt.xlabel('Months In 2008',fontsize =14);                          \n",
    "plt.ylabel('Number Of Flights',fontsize =14);"
   ]
  },
  {
   "cell_type": "markdown",
   "metadata": {
    "slideshow": {
     "slide_type": "subslide"
    }
   },
   "source": [
    "- less flights on winter November , December  "
   ]
  },
  {
   "cell_type": "markdown",
   "metadata": {
    "slideshow": {
     "slide_type": "subslide"
    }
   },
   "source": [
    "### 03. Flight dataset DayofMonth column:\n",
    "    range :\t 1-31"
   ]
  },
  {
   "cell_type": "code",
   "execution_count": null,
   "metadata": {},
   "outputs": [],
   "source": [
    "flights.DayofMonth.describe()"
   ]
  },
  {
   "cell_type": "markdown",
   "metadata": {
    "slideshow": {
     "slide_type": "subslide"
    }
   },
   "source": [
    "### Bar plot indicate the number of flights per day of month"
   ]
  },
  {
   "cell_type": "code",
   "execution_count": null,
   "metadata": {
    "slideshow": {
     "slide_type": "subslide"
    }
   },
   "outputs": [],
   "source": [
    "plot_bar_str(flights, 'DayofMonth', 50, base_color, figsize=(11, 5), title = 'The Number Of Flights Per Day of Month', fontsize =14);\n",
    "plt.xlabel('Days of Months In 2008',fontsize =12);                          \n",
    "plt.ylabel('Number Of Flights',fontsize =12);"
   ]
  },
  {
   "cell_type": "markdown",
   "metadata": {
    "slideshow": {
     "slide_type": "subslide"
    }
   },
   "source": [
    "- There are not big difference amonge monthes in the flights number during the days of months, and its natural to be less half flights during 31th."
   ]
  },
  {
   "cell_type": "markdown",
   "metadata": {
    "slideshow": {
     "slide_type": "subslide"
    }
   },
   "source": [
    "### 04. Flight dataset DayOfWeek column:\n",
    "    range :\t 1 (Monday) - 7 (Sunday)"
   ]
  },
  {
   "cell_type": "code",
   "execution_count": null,
   "metadata": {},
   "outputs": [],
   "source": [
    "# substitute number with actual day of week name \n",
    "days = ['', 'Monday', 'Tuesday', 'Wednesday', 'Thursday', 'Friday', 'Saturday', 'Sunday']\n",
    "for i in flights.DayOfWeek.unique():\n",
    "    if str(i).isnumeric():\n",
    "        flights.DayOfWeek.replace(i,days[int(i)], inplace=True)"
   ]
  },
  {
   "cell_type": "code",
   "execution_count": null,
   "metadata": {
    "slideshow": {
     "slide_type": "skip"
    }
   },
   "outputs": [],
   "source": [
    "flights.DayOfWeek.describe()"
   ]
  },
  {
   "cell_type": "code",
   "execution_count": null,
   "metadata": {
    "slideshow": {
     "slide_type": "skip"
    }
   },
   "outputs": [],
   "source": [
    "plot_bar_str(flights, 'DayOfWeek', 200, base_color, figsize=(11, 5), title = 'The Number Of Flights Per Day', fontsize =14);\n",
    "plt.xlabel('Days',fontsize =12);                          \n",
    "plt.ylabel('Number Of Flights',fontsize =12);"
   ]
  },
  {
   "cell_type": "markdown",
   "metadata": {
    "slideshow": {
     "slide_type": "subslide"
    }
   },
   "source": [
    "#### Bar plot indicate the number of flights per day of week"
   ]
  },
  {
   "cell_type": "code",
   "execution_count": null,
   "metadata": {
    "slideshow": {
     "slide_type": "subslide"
    }
   },
   "outputs": [],
   "source": [
    "plot_bar_str(flights, 'DayOfWeek', 200, base_color, rotation =45, log=True)"
   ]
  },
  {
   "cell_type": "markdown",
   "metadata": {
    "slideshow": {
     "slide_type": "subslide"
    }
   },
   "source": [
    "There are not big difference amonge flights number during working days 'Tuesday', 'Wednesday', 'Thursday', 'Friday' , and less  flights during Sunday , and more less in Saturday."
   ]
  },
  {
   "cell_type": "markdown",
   "metadata": {
    "slideshow": {
     "slide_type": "subslide"
    }
   },
   "source": [
    "### 05. Flight dataset DepTime column:\n",
    "    range :\t 00:00 AM-11:59 PM  \n",
    "    actual departure time (local, hh:mm AM/PM)"
   ]
  },
  {
   "cell_type": "code",
   "execution_count": null,
   "metadata": {
    "slideshow": {
     "slide_type": "subslide"
    }
   },
   "outputs": [],
   "source": [
    "flights.DepTime.describe()"
   ]
  },
  {
   "cell_type": "code",
   "execution_count": null,
   "metadata": {},
   "outputs": [],
   "source": [
    "# sort time in ascending order with its frequency\n",
    "df = sort_time_fmt(flights, 'DepTime')"
   ]
  },
  {
   "cell_type": "code",
   "execution_count": null,
   "metadata": {},
   "outputs": [],
   "source": [
    "df[df.frequency == df.frequency.max()]"
   ]
  },
  {
   "cell_type": "markdown",
   "metadata": {
    "slideshow": {
     "slide_type": "subslide"
    }
   },
   "source": [
    "### line plot indicate the number of actual departed flights over the day time"
   ]
  },
  {
   "cell_type": "code",
   "execution_count": null,
   "metadata": {
    "slideshow": {
     "slide_type": "subslide"
    }
   },
   "outputs": [],
   "source": [
    "plot_line_time_fmt(df, 'DepTime', 'frequency', figsize=(12, 4))"
   ]
  },
  {
   "cell_type": "markdown",
   "metadata": {},
   "source": []
  },
  {
   "cell_type": "markdown",
   "metadata": {
    "slideshow": {
     "slide_type": "subslide"
    }
   },
   "source": [
    "### 06. Flight dataset CRSDepTime column:\n",
    "    range :\t 00:00 AM-11:59 PM  \n",
    "    scheduled departure time (local, hh:mm AM/PM)"
   ]
  },
  {
   "cell_type": "code",
   "execution_count": null,
   "metadata": {},
   "outputs": [],
   "source": [
    "flights.CRSDepTime.describe()"
   ]
  },
  {
   "cell_type": "code",
   "execution_count": null,
   "metadata": {},
   "outputs": [],
   "source": [
    "df = sort_time_fmt(flights, 'CRSDepTime')\n",
    "df.head()"
   ]
  },
  {
   "cell_type": "code",
   "execution_count": null,
   "metadata": {},
   "outputs": [],
   "source": [
    "df[df.frequency == df.frequency.max()]"
   ]
  },
  {
   "cell_type": "markdown",
   "metadata": {
    "slideshow": {
     "slide_type": "subslide"
    }
   },
   "source": [
    "### line plot indicate the number of scheduled departed flights over the day time"
   ]
  },
  {
   "cell_type": "code",
   "execution_count": null,
   "metadata": {
    "slideshow": {
     "slide_type": "subslide"
    }
   },
   "outputs": [],
   "source": [
    "plot_line_time_fmt(df, 'CRSDepTime', 'frequency', figsize=(12, 4))"
   ]
  },
  {
   "cell_type": "markdown",
   "metadata": {
    "slideshow": {
     "slide_type": "subslide"
    }
   },
   "source": [
    "### 07. Flight dataset ArrTime column:\n",
    "    range :\t 00:00 AM-11:59 PM  \n",
    "    actual arrival time (local, hh:mm AM/PM)"
   ]
  },
  {
   "cell_type": "code",
   "execution_count": null,
   "metadata": {},
   "outputs": [],
   "source": [
    "flights.ArrTime.describe()"
   ]
  },
  {
   "cell_type": "code",
   "execution_count": null,
   "metadata": {},
   "outputs": [],
   "source": [
    "df = sort_time_fmt(flights, 'ArrTime')\n",
    "df.head()"
   ]
  },
  {
   "cell_type": "code",
   "execution_count": null,
   "metadata": {},
   "outputs": [],
   "source": [
    "df[df.frequency == df.frequency.max()]"
   ]
  },
  {
   "cell_type": "markdown",
   "metadata": {
    "slideshow": {
     "slide_type": "subslide"
    }
   },
   "source": [
    "### line plot indicate the number of actual arrival flights over the day time"
   ]
  },
  {
   "cell_type": "code",
   "execution_count": null,
   "metadata": {
    "slideshow": {
     "slide_type": "subslide"
    }
   },
   "outputs": [],
   "source": [
    "plot_line_time_fmt(df, 'ArrTime', 'frequency', figsize=(12, 4))"
   ]
  },
  {
   "cell_type": "markdown",
   "metadata": {
    "slideshow": {
     "slide_type": "subslide"
    }
   },
   "source": [
    "### 08. Flight dataset CRSArrTime column:\n",
    "    range :\t 00:00 AM-11:59 PM  \n",
    "    scheduled arrival time (local, hh:mm AM/PM)"
   ]
  },
  {
   "cell_type": "code",
   "execution_count": null,
   "metadata": {
    "slideshow": {
     "slide_type": "subslide"
    }
   },
   "outputs": [],
   "source": [
    "flights.CRSArrTime.describe()"
   ]
  },
  {
   "cell_type": "code",
   "execution_count": null,
   "metadata": {
    "slideshow": {
     "slide_type": "skip"
    }
   },
   "outputs": [],
   "source": [
    "df = sort_time_fmt(flights, 'CRSArrTime')\n",
    "df.head()"
   ]
  },
  {
   "cell_type": "code",
   "execution_count": null,
   "metadata": {},
   "outputs": [],
   "source": [
    "df[df.frequency == df.frequency.max()]"
   ]
  },
  {
   "cell_type": "markdown",
   "metadata": {
    "slideshow": {
     "slide_type": "subslide"
    }
   },
   "source": [
    "### line plot indicate the number of scheduled arrival flights over the day time"
   ]
  },
  {
   "cell_type": "code",
   "execution_count": null,
   "metadata": {
    "slideshow": {
     "slide_type": "subslide"
    }
   },
   "outputs": [],
   "source": [
    "plot_line_time_fmt(df, 'CRSArrTime', 'frequency', figsize=(12, 4))"
   ]
  },
  {
   "cell_type": "markdown",
   "metadata": {
    "slideshow": {
     "slide_type": "subslide"
    }
   },
   "source": [
    "### 09. Flight dataset UniqueCarrier column:\n",
    "    range :\t 1 - 20 string\n",
    "    unique carrier code "
   ]
  },
  {
   "cell_type": "code",
   "execution_count": null,
   "metadata": {
    "slideshow": {
     "slide_type": "skip"
    }
   },
   "outputs": [],
   "source": [
    "flights.UniqueCarrier.describe()"
   ]
  },
  {
   "cell_type": "markdown",
   "metadata": {
    "slideshow": {
     "slide_type": "subslide"
    }
   },
   "source": [
    "#### Bar plot indicate the number of flights per carrier"
   ]
  },
  {
   "cell_type": "code",
   "execution_count": null,
   "metadata": {
    "slideshow": {
     "slide_type": "subslide"
    }
   },
   "outputs": [],
   "source": [
    "plot_bar_str(flights, 'UniqueCarrier', 200, base_color, (10, 4), rotation =0)"
   ]
  },
  {
   "cell_type": "markdown",
   "metadata": {
    "slideshow": {
     "slide_type": "subslide"
    }
   },
   "source": [
    "apperantly WN carrier have the most share of flights about 1,186,911 flight."
   ]
  },
  {
   "cell_type": "code",
   "execution_count": null,
   "metadata": {
    "scrolled": true,
    "slideshow": {
     "slide_type": "subslide"
    }
   },
   "outputs": [],
   "source": [
    "plot_bar_str(flights, 'UniqueCarrier', 200, base_color, (10, 4), rotation =0, log=True)"
   ]
  },
  {
   "cell_type": "markdown",
   "metadata": {
    "slideshow": {
     "slide_type": "subslide"
    }
   },
   "source": [
    "### 10. Flight dataset FlightNum column:\n",
    "    range :\tstring\n",
    "    flight number "
   ]
  },
  {
   "cell_type": "code",
   "execution_count": null,
   "metadata": {
    "slideshow": {
     "slide_type": "subslide"
    }
   },
   "outputs": [],
   "source": [
    "flights.FlightNum.describe()"
   ]
  },
  {
   "cell_type": "markdown",
   "metadata": {
    "slideshow": {
     "slide_type": "subslide"
    }
   },
   "source": [
    "### 11. Flight dataset TailNum column:\n",
    "    range :\tstring\n",
    "    plane tail number :\n",
    "    aircraft registration, unique aircraft identifier"
   ]
  },
  {
   "cell_type": "code",
   "execution_count": null,
   "metadata": {
    "slideshow": {
     "slide_type": "subslide"
    }
   },
   "outputs": [],
   "source": [
    "flights.TailNum.describe()"
   ]
  },
  {
   "cell_type": "markdown",
   "metadata": {
    "slideshow": {
     "slide_type": "skip"
    }
   },
   "source": [
    "# keep the orignal then remove outliers"
   ]
  },
  {
   "cell_type": "code",
   "execution_count": null,
   "metadata": {
    "slideshow": {
     "slide_type": "skip"
    }
   },
   "outputs": [],
   "source": [
    "flights_orignal = flights.copy()"
   ]
  },
  {
   "cell_type": "code",
   "execution_count": null,
   "metadata": {
    "slideshow": {
     "slide_type": "skip"
    }
   },
   "outputs": [],
   "source": [
    "#flights = flights_orignal"
   ]
  },
  {
   "cell_type": "markdown",
   "metadata": {
    "slideshow": {
     "slide_type": "skip"
    }
   },
   "source": [
    "outliers = (((df.DepDelay - df.DepDelay.mean()).abs() > df.DepDelay.std()*3) | \n",
    "            ((df.ArrDelay - df.ArrDelay.mean()).abs() > df.ArrDelay.std()*3))"
   ]
  },
  {
   "cell_type": "code",
   "execution_count": null,
   "metadata": {
    "slideshow": {
     "slide_type": "skip"
    }
   },
   "outputs": [],
   "source": [
    "def outlier(df, col):\n",
    "    df_non_outlier = df[(df[col] >= (2.5*df[col].quantile(.25)-1.5*df[col].quantile(.75))) & (df[col] <= (2.5*df[col].quantile(.75)-1.5*df[col].quantile(.25)))]\n",
    "    return df_non_outlier"
   ]
  },
  {
   "cell_type": "markdown",
   "metadata": {
    "slideshow": {
     "slide_type": "subslide"
    }
   },
   "source": [
    "### 12. Flight dataset ActualElapsedTime column:\n",
    "    range :\tin minutes\n",
    "    ActualElapsedTime "
   ]
  },
  {
   "cell_type": "code",
   "execution_count": null,
   "metadata": {
    "slideshow": {
     "slide_type": "subslide"
    }
   },
   "outputs": [],
   "source": [
    "flights.ActualElapsedTime.describe().round(2)"
   ]
  },
  {
   "cell_type": "code",
   "execution_count": null,
   "metadata": {
    "slideshow": {
     "slide_type": "skip"
    }
   },
   "outputs": [],
   "source": [
    "# remove outliers \n",
    "flights = outlier(flights, 'ActualElapsedTime')"
   ]
  },
  {
   "cell_type": "code",
   "execution_count": null,
   "metadata": {
    "slideshow": {
     "slide_type": "skip"
    }
   },
   "outputs": [],
   "source": [
    "flights.ActualElapsedTime.describe().round(2)"
   ]
  },
  {
   "cell_type": "code",
   "execution_count": null,
   "metadata": {
    "slideshow": {
     "slide_type": "skip"
    }
   },
   "outputs": [],
   "source": [
    "flights['ActualElapsedTimePmile'] = flights['ActualElapsedTime'].astype(float)/ flights['Distance'].astype(float)"
   ]
  },
  {
   "cell_type": "code",
   "execution_count": null,
   "metadata": {
    "slideshow": {
     "slide_type": "skip"
    }
   },
   "outputs": [],
   "source": [
    "flights.ActualElapsedTimePmile.describe().round(3)"
   ]
  },
  {
   "cell_type": "code",
   "execution_count": null,
   "metadata": {
    "slideshow": {
     "slide_type": "skip"
    }
   },
   "outputs": [],
   "source": [
    "bins = np.arange(0,flights['ActualElapsedTimePmile'].max()+0.1,0.1)\n",
    "plt.hist(data = flights, x= 'ActualElapsedTimePmile', bins=bins);\n",
    "plt.xlim(right=1);  # adjust the right leaving left unchanged\n",
    "plt.xlim(left=0);  # adjust the left leaving right unchanged"
   ]
  },
  {
   "cell_type": "code",
   "execution_count": null,
   "metadata": {
    "slideshow": {
     "slide_type": "skip"
    }
   },
   "outputs": [],
   "source": [
    "bins = np.arange(0,flights['ActualElapsedTimePmile'].max()+0.1,0.1)\n",
    "plt.hist(data = flights, x= 'ActualElapsedTimePmile', bins=bins);\n",
    "plt.xlim(right=4);  # adjust the right leaving left unchanged\n",
    "plt.xlim(left=-0.5);  # adjust the left leaving right unchanged\n",
    "plt.yscale('log')"
   ]
  },
  {
   "cell_type": "markdown",
   "metadata": {
    "slideshow": {
     "slide_type": "subslide"
    }
   },
   "source": [
    "#### histogram indicate the density of Actual ElapsedTime for flights per distance"
   ]
  },
  {
   "cell_type": "code",
   "execution_count": null,
   "metadata": {
    "slideshow": {
     "slide_type": "subslide"
    }
   },
   "outputs": [],
   "source": [
    "plot_hist(flights['ActualElapsedTimePmile'], 1, scale=1, x_right=1, x_left=0)"
   ]
  },
  {
   "cell_type": "code",
   "execution_count": null,
   "metadata": {},
   "outputs": [],
   "source": [
    "sns.boxplot(x=flights['ActualElapsedTimePmile']);\n",
    "plt.xlim(right=0.4);  # adjust the right leaving left unchanged\n",
    "plt.xlim(left=0);  # adjust the left leaving right unchanged"
   ]
  },
  {
   "cell_type": "code",
   "execution_count": null,
   "metadata": {
    "slideshow": {
     "slide_type": "skip"
    }
   },
   "outputs": [],
   "source": [
    "flights.boxplot(column=['ActualElapsedTimePmile']);\n",
    "plt.ylim(top=0.4);  # adjust the top leaving bottom unchanged\n",
    "plt.ylim(bottom=0); # adjust the bottom leaving top unchanged"
   ]
  },
  {
   "cell_type": "markdown",
   "metadata": {
    "slideshow": {
     "slide_type": "subslide"
    }
   },
   "source": [
    "### 13. Flight dataset CRSElapsedTime column:\n",
    "    range :\tin minutes\n",
    "    CRSElapsedTime"
   ]
  },
  {
   "cell_type": "code",
   "execution_count": null,
   "metadata": {
    "slideshow": {
     "slide_type": "skip"
    }
   },
   "outputs": [],
   "source": [
    "flights.CRSElapsedTime.describe().round(1)"
   ]
  },
  {
   "cell_type": "code",
   "execution_count": null,
   "metadata": {
    "scrolled": false,
    "slideshow": {
     "slide_type": "skip"
    }
   },
   "outputs": [],
   "source": [
    "flights[flights['CRSElapsedTime'] <0]"
   ]
  },
  {
   "cell_type": "markdown",
   "metadata": {
    "slideshow": {
     "slide_type": "skip"
    }
   },
   "source": [
    "#### remove incorrect data"
   ]
  },
  {
   "cell_type": "code",
   "execution_count": null,
   "metadata": {
    "slideshow": {
     "slide_type": "skip"
    }
   },
   "outputs": [],
   "source": [
    "flights = flights[~(flights['CRSElapsedTime'] <0)]"
   ]
  },
  {
   "cell_type": "code",
   "execution_count": null,
   "metadata": {
    "slideshow": {
     "slide_type": "skip"
    }
   },
   "outputs": [],
   "source": [
    "flights.CRSElapsedTime.describe().round(1)"
   ]
  },
  {
   "cell_type": "code",
   "execution_count": null,
   "metadata": {
    "slideshow": {
     "slide_type": "skip"
    }
   },
   "outputs": [],
   "source": [
    "# remove outliers \n",
    "flights = outlier(flights, 'CRSElapsedTime')"
   ]
  },
  {
   "cell_type": "code",
   "execution_count": null,
   "metadata": {
    "slideshow": {
     "slide_type": "skip"
    }
   },
   "outputs": [],
   "source": [
    "flights.CRSElapsedTime.describe().round(1)"
   ]
  },
  {
   "cell_type": "code",
   "execution_count": null,
   "metadata": {
    "slideshow": {
     "slide_type": "skip"
    }
   },
   "outputs": [],
   "source": [
    "flights['CRSElapsedTimePmile'] = flights['CRSElapsedTime'].astype(float)/ flights['Distance'].astype(float)"
   ]
  },
  {
   "cell_type": "code",
   "execution_count": null,
   "metadata": {
    "scrolled": true,
    "slideshow": {
     "slide_type": "skip"
    }
   },
   "outputs": [],
   "source": [
    "flights.ActualElapsedTimePmile.describe().round(3)"
   ]
  },
  {
   "cell_type": "code",
   "execution_count": null,
   "metadata": {
    "slideshow": {
     "slide_type": "skip"
    }
   },
   "outputs": [],
   "source": [
    "bins = np.arange(0,flights['CRSElapsedTimePmile'].max()+0.1,0.1)\n",
    "plt.hist(data = flights, x= 'CRSElapsedTimePmile', bins=bins);\n",
    "plt.xlim(right=1);  # adjust the right leaving left unchanged\n",
    "plt.xlim(left=0);  # adjust the left leaving right unchanged"
   ]
  },
  {
   "cell_type": "markdown",
   "metadata": {
    "slideshow": {
     "slide_type": "subslide"
    }
   },
   "source": [
    "#### histogram indicate the density of scheduled ElapsedTime for flights per distance"
   ]
  },
  {
   "cell_type": "code",
   "execution_count": null,
   "metadata": {
    "slideshow": {
     "slide_type": "subslide"
    }
   },
   "outputs": [],
   "source": [
    "plot_hist(flights['CRSElapsedTimePmile'], 1, scale=1, x_right=1, x_left=0)"
   ]
  },
  {
   "cell_type": "code",
   "execution_count": null,
   "metadata": {
    "slideshow": {
     "slide_type": "skip"
    }
   },
   "outputs": [],
   "source": [
    "sns.distplot(flights['CRSElapsedTimePmile']);\n",
    "plt.xlim(right=1);  # adjust the right leaving left unchanged\n",
    "plt.xlim(left=0);  # adjust the left leaving right unchanged"
   ]
  },
  {
   "cell_type": "code",
   "execution_count": null,
   "metadata": {
    "scrolled": true,
    "slideshow": {
     "slide_type": "skip"
    }
   },
   "outputs": [],
   "source": [
    "sns.boxplot(x=flights['CRSElapsedTimePmile']);\n",
    "plt.xlim(right=0.5);  # adjust the right leaving left unchanged\n",
    "plt.xlim(left=0);  # adjust the left leaving right unchanged"
   ]
  },
  {
   "cell_type": "code",
   "execution_count": null,
   "metadata": {
    "scrolled": true,
    "slideshow": {
     "slide_type": "skip"
    }
   },
   "outputs": [],
   "source": [
    "flights.boxplot(column=['CRSElapsedTimePmile']);\n",
    "plt.ylim(top=0.5);  # adjust the top leaving bottom unchanged\n",
    "plt.ylim(bottom=0); # adjust the bottom leaving top unchanged"
   ]
  },
  {
   "cell_type": "markdown",
   "metadata": {
    "slideshow": {
     "slide_type": "subslide"
    }
   },
   "source": [
    "### 14. Flight dataset AirTime column:\n",
    "    range :\tin minutes"
   ]
  },
  {
   "cell_type": "code",
   "execution_count": null,
   "metadata": {
    "slideshow": {
     "slide_type": "skip"
    }
   },
   "outputs": [],
   "source": [
    "flights.AirTime.describe().round(1)"
   ]
  },
  {
   "cell_type": "code",
   "execution_count": null,
   "metadata": {
    "slideshow": {
     "slide_type": "skip"
    }
   },
   "outputs": [],
   "source": [
    "# remove outliers \n",
    "flights = outlier(flights, 'AirTime')"
   ]
  },
  {
   "cell_type": "code",
   "execution_count": null,
   "metadata": {
    "slideshow": {
     "slide_type": "skip"
    }
   },
   "outputs": [],
   "source": [
    "flights.AirTime.describe().round(1)"
   ]
  },
  {
   "cell_type": "code",
   "execution_count": null,
   "metadata": {
    "slideshow": {
     "slide_type": "skip"
    }
   },
   "outputs": [],
   "source": [
    "flights['AirTimePmile'] = flights['AirTime'].astype(float)/ flights['Distance'].astype(float)"
   ]
  },
  {
   "cell_type": "code",
   "execution_count": null,
   "metadata": {
    "scrolled": true,
    "slideshow": {
     "slide_type": "skip"
    }
   },
   "outputs": [],
   "source": [
    "flights.AirTimePmile.describe().round(3)"
   ]
  },
  {
   "cell_type": "code",
   "execution_count": null,
   "metadata": {
    "slideshow": {
     "slide_type": "skip"
    }
   },
   "outputs": [],
   "source": [
    "bins = np.arange(0,flights['AirTimePmile'].max()+0.1,0.1)\n",
    "plt.hist(data = flights, x= 'AirTimePmile', bins=bins);\n",
    "plt.xlim(right=1);  # adjust the right leaving left unchanged\n",
    "plt.xlim(left=0);  # adjust the left leaving right unchanged"
   ]
  },
  {
   "cell_type": "markdown",
   "metadata": {
    "slideshow": {
     "slide_type": "subslide"
    }
   },
   "source": [
    "#### histogram indicate the density of arive Time for flights per distance"
   ]
  },
  {
   "cell_type": "code",
   "execution_count": null,
   "metadata": {
    "slideshow": {
     "slide_type": "subslide"
    }
   },
   "outputs": [],
   "source": [
    "plot_hist(flights['AirTimePmile'], 1, scale=1, x_right=1, x_left=0)"
   ]
  },
  {
   "cell_type": "code",
   "execution_count": null,
   "metadata": {
    "slideshow": {
     "slide_type": "skip"
    }
   },
   "outputs": [],
   "source": [
    "sns.distplot(flights['AirTimePmile']);\n",
    "plt.xlim(right=1);  # adjust the right leaving left unchanged\n",
    "plt.xlim(left=0)  # adjust the left leaving right unchanged"
   ]
  },
  {
   "cell_type": "code",
   "execution_count": null,
   "metadata": {
    "scrolled": true,
    "slideshow": {
     "slide_type": "skip"
    }
   },
   "outputs": [],
   "source": [
    "sns.boxplot(x=flights['AirTimePmile']);\n",
    "plt.xlim(right=0.35);  # adjust the right leaving left unchanged\n",
    "plt.xlim(left=0);  # adjust the left leaving right unchanged"
   ]
  },
  {
   "cell_type": "code",
   "execution_count": null,
   "metadata": {
    "scrolled": true,
    "slideshow": {
     "slide_type": "skip"
    }
   },
   "outputs": [],
   "source": [
    "flights.boxplot(column=['AirTimePmile']);\n",
    "plt.ylim(top=0.35);  # adjust the top leaving bottom unchanged\n",
    "plt.ylim(bottom=0); # adjust the bottom leaving top unchanged"
   ]
  },
  {
   "cell_type": "markdown",
   "metadata": {
    "slideshow": {
     "slide_type": "subslide"
    }
   },
   "source": [
    "### 15. Flight dataset ArrDelay column:\n",
    "    range :\tin minutes\n",
    "    arrival delay:\n",
    "    A flight is counted as \"on time\" if it operated less than 15 minutes later the scheduled time shown in the carriers' Computerized Reservations Systems (CRS)."
   ]
  },
  {
   "cell_type": "code",
   "execution_count": null,
   "metadata": {
    "slideshow": {
     "slide_type": "skip"
    }
   },
   "outputs": [],
   "source": [
    "flights.ArrDelay.describe().round(1)"
   ]
  },
  {
   "cell_type": "code",
   "execution_count": null,
   "metadata": {
    "slideshow": {
     "slide_type": "skip"
    }
   },
   "outputs": [],
   "source": [
    "flights[flights['ArrDelay'] <15].shape"
   ]
  },
  {
   "cell_type": "code",
   "execution_count": null,
   "metadata": {
    "slideshow": {
     "slide_type": "skip"
    }
   },
   "outputs": [],
   "source": [
    "# remove outliers \n",
    "flights = outlier(flights, 'ArrDelay')"
   ]
  },
  {
   "cell_type": "code",
   "execution_count": null,
   "metadata": {
    "slideshow": {
     "slide_type": "skip"
    }
   },
   "outputs": [],
   "source": [
    "flights.ArrDelay.describe().round(1)"
   ]
  },
  {
   "cell_type": "code",
   "execution_count": null,
   "metadata": {
    "slideshow": {
     "slide_type": "skip"
    }
   },
   "outputs": [],
   "source": [
    "plt.hist(data = flights, x= 'ArrDelay');\n",
    "#plt.xlim(right=500);  # adjust the right leaving left unchanged\n",
    "plt.xlim(left=-60);  # adjust the left leaving right unchanged"
   ]
  },
  {
   "cell_type": "code",
   "execution_count": null,
   "metadata": {},
   "outputs": [],
   "source": [
    "plt.hist(data = flights, x= 'ArrDelay');\n",
    "#plt.xlim(right=500);  # adjust the right leaving left unchanged\n",
    "plt.xlim(left=-60);  # adjust the left leaving right unchanged\n",
    "plt.yscale('log')"
   ]
  },
  {
   "cell_type": "code",
   "execution_count": null,
   "metadata": {},
   "outputs": [],
   "source": [
    "plot_hist(flights['AirTimePmile'], .1)"
   ]
  },
  {
   "cell_type": "markdown",
   "metadata": {
    "slideshow": {
     "slide_type": "subslide"
    }
   },
   "source": [
    "#### histogram indicate the density of arive delayTime for flights per distance"
   ]
  },
  {
   "cell_type": "code",
   "execution_count": null,
   "metadata": {
    "slideshow": {
     "slide_type": "subslide"
    }
   },
   "outputs": [],
   "source": [
    "sns.distplot(flights['ArrDelay']);\n",
    "#plt.xlim(right=12);  # adjust the right leaving left unchanged\n",
    "#plt.xlim(left=-700);  # adjust the left leaving right unchanged\n",
    "#plt.yscale('log')"
   ]
  },
  {
   "cell_type": "code",
   "execution_count": null,
   "metadata": {
    "scrolled": true
   },
   "outputs": [],
   "source": [
    "sns.boxplot(x=flights['ArrDelay']);\n",
    "plt.xlim(right=50);  # adjust the right leaving left unchanged\n",
    "plt.xlim(left=-50);  # adjust the left leaving right unchanged"
   ]
  },
  {
   "cell_type": "code",
   "execution_count": null,
   "metadata": {
    "scrolled": true
   },
   "outputs": [],
   "source": [
    "flights.boxplot(column=['ArrDelay']);\n",
    "plt.ylim(top=50);  # adjust the top leaving bottom unchanged\n",
    "plt.ylim(bottom=-50); # adjust the bottom leaving top unchanged"
   ]
  },
  {
   "cell_type": "markdown",
   "metadata": {
    "slideshow": {
     "slide_type": "subslide"
    }
   },
   "source": [
    "### 16. Flight dataset DepDelay column:\n",
    "    range :\tin minutes\n",
    "    departure delay:"
   ]
  },
  {
   "cell_type": "code",
   "execution_count": null,
   "metadata": {
    "slideshow": {
     "slide_type": "subslide"
    }
   },
   "outputs": [],
   "source": [
    "flights.DepDelay.describe().round(1)"
   ]
  },
  {
   "cell_type": "code",
   "execution_count": null,
   "metadata": {
    "scrolled": true
   },
   "outputs": [],
   "source": [
    "flights[flights['DepDelay'] <0].shape"
   ]
  },
  {
   "cell_type": "code",
   "execution_count": null,
   "metadata": {},
   "outputs": [],
   "source": [
    "# remove outliers \n",
    "flights = outlier(flights, 'DepDelay')"
   ]
  },
  {
   "cell_type": "code",
   "execution_count": null,
   "metadata": {},
   "outputs": [],
   "source": [
    "flights.DepDelay.describe().round(1)"
   ]
  },
  {
   "cell_type": "code",
   "execution_count": null,
   "metadata": {},
   "outputs": [],
   "source": [
    "plt.hist(data = flights, x= 'DepDelay');\n",
    "#plt.xlim(right=1);  # adjust the right leaving left unchanged\n",
    "#plt.xlim(left=0);  # adjust the left leaving right unchanged"
   ]
  },
  {
   "cell_type": "markdown",
   "metadata": {
    "slideshow": {
     "slide_type": "subslide"
    }
   },
   "source": [
    "#### histogram indicate the density of depate delay Time for flights per distance"
   ]
  },
  {
   "cell_type": "code",
   "execution_count": null,
   "metadata": {
    "slideshow": {
     "slide_type": "subslide"
    }
   },
   "outputs": [],
   "source": [
    "plot_hist(flights['AirTimePmile'], .1)"
   ]
  },
  {
   "cell_type": "code",
   "execution_count": null,
   "metadata": {},
   "outputs": [],
   "source": [
    "sns.distplot(flights['DepDelay']);\n",
    "#plt.xlim(right=1);  # adjust the right leaving left unchanged\n",
    "#plt.xlim(left=0)  # adjust the left leaving right unchanged"
   ]
  },
  {
   "cell_type": "code",
   "execution_count": null,
   "metadata": {
    "scrolled": true
   },
   "outputs": [],
   "source": [
    "sns.boxplot(x=flights['DepDelay']);\n",
    "#plt.xlim(right=1);  # adjust the right leaving left unchanged\n",
    "#plt.xlim(left=0);  # adjust the left leaving right unchanged"
   ]
  },
  {
   "cell_type": "code",
   "execution_count": null,
   "metadata": {
    "scrolled": true
   },
   "outputs": [],
   "source": [
    "flights.boxplot(column=['DepDelay']);\n",
    "#plt.ylim(top=1);  # adjust the top leaving bottom unchanged\n",
    "#plt.ylim(bottom=0); # adjust the bottom leaving top unchanged"
   ]
  },
  {
   "cell_type": "markdown",
   "metadata": {
    "slideshow": {
     "slide_type": "subslide"
    }
   },
   "source": [
    "### 17. Flight dataset Origin column:\n",
    "    range :\tstring\n",
    "    origin IATA airport code"
   ]
  },
  {
   "cell_type": "code",
   "execution_count": null,
   "metadata": {},
   "outputs": [],
   "source": [
    "flights.Origin.describe()"
   ]
  },
  {
   "cell_type": "markdown",
   "metadata": {
    "slideshow": {
     "slide_type": "subslide"
    }
   },
   "source": [
    "### 18. Flight dataset Dest column:\n",
    "    range :\tstring\n",
    "    destination IATA airport code "
   ]
  },
  {
   "cell_type": "code",
   "execution_count": null,
   "metadata": {},
   "outputs": [],
   "source": [
    "flights.Dest.describe()"
   ]
  },
  {
   "cell_type": "markdown",
   "metadata": {
    "slideshow": {
     "slide_type": "subslide"
    }
   },
   "source": [
    "### 19. Flight dataset Distance column:\n",
    "    range :\tin miles \n",
    "    Distance"
   ]
  },
  {
   "cell_type": "code",
   "execution_count": null,
   "metadata": {},
   "outputs": [],
   "source": [
    "flights.Distance.describe().round(1)"
   ]
  },
  {
   "cell_type": "markdown",
   "metadata": {
    "slideshow": {
     "slide_type": "subslide"
    }
   },
   "source": [
    "### 20. Flight dataset TaxiIn column:\n",
    "    range :\tin minutes\n",
    "    taxi in time "
   ]
  },
  {
   "cell_type": "code",
   "execution_count": null,
   "metadata": {},
   "outputs": [],
   "source": [
    "flights.TaxiIn.describe().round(1)"
   ]
  },
  {
   "cell_type": "code",
   "execution_count": null,
   "metadata": {},
   "outputs": [],
   "source": [
    "# remove outliers \n",
    "flights = outlier(flights, 'TaxiIn')"
   ]
  },
  {
   "cell_type": "code",
   "execution_count": null,
   "metadata": {},
   "outputs": [],
   "source": [
    "flights.TaxiIn.describe().round(1)"
   ]
  },
  {
   "cell_type": "markdown",
   "metadata": {
    "slideshow": {
     "slide_type": "subslide"
    }
   },
   "source": [
    "### 21. Flight dataset TaxiOut column:\n",
    "    range :\tin minutes \n",
    "    taxi out time "
   ]
  },
  {
   "cell_type": "code",
   "execution_count": null,
   "metadata": {
    "slideshow": {
     "slide_type": "subslide"
    }
   },
   "outputs": [],
   "source": [
    "flights.TaxiOut.describe().round(1)"
   ]
  },
  {
   "cell_type": "code",
   "execution_count": null,
   "metadata": {},
   "outputs": [],
   "source": [
    "# remove outliers \n",
    "flights = outlier(flights, 'TaxiOut')"
   ]
  },
  {
   "cell_type": "code",
   "execution_count": null,
   "metadata": {},
   "outputs": [],
   "source": [
    "flights.TaxiOut.describe().round(1)"
   ]
  },
  {
   "cell_type": "markdown",
   "metadata": {
    "slideshow": {
     "slide_type": "subslide"
    }
   },
   "source": [
    "### 25. Flight dataset CarrierDelay column:\n",
    "    range :\tin minutes\n",
    "    - Carrier delay is within the control of the air carrier. \n",
    "    - Examples of occurrences that may determine carrier delay are: \n",
    "        - aircraft cleaning, aircraft damage, awaiting the arrival of connecting passengers or crew, \n",
    "        - baggage, bird strike, cargo loading, catering, computer, outage-carrier equipment, \n",
    "        - crew legality (pilot or attendant rest), damage by hazardous goods, engineering inspection, fueling, \n",
    "        - handling disabled passengers, late crew, lavatory servicing, maintenance, oversales, \n",
    "        - potable water servicing, removal of unruly passenger, slow boarding or seating, \n",
    "        - stowing carry-on baggage, weight and balance delays.              "
   ]
  },
  {
   "cell_type": "code",
   "execution_count": null,
   "metadata": {
    "slideshow": {
     "slide_type": "subslide"
    }
   },
   "outputs": [],
   "source": [
    "flights.CarrierDelay.describe().round(3)"
   ]
  },
  {
   "cell_type": "markdown",
   "metadata": {
    "slideshow": {
     "slide_type": "subslide"
    }
   },
   "source": [
    "### 26. Flight dataset WeatherDelay column:\n",
    "    range :\tin minutes\n",
    "    Weather delay is caused by extreme or hazardous weather conditions that are forecasted or \n",
    "    manifest themselves on point of departure, enroute, or on point of arrival. \n"
   ]
  },
  {
   "cell_type": "code",
   "execution_count": null,
   "metadata": {
    "slideshow": {
     "slide_type": "subslide"
    }
   },
   "outputs": [],
   "source": [
    "flights.WeatherDelay.describe().round(3)"
   ]
  },
  {
   "cell_type": "markdown",
   "metadata": {
    "slideshow": {
     "slide_type": "subslide"
    }
   },
   "source": [
    "### 27. Flight dataset NASDelay column:\n",
    "    range :\tin minutes\n",
    "    Delay that is within the control of the National Airspace System (NAS) may include: \n",
    "    non-extreme weather conditions, airport operations, heavy traffic volume, air traffic control, etc.          "
   ]
  },
  {
   "cell_type": "code",
   "execution_count": null,
   "metadata": {
    "slideshow": {
     "slide_type": "subslide"
    }
   },
   "outputs": [],
   "source": [
    "flights.NASDelay.describe().round(3)"
   ]
  },
  {
   "cell_type": "markdown",
   "metadata": {
    "slideshow": {
     "slide_type": "subslide"
    }
   },
   "source": [
    "### 28. Flight dataset SecurityDelay column:\n",
    "    range :\tin minutes\n",
    "    Security delay is caused by evacuation of a terminal or concourse, re-boarding of aircraft because of security breach, inoperative screening equipment and/or long lines in excess of 29 minutes at screening areas."
   ]
  },
  {
   "cell_type": "code",
   "execution_count": null,
   "metadata": {
    "slideshow": {
     "slide_type": "subslide"
    }
   },
   "outputs": [],
   "source": [
    "flights.SecurityDelay.describe().round(3)"
   ]
  },
  {
   "cell_type": "markdown",
   "metadata": {
    "slideshow": {
     "slide_type": "subslide"
    }
   },
   "source": [
    "### 29. Flight dataset LateAircraftDelay column:\n",
    "    range :\tin minutes\n",
    "    Arrival delay at an airport due to the late arrival of the same aircraft at a previous airport. \n",
    "    The ripple effect of an earlier delay at downstream airports is referred to as delay propagation. "
   ]
  },
  {
   "cell_type": "code",
   "execution_count": null,
   "metadata": {
    "slideshow": {
     "slide_type": "subslide"
    }
   },
   "outputs": [],
   "source": [
    "flights.LateAircraftDelay.describe().round(3)"
   ]
  },
  {
   "cell_type": "markdown",
   "metadata": {
    "slideshow": {
     "slide_type": "subslide"
    }
   },
   "source": [
    "## correlation matrix"
   ]
  },
  {
   "cell_type": "code",
   "execution_count": null,
   "metadata": {
    "slideshow": {
     "slide_type": "subslide"
    }
   },
   "outputs": [],
   "source": [
    "corrmat = flights.corr()\n",
    "f, ax = plt.subplots(figsize=(15, 10))\n",
    "sns.heatmap(corrmat, vmin=-1, square=True, annot=True, fmt='.2f', cmap='vlag_r', center=0);"
   ]
  },
  {
   "cell_type": "markdown",
   "metadata": {
    "slideshow": {
     "slide_type": "skip"
    }
   },
   "source": [
    "## Saving cleaned data after romvoing outliers and duplicates"
   ]
  },
  {
   "cell_type": "code",
   "execution_count": null,
   "metadata": {},
   "outputs": [],
   "source": [
    "flights.columns"
   ]
  },
  {
   "cell_type": "code",
   "execution_count": null,
   "metadata": {},
   "outputs": [],
   "source": [
    "# drop some columns\n",
    "flights = flights[['Month', 'DayofMonth', 'DayOfWeek', 'DepTime', 'CRSDepTime',\n",
    "       'ArrTime', 'CRSArrTime', 'UniqueCarrier', 'FlightNum', 'TailNum',\n",
    "       'ActualElapsedTime', 'CRSElapsedTime', 'AirTime', 'ArrDelay',\n",
    "       'DepDelay', 'Origin', 'Dest', 'Distance', 'CarrierDelay', 'WeatherDelay', 'NASDelay', 'SecurityDelay',\n",
    "       'LateAircraftDelay']]"
   ]
  },
  {
   "cell_type": "code",
   "execution_count": null,
   "metadata": {
    "slideshow": {
     "slide_type": "skip"
    }
   },
   "outputs": [],
   "source": [
    "# saving data\n",
    "t1 = time.time()\n",
    "flights.to_csv('../data/processed/{}.csv'.format('flights'), index=False)\n",
    "t2 = time.time()\n",
    "print('Elapsed saving time :', t2-t1)"
   ]
  },
  {
   "cell_type": "code",
   "execution_count": null,
   "metadata": {},
   "outputs": [],
   "source": [
    "cancelled.columns"
   ]
  },
  {
   "cell_type": "code",
   "execution_count": null,
   "metadata": {},
   "outputs": [],
   "source": [
    "# drop some columns\n",
    "cancelled = cancelled[['Month', 'DayofMonth', 'DayOfWeek', 'CRSDepTime', 'CRSArrTime',\n",
    "       'UniqueCarrier', 'FlightNum', 'Origin', 'Dest', 'Distance', 'CancellationCode']]"
   ]
  },
  {
   "cell_type": "code",
   "execution_count": null,
   "metadata": {},
   "outputs": [],
   "source": [
    "# saving data\n",
    "t1 = time.time()\n",
    "cancelled.to_csv('../data/processed/{}.csv'.format('cancelled'), index=False)\n",
    "t2 = time.time()\n",
    "print('Elapsed saving time :', t2-t1)"
   ]
  },
  {
   "cell_type": "code",
   "execution_count": null,
   "metadata": {},
   "outputs": [],
   "source": [
    "diverted.columns"
   ]
  },
  {
   "cell_type": "code",
   "execution_count": null,
   "metadata": {},
   "outputs": [],
   "source": [
    "# drop some columns\n",
    "diverted = diverted[['Month', 'DayofMonth', 'DayOfWeek', 'DepTime', 'CRSDepTime',\n",
    "       'UniqueCarrier', 'FlightNum', 'DepDelay', 'Origin', 'Dest', 'Distance']]"
   ]
  },
  {
   "cell_type": "code",
   "execution_count": null,
   "metadata": {},
   "outputs": [],
   "source": [
    "# saving data\n",
    "t1 = time.time()\n",
    "diverted.to_csv('../data/processed/{}.csv'.format('diverted'), index=False)\n",
    "t2 = time.time()\n",
    "print('Elapsed saving time :', t2-t1)"
   ]
  },
  {
   "cell_type": "code",
   "execution_count": null,
   "metadata": {},
   "outputs": [],
   "source": [
    "!jupyter nbconvert exploration.ipynb --to slides --post serve --no-input --no-prompt"
   ]
  },
  {
   "cell_type": "markdown",
   "metadata": {},
   "source": [
    "> At the end of your report, make sure that you export the notebook as an\n",
    "html file from the `File > Download as... > HTML` menu. Make sure you keep\n",
    "track of where the exported file goes, so you can put it in the same folder\n",
    "as this notebook for project submission. Also, make sure you remove all of\n",
    "the quote-formatted guide notes like this one before you finish your report!"
   ]
  }
 ],
 "metadata": {
  "celltoolbar": "Slideshow",
  "kernelspec": {
   "display_name": "Python 3",
   "language": "python",
   "name": "python3"
  },
  "language_info": {
   "codemirror_mode": {
    "name": "ipython",
    "version": 3
   },
   "file_extension": ".py",
   "mimetype": "text/x-python",
   "name": "python",
   "nbconvert_exporter": "python",
   "pygments_lexer": "ipython3",
   "version": "3.8.8"
  }
 },
 "nbformat": 4,
 "nbformat_minor": 2
}
