{
 "cells": [
  {
   "cell_type": "markdown",
   "metadata": {
    "slideshow": {
     "slide_type": "slide"
    }
   },
   "source": [
    "# Data Expo 2009 - Airline on-time performance\n",
    "## by (Mahmoud Lotfi)\n",
    "\n",
    "## Preliminary Wrangling\n",
    "\n",
    "- The data consists of flight arrival and departure details for all commercial flights within the USA, from October 1987 to April 2008. \n",
    "- This is a large dataset: there are nearly 120 million records in total, and takes up 1.6 gigabytes of space compressed and 12 gigabytes when uncompressed. \n",
    "- The data comes originally from RITA where it is described in detail. \n",
    "- the data in bzipped csv file. \n",
    "- These files have derivable variables removed, are packaged in yearly chunks and have been more heavily compressed than the originals.\n",
    "- in this project we will discuss flight delay for __2008__ data set\n",
    "\n",
    "### Individual years:\n",
    "\n",
    "1987, 1988, 1989, 1990, 1991, 1992, 1993, 1994, 1995, 1996, 1997, 1998, 1999, 2000, 2001, 2002, 2003, 2004, 2005, 2006, 2007, 2008\n",
    "\n",
    "### Our scope on 2008 dataset\n"
   ]
  },
  {
   "cell_type": "markdown",
   "metadata": {
    "slideshow": {
     "slide_type": "slide"
    }
   },
   "source": [
    "## How to Run the project:\n",
    "- Insrt raw data download in __\"./data/raw\"__\n",
    "- Run the script __\"Communicate-Dtata-Finding\\src\\data\\make_dataset.py\"__\n",
    "- Now you can find output data from script  __\"Communicate-Dtata-Finding/data/interim/*.csv\"__\n",
    "- Run the notebook in __\"Communicate-Dtata-Finding\\notebooks\\exploration.ipynb\"__ to find __Exploratory data__\n",
    "- Run the notebook in __\"Communicate-Dtata-Finding\\notebooks\\explanatory.ipynb\"__ to find __Explanatory data__"
   ]
  },
  {
   "cell_type": "code",
   "execution_count": 1,
   "metadata": {
    "slideshow": {
     "slide_type": "skip"
    }
   },
   "outputs": [],
   "source": [
    "# import all packages and set plots to be embedded inline\n",
    "import numpy as np\n",
    "import pandas as pd\n",
    "import matplotlib.pyplot as plt\n",
    "import seaborn as sns\n",
    "import time\n",
    "\n",
    "# display static image online \n",
    "%matplotlib inline\n",
    "\n",
    "# display zoomable images inline\n",
    "#%matplotlib notebook\n",
    "\n",
    "# suppress warnings from final output\n",
    "import warnings\n",
    "warnings.simplefilter(\"ignore\")"
   ]
  },
  {
   "cell_type": "markdown",
   "metadata": {
    "slideshow": {
     "slide_type": "skip"
    }
   },
   "source": [
    "### User define function and general configrations"
   ]
  },
  {
   "cell_type": "code",
   "execution_count": 2,
   "metadata": {
    "slideshow": {
     "slide_type": "skip"
    }
   },
   "outputs": [
    {
     "data": {
      "text/plain": [
       "'\\n# center plot figure\\nfrom IPython.core.display import HTML\\nHTML(\\n    \"\"\"\\n    <style>    .output_png \\n    {    \\n    display: table-cell;    \\n    text-align: center;    \\n    vertical-align: \\n    middle;\\n    }\\n    </style>\\n    \"\"\"\\n    )\\n\\n'"
      ]
     },
     "execution_count": 2,
     "metadata": {},
     "output_type": "execute_result"
    }
   ],
   "source": [
    "'''\n",
    "# center plot figure\n",
    "from IPython.core.display import HTML\n",
    "HTML(\n",
    "    \"\"\"\n",
    "    <style>    .output_png \n",
    "    {    \n",
    "    display: table-cell;    \n",
    "    text-align: center;    \n",
    "    vertical-align: \n",
    "    middle;\n",
    "    }\n",
    "    </style>\n",
    "    \"\"\"\n",
    "    )\n",
    "\n",
    "'''"
   ]
  },
  {
   "cell_type": "code",
   "execution_count": 3,
   "metadata": {
    "slideshow": {
     "slide_type": "skip"
    }
   },
   "outputs": [],
   "source": [
    "# reset seaborn settings\n",
    "sns.reset_orig()\n",
    "# set plotting color\n",
    "base_color = sns.color_palette()[0]"
   ]
  },
  {
   "cell_type": "code",
   "execution_count": 4,
   "metadata": {
    "slideshow": {
     "slide_type": "skip"
    }
   },
   "outputs": [],
   "source": [
    "def load_dataset(name='flights'):\n",
    "    '''\n",
    "    Description: load dataset acoordding to year\n",
    "    parameter name string flights, diverted, canceled\n",
    "    return dataframe\n",
    "    '''\n",
    "    t1 = time.time()\n",
    "    df = pd.read_csv('../data/interim/{}.csv'.format(name))\n",
    "    t2 = time.time()\n",
    "    print('Elapsed loading time :', t2-t1)\n",
    "    return df"
   ]
  },
  {
   "cell_type": "code",
   "execution_count": 5,
   "metadata": {
    "slideshow": {
     "slide_type": "skip"
    }
   },
   "outputs": [],
   "source": [
    "def plot_bar_str(df, col, inc, base_color , figsize = None, rotation = 0 , log =None):\n",
    "    month_frq = df[col].value_counts()\n",
    "    month_max_count = month_frq[0]\n",
    "    month_max_prop = month_max_count/1000\n",
    "    tick_prop = np.arange(0, month_max_prop, inc)\n",
    "    tick_names = ['{:0.0f}K'.format(v) for v in tick_prop]\n",
    "    if figsize:\n",
    "        plt.figure(figsize=figsize)\n",
    "        \n",
    "    plt.yticks(tick_prop*1000, tick_names)\n",
    "    ax = plt.gca()\n",
    "    ax.spines[\"top\"].set_visible(False)\n",
    "    ax.spines[\"right\"].set_visible(False)\n",
    "    ax.spines[\"left\"].set_visible(False)\n",
    "    plt.xticks(rotation=rotation)\n",
    "    if log:\n",
    "        plt.yscale('log')\n",
    "    plt.grid()\n",
    "    sns.countplot(data = flights, x=col, color = base_color, order = month_frq.index, ax=ax);"
   ]
  },
  {
   "cell_type": "code",
   "execution_count": 6,
   "metadata": {
    "slideshow": {
     "slide_type": "skip"
    }
   },
   "outputs": [],
   "source": [
    "def sort_time_fmt(df1, col):\n",
    "    df = df1[col].value_counts().to_frame()\n",
    "    df['hours'] = pd.to_datetime(df.index, format='%I:%M %p').hour\n",
    "    df['minutes'] = pd.to_datetime(df.index, format='%I:%M %p').minute\n",
    "    df = df.reset_index()\n",
    "    df.columns = [col, 'frequency' , 'hours' , 'minutes']\n",
    "    df = df.sort_values(['hours', 'minutes'])\n",
    "    df = df.drop(columns=['minutes'])\n",
    "    df = df.groupby('hours').sum().reset_index()\n",
    "    df.columns = [col, 'frequency']   \n",
    "    return df"
   ]
  },
  {
   "cell_type": "code",
   "execution_count": 7,
   "metadata": {
    "slideshow": {
     "slide_type": "skip"
    }
   },
   "outputs": [],
   "source": [
    "def plot_line_time_fmt(df, x, y='frequency', figsize=(12, 4)):\n",
    "    order = df.index\n",
    "    max_count = df[y].max()\n",
    "    max_prop = max_count/1000\n",
    "    tick_prop = np.arange(0, max_prop, 100)\n",
    "    tick_names = ['{:0.0f}K'.format(v) for v in tick_prop]\n",
    "    plt.figure(figsize=figsize)\n",
    "    ax = plt.gca()\n",
    "    ax.spines[\"top\"].set_visible(False)\n",
    "    ax.spines[\"right\"].set_visible(False)\n",
    "    ax.spines[\"left\"].set_visible(False)\n",
    "    plt.yticks(tick_prop*1000, tick_names)\n",
    "    df.plot(x=x, y=y, ax =ax);\n",
    "    plt.grid()"
   ]
  },
  {
   "cell_type": "code",
   "execution_count": 8,
   "metadata": {
    "slideshow": {
     "slide_type": "skip"
    }
   },
   "outputs": [],
   "source": [
    "def plot_hist(col, inc, figsize = None, rotation = 0 , log =None , scale=1, x_right=False, \n",
    "             x_left=False, y_top=False, y_bottom=False):\n",
    "    if scale == 1000:\n",
    "        k='K'\n",
    "    else:\n",
    "        k=''\n",
    "    inc = 1\n",
    "    max_prop = (1.25*flights['ActualElapsedTimePmile'].max())/scale\n",
    "    tick_prop = np.arange(0, max_prop, inc)\n",
    "    tick_names = ['{:0.0f}{}'.format(v,k) for v in tick_prop]\n",
    "    if figsize:\n",
    "        plt.figure(figsize=figsize)\n",
    "\n",
    "    plt.yticks(tick_prop*scale, tick_names)\n",
    "    ax = plt.gca()\n",
    "\n",
    "    plt.xticks(rotation=rotation)\n",
    "    if log:\n",
    "        plt.yscale('log')\n",
    "    plt.grid(alpha= 0.2)\n",
    "    sns.distplot(flights['ActualElapsedTimePmile'], ax=ax);\n",
    "    plt.xlim(right=1);  # adjust the right leaving left unchanged\n",
    "    plt.xlim(left=0);  # adjust the left leaving right unchanged\n",
    "    ax.spines[\"top\"].set_visible(False)\n",
    "    ax.spines[\"right\"].set_visible(False)\n",
    "    ax.spines[\"left\"].set_visible(False)\n",
    "    plt.grid()"
   ]
  },
  {
   "cell_type": "code",
   "execution_count": 9,
   "metadata": {
    "slideshow": {
     "slide_type": "skip"
    }
   },
   "outputs": [
    {
     "data": {
      "text/plain": [
       "\"\\n# relative frequency\\n# return the highest frequency \\nmonth_max_count = month_frq[0]\\nmonth_max_prop = month_max_count/flights.shape[0]\\ntick_prop = np.arange(0, month_max_prop, 0.02)\\ntick_names = ['{:0.2f}'.format(v) for v in tick_prop]\\nplt.yticks(tick_prop*flights.shape[0], tick_names)\\nplt.grid()\\nsns.countplot(data = flights, x='Month', color = base_color, order = month_frq.index);\\n\""
      ]
     },
     "execution_count": 9,
     "metadata": {},
     "output_type": "execute_result"
    }
   ],
   "source": [
    "'''\n",
    "# relative frequency\n",
    "# return the highest frequency \n",
    "month_max_count = month_frq[0]\n",
    "month_max_prop = month_max_count/flights.shape[0]\n",
    "tick_prop = np.arange(0, month_max_prop, 0.02)\n",
    "tick_names = ['{:0.2f}'.format(v) for v in tick_prop]\n",
    "plt.yticks(tick_prop*flights.shape[0], tick_names)\n",
    "plt.grid()\n",
    "sns.countplot(data = flights, x='Month', color = base_color, order = month_frq.index);\n",
    "'''"
   ]
  },
  {
   "cell_type": "markdown",
   "metadata": {
    "slideshow": {
     "slide_type": "slide"
    }
   },
   "source": [
    "#### Run \"../src/data/make_dataset.py\" to divide the data set into three part for easier handling nan values\n",
    "the output of the script in:\n",
    "- ../data/interim/flights.csv\n",
    "- ../data/interim/diverted.csv\n",
    "- ../data/interim/canceled.csv"
   ]
  },
  {
   "cell_type": "markdown",
   "metadata": {
    "slideshow": {
     "slide_type": "skip"
    }
   },
   "source": []
  },
  {
   "cell_type": "code",
   "execution_count": 10,
   "metadata": {
    "slideshow": {
     "slide_type": "skip"
    }
   },
   "outputs": [
    {
     "name": "stdout",
     "output_type": "stream",
     "text": [
      "Elapsed loading time : 27.12091851234436\n",
      "(7009728, 26)\n"
     ]
    },
    {
     "data": {
      "text/html": [
       "<div>\n",
       "<style scoped>\n",
       "    .dataframe tbody tr th:only-of-type {\n",
       "        vertical-align: middle;\n",
       "    }\n",
       "\n",
       "    .dataframe tbody tr th {\n",
       "        vertical-align: top;\n",
       "    }\n",
       "\n",
       "    .dataframe thead th {\n",
       "        text-align: right;\n",
       "    }\n",
       "</style>\n",
       "<table border=\"1\" class=\"dataframe\">\n",
       "  <thead>\n",
       "    <tr style=\"text-align: right;\">\n",
       "      <th></th>\n",
       "      <th>Year</th>\n",
       "      <th>Month</th>\n",
       "      <th>DayofMonth</th>\n",
       "      <th>DayOfWeek</th>\n",
       "      <th>DepTime</th>\n",
       "      <th>CRSDepTime</th>\n",
       "      <th>ArrTime</th>\n",
       "      <th>CRSArrTime</th>\n",
       "      <th>UniqueCarrier</th>\n",
       "      <th>FlightNum</th>\n",
       "      <th>...</th>\n",
       "      <th>Origin</th>\n",
       "      <th>Dest</th>\n",
       "      <th>Distance</th>\n",
       "      <th>TaxiIn</th>\n",
       "      <th>TaxiOut</th>\n",
       "      <th>CarrierDelay</th>\n",
       "      <th>WeatherDelay</th>\n",
       "      <th>NASDelay</th>\n",
       "      <th>SecurityDelay</th>\n",
       "      <th>LateAircraftDelay</th>\n",
       "    </tr>\n",
       "  </thead>\n",
       "  <tbody>\n",
       "    <tr>\n",
       "      <th>0</th>\n",
       "      <td>2008</td>\n",
       "      <td>1</td>\n",
       "      <td>3</td>\n",
       "      <td>4</td>\n",
       "      <td>08:03 PM</td>\n",
       "      <td>07:55 PM</td>\n",
       "      <td>10:11 PM</td>\n",
       "      <td>10:25 PM</td>\n",
       "      <td>WN</td>\n",
       "      <td>335</td>\n",
       "      <td>...</td>\n",
       "      <td>IAD</td>\n",
       "      <td>TPA</td>\n",
       "      <td>810</td>\n",
       "      <td>4.0</td>\n",
       "      <td>8.0</td>\n",
       "      <td>0</td>\n",
       "      <td>0</td>\n",
       "      <td>0</td>\n",
       "      <td>0</td>\n",
       "      <td>0</td>\n",
       "    </tr>\n",
       "    <tr>\n",
       "      <th>1</th>\n",
       "      <td>2008</td>\n",
       "      <td>1</td>\n",
       "      <td>3</td>\n",
       "      <td>4</td>\n",
       "      <td>07:54 AM</td>\n",
       "      <td>07:35 AM</td>\n",
       "      <td>10:02 AM</td>\n",
       "      <td>10:00 AM</td>\n",
       "      <td>WN</td>\n",
       "      <td>3231</td>\n",
       "      <td>...</td>\n",
       "      <td>IAD</td>\n",
       "      <td>TPA</td>\n",
       "      <td>810</td>\n",
       "      <td>5.0</td>\n",
       "      <td>10.0</td>\n",
       "      <td>0</td>\n",
       "      <td>0</td>\n",
       "      <td>0</td>\n",
       "      <td>0</td>\n",
       "      <td>0</td>\n",
       "    </tr>\n",
       "    <tr>\n",
       "      <th>2</th>\n",
       "      <td>2008</td>\n",
       "      <td>1</td>\n",
       "      <td>3</td>\n",
       "      <td>4</td>\n",
       "      <td>06:28 AM</td>\n",
       "      <td>06:20 AM</td>\n",
       "      <td>08:04 AM</td>\n",
       "      <td>07:50 AM</td>\n",
       "      <td>WN</td>\n",
       "      <td>448</td>\n",
       "      <td>...</td>\n",
       "      <td>IND</td>\n",
       "      <td>BWI</td>\n",
       "      <td>515</td>\n",
       "      <td>3.0</td>\n",
       "      <td>17.0</td>\n",
       "      <td>0</td>\n",
       "      <td>0</td>\n",
       "      <td>0</td>\n",
       "      <td>0</td>\n",
       "      <td>0</td>\n",
       "    </tr>\n",
       "    <tr>\n",
       "      <th>3</th>\n",
       "      <td>2008</td>\n",
       "      <td>1</td>\n",
       "      <td>3</td>\n",
       "      <td>4</td>\n",
       "      <td>09:26 AM</td>\n",
       "      <td>09:30 AM</td>\n",
       "      <td>10:54 AM</td>\n",
       "      <td>11:00 AM</td>\n",
       "      <td>WN</td>\n",
       "      <td>1746</td>\n",
       "      <td>...</td>\n",
       "      <td>IND</td>\n",
       "      <td>BWI</td>\n",
       "      <td>515</td>\n",
       "      <td>3.0</td>\n",
       "      <td>7.0</td>\n",
       "      <td>0</td>\n",
       "      <td>0</td>\n",
       "      <td>0</td>\n",
       "      <td>0</td>\n",
       "      <td>0</td>\n",
       "    </tr>\n",
       "    <tr>\n",
       "      <th>4</th>\n",
       "      <td>2008</td>\n",
       "      <td>1</td>\n",
       "      <td>3</td>\n",
       "      <td>4</td>\n",
       "      <td>06:29 PM</td>\n",
       "      <td>05:55 PM</td>\n",
       "      <td>07:59 PM</td>\n",
       "      <td>07:25 PM</td>\n",
       "      <td>WN</td>\n",
       "      <td>3920</td>\n",
       "      <td>...</td>\n",
       "      <td>IND</td>\n",
       "      <td>BWI</td>\n",
       "      <td>515</td>\n",
       "      <td>3.0</td>\n",
       "      <td>10.0</td>\n",
       "      <td>2</td>\n",
       "      <td>0</td>\n",
       "      <td>0</td>\n",
       "      <td>0</td>\n",
       "      <td>32</td>\n",
       "    </tr>\n",
       "  </tbody>\n",
       "</table>\n",
       "<p>5 rows × 26 columns</p>\n",
       "</div>"
      ],
      "text/plain": [
       "   Year  Month  DayofMonth  DayOfWeek   DepTime CRSDepTime   ArrTime  \\\n",
       "0  2008      1           3          4  08:03 PM   07:55 PM  10:11 PM   \n",
       "1  2008      1           3          4  07:54 AM   07:35 AM  10:02 AM   \n",
       "2  2008      1           3          4  06:28 AM   06:20 AM  08:04 AM   \n",
       "3  2008      1           3          4  09:26 AM   09:30 AM  10:54 AM   \n",
       "4  2008      1           3          4  06:29 PM   05:55 PM  07:59 PM   \n",
       "\n",
       "  CRSArrTime UniqueCarrier  FlightNum  ... Origin  Dest  Distance  TaxiIn  \\\n",
       "0   10:25 PM            WN        335  ...    IAD   TPA       810     4.0   \n",
       "1   10:00 AM            WN       3231  ...    IAD   TPA       810     5.0   \n",
       "2   07:50 AM            WN        448  ...    IND   BWI       515     3.0   \n",
       "3   11:00 AM            WN       1746  ...    IND   BWI       515     3.0   \n",
       "4   07:25 PM            WN       3920  ...    IND   BWI       515     3.0   \n",
       "\n",
       "   TaxiOut  CarrierDelay WeatherDelay NASDelay  SecurityDelay  \\\n",
       "0      8.0             0            0        0              0   \n",
       "1     10.0             0            0        0              0   \n",
       "2     17.0             0            0        0              0   \n",
       "3      7.0             0            0        0              0   \n",
       "4     10.0             2            0        0              0   \n",
       "\n",
       "   LateAircraftDelay  \n",
       "0                  0  \n",
       "1                  0  \n",
       "2                  0  \n",
       "3                  0  \n",
       "4                 32  \n",
       "\n",
       "[5 rows x 26 columns]"
      ]
     },
     "execution_count": 10,
     "metadata": {},
     "output_type": "execute_result"
    }
   ],
   "source": [
    "# now we will load flights dataset 2008\n",
    "flights = load_dataset()\n",
    "# print df size\n",
    "print(flights.shape)\n",
    "# dispay first 10 rows\n",
    "flights.head()"
   ]
  },
  {
   "cell_type": "code",
   "execution_count": 11,
   "metadata": {
    "slideshow": {
     "slide_type": "skip"
    }
   },
   "outputs": [
    {
     "name": "stdout",
     "output_type": "stream",
     "text": [
      "<class 'pandas.core.frame.DataFrame'>\n",
      "RangeIndex: 7009728 entries, 0 to 7009727\n",
      "Data columns (total 26 columns):\n",
      " #   Column             Dtype  \n",
      "---  ------             -----  \n",
      " 0   Year               int64  \n",
      " 1   Month              int64  \n",
      " 2   DayofMonth         int64  \n",
      " 3   DayOfWeek          int64  \n",
      " 4   DepTime            object \n",
      " 5   CRSDepTime         object \n",
      " 6   ArrTime            object \n",
      " 7   CRSArrTime         object \n",
      " 8   UniqueCarrier      object \n",
      " 9   FlightNum          int64  \n",
      " 10  TailNum            object \n",
      " 11  ActualElapsedTime  float64\n",
      " 12  CRSElapsedTime     float64\n",
      " 13  AirTime            float64\n",
      " 14  ArrDelay           float64\n",
      " 15  DepDelay           float64\n",
      " 16  Origin             object \n",
      " 17  Dest               object \n",
      " 18  Distance           int64  \n",
      " 19  TaxiIn             float64\n",
      " 20  TaxiOut            float64\n",
      " 21  CarrierDelay       int64  \n",
      " 22  WeatherDelay       int64  \n",
      " 23  NASDelay           int64  \n",
      " 24  SecurityDelay      int64  \n",
      " 25  LateAircraftDelay  int64  \n",
      "dtypes: float64(7), int64(11), object(8)\n",
      "memory usage: 1.4+ GB\n"
     ]
    }
   ],
   "source": [
    "# get df data types and schema\n",
    "flights.info()"
   ]
  },
  {
   "cell_type": "code",
   "execution_count": 12,
   "metadata": {
    "slideshow": {
     "slide_type": "skip"
    }
   },
   "outputs": [
    {
     "data": {
      "text/plain": [
       "Index(['Year', 'Month', 'DayofMonth', 'DayOfWeek', 'DepTime', 'CRSDepTime',\n",
       "       'ArrTime', 'CRSArrTime', 'UniqueCarrier', 'FlightNum', 'TailNum',\n",
       "       'ActualElapsedTime', 'CRSElapsedTime', 'AirTime', 'ArrDelay',\n",
       "       'DepDelay', 'Origin', 'Dest', 'Distance', 'TaxiIn', 'TaxiOut',\n",
       "       'CarrierDelay', 'WeatherDelay', 'NASDelay', 'SecurityDelay',\n",
       "       'LateAircraftDelay'],\n",
       "      dtype='object')"
      ]
     },
     "execution_count": 12,
     "metadata": {},
     "output_type": "execute_result"
    }
   ],
   "source": [
    "flights.columns"
   ]
  },
  {
   "cell_type": "code",
   "execution_count": 13,
   "metadata": {
    "slideshow": {
     "slide_type": "skip"
    }
   },
   "outputs": [],
   "source": [
    "totals_flights = flights.shape[0]"
   ]
  },
  {
   "cell_type": "code",
   "execution_count": 14,
   "metadata": {
    "slideshow": {
     "slide_type": "skip"
    }
   },
   "outputs": [
    {
     "data": {
      "text/plain": [
       "4"
      ]
     },
     "execution_count": 14,
     "metadata": {},
     "output_type": "execute_result"
    }
   ],
   "source": [
    "# find the number of duplicated rows\n",
    "flights.duplicated().sum()"
   ]
  },
  {
   "cell_type": "code",
   "execution_count": 15,
   "metadata": {
    "slideshow": {
     "slide_type": "skip"
    }
   },
   "outputs": [],
   "source": [
    "# drop duplicated rows\n",
    "flights = flights.drop_duplicates()"
   ]
  },
  {
   "cell_type": "code",
   "execution_count": 16,
   "metadata": {
    "slideshow": {
     "slide_type": "skip"
    }
   },
   "outputs": [
    {
     "data": {
      "text/plain": [
       "0"
      ]
     },
     "execution_count": 16,
     "metadata": {},
     "output_type": "execute_result"
    }
   ],
   "source": [
    "# check number of duplicated rows\n",
    "flights.duplicated().sum()"
   ]
  },
  {
   "cell_type": "code",
   "execution_count": 17,
   "metadata": {
    "slideshow": {
     "slide_type": "skip"
    }
   },
   "outputs": [
    {
     "data": {
      "text/plain": [
       "Year                      0\n",
       "Month                     0\n",
       "DayofMonth                0\n",
       "DayOfWeek                 0\n",
       "DepTime              136767\n",
       "CRSDepTime                0\n",
       "ArrTime              154326\n",
       "CRSArrTime              547\n",
       "UniqueCarrier             0\n",
       "FlightNum                 0\n",
       "TailNum               83365\n",
       "ActualElapsedTime    154699\n",
       "CRSElapsedTime          844\n",
       "AirTime              154699\n",
       "ArrDelay             154699\n",
       "DepDelay             136246\n",
       "Origin                    0\n",
       "Dest                      0\n",
       "Distance                  0\n",
       "TaxiIn               151649\n",
       "TaxiOut              137058\n",
       "CarrierDelay              0\n",
       "WeatherDelay              0\n",
       "NASDelay                  0\n",
       "SecurityDelay             0\n",
       "LateAircraftDelay         0\n",
       "dtype: int64"
      ]
     },
     "execution_count": 17,
     "metadata": {},
     "output_type": "execute_result"
    }
   ],
   "source": [
    "# check for null in each column\n",
    "# flights.isna().sum()\n",
    "flights.isnull().sum()"
   ]
  },
  {
   "cell_type": "code",
   "execution_count": 18,
   "metadata": {
    "slideshow": {
     "slide_type": "skip"
    }
   },
   "outputs": [],
   "source": [
    "# drop all rows with any NaN and Null values\n",
    "flights = flights.dropna()"
   ]
  },
  {
   "cell_type": "code",
   "execution_count": 19,
   "metadata": {
    "slideshow": {
     "slide_type": "skip"
    }
   },
   "outputs": [
    {
     "data": {
      "text/plain": [
       "Year                 0\n",
       "Month                0\n",
       "DayofMonth           0\n",
       "DayOfWeek            0\n",
       "DepTime              0\n",
       "CRSDepTime           0\n",
       "ArrTime              0\n",
       "CRSArrTime           0\n",
       "UniqueCarrier        0\n",
       "FlightNum            0\n",
       "TailNum              0\n",
       "ActualElapsedTime    0\n",
       "CRSElapsedTime       0\n",
       "AirTime              0\n",
       "ArrDelay             0\n",
       "DepDelay             0\n",
       "Origin               0\n",
       "Dest                 0\n",
       "Distance             0\n",
       "TaxiIn               0\n",
       "TaxiOut              0\n",
       "CarrierDelay         0\n",
       "WeatherDelay         0\n",
       "NASDelay             0\n",
       "SecurityDelay        0\n",
       "LateAircraftDelay    0\n",
       "dtype: int64"
      ]
     },
     "execution_count": 19,
     "metadata": {},
     "output_type": "execute_result"
    }
   ],
   "source": [
    "# check for null in each column\n",
    "# flights.isna().sum()\n",
    "flights.isnull().sum()"
   ]
  },
  {
   "cell_type": "code",
   "execution_count": 20,
   "metadata": {
    "slideshow": {
     "slide_type": "skip"
    }
   },
   "outputs": [
    {
     "data": {
      "text/plain": [
       "-157896"
      ]
     },
     "execution_count": 20,
     "metadata": {},
     "output_type": "execute_result"
    }
   ],
   "source": [
    "# the size after deleting null\n",
    "flights.shape[0] - totals_flights"
   ]
  },
  {
   "cell_type": "code",
   "execution_count": 21,
   "metadata": {
    "slideshow": {
     "slide_type": "skip"
    }
   },
   "outputs": [],
   "source": [
    "# change schema\n",
    "flights['Year']              = flights['Year'].astype('str')\n",
    "flights['Month']             = flights['Month'].astype('str')\n",
    "flights['DayofMonth']        = flights['DayofMonth'].astype('str')\n",
    "flights['DayOfWeek']         = flights['DayOfWeek'].astype('str')\n",
    "\n",
    "flights['DepTime']           = flights['DepTime'].astype('str')          \n",
    "flights['CRSDepTime']        = flights['CRSDepTime'].astype('str')        \n",
    "flights['ArrTime']           = flights['ArrTime'].astype('str')          \n",
    "flights['CRSArrTime']        = flights['CRSArrTime'].astype('str')        \n",
    "\n",
    "flights['UniqueCarrier']     = flights['UniqueCarrier'].astype('str')  \n",
    "flights['FlightNum']         = flights['FlightNum'].astype('str')  \n",
    "flights['TailNum']           = flights['TailNum'].astype('str') \n",
    "\n",
    "flights['ActualElapsedTime'] = flights['ActualElapsedTime'].astype('int') \n",
    "flights['CRSElapsedTime']    = flights['CRSElapsedTime'].astype('int') \n",
    "flights['AirTime']           = flights['AirTime'].astype('int') \n",
    "flights['ArrDelay']          = flights['ArrDelay'].astype('int') \n",
    "flights['DepDelay']          = flights['DepDelay'].astype('int') \n",
    "\n",
    "flights['Origin']            = flights['Origin'].astype('str') \n",
    "flights['Dest']              = flights['Dest'].astype('str') \n",
    "\n",
    "flights['Distance']          = flights['Distance'].astype('int') \n",
    "\n",
    "flights['TaxiIn']            = flights['TaxiIn'].astype('int')  \n",
    "flights['TaxiOut']           = flights['TaxiOut'].astype('int') \n",
    "\n",
    "flights['CarrierDelay']      = flights['CarrierDelay'].astype('int')  \n",
    "flights['WeatherDelay']      = flights['WeatherDelay'].astype('int') \n",
    "flights['NASDelay']          = flights['NASDelay'].astype('int') \n",
    "flights['SecurityDelay']     = flights['SecurityDelay'].astype('int') \n",
    "flights['LateAircraftDelay'] = flights['LateAircraftDelay'].astype('int') "
   ]
  },
  {
   "cell_type": "code",
   "execution_count": 22,
   "metadata": {
    "slideshow": {
     "slide_type": "skip"
    }
   },
   "outputs": [
    {
     "name": "stdout",
     "output_type": "stream",
     "text": [
      "<class 'pandas.core.frame.DataFrame'>\n",
      "Int64Index: 6851832 entries, 0 to 7009727\n",
      "Data columns (total 26 columns):\n",
      " #   Column             Dtype \n",
      "---  ------             ----- \n",
      " 0   Year               object\n",
      " 1   Month              object\n",
      " 2   DayofMonth         object\n",
      " 3   DayOfWeek          object\n",
      " 4   DepTime            object\n",
      " 5   CRSDepTime         object\n",
      " 6   ArrTime            object\n",
      " 7   CRSArrTime         object\n",
      " 8   UniqueCarrier      object\n",
      " 9   FlightNum          object\n",
      " 10  TailNum            object\n",
      " 11  ActualElapsedTime  int32 \n",
      " 12  CRSElapsedTime     int32 \n",
      " 13  AirTime            int32 \n",
      " 14  ArrDelay           int32 \n",
      " 15  DepDelay           int32 \n",
      " 16  Origin             object\n",
      " 17  Dest               object\n",
      " 18  Distance           int32 \n",
      " 19  TaxiIn             int32 \n",
      " 20  TaxiOut            int32 \n",
      " 21  CarrierDelay       int32 \n",
      " 22  WeatherDelay       int32 \n",
      " 23  NASDelay           int32 \n",
      " 24  SecurityDelay      int32 \n",
      " 25  LateAircraftDelay  int32 \n",
      "dtypes: int32(13), object(13)\n",
      "memory usage: 1.0+ GB\n"
     ]
    }
   ],
   "source": [
    "# get df data types and schema\n",
    "flights.info()"
   ]
  },
  {
   "cell_type": "code",
   "execution_count": 23,
   "metadata": {
    "scrolled": true,
    "slideshow": {
     "slide_type": "skip"
    }
   },
   "outputs": [
    {
     "data": {
      "text/html": [
       "<div>\n",
       "<style scoped>\n",
       "    .dataframe tbody tr th:only-of-type {\n",
       "        vertical-align: middle;\n",
       "    }\n",
       "\n",
       "    .dataframe tbody tr th {\n",
       "        vertical-align: top;\n",
       "    }\n",
       "\n",
       "    .dataframe thead th {\n",
       "        text-align: right;\n",
       "    }\n",
       "</style>\n",
       "<table border=\"1\" class=\"dataframe\">\n",
       "  <thead>\n",
       "    <tr style=\"text-align: right;\">\n",
       "      <th></th>\n",
       "      <th>ActualElapsedTime</th>\n",
       "      <th>CRSElapsedTime</th>\n",
       "      <th>AirTime</th>\n",
       "      <th>ArrDelay</th>\n",
       "      <th>DepDelay</th>\n",
       "      <th>Distance</th>\n",
       "      <th>TaxiIn</th>\n",
       "      <th>TaxiOut</th>\n",
       "      <th>CarrierDelay</th>\n",
       "      <th>WeatherDelay</th>\n",
       "      <th>NASDelay</th>\n",
       "      <th>SecurityDelay</th>\n",
       "      <th>LateAircraftDelay</th>\n",
       "    </tr>\n",
       "  </thead>\n",
       "  <tbody>\n",
       "    <tr>\n",
       "      <th>count</th>\n",
       "      <td>6851832</td>\n",
       "      <td>6851832</td>\n",
       "      <td>6851832</td>\n",
       "      <td>6851832</td>\n",
       "      <td>6851832</td>\n",
       "      <td>6851832</td>\n",
       "      <td>6851832</td>\n",
       "      <td>6851832</td>\n",
       "      <td>6851832</td>\n",
       "      <td>6851832</td>\n",
       "      <td>6851832</td>\n",
       "      <td>6851832</td>\n",
       "      <td>6851832</td>\n",
       "    </tr>\n",
       "    <tr>\n",
       "      <th>mean</th>\n",
       "      <td>127</td>\n",
       "      <td>129</td>\n",
       "      <td>104</td>\n",
       "      <td>8</td>\n",
       "      <td>9</td>\n",
       "      <td>728</td>\n",
       "      <td>6</td>\n",
       "      <td>16</td>\n",
       "      <td>3</td>\n",
       "      <td>0</td>\n",
       "      <td>3</td>\n",
       "      <td>0</td>\n",
       "      <td>4</td>\n",
       "    </tr>\n",
       "    <tr>\n",
       "      <th>std</th>\n",
       "      <td>70</td>\n",
       "      <td>69</td>\n",
       "      <td>67</td>\n",
       "      <td>38</td>\n",
       "      <td>35</td>\n",
       "      <td>563</td>\n",
       "      <td>4</td>\n",
       "      <td>11</td>\n",
       "      <td>19</td>\n",
       "      <td>9</td>\n",
       "      <td>16</td>\n",
       "      <td>0</td>\n",
       "      <td>20</td>\n",
       "    </tr>\n",
       "    <tr>\n",
       "      <th>min</th>\n",
       "      <td>12</td>\n",
       "      <td>-141</td>\n",
       "      <td>0</td>\n",
       "      <td>-519</td>\n",
       "      <td>-534</td>\n",
       "      <td>11</td>\n",
       "      <td>0</td>\n",
       "      <td>0</td>\n",
       "      <td>0</td>\n",
       "      <td>0</td>\n",
       "      <td>0</td>\n",
       "      <td>0</td>\n",
       "      <td>0</td>\n",
       "    </tr>\n",
       "    <tr>\n",
       "      <th>25%</th>\n",
       "      <td>77</td>\n",
       "      <td>80</td>\n",
       "      <td>55</td>\n",
       "      <td>-10</td>\n",
       "      <td>-4</td>\n",
       "      <td>326</td>\n",
       "      <td>4</td>\n",
       "      <td>10</td>\n",
       "      <td>0</td>\n",
       "      <td>0</td>\n",
       "      <td>0</td>\n",
       "      <td>0</td>\n",
       "      <td>0</td>\n",
       "    </tr>\n",
       "    <tr>\n",
       "      <th>50%</th>\n",
       "      <td>110</td>\n",
       "      <td>111</td>\n",
       "      <td>86</td>\n",
       "      <td>-2</td>\n",
       "      <td>-1</td>\n",
       "      <td>581</td>\n",
       "      <td>6</td>\n",
       "      <td>14</td>\n",
       "      <td>0</td>\n",
       "      <td>0</td>\n",
       "      <td>0</td>\n",
       "      <td>0</td>\n",
       "      <td>0</td>\n",
       "    </tr>\n",
       "    <tr>\n",
       "      <th>75%</th>\n",
       "      <td>157</td>\n",
       "      <td>159</td>\n",
       "      <td>132</td>\n",
       "      <td>12</td>\n",
       "      <td>8</td>\n",
       "      <td>954</td>\n",
       "      <td>8</td>\n",
       "      <td>19</td>\n",
       "      <td>0</td>\n",
       "      <td>0</td>\n",
       "      <td>0</td>\n",
       "      <td>0</td>\n",
       "      <td>0</td>\n",
       "    </tr>\n",
       "    <tr>\n",
       "      <th>max</th>\n",
       "      <td>1379</td>\n",
       "      <td>660</td>\n",
       "      <td>1350</td>\n",
       "      <td>2461</td>\n",
       "      <td>2467</td>\n",
       "      <td>4962</td>\n",
       "      <td>308</td>\n",
       "      <td>429</td>\n",
       "      <td>2436</td>\n",
       "      <td>1352</td>\n",
       "      <td>1357</td>\n",
       "      <td>392</td>\n",
       "      <td>1316</td>\n",
       "    </tr>\n",
       "  </tbody>\n",
       "</table>\n",
       "</div>"
      ],
      "text/plain": [
       "       ActualElapsedTime  CRSElapsedTime  AirTime  ArrDelay  DepDelay  \\\n",
       "count            6851832         6851832  6851832   6851832   6851832   \n",
       "mean                 127             129      104         8         9   \n",
       "std                   70              69       67        38        35   \n",
       "min                   12            -141        0      -519      -534   \n",
       "25%                   77              80       55       -10        -4   \n",
       "50%                  110             111       86        -2        -1   \n",
       "75%                  157             159      132        12         8   \n",
       "max                 1379             660     1350      2461      2467   \n",
       "\n",
       "       Distance   TaxiIn  TaxiOut  CarrierDelay  WeatherDelay  NASDelay  \\\n",
       "count   6851832  6851832  6851832       6851832       6851832   6851832   \n",
       "mean        728        6       16             3             0         3   \n",
       "std         563        4       11            19             9        16   \n",
       "min          11        0        0             0             0         0   \n",
       "25%         326        4       10             0             0         0   \n",
       "50%         581        6       14             0             0         0   \n",
       "75%         954        8       19             0             0         0   \n",
       "max        4962      308      429          2436          1352      1357   \n",
       "\n",
       "       SecurityDelay  LateAircraftDelay  \n",
       "count        6851832            6851832  \n",
       "mean               0                  4  \n",
       "std                0                 20  \n",
       "min                0                  0  \n",
       "25%                0                  0  \n",
       "50%                0                  0  \n",
       "75%                0                  0  \n",
       "max              392               1316  "
      ]
     },
     "execution_count": 23,
     "metadata": {},
     "output_type": "execute_result"
    }
   ],
   "source": [
    "flights.describe().astype(int)"
   ]
  },
  {
   "cell_type": "markdown",
   "metadata": {
    "slideshow": {
     "slide_type": "slide"
    }
   },
   "source": [
    "## 01. Flights without cancellation nor divertion dataset:"
   ]
  },
  {
   "cell_type": "markdown",
   "metadata": {
    "slideshow": {
     "slide_type": "slide"
    }
   },
   "source": [
    "### What is the structure of your dataset?\n",
    "\n",
    "> There are 6,851,832 flight observations with 26 features in 2008 without diverted/cancelled flights and missing or incorrect​ data.\n",
    "\n",
    "\n",
    "### What is/are the main feature(s) of interest in your dataset?\n",
    "\n",
    "> Delayed flights in terms of carriers, origin & time.\n",
    "\n",
    "\n",
    "### What features in the dataset do you think will help support your investigation into your feature(s) of interest?\n",
    "\n",
    "> ArrDelay, Month, DayOfWeek, DepTime, ArrTime, UniqueCarrier."
   ]
  },
  {
   "cell_type": "markdown",
   "metadata": {
    "slideshow": {
     "slide_type": "slide"
    }
   },
   "source": []
  },
  {
   "cell_type": "code",
   "execution_count": 24,
   "metadata": {
    "slideshow": {
     "slide_type": "skip"
    }
   },
   "outputs": [
    {
     "name": "stdout",
     "output_type": "stream",
     "text": [
      "Elapsed loading time : 0.6592371463775635\n",
      "(137434, 14)\n"
     ]
    },
    {
     "data": {
      "text/html": [
       "<div>\n",
       "<style scoped>\n",
       "    .dataframe tbody tr th:only-of-type {\n",
       "        vertical-align: middle;\n",
       "    }\n",
       "\n",
       "    .dataframe tbody tr th {\n",
       "        vertical-align: top;\n",
       "    }\n",
       "\n",
       "    .dataframe thead th {\n",
       "        text-align: right;\n",
       "    }\n",
       "</style>\n",
       "<table border=\"1\" class=\"dataframe\">\n",
       "  <thead>\n",
       "    <tr style=\"text-align: right;\">\n",
       "      <th></th>\n",
       "      <th>Year</th>\n",
       "      <th>Month</th>\n",
       "      <th>DayofMonth</th>\n",
       "      <th>DayOfWeek</th>\n",
       "      <th>CRSDepTime</th>\n",
       "      <th>CRSArrTime</th>\n",
       "      <th>UniqueCarrier</th>\n",
       "      <th>FlightNum</th>\n",
       "      <th>TailNum</th>\n",
       "      <th>CRSElapsedTime</th>\n",
       "      <th>Origin</th>\n",
       "      <th>Dest</th>\n",
       "      <th>Distance</th>\n",
       "      <th>CancellationCode</th>\n",
       "    </tr>\n",
       "  </thead>\n",
       "  <tbody>\n",
       "    <tr>\n",
       "      <th>0</th>\n",
       "      <td>2008</td>\n",
       "      <td>1</td>\n",
       "      <td>3</td>\n",
       "      <td>4</td>\n",
       "      <td>07:00 AM</td>\n",
       "      <td>08:30 AM</td>\n",
       "      <td>WN</td>\n",
       "      <td>126</td>\n",
       "      <td>NaN</td>\n",
       "      <td>90.0</td>\n",
       "      <td>LAS</td>\n",
       "      <td>OAK</td>\n",
       "      <td>407</td>\n",
       "      <td>A</td>\n",
       "    </tr>\n",
       "    <tr>\n",
       "      <th>1</th>\n",
       "      <td>2008</td>\n",
       "      <td>1</td>\n",
       "      <td>3</td>\n",
       "      <td>4</td>\n",
       "      <td>11:00 AM</td>\n",
       "      <td>12:15 PM</td>\n",
       "      <td>WN</td>\n",
       "      <td>1146</td>\n",
       "      <td>NaN</td>\n",
       "      <td>75.0</td>\n",
       "      <td>LAX</td>\n",
       "      <td>OAK</td>\n",
       "      <td>337</td>\n",
       "      <td>A</td>\n",
       "    </tr>\n",
       "    <tr>\n",
       "      <th>2</th>\n",
       "      <td>2008</td>\n",
       "      <td>1</td>\n",
       "      <td>3</td>\n",
       "      <td>4</td>\n",
       "      <td>09:05 AM</td>\n",
       "      <td>10:25 AM</td>\n",
       "      <td>WN</td>\n",
       "      <td>469</td>\n",
       "      <td>NaN</td>\n",
       "      <td>80.0</td>\n",
       "      <td>LAX</td>\n",
       "      <td>SFO</td>\n",
       "      <td>337</td>\n",
       "      <td>A</td>\n",
       "    </tr>\n",
       "    <tr>\n",
       "      <th>3</th>\n",
       "      <td>2008</td>\n",
       "      <td>1</td>\n",
       "      <td>3</td>\n",
       "      <td>4</td>\n",
       "      <td>04:20 PM</td>\n",
       "      <td>05:40 PM</td>\n",
       "      <td>WN</td>\n",
       "      <td>618</td>\n",
       "      <td>NaN</td>\n",
       "      <td>80.0</td>\n",
       "      <td>LAX</td>\n",
       "      <td>SFO</td>\n",
       "      <td>337</td>\n",
       "      <td>C</td>\n",
       "    </tr>\n",
       "    <tr>\n",
       "      <th>4</th>\n",
       "      <td>2008</td>\n",
       "      <td>1</td>\n",
       "      <td>3</td>\n",
       "      <td>4</td>\n",
       "      <td>07:30 PM</td>\n",
       "      <td>08:35 PM</td>\n",
       "      <td>WN</td>\n",
       "      <td>2528</td>\n",
       "      <td>NaN</td>\n",
       "      <td>65.0</td>\n",
       "      <td>LAX</td>\n",
       "      <td>SJC</td>\n",
       "      <td>308</td>\n",
       "      <td>A</td>\n",
       "    </tr>\n",
       "  </tbody>\n",
       "</table>\n",
       "</div>"
      ],
      "text/plain": [
       "   Year  Month  DayofMonth  DayOfWeek CRSDepTime CRSArrTime UniqueCarrier  \\\n",
       "0  2008      1           3          4   07:00 AM   08:30 AM            WN   \n",
       "1  2008      1           3          4   11:00 AM   12:15 PM            WN   \n",
       "2  2008      1           3          4   09:05 AM   10:25 AM            WN   \n",
       "3  2008      1           3          4   04:20 PM   05:40 PM            WN   \n",
       "4  2008      1           3          4   07:30 PM   08:35 PM            WN   \n",
       "\n",
       "   FlightNum TailNum  CRSElapsedTime Origin Dest  Distance CancellationCode  \n",
       "0        126     NaN            90.0    LAS  OAK       407                A  \n",
       "1       1146     NaN            75.0    LAX  OAK       337                A  \n",
       "2        469     NaN            80.0    LAX  SFO       337                A  \n",
       "3        618     NaN            80.0    LAX  SFO       337                C  \n",
       "4       2528     NaN            65.0    LAX  SJC       308                A  "
      ]
     },
     "execution_count": 24,
     "metadata": {},
     "output_type": "execute_result"
    }
   ],
   "source": [
    "# now we will load flights dataset 2008\n",
    "cancelled = load_dataset('canceled')\n",
    "# print df size\n",
    "print(cancelled.shape)\n",
    "# dispay first 10 rows\n",
    "cancelled.head()"
   ]
  },
  {
   "cell_type": "code",
   "execution_count": 25,
   "metadata": {
    "slideshow": {
     "slide_type": "skip"
    }
   },
   "outputs": [
    {
     "name": "stdout",
     "output_type": "stream",
     "text": [
      "<class 'pandas.core.frame.DataFrame'>\n",
      "RangeIndex: 137434 entries, 0 to 137433\n",
      "Data columns (total 14 columns):\n",
      " #   Column            Non-Null Count   Dtype  \n",
      "---  ------            --------------   -----  \n",
      " 0   Year              137434 non-null  int64  \n",
      " 1   Month             137434 non-null  int64  \n",
      " 2   DayofMonth        137434 non-null  int64  \n",
      " 3   DayOfWeek         137434 non-null  int64  \n",
      " 4   CRSDepTime        137434 non-null  object \n",
      " 5   CRSArrTime        137434 non-null  object \n",
      " 6   UniqueCarrier     137434 non-null  object \n",
      " 7   FlightNum         137434 non-null  int64  \n",
      " 8   TailNum           54076 non-null   object \n",
      " 9   CRSElapsedTime    137188 non-null  float64\n",
      " 10  Origin            137434 non-null  object \n",
      " 11  Dest              137434 non-null  object \n",
      " 12  Distance          137434 non-null  int64  \n",
      " 13  CancellationCode  137434 non-null  object \n",
      "dtypes: float64(1), int64(6), object(7)\n",
      "memory usage: 14.7+ MB\n"
     ]
    }
   ],
   "source": [
    "# get df data types and schema\n",
    "cancelled.info()"
   ]
  },
  {
   "cell_type": "code",
   "execution_count": 26,
   "metadata": {
    "slideshow": {
     "slide_type": "skip"
    }
   },
   "outputs": [
    {
     "data": {
      "text/plain": [
       "Index(['Year', 'Month', 'DayofMonth', 'DayOfWeek', 'CRSDepTime', 'CRSArrTime',\n",
       "       'UniqueCarrier', 'FlightNum', 'TailNum', 'CRSElapsedTime', 'Origin',\n",
       "       'Dest', 'Distance', 'CancellationCode'],\n",
       "      dtype='object')"
      ]
     },
     "execution_count": 26,
     "metadata": {},
     "output_type": "execute_result"
    }
   ],
   "source": [
    "cancelled.columns"
   ]
  },
  {
   "cell_type": "code",
   "execution_count": 27,
   "metadata": {
    "slideshow": {
     "slide_type": "skip"
    }
   },
   "outputs": [],
   "source": [
    "totals_cancelled = cancelled.shape[0]"
   ]
  },
  {
   "cell_type": "code",
   "execution_count": 28,
   "metadata": {
    "slideshow": {
     "slide_type": "skip"
    }
   },
   "outputs": [
    {
     "data": {
      "text/plain": [
       "0"
      ]
     },
     "execution_count": 28,
     "metadata": {},
     "output_type": "execute_result"
    }
   ],
   "source": [
    "# find the number of duplicated rows\n",
    "cancelled.duplicated().sum()"
   ]
  },
  {
   "cell_type": "code",
   "execution_count": 29,
   "metadata": {
    "slideshow": {
     "slide_type": "skip"
    }
   },
   "outputs": [
    {
     "data": {
      "text/plain": [
       "Year                    0\n",
       "Month                   0\n",
       "DayofMonth              0\n",
       "DayOfWeek               0\n",
       "CRSDepTime              0\n",
       "CRSArrTime              0\n",
       "UniqueCarrier           0\n",
       "FlightNum               0\n",
       "TailNum             83358\n",
       "CRSElapsedTime        246\n",
       "Origin                  0\n",
       "Dest                    0\n",
       "Distance                0\n",
       "CancellationCode        0\n",
       "dtype: int64"
      ]
     },
     "execution_count": 29,
     "metadata": {},
     "output_type": "execute_result"
    }
   ],
   "source": [
    "# check for null in each column\n",
    "# flights.isna().sum()\n",
    "cancelled.isnull().sum()"
   ]
  },
  {
   "cell_type": "code",
   "execution_count": 30,
   "metadata": {
    "slideshow": {
     "slide_type": "skip"
    }
   },
   "outputs": [],
   "source": [
    "# drop all columns with any NaN and NaT values\n",
    "cancelled = cancelled.dropna(axis=1)"
   ]
  },
  {
   "cell_type": "code",
   "execution_count": 31,
   "metadata": {
    "slideshow": {
     "slide_type": "skip"
    }
   },
   "outputs": [
    {
     "data": {
      "text/plain": [
       "Year                0\n",
       "Month               0\n",
       "DayofMonth          0\n",
       "DayOfWeek           0\n",
       "CRSDepTime          0\n",
       "CRSArrTime          0\n",
       "UniqueCarrier       0\n",
       "FlightNum           0\n",
       "Origin              0\n",
       "Dest                0\n",
       "Distance            0\n",
       "CancellationCode    0\n",
       "dtype: int64"
      ]
     },
     "execution_count": 31,
     "metadata": {},
     "output_type": "execute_result"
    }
   ],
   "source": [
    "# check for null in each column\n",
    "# flights.isna().sum()\n",
    "cancelled.isnull().sum()"
   ]
  },
  {
   "cell_type": "code",
   "execution_count": 32,
   "metadata": {
    "slideshow": {
     "slide_type": "skip"
    }
   },
   "outputs": [
    {
     "data": {
      "text/plain": [
       "0"
      ]
     },
     "execution_count": 32,
     "metadata": {},
     "output_type": "execute_result"
    }
   ],
   "source": [
    "# the size after deleting null\n",
    "cancelled.shape[0] - totals_cancelled"
   ]
  },
  {
   "cell_type": "code",
   "execution_count": 33,
   "metadata": {
    "slideshow": {
     "slide_type": "skip"
    }
   },
   "outputs": [],
   "source": [
    "# change schema\n",
    "cancelled['Year']              = cancelled['Year'].astype('str')\n",
    "cancelled['Month']             = cancelled['Month'].astype('str')\n",
    "cancelled['DayofMonth']        = cancelled['DayofMonth'].astype('str')\n",
    "cancelled['DayOfWeek']         = cancelled['DayOfWeek'].astype('str')\n",
    "\n",
    "cancelled['CRSDepTime']        = cancelled['CRSDepTime'].astype('str')        \n",
    "cancelled['CRSArrTime']        = cancelled['CRSArrTime'].astype('str')        \n",
    "\n",
    "cancelled['UniqueCarrier']     = cancelled['UniqueCarrier'].astype('str')  \n",
    "cancelled['FlightNum']         = cancelled['FlightNum'].astype('str')  \n",
    "\n",
    "cancelled['Origin']            = cancelled['Origin'].astype('str') \n",
    "cancelled['Dest']              = cancelled['Dest'].astype('str') \n",
    "\n",
    "cancelled['Distance']          = cancelled['Distance'].astype('int') \n",
    "cancelled['CancellationCode']  = cancelled['CancellationCode'].astype('str') "
   ]
  },
  {
   "cell_type": "code",
   "execution_count": 34,
   "metadata": {
    "slideshow": {
     "slide_type": "skip"
    }
   },
   "outputs": [
    {
     "name": "stdout",
     "output_type": "stream",
     "text": [
      "<class 'pandas.core.frame.DataFrame'>\n",
      "RangeIndex: 137434 entries, 0 to 137433\n",
      "Data columns (total 12 columns):\n",
      " #   Column            Non-Null Count   Dtype \n",
      "---  ------            --------------   ----- \n",
      " 0   Year              137434 non-null  object\n",
      " 1   Month             137434 non-null  object\n",
      " 2   DayofMonth        137434 non-null  object\n",
      " 3   DayOfWeek         137434 non-null  object\n",
      " 4   CRSDepTime        137434 non-null  object\n",
      " 5   CRSArrTime        137434 non-null  object\n",
      " 6   UniqueCarrier     137434 non-null  object\n",
      " 7   FlightNum         137434 non-null  object\n",
      " 8   Origin            137434 non-null  object\n",
      " 9   Dest              137434 non-null  object\n",
      " 10  Distance          137434 non-null  int32 \n",
      " 11  CancellationCode  137434 non-null  object\n",
      "dtypes: int32(1), object(11)\n",
      "memory usage: 12.1+ MB\n"
     ]
    }
   ],
   "source": [
    "# get df data types and schema\n",
    "cancelled.info()"
   ]
  },
  {
   "cell_type": "code",
   "execution_count": 35,
   "metadata": {
    "scrolled": true,
    "slideshow": {
     "slide_type": "skip"
    }
   },
   "outputs": [
    {
     "data": {
      "text/html": [
       "<div>\n",
       "<style scoped>\n",
       "    .dataframe tbody tr th:only-of-type {\n",
       "        vertical-align: middle;\n",
       "    }\n",
       "\n",
       "    .dataframe tbody tr th {\n",
       "        vertical-align: top;\n",
       "    }\n",
       "\n",
       "    .dataframe thead th {\n",
       "        text-align: right;\n",
       "    }\n",
       "</style>\n",
       "<table border=\"1\" class=\"dataframe\">\n",
       "  <thead>\n",
       "    <tr style=\"text-align: right;\">\n",
       "      <th></th>\n",
       "      <th>Distance</th>\n",
       "    </tr>\n",
       "  </thead>\n",
       "  <tbody>\n",
       "    <tr>\n",
       "      <th>count</th>\n",
       "      <td>137434</td>\n",
       "    </tr>\n",
       "    <tr>\n",
       "      <th>mean</th>\n",
       "      <td>581</td>\n",
       "    </tr>\n",
       "    <tr>\n",
       "      <th>std</th>\n",
       "      <td>457</td>\n",
       "    </tr>\n",
       "    <tr>\n",
       "      <th>min</th>\n",
       "      <td>17</td>\n",
       "    </tr>\n",
       "    <tr>\n",
       "      <th>25%</th>\n",
       "      <td>256</td>\n",
       "    </tr>\n",
       "    <tr>\n",
       "      <th>50%</th>\n",
       "      <td>448</td>\n",
       "    </tr>\n",
       "    <tr>\n",
       "      <th>75%</th>\n",
       "      <td>749</td>\n",
       "    </tr>\n",
       "    <tr>\n",
       "      <th>max</th>\n",
       "      <td>4502</td>\n",
       "    </tr>\n",
       "  </tbody>\n",
       "</table>\n",
       "</div>"
      ],
      "text/plain": [
       "       Distance\n",
       "count    137434\n",
       "mean        581\n",
       "std         457\n",
       "min          17\n",
       "25%         256\n",
       "50%         448\n",
       "75%         749\n",
       "max        4502"
      ]
     },
     "execution_count": 35,
     "metadata": {},
     "output_type": "execute_result"
    }
   ],
   "source": [
    "cancelled.describe().astype(int)"
   ]
  },
  {
   "cell_type": "markdown",
   "metadata": {
    "slideshow": {
     "slide_type": "slide"
    }
   },
   "source": [
    "## 02. Flights that have been Cancellation:"
   ]
  },
  {
   "cell_type": "markdown",
   "metadata": {
    "slideshow": {
     "slide_type": "slide"
    }
   },
   "source": [
    "### What is the structure of your dataset?\n",
    "\n",
    "> There are 137,434 flight observations with 12 features in 2008.\n",
    "\n",
    "\n",
    "### What is/are the main feature(s) of interest in your dataset?\n",
    "\n",
    " - what are the worstest airlines in terms of cancelled flighes?\n",
    " - what are the most cases of flights cancelled?\n",
    "\n",
    "\n",
    "### What features in the dataset do you think will help support your investigation into your feature(s) of interest?\n",
    "\n",
    "> UniqueCarrier, CancellationCode"
   ]
  },
  {
   "cell_type": "code",
   "execution_count": 36,
   "metadata": {
    "slideshow": {
     "slide_type": "skip"
    }
   },
   "outputs": [
    {
     "name": "stdout",
     "output_type": "stream",
     "text": [
      "Elapsed loading time : 0.16660594940185547\n",
      "(17265, 16)\n"
     ]
    },
    {
     "data": {
      "text/html": [
       "<div>\n",
       "<style scoped>\n",
       "    .dataframe tbody tr th:only-of-type {\n",
       "        vertical-align: middle;\n",
       "    }\n",
       "\n",
       "    .dataframe tbody tr th {\n",
       "        vertical-align: top;\n",
       "    }\n",
       "\n",
       "    .dataframe thead th {\n",
       "        text-align: right;\n",
       "    }\n",
       "</style>\n",
       "<table border=\"1\" class=\"dataframe\">\n",
       "  <thead>\n",
       "    <tr style=\"text-align: right;\">\n",
       "      <th></th>\n",
       "      <th>Year</th>\n",
       "      <th>Month</th>\n",
       "      <th>DayofMonth</th>\n",
       "      <th>DayOfWeek</th>\n",
       "      <th>DepTime</th>\n",
       "      <th>CRSDepTime</th>\n",
       "      <th>UniqueCarrier</th>\n",
       "      <th>FlightNum</th>\n",
       "      <th>TailNum</th>\n",
       "      <th>ActualElapsedTime</th>\n",
       "      <th>AirTime</th>\n",
       "      <th>ArrDelay</th>\n",
       "      <th>DepDelay</th>\n",
       "      <th>Origin</th>\n",
       "      <th>Dest</th>\n",
       "      <th>Distance</th>\n",
       "    </tr>\n",
       "  </thead>\n",
       "  <tbody>\n",
       "    <tr>\n",
       "      <th>0</th>\n",
       "      <td>2008</td>\n",
       "      <td>1</td>\n",
       "      <td>3</td>\n",
       "      <td>4</td>\n",
       "      <td>09:22 AM</td>\n",
       "      <td>09:15 AM</td>\n",
       "      <td>WN</td>\n",
       "      <td>1069</td>\n",
       "      <td>N630WN</td>\n",
       "      <td>NaN</td>\n",
       "      <td>NaN</td>\n",
       "      <td>NaN</td>\n",
       "      <td>7</td>\n",
       "      <td>SAN</td>\n",
       "      <td>SMF</td>\n",
       "      <td>480</td>\n",
       "    </tr>\n",
       "    <tr>\n",
       "      <th>1</th>\n",
       "      <td>2008</td>\n",
       "      <td>1</td>\n",
       "      <td>3</td>\n",
       "      <td>4</td>\n",
       "      <td>11:25 PM</td>\n",
       "      <td>07:00 PM</td>\n",
       "      <td>WN</td>\n",
       "      <td>2092</td>\n",
       "      <td>N302SW</td>\n",
       "      <td>NaN</td>\n",
       "      <td>NaN</td>\n",
       "      <td>NaN</td>\n",
       "      <td>265</td>\n",
       "      <td>SFO</td>\n",
       "      <td>SAN</td>\n",
       "      <td>447</td>\n",
       "    </tr>\n",
       "    <tr>\n",
       "      <th>2</th>\n",
       "      <td>2008</td>\n",
       "      <td>1</td>\n",
       "      <td>4</td>\n",
       "      <td>5</td>\n",
       "      <td>07:49 PM</td>\n",
       "      <td>07:05 PM</td>\n",
       "      <td>WN</td>\n",
       "      <td>1403</td>\n",
       "      <td>N504SW</td>\n",
       "      <td>NaN</td>\n",
       "      <td>NaN</td>\n",
       "      <td>NaN</td>\n",
       "      <td>44</td>\n",
       "      <td>BOI</td>\n",
       "      <td>RNO</td>\n",
       "      <td>335</td>\n",
       "    </tr>\n",
       "    <tr>\n",
       "      <th>3</th>\n",
       "      <td>2008</td>\n",
       "      <td>1</td>\n",
       "      <td>4</td>\n",
       "      <td>5</td>\n",
       "      <td>07:37 AM</td>\n",
       "      <td>07:05 AM</td>\n",
       "      <td>WN</td>\n",
       "      <td>178</td>\n",
       "      <td>N718SW</td>\n",
       "      <td>NaN</td>\n",
       "      <td>NaN</td>\n",
       "      <td>NaN</td>\n",
       "      <td>32</td>\n",
       "      <td>BUR</td>\n",
       "      <td>SMF</td>\n",
       "      <td>358</td>\n",
       "    </tr>\n",
       "    <tr>\n",
       "      <th>4</th>\n",
       "      <td>2008</td>\n",
       "      <td>1</td>\n",
       "      <td>4</td>\n",
       "      <td>5</td>\n",
       "      <td>09:31 AM</td>\n",
       "      <td>09:30 AM</td>\n",
       "      <td>WN</td>\n",
       "      <td>2011</td>\n",
       "      <td>N726SW</td>\n",
       "      <td>NaN</td>\n",
       "      <td>NaN</td>\n",
       "      <td>NaN</td>\n",
       "      <td>1</td>\n",
       "      <td>HOU</td>\n",
       "      <td>OAK</td>\n",
       "      <td>1642</td>\n",
       "    </tr>\n",
       "  </tbody>\n",
       "</table>\n",
       "</div>"
      ],
      "text/plain": [
       "   Year  Month  DayofMonth  DayOfWeek   DepTime CRSDepTime UniqueCarrier  \\\n",
       "0  2008      1           3          4  09:22 AM   09:15 AM            WN   \n",
       "1  2008      1           3          4  11:25 PM   07:00 PM            WN   \n",
       "2  2008      1           4          5  07:49 PM   07:05 PM            WN   \n",
       "3  2008      1           4          5  07:37 AM   07:05 AM            WN   \n",
       "4  2008      1           4          5  09:31 AM   09:30 AM            WN   \n",
       "\n",
       "   FlightNum TailNum  ActualElapsedTime  AirTime  ArrDelay  DepDelay Origin  \\\n",
       "0       1069  N630WN                NaN      NaN       NaN         7    SAN   \n",
       "1       2092  N302SW                NaN      NaN       NaN       265    SFO   \n",
       "2       1403  N504SW                NaN      NaN       NaN        44    BOI   \n",
       "3        178  N718SW                NaN      NaN       NaN        32    BUR   \n",
       "4       2011  N726SW                NaN      NaN       NaN         1    HOU   \n",
       "\n",
       "  Dest  Distance  \n",
       "0  SMF       480  \n",
       "1  SAN       447  \n",
       "2  RNO       335  \n",
       "3  SMF       358  \n",
       "4  OAK      1642  "
      ]
     },
     "execution_count": 36,
     "metadata": {},
     "output_type": "execute_result"
    }
   ],
   "source": [
    "# now we will load flights dataset 2008\n",
    "diverted = load_dataset('diverted')\n",
    "# print df size\n",
    "print(diverted.shape)\n",
    "# dispay first 10 rows\n",
    "diverted.head()"
   ]
  },
  {
   "cell_type": "code",
   "execution_count": 37,
   "metadata": {
    "slideshow": {
     "slide_type": "skip"
    }
   },
   "outputs": [
    {
     "name": "stdout",
     "output_type": "stream",
     "text": [
      "<class 'pandas.core.frame.DataFrame'>\n",
      "RangeIndex: 17265 entries, 0 to 17264\n",
      "Data columns (total 16 columns):\n",
      " #   Column             Non-Null Count  Dtype  \n",
      "---  ------             --------------  -----  \n",
      " 0   Year               17265 non-null  int64  \n",
      " 1   Month              17265 non-null  int64  \n",
      " 2   DayofMonth         17265 non-null  int64  \n",
      " 3   DayOfWeek          17265 non-null  int64  \n",
      " 4   DepTime            17265 non-null  object \n",
      " 5   CRSDepTime         17265 non-null  object \n",
      " 6   UniqueCarrier      17265 non-null  object \n",
      " 7   FlightNum          17265 non-null  int64  \n",
      " 8   TailNum            17263 non-null  object \n",
      " 9   ActualElapsedTime  0 non-null      float64\n",
      " 10  AirTime            0 non-null      float64\n",
      " 11  ArrDelay           0 non-null      float64\n",
      " 12  DepDelay           17265 non-null  int64  \n",
      " 13  Origin             17265 non-null  object \n",
      " 14  Dest               17265 non-null  object \n",
      " 15  Distance           17265 non-null  int64  \n",
      "dtypes: float64(3), int64(7), object(6)\n",
      "memory usage: 2.1+ MB\n"
     ]
    }
   ],
   "source": [
    "# get df data types and schema\n",
    "diverted.info()"
   ]
  },
  {
   "cell_type": "code",
   "execution_count": 38,
   "metadata": {
    "slideshow": {
     "slide_type": "skip"
    }
   },
   "outputs": [
    {
     "data": {
      "text/plain": [
       "Index(['Year', 'Month', 'DayofMonth', 'DayOfWeek', 'DepTime', 'CRSDepTime',\n",
       "       'UniqueCarrier', 'FlightNum', 'TailNum', 'ActualElapsedTime', 'AirTime',\n",
       "       'ArrDelay', 'DepDelay', 'Origin', 'Dest', 'Distance'],\n",
       "      dtype='object')"
      ]
     },
     "execution_count": 38,
     "metadata": {},
     "output_type": "execute_result"
    }
   ],
   "source": [
    "diverted.columns"
   ]
  },
  {
   "cell_type": "code",
   "execution_count": 39,
   "metadata": {
    "slideshow": {
     "slide_type": "skip"
    }
   },
   "outputs": [],
   "source": [
    "totals_diverted = diverted.shape[0]"
   ]
  },
  {
   "cell_type": "code",
   "execution_count": 40,
   "metadata": {
    "slideshow": {
     "slide_type": "skip"
    }
   },
   "outputs": [
    {
     "data": {
      "text/plain": [
       "0"
      ]
     },
     "execution_count": 40,
     "metadata": {},
     "output_type": "execute_result"
    }
   ],
   "source": [
    "# find the number of duplicated rows\n",
    "diverted.duplicated().sum()"
   ]
  },
  {
   "cell_type": "code",
   "execution_count": 41,
   "metadata": {
    "slideshow": {
     "slide_type": "skip"
    }
   },
   "outputs": [
    {
     "data": {
      "text/plain": [
       "Year                     0\n",
       "Month                    0\n",
       "DayofMonth               0\n",
       "DayOfWeek                0\n",
       "DepTime                  0\n",
       "CRSDepTime               0\n",
       "UniqueCarrier            0\n",
       "FlightNum                0\n",
       "TailNum                  2\n",
       "ActualElapsedTime    17265\n",
       "AirTime              17265\n",
       "ArrDelay             17265\n",
       "DepDelay                 0\n",
       "Origin                   0\n",
       "Dest                     0\n",
       "Distance                 0\n",
       "dtype: int64"
      ]
     },
     "execution_count": 41,
     "metadata": {},
     "output_type": "execute_result"
    }
   ],
   "source": [
    "# check for null in each column\n",
    "# flights.isna().sum()\n",
    "diverted.isnull().sum()"
   ]
  },
  {
   "cell_type": "code",
   "execution_count": 42,
   "metadata": {
    "slideshow": {
     "slide_type": "skip"
    }
   },
   "outputs": [],
   "source": [
    "# drop all columns with any NaN and NaT values\n",
    "diverted = diverted.dropna(axis=1)"
   ]
  },
  {
   "cell_type": "code",
   "execution_count": 43,
   "metadata": {
    "slideshow": {
     "slide_type": "skip"
    }
   },
   "outputs": [
    {
     "data": {
      "text/plain": [
       "Year             0\n",
       "Month            0\n",
       "DayofMonth       0\n",
       "DayOfWeek        0\n",
       "DepTime          0\n",
       "CRSDepTime       0\n",
       "UniqueCarrier    0\n",
       "FlightNum        0\n",
       "DepDelay         0\n",
       "Origin           0\n",
       "Dest             0\n",
       "Distance         0\n",
       "dtype: int64"
      ]
     },
     "execution_count": 43,
     "metadata": {},
     "output_type": "execute_result"
    }
   ],
   "source": [
    "# check for null in each column\n",
    "# flights.isna().sum()\n",
    "diverted.isnull().sum()"
   ]
  },
  {
   "cell_type": "code",
   "execution_count": 44,
   "metadata": {
    "slideshow": {
     "slide_type": "skip"
    }
   },
   "outputs": [
    {
     "data": {
      "text/plain": [
       "0"
      ]
     },
     "execution_count": 44,
     "metadata": {},
     "output_type": "execute_result"
    }
   ],
   "source": [
    "# the size after deleting null\n",
    "diverted.shape[0] - totals_diverted"
   ]
  },
  {
   "cell_type": "code",
   "execution_count": 45,
   "metadata": {
    "slideshow": {
     "slide_type": "skip"
    }
   },
   "outputs": [],
   "source": [
    "# change schema\n",
    "diverted['Year']              = diverted['Year'].astype('str')\n",
    "diverted['Month']             = diverted['Month'].astype('str')\n",
    "diverted['DayofMonth']        = diverted['DayofMonth'].astype('str')\n",
    "diverted['DayOfWeek']         = diverted['DayOfWeek'].astype('str')\n",
    "\n",
    "diverted['DepTime']           = diverted['DepTime'].astype('str')          \n",
    "diverted['CRSDepTime']        = diverted['CRSDepTime'].astype('str')        \n",
    "\n",
    "diverted['UniqueCarrier']     = diverted['UniqueCarrier'].astype('str')  \n",
    "diverted['FlightNum']         = diverted['FlightNum'].astype('str')  \n",
    "\n",
    "diverted['DepDelay']          = diverted['DepDelay'].astype('int') \n",
    "\n",
    "diverted['Origin']            = diverted['Origin'].astype('str') \n",
    "diverted['Dest']              = diverted['Dest'].astype('str') \n",
    "\n",
    "diverted['Distance']          = diverted['Distance'].astype('int') "
   ]
  },
  {
   "cell_type": "code",
   "execution_count": 46,
   "metadata": {
    "slideshow": {
     "slide_type": "skip"
    }
   },
   "outputs": [
    {
     "name": "stdout",
     "output_type": "stream",
     "text": [
      "<class 'pandas.core.frame.DataFrame'>\n",
      "RangeIndex: 17265 entries, 0 to 17264\n",
      "Data columns (total 12 columns):\n",
      " #   Column         Non-Null Count  Dtype \n",
      "---  ------         --------------  ----- \n",
      " 0   Year           17265 non-null  object\n",
      " 1   Month          17265 non-null  object\n",
      " 2   DayofMonth     17265 non-null  object\n",
      " 3   DayOfWeek      17265 non-null  object\n",
      " 4   DepTime        17265 non-null  object\n",
      " 5   CRSDepTime     17265 non-null  object\n",
      " 6   UniqueCarrier  17265 non-null  object\n",
      " 7   FlightNum      17265 non-null  object\n",
      " 8   DepDelay       17265 non-null  int32 \n",
      " 9   Origin         17265 non-null  object\n",
      " 10  Dest           17265 non-null  object\n",
      " 11  Distance       17265 non-null  int32 \n",
      "dtypes: int32(2), object(10)\n",
      "memory usage: 1.4+ MB\n"
     ]
    }
   ],
   "source": [
    "# get df data types and schema\n",
    "diverted.info()"
   ]
  },
  {
   "cell_type": "code",
   "execution_count": 47,
   "metadata": {
    "scrolled": true,
    "slideshow": {
     "slide_type": "skip"
    }
   },
   "outputs": [
    {
     "data": {
      "text/html": [
       "<div>\n",
       "<style scoped>\n",
       "    .dataframe tbody tr th:only-of-type {\n",
       "        vertical-align: middle;\n",
       "    }\n",
       "\n",
       "    .dataframe tbody tr th {\n",
       "        vertical-align: top;\n",
       "    }\n",
       "\n",
       "    .dataframe thead th {\n",
       "        text-align: right;\n",
       "    }\n",
       "</style>\n",
       "<table border=\"1\" class=\"dataframe\">\n",
       "  <thead>\n",
       "    <tr style=\"text-align: right;\">\n",
       "      <th></th>\n",
       "      <th>DepDelay</th>\n",
       "      <th>Distance</th>\n",
       "    </tr>\n",
       "  </thead>\n",
       "  <tbody>\n",
       "    <tr>\n",
       "      <th>count</th>\n",
       "      <td>17265</td>\n",
       "      <td>17265</td>\n",
       "    </tr>\n",
       "    <tr>\n",
       "      <th>mean</th>\n",
       "      <td>26</td>\n",
       "      <td>947</td>\n",
       "    </tr>\n",
       "    <tr>\n",
       "      <th>std</th>\n",
       "      <td>58</td>\n",
       "      <td>657</td>\n",
       "    </tr>\n",
       "    <tr>\n",
       "      <th>min</th>\n",
       "      <td>-62</td>\n",
       "      <td>28</td>\n",
       "    </tr>\n",
       "    <tr>\n",
       "      <th>25%</th>\n",
       "      <td>-3</td>\n",
       "      <td>461</td>\n",
       "    </tr>\n",
       "    <tr>\n",
       "      <th>50%</th>\n",
       "      <td>3</td>\n",
       "      <td>781</td>\n",
       "    </tr>\n",
       "    <tr>\n",
       "      <th>75%</th>\n",
       "      <td>30</td>\n",
       "      <td>1201</td>\n",
       "    </tr>\n",
       "    <tr>\n",
       "      <th>max</th>\n",
       "      <td>1154</td>\n",
       "      <td>4962</td>\n",
       "    </tr>\n",
       "  </tbody>\n",
       "</table>\n",
       "</div>"
      ],
      "text/plain": [
       "       DepDelay  Distance\n",
       "count     17265     17265\n",
       "mean         26       947\n",
       "std          58       657\n",
       "min         -62        28\n",
       "25%          -3       461\n",
       "50%           3       781\n",
       "75%          30      1201\n",
       "max        1154      4962"
      ]
     },
     "execution_count": 47,
     "metadata": {},
     "output_type": "execute_result"
    }
   ],
   "source": [
    "diverted.describe().astype(int)"
   ]
  },
  {
   "cell_type": "markdown",
   "metadata": {
    "slideshow": {
     "slide_type": "slide"
    }
   },
   "source": [
    "## 03. Flights that have been diverted:"
   ]
  },
  {
   "cell_type": "markdown",
   "metadata": {
    "slideshow": {
     "slide_type": "slide"
    }
   },
   "source": [
    "### What is the structure of your dataset?\n",
    "\n",
    "> There are 17,265 flight observations with 12 features in 2008.\n",
    "\n",
    "\n",
    "### What is/are the main feature(s) of interest in your dataset?\n",
    "\n",
    "> what are the Origin & Dest that have the most diverted flighes?\n",
    "\n",
    "\n",
    "### What features in the dataset do you think will help support your investigation into your feature(s) of interest?\n",
    "\n",
    "> Origin & Dest."
   ]
  },
  {
   "cell_type": "markdown",
   "metadata": {
    "slideshow": {
     "slide_type": "slide"
    }
   },
   "source": [
    "## Expoloring Flights dataset:"
   ]
  },
  {
   "cell_type": "markdown",
   "metadata": {
    "slideshow": {
     "slide_type": "subslide"
    }
   },
   "source": [
    "### 01. Flight dataset Year column:\n",
    "    range :\t 1987-2008 "
   ]
  },
  {
   "cell_type": "code",
   "execution_count": 48,
   "metadata": {
    "scrolled": true,
    "slideshow": {
     "slide_type": "subslide"
    }
   },
   "outputs": [
    {
     "data": {
      "text/plain": [
       "2008    6851832\n",
       "Name: Year, dtype: int64"
      ]
     },
     "execution_count": 48,
     "metadata": {},
     "output_type": "execute_result"
    }
   ],
   "source": [
    "flights.Year.value_counts()"
   ]
  },
  {
   "cell_type": "markdown",
   "metadata": {
    "slideshow": {
     "slide_type": "subslide"
    }
   },
   "source": [
    "### 02. Flight dataset Month column:\n",
    "    range :\t 1-12                                                        "
   ]
  },
  {
   "cell_type": "code",
   "execution_count": 49,
   "metadata": {
    "slideshow": {
     "slide_type": "skip"
    }
   },
   "outputs": [
    {
     "data": {
      "text/plain": [
       "count     6851832\n",
       "unique         12\n",
       "top             7\n",
       "freq       615042\n",
       "Name: Month, dtype: object"
      ]
     },
     "execution_count": 49,
     "metadata": {},
     "output_type": "execute_result"
    }
   ],
   "source": [
    "flights.Month.describe()"
   ]
  },
  {
   "cell_type": "code",
   "execution_count": 50,
   "metadata": {},
   "outputs": [
    {
     "data": {
      "image/png": "[encoded data removed]",
      "text/plain": [
       "<Figure size 432x288 with 1 Axes>"
      ]
     },
     "metadata": {
      "needs_background": "light"
     },
     "output_type": "display_data"
    }
   ],
   "source": [
    "plot_bar_str(flights, 'Month', 100, base_color)"
   ]
  },
  {
   "cell_type": "markdown",
   "metadata": {
    "slideshow": {
     "slide_type": "subslide"
    }
   },
   "source": [
    "#### Bar plot indicate the number of flights per month"
   ]
  },
  {
   "cell_type": "code",
   "execution_count": 51,
   "metadata": {
    "slideshow": {
     "slide_type": "subslide"
    }
   },
   "outputs": [
    {
     "data": {
      "image/png": "[encoded data removed]",
      "text/plain": [
       "<Figure size 432x288 with 1 Axes>"
      ]
     },
     "metadata": {
      "needs_background": "light"
     },
     "output_type": "display_data"
    }
   ],
   "source": [
    "plot_bar_str(flights, 'Month', 100, base_color , log =True)"
   ]
  },
  {
   "cell_type": "markdown",
   "metadata": {
    "slideshow": {
     "slide_type": "subslide"
    }
   },
   "source": [
    "Most of fights occured on summer , less on winter  "
   ]
  },
  {
   "cell_type": "markdown",
   "metadata": {
    "slideshow": {
     "slide_type": "subslide"
    }
   },
   "source": [
    "### 03. Flight dataset DayofMonth column:\n",
    "    range :\t 1-31"
   ]
  },
  {
   "cell_type": "code",
   "execution_count": 52,
   "metadata": {},
   "outputs": [
    {
     "data": {
      "text/plain": [
       "count     6851832\n",
       "unique         31\n",
       "top             7\n",
       "freq       229210\n",
       "Name: DayofMonth, dtype: object"
      ]
     },
     "execution_count": 52,
     "metadata": {},
     "output_type": "execute_result"
    }
   ],
   "source": [
    "flights.DayofMonth.describe()"
   ]
  },
  {
   "cell_type": "markdown",
   "metadata": {
    "slideshow": {
     "slide_type": "subslide"
    }
   },
   "source": [
    "#### Bar plot indicate the number of flights per day of month"
   ]
  },
  {
   "cell_type": "code",
   "execution_count": 53,
   "metadata": {
    "slideshow": {
     "slide_type": "subslide"
    }
   },
   "outputs": [
    {
     "data": {
      "image/png": "[encoded data removed]",
      "text/plain": [
       "<Figure size 720x288 with 1 Axes>"
      ]
     },
     "metadata": {
      "needs_background": "light"
     },
     "output_type": "display_data"
    }
   ],
   "source": [
    "plot_bar_str(flights, 'DayofMonth', 50, base_color, (10, 4))"
   ]
  },
  {
   "cell_type": "markdown",
   "metadata": {
    "slideshow": {
     "slide_type": "subslide"
    }
   },
   "source": [
    "There are not big difference amonge monthes in the flights number during the days of months, and its natural to be less half flights during 31th."
   ]
  },
  {
   "cell_type": "markdown",
   "metadata": {
    "slideshow": {
     "slide_type": "subslide"
    }
   },
   "source": [
    "### 04. Flight dataset DayOfWeek column:\n",
    "    range :\t 1 (Monday) - 7 (Sunday)"
   ]
  },
  {
   "cell_type": "code",
   "execution_count": 54,
   "metadata": {},
   "outputs": [],
   "source": [
    "# substitute number with actual day of week name \n",
    "days = ['', 'Monday', 'Tuesday', 'Wednesday', 'Thursday', 'Friday', 'Saturday', 'Sunday']\n",
    "for i in flights.DayOfWeek.unique():\n",
    "    if str(i).isnumeric():\n",
    "        flights.DayOfWeek.replace(i,days[int(i)], inplace=True)"
   ]
  },
  {
   "cell_type": "code",
   "execution_count": 55,
   "metadata": {
    "slideshow": {
     "slide_type": "skip"
    }
   },
   "outputs": [
    {
     "data": {
      "text/plain": [
       "count       6851832\n",
       "unique            7\n",
       "top       Wednesday\n",
       "freq        1016581\n",
       "Name: DayOfWeek, dtype: object"
      ]
     },
     "execution_count": 55,
     "metadata": {},
     "output_type": "execute_result"
    }
   ],
   "source": [
    "flights.DayOfWeek.describe()"
   ]
  },
  {
   "cell_type": "code",
   "execution_count": 56,
   "metadata": {
    "slideshow": {
     "slide_type": "skip"
    }
   },
   "outputs": [
    {
     "data": {
      "image/png": "[encoded data removed]",
      "text/plain": [
       "<Figure size 432x288 with 1 Axes>"
      ]
     },
     "metadata": {
      "needs_background": "light"
     },
     "output_type": "display_data"
    }
   ],
   "source": [
    "plot_bar_str(flights, 'DayOfWeek', 200, base_color, rotation =45)"
   ]
  },
  {
   "cell_type": "markdown",
   "metadata": {
    "slideshow": {
     "slide_type": "subslide"
    }
   },
   "source": [
    "#### Bar plot indicate the number of flights per day of week"
   ]
  },
  {
   "cell_type": "code",
   "execution_count": 57,
   "metadata": {
    "slideshow": {
     "slide_type": "subslide"
    }
   },
   "outputs": [
    {
     "data": {
      "image/png": "[encoded data removed]",
      "text/plain": [
       "<Figure size 432x288 with 1 Axes>"
      ]
     },
     "metadata": {
      "needs_background": "light"
     },
     "output_type": "display_data"
    }
   ],
   "source": [
    "plot_bar_str(flights, 'DayOfWeek', 200, base_color, rotation =45, log=True)"
   ]
  },
  {
   "cell_type": "markdown",
   "metadata": {
    "slideshow": {
     "slide_type": "subslide"
    }
   },
   "source": [
    "There are not big difference amonge flights number during working days 'Tuesday', 'Wednesday', 'Thursday', 'Friday' , and less  flights during Sunday , and more less in Saturday."
   ]
  },
  {
   "cell_type": "markdown",
   "metadata": {
    "slideshow": {
     "slide_type": "subslide"
    }
   },
   "source": [
    "### 05. Flight dataset DepTime column:\n",
    "    range :\t 00:00 AM-11:59 PM  \n",
    "    actual departure time (local, hh:mm AM/PM)"
   ]
  },
  {
   "cell_type": "code",
   "execution_count": 58,
   "metadata": {
    "slideshow": {
     "slide_type": "subslide"
    }
   },
   "outputs": [
    {
     "data": {
      "text/plain": [
       "count      6851832\n",
       "unique        1439\n",
       "top       05:55 AM\n",
       "freq         17187\n",
       "Name: DepTime, dtype: object"
      ]
     },
     "execution_count": 58,
     "metadata": {},
     "output_type": "execute_result"
    }
   ],
   "source": [
    "flights.DepTime.describe()"
   ]
  },
  {
   "cell_type": "code",
   "execution_count": 59,
   "metadata": {},
   "outputs": [],
   "source": [
    "# sort time in ascending order with its frequency\n",
    "df = sort_time_fmt(flights, 'DepTime')"
   ]
  },
  {
   "cell_type": "code",
   "execution_count": 60,
   "metadata": {},
   "outputs": [
    {
     "data": {
      "text/html": [
       "<div>\n",
       "<style scoped>\n",
       "    .dataframe tbody tr th:only-of-type {\n",
       "        vertical-align: middle;\n",
       "    }\n",
       "\n",
       "    .dataframe tbody tr th {\n",
       "        vertical-align: top;\n",
       "    }\n",
       "\n",
       "    .dataframe thead th {\n",
       "        text-align: right;\n",
       "    }\n",
       "</style>\n",
       "<table border=\"1\" class=\"dataframe\">\n",
       "  <thead>\n",
       "    <tr style=\"text-align: right;\">\n",
       "      <th></th>\n",
       "      <th>DepTime</th>\n",
       "      <th>frequency</th>\n",
       "    </tr>\n",
       "  </thead>\n",
       "  <tbody>\n",
       "    <tr>\n",
       "      <th>8</th>\n",
       "      <td>8</td>\n",
       "      <td>448131</td>\n",
       "    </tr>\n",
       "  </tbody>\n",
       "</table>\n",
       "</div>"
      ],
      "text/plain": [
       "   DepTime  frequency\n",
       "8        8     448131"
      ]
     },
     "execution_count": 60,
     "metadata": {},
     "output_type": "execute_result"
    }
   ],
   "source": [
    "df[df.frequency == df.frequency.max()]"
   ]
  },
  {
   "cell_type": "markdown",
   "metadata": {
    "slideshow": {
     "slide_type": "subslide"
    }
   },
   "source": [
    "### line plot indicate the number of actual departed flights over the day time"
   ]
  },
  {
   "cell_type": "code",
   "execution_count": 61,
   "metadata": {
    "slideshow": {
     "slide_type": "subslide"
    }
   },
   "outputs": [
    {
     "data": {
      "image/png": "[encoded data removed]",
      "text/plain": [
       "<Figure size 864x288 with 1 Axes>"
      ]
     },
     "metadata": {
      "needs_background": "light"
     },
     "output_type": "display_data"
    }
   ],
   "source": [
    "plot_line_time_fmt(df, 'DepTime', 'frequency', figsize=(12, 4))"
   ]
  },
  {
   "cell_type": "markdown",
   "metadata": {},
   "source": []
  },
  {
   "cell_type": "markdown",
   "metadata": {
    "slideshow": {
     "slide_type": "subslide"
    }
   },
   "source": [
    "### 06. Flight dataset CRSDepTime column:\n",
    "    range :\t 00:00 AM-11:59 PM  \n",
    "    scheduled departure time (local, hh:mm AM/PM)"
   ]
  },
  {
   "cell_type": "code",
   "execution_count": 62,
   "metadata": {},
   "outputs": [
    {
     "data": {
      "text/plain": [
       "count      6851832\n",
       "unique        1202\n",
       "top       06:00 AM\n",
       "freq        128869\n",
       "Name: CRSDepTime, dtype: object"
      ]
     },
     "execution_count": 62,
     "metadata": {},
     "output_type": "execute_result"
    }
   ],
   "source": [
    "flights.CRSDepTime.describe()"
   ]
  },
  {
   "cell_type": "code",
   "execution_count": 63,
   "metadata": {},
   "outputs": [
    {
     "data": {
      "text/html": [
       "<div>\n",
       "<style scoped>\n",
       "    .dataframe tbody tr th:only-of-type {\n",
       "        vertical-align: middle;\n",
       "    }\n",
       "\n",
       "    .dataframe tbody tr th {\n",
       "        vertical-align: top;\n",
       "    }\n",
       "\n",
       "    .dataframe thead th {\n",
       "        text-align: right;\n",
       "    }\n",
       "</style>\n",
       "<table border=\"1\" class=\"dataframe\">\n",
       "  <thead>\n",
       "    <tr style=\"text-align: right;\">\n",
       "      <th></th>\n",
       "      <th>CRSDepTime</th>\n",
       "      <th>frequency</th>\n",
       "    </tr>\n",
       "  </thead>\n",
       "  <tbody>\n",
       "    <tr>\n",
       "      <th>0</th>\n",
       "      <td>0</td>\n",
       "      <td>8753</td>\n",
       "    </tr>\n",
       "    <tr>\n",
       "      <th>1</th>\n",
       "      <td>1</td>\n",
       "      <td>2787</td>\n",
       "    </tr>\n",
       "    <tr>\n",
       "      <th>2</th>\n",
       "      <td>2</td>\n",
       "      <td>802</td>\n",
       "    </tr>\n",
       "    <tr>\n",
       "      <th>3</th>\n",
       "      <td>3</td>\n",
       "      <td>529</td>\n",
       "    </tr>\n",
       "    <tr>\n",
       "      <th>4</th>\n",
       "      <td>4</td>\n",
       "      <td>917</td>\n",
       "    </tr>\n",
       "  </tbody>\n",
       "</table>\n",
       "</div>"
      ],
      "text/plain": [
       "   CRSDepTime  frequency\n",
       "0           0       8753\n",
       "1           1       2787\n",
       "2           2        802\n",
       "3           3        529\n",
       "4           4        917"
      ]
     },
     "execution_count": 63,
     "metadata": {},
     "output_type": "execute_result"
    }
   ],
   "source": [
    "df = sort_time_fmt(flights, 'CRSDepTime')\n",
    "df.head()"
   ]
  },
  {
   "cell_type": "code",
   "execution_count": 64,
   "metadata": {},
   "outputs": [
    {
     "data": {
      "text/html": [
       "<div>\n",
       "<style scoped>\n",
       "    .dataframe tbody tr th:only-of-type {\n",
       "        vertical-align: middle;\n",
       "    }\n",
       "\n",
       "    .dataframe tbody tr th {\n",
       "        vertical-align: top;\n",
       "    }\n",
       "\n",
       "    .dataframe thead th {\n",
       "        text-align: right;\n",
       "    }\n",
       "</style>\n",
       "<table border=\"1\" class=\"dataframe\">\n",
       "  <thead>\n",
       "    <tr style=\"text-align: right;\">\n",
       "      <th></th>\n",
       "      <th>CRSDepTime</th>\n",
       "      <th>frequency</th>\n",
       "    </tr>\n",
       "  </thead>\n",
       "  <tbody>\n",
       "    <tr>\n",
       "      <th>6</th>\n",
       "      <td>6</td>\n",
       "      <td>493271</td>\n",
       "    </tr>\n",
       "  </tbody>\n",
       "</table>\n",
       "</div>"
      ],
      "text/plain": [
       "   CRSDepTime  frequency\n",
       "6           6     493271"
      ]
     },
     "execution_count": 64,
     "metadata": {},
     "output_type": "execute_result"
    }
   ],
   "source": [
    "df[df.frequency == df.frequency.max()]"
   ]
  },
  {
   "cell_type": "markdown",
   "metadata": {
    "slideshow": {
     "slide_type": "subslide"
    }
   },
   "source": [
    "### line plot indicate the number of scheduled departed flights over the day time"
   ]
  },
  {
   "cell_type": "code",
   "execution_count": 65,
   "metadata": {
    "slideshow": {
     "slide_type": "subslide"
    }
   },
   "outputs": [
    {
     "data": {
      "image/png": "[encoded data removed]",
      "text/plain": [
       "<Figure size 864x288 with 1 Axes>"
      ]
     },
     "metadata": {
      "needs_background": "light"
     },
     "output_type": "display_data"
    }
   ],
   "source": [
    "plot_line_time_fmt(df, 'CRSDepTime', 'frequency', figsize=(12, 4))"
   ]
  },
  {
   "cell_type": "markdown",
   "metadata": {
    "slideshow": {
     "slide_type": "subslide"
    }
   },
   "source": [
    "### 07. Flight dataset ArrTime column:\n",
    "    range :\t 00:00 AM-11:59 PM  \n",
    "    actual arrival time (local, hh:mm AM/PM)"
   ]
  },
  {
   "cell_type": "code",
   "execution_count": 66,
   "metadata": {},
   "outputs": [
    {
     "data": {
      "text/plain": [
       "count      6851832\n",
       "unique        1439\n",
       "top       10:20 AM\n",
       "freq          8432\n",
       "Name: ArrTime, dtype: object"
      ]
     },
     "execution_count": 66,
     "metadata": {},
     "output_type": "execute_result"
    }
   ],
   "source": [
    "flights.ArrTime.describe()"
   ]
  },
  {
   "cell_type": "code",
   "execution_count": 67,
   "metadata": {},
   "outputs": [
    {
     "data": {
      "text/html": [
       "<div>\n",
       "<style scoped>\n",
       "    .dataframe tbody tr th:only-of-type {\n",
       "        vertical-align: middle;\n",
       "    }\n",
       "\n",
       "    .dataframe tbody tr th {\n",
       "        vertical-align: top;\n",
       "    }\n",
       "\n",
       "    .dataframe thead th {\n",
       "        text-align: right;\n",
       "    }\n",
       "</style>\n",
       "<table border=\"1\" class=\"dataframe\">\n",
       "  <thead>\n",
       "    <tr style=\"text-align: right;\">\n",
       "      <th></th>\n",
       "      <th>ArrTime</th>\n",
       "      <th>frequency</th>\n",
       "    </tr>\n",
       "  </thead>\n",
       "  <tbody>\n",
       "    <tr>\n",
       "      <th>0</th>\n",
       "      <td>0</td>\n",
       "      <td>92664</td>\n",
       "    </tr>\n",
       "    <tr>\n",
       "      <th>1</th>\n",
       "      <td>1</td>\n",
       "      <td>28468</td>\n",
       "    </tr>\n",
       "    <tr>\n",
       "      <th>2</th>\n",
       "      <td>2</td>\n",
       "      <td>9315</td>\n",
       "    </tr>\n",
       "    <tr>\n",
       "      <th>3</th>\n",
       "      <td>3</td>\n",
       "      <td>3666</td>\n",
       "    </tr>\n",
       "    <tr>\n",
       "      <th>4</th>\n",
       "      <td>4</td>\n",
       "      <td>7616</td>\n",
       "    </tr>\n",
       "  </tbody>\n",
       "</table>\n",
       "</div>"
      ],
      "text/plain": [
       "   ArrTime  frequency\n",
       "0        0      92664\n",
       "1        1      28468\n",
       "2        2       9315\n",
       "3        3       3666\n",
       "4        4       7616"
      ]
     },
     "execution_count": 67,
     "metadata": {},
     "output_type": "execute_result"
    }
   ],
   "source": [
    "df = sort_time_fmt(flights, 'ArrTime')\n",
    "df.head()"
   ]
  },
  {
   "cell_type": "code",
   "execution_count": 68,
   "metadata": {},
   "outputs": [
    {
     "data": {
      "text/html": [
       "<div>\n",
       "<style scoped>\n",
       "    .dataframe tbody tr th:only-of-type {\n",
       "        vertical-align: middle;\n",
       "    }\n",
       "\n",
       "    .dataframe tbody tr th {\n",
       "        vertical-align: top;\n",
       "    }\n",
       "\n",
       "    .dataframe thead th {\n",
       "        text-align: right;\n",
       "    }\n",
       "</style>\n",
       "<table border=\"1\" class=\"dataframe\">\n",
       "  <thead>\n",
       "    <tr style=\"text-align: right;\">\n",
       "      <th></th>\n",
       "      <th>ArrTime</th>\n",
       "      <th>frequency</th>\n",
       "    </tr>\n",
       "  </thead>\n",
       "  <tbody>\n",
       "    <tr>\n",
       "      <th>16</th>\n",
       "      <td>16</td>\n",
       "      <td>446890</td>\n",
       "    </tr>\n",
       "  </tbody>\n",
       "</table>\n",
       "</div>"
      ],
      "text/plain": [
       "    ArrTime  frequency\n",
       "16       16     446890"
      ]
     },
     "execution_count": 68,
     "metadata": {},
     "output_type": "execute_result"
    }
   ],
   "source": [
    "df[df.frequency == df.frequency.max()]"
   ]
  },
  {
   "cell_type": "markdown",
   "metadata": {
    "slideshow": {
     "slide_type": "subslide"
    }
   },
   "source": [
    "### line plot indicate the number of actual arrival flights over the day time"
   ]
  },
  {
   "cell_type": "code",
   "execution_count": 69,
   "metadata": {
    "slideshow": {
     "slide_type": "subslide"
    }
   },
   "outputs": [
    {
     "data": {
      "image/png": "[encoded data removed]",
      "text/plain": [
       "<Figure size 864x288 with 1 Axes>"
      ]
     },
     "metadata": {
      "needs_background": "light"
     },
     "output_type": "display_data"
    }
   ],
   "source": [
    "plot_line_time_fmt(df, 'ArrTime', 'frequency', figsize=(12, 4))"
   ]
  },
  {
   "cell_type": "markdown",
   "metadata": {
    "slideshow": {
     "slide_type": "subslide"
    }
   },
   "source": [
    "### 08. Flight dataset CRSArrTime column:\n",
    "    range :\t 00:00 AM-11:59 PM  \n",
    "    scheduled arrival time (local, hh:mm AM/PM)"
   ]
  },
  {
   "cell_type": "code",
   "execution_count": 70,
   "metadata": {
    "slideshow": {
     "slide_type": "subslide"
    }
   },
   "outputs": [
    {
     "data": {
      "text/plain": [
       "count      6851832\n",
       "unique        1373\n",
       "top       04:30 PM\n",
       "freq         23420\n",
       "Name: CRSArrTime, dtype: object"
      ]
     },
     "execution_count": 70,
     "metadata": {},
     "output_type": "execute_result"
    }
   ],
   "source": [
    "flights.CRSArrTime.describe()"
   ]
  },
  {
   "cell_type": "code",
   "execution_count": 71,
   "metadata": {
    "slideshow": {
     "slide_type": "skip"
    }
   },
   "outputs": [
    {
     "data": {
      "text/html": [
       "<div>\n",
       "<style scoped>\n",
       "    .dataframe tbody tr th:only-of-type {\n",
       "        vertical-align: middle;\n",
       "    }\n",
       "\n",
       "    .dataframe tbody tr th {\n",
       "        vertical-align: top;\n",
       "    }\n",
       "\n",
       "    .dataframe thead th {\n",
       "        text-align: right;\n",
       "    }\n",
       "</style>\n",
       "<table border=\"1\" class=\"dataframe\">\n",
       "  <thead>\n",
       "    <tr style=\"text-align: right;\">\n",
       "      <th></th>\n",
       "      <th>CRSArrTime</th>\n",
       "      <th>frequency</th>\n",
       "    </tr>\n",
       "  </thead>\n",
       "  <tbody>\n",
       "    <tr>\n",
       "      <th>0</th>\n",
       "      <td>0</td>\n",
       "      <td>52179</td>\n",
       "    </tr>\n",
       "    <tr>\n",
       "      <th>1</th>\n",
       "      <td>1</td>\n",
       "      <td>6624</td>\n",
       "    </tr>\n",
       "    <tr>\n",
       "      <th>2</th>\n",
       "      <td>2</td>\n",
       "      <td>1725</td>\n",
       "    </tr>\n",
       "    <tr>\n",
       "      <th>3</th>\n",
       "      <td>3</td>\n",
       "      <td>1431</td>\n",
       "    </tr>\n",
       "    <tr>\n",
       "      <th>4</th>\n",
       "      <td>4</td>\n",
       "      <td>3188</td>\n",
       "    </tr>\n",
       "  </tbody>\n",
       "</table>\n",
       "</div>"
      ],
      "text/plain": [
       "   CRSArrTime  frequency\n",
       "0           0      52179\n",
       "1           1       6624\n",
       "2           2       1725\n",
       "3           3       1431\n",
       "4           4       3188"
      ]
     },
     "execution_count": 71,
     "metadata": {},
     "output_type": "execute_result"
    }
   ],
   "source": [
    "df = sort_time_fmt(flights, 'CRSArrTime')\n",
    "df.head()"
   ]
  },
  {
   "cell_type": "code",
   "execution_count": 72,
   "metadata": {},
   "outputs": [
    {
     "data": {
      "text/html": [
       "<div>\n",
       "<style scoped>\n",
       "    .dataframe tbody tr th:only-of-type {\n",
       "        vertical-align: middle;\n",
       "    }\n",
       "\n",
       "    .dataframe tbody tr th {\n",
       "        vertical-align: top;\n",
       "    }\n",
       "\n",
       "    .dataframe thead th {\n",
       "        text-align: right;\n",
       "    }\n",
       "</style>\n",
       "<table border=\"1\" class=\"dataframe\">\n",
       "  <thead>\n",
       "    <tr style=\"text-align: right;\">\n",
       "      <th></th>\n",
       "      <th>CRSArrTime</th>\n",
       "      <th>frequency</th>\n",
       "    </tr>\n",
       "  </thead>\n",
       "  <tbody>\n",
       "    <tr>\n",
       "      <th>16</th>\n",
       "      <td>16</td>\n",
       "      <td>470046</td>\n",
       "    </tr>\n",
       "  </tbody>\n",
       "</table>\n",
       "</div>"
      ],
      "text/plain": [
       "    CRSArrTime  frequency\n",
       "16          16     470046"
      ]
     },
     "execution_count": 72,
     "metadata": {},
     "output_type": "execute_result"
    }
   ],
   "source": [
    "df[df.frequency == df.frequency.max()]"
   ]
  },
  {
   "cell_type": "markdown",
   "metadata": {
    "slideshow": {
     "slide_type": "subslide"
    }
   },
   "source": [
    "### line plot indicate the number of scheduled arrival flights over the day time"
   ]
  },
  {
   "cell_type": "code",
   "execution_count": 73,
   "metadata": {
    "slideshow": {
     "slide_type": "subslide"
    }
   },
   "outputs": [
    {
     "data": {
      "image/png": "[encoded data removed]",
      "text/plain": [
       "<Figure size 864x288 with 1 Axes>"
      ]
     },
     "metadata": {
      "needs_background": "light"
     },
     "output_type": "display_data"
    }
   ],
   "source": [
    "plot_line_time_fmt(df, 'CRSArrTime', 'frequency', figsize=(12, 4))"
   ]
  },
  {
   "cell_type": "markdown",
   "metadata": {
    "slideshow": {
     "slide_type": "subslide"
    }
   },
   "source": [
    "### 09. Flight dataset UniqueCarrier column:\n",
    "    range :\t 1 - 20 string\n",
    "    unique carrier code "
   ]
  },
  {
   "cell_type": "code",
   "execution_count": 74,
   "metadata": {
    "slideshow": {
     "slide_type": "skip"
    }
   },
   "outputs": [
    {
     "data": {
      "text/plain": [
       "count     6851832\n",
       "unique         20\n",
       "top            WN\n",
       "freq      1186466\n",
       "Name: UniqueCarrier, dtype: object"
      ]
     },
     "execution_count": 74,
     "metadata": {},
     "output_type": "execute_result"
    }
   ],
   "source": [
    "flights.UniqueCarrier.describe()"
   ]
  },
  {
   "cell_type": "markdown",
   "metadata": {
    "slideshow": {
     "slide_type": "subslide"
    }
   },
   "source": [
    "#### Bar plot indicate the number of flights per carrier"
   ]
  },
  {
   "cell_type": "code",
   "execution_count": 75,
   "metadata": {
    "slideshow": {
     "slide_type": "subslide"
    }
   },
   "outputs": [
    {
     "data": {
      "image/png": "[encoded data removed]",
      "text/plain": [
       "<Figure size 720x288 with 1 Axes>"
      ]
     },
     "metadata": {
      "needs_background": "light"
     },
     "output_type": "display_data"
    }
   ],
   "source": [
    "plot_bar_str(flights, 'UniqueCarrier', 200, base_color, (10, 4), rotation =0)"
   ]
  },
  {
   "cell_type": "markdown",
   "metadata": {
    "slideshow": {
     "slide_type": "subslide"
    }
   },
   "source": [
    "apperantly WN carrier have the most share of flights about 1,186,911 flight."
   ]
  },
  {
   "cell_type": "code",
   "execution_count": 76,
   "metadata": {
    "scrolled": true,
    "slideshow": {
     "slide_type": "subslide"
    }
   },
   "outputs": [
    {
     "data": {
      "image/png": "[encoded data removed]",
      "text/plain": [
       "<Figure size 720x288 with 1 Axes>"
      ]
     },
     "metadata": {
      "needs_background": "light"
     },
     "output_type": "display_data"
    }
   ],
   "source": [
    "plot_bar_str(flights, 'UniqueCarrier', 200, base_color, (10, 4), rotation =0, log=True)"
   ]
  },
  {
   "cell_type": "markdown",
   "metadata": {
    "slideshow": {
     "slide_type": "subslide"
    }
   },
   "source": [
    "### 10. Flight dataset FlightNum column:\n",
    "    range :\tstring\n",
    "    flight number "
   ]
  },
  {
   "cell_type": "code",
   "execution_count": 77,
   "metadata": {
    "slideshow": {
     "slide_type": "subslide"
    }
   },
   "outputs": [
    {
     "data": {
      "text/plain": [
       "count     6851832\n",
       "unique       7532\n",
       "top           152\n",
       "freq         4757\n",
       "Name: FlightNum, dtype: object"
      ]
     },
     "execution_count": 77,
     "metadata": {},
     "output_type": "execute_result"
    }
   ],
   "source": [
    "flights.FlightNum.describe()"
   ]
  },
  {
   "cell_type": "markdown",
   "metadata": {
    "slideshow": {
     "slide_type": "subslide"
    }
   },
   "source": [
    "### 11. Flight dataset TailNum column:\n",
    "    range :\tstring\n",
    "    plane tail number :\n",
    "    aircraft registration, unique aircraft identifier"
   ]
  },
  {
   "cell_type": "code",
   "execution_count": 78,
   "metadata": {
    "slideshow": {
     "slide_type": "subslide"
    }
   },
   "outputs": [
    {
     "data": {
      "text/plain": [
       "count     6851832\n",
       "unique       5366\n",
       "top        N476HA\n",
       "freq         4701\n",
       "Name: TailNum, dtype: object"
      ]
     },
     "execution_count": 78,
     "metadata": {},
     "output_type": "execute_result"
    }
   ],
   "source": [
    "flights.TailNum.describe()"
   ]
  },
  {
   "cell_type": "markdown",
   "metadata": {
    "slideshow": {
     "slide_type": "skip"
    }
   },
   "source": [
    "# keep the orignal then remove outliers"
   ]
  },
  {
   "cell_type": "code",
   "execution_count": 79,
   "metadata": {
    "slideshow": {
     "slide_type": "skip"
    }
   },
   "outputs": [],
   "source": [
    "flights_orignal = flights.copy()"
   ]
  },
  {
   "cell_type": "code",
   "execution_count": 80,
   "metadata": {
    "slideshow": {
     "slide_type": "skip"
    }
   },
   "outputs": [],
   "source": [
    "#flights = flights_orignal"
   ]
  },
  {
   "cell_type": "markdown",
   "metadata": {
    "slideshow": {
     "slide_type": "skip"
    }
   },
   "source": [
    "outliers = (((df.DepDelay - df.DepDelay.mean()).abs() > df.DepDelay.std()*3) | \n",
    "            ((df.ArrDelay - df.ArrDelay.mean()).abs() > df.ArrDelay.std()*3))"
   ]
  },
  {
   "cell_type": "code",
   "execution_count": 81,
   "metadata": {
    "slideshow": {
     "slide_type": "skip"
    }
   },
   "outputs": [],
   "source": [
    "def outlier(df, col):\n",
    "    df_non_outlier = df[(df[col] >= (2.5*df[col].quantile(.25)-1.5*df[col].quantile(.75))) & (df[col] <= (2.5*df[col].quantile(.75)-1.5*df[col].quantile(.25)))]\n",
    "    return df_non_outlier"
   ]
  },
  {
   "cell_type": "markdown",
   "metadata": {
    "slideshow": {
     "slide_type": "subslide"
    }
   },
   "source": [
    "### 12. Flight dataset ActualElapsedTime column:\n",
    "    range :\tin minutes\n",
    "    ActualElapsedTime "
   ]
  },
  {
   "cell_type": "code",
   "execution_count": 82,
   "metadata": {
    "slideshow": {
     "slide_type": "subslide"
    }
   },
   "outputs": [
    {
     "data": {
      "text/plain": [
       "count    6851832.00\n",
       "mean         127.31\n",
       "std           70.18\n",
       "min           12.00\n",
       "25%           77.00\n",
       "50%          110.00\n",
       "75%          157.00\n",
       "max         1379.00\n",
       "Name: ActualElapsedTime, dtype: float64"
      ]
     },
     "execution_count": 82,
     "metadata": {},
     "output_type": "execute_result"
    }
   ],
   "source": [
    "flights.ActualElapsedTime.describe().round(2)"
   ]
  },
  {
   "cell_type": "code",
   "execution_count": 83,
   "metadata": {
    "slideshow": {
     "slide_type": "skip"
    }
   },
   "outputs": [],
   "source": [
    "# remove outliers \n",
    "flights = outlier(flights, 'ActualElapsedTime')"
   ]
  },
  {
   "cell_type": "code",
   "execution_count": 84,
   "metadata": {
    "slideshow": {
     "slide_type": "skip"
    }
   },
   "outputs": [
    {
     "data": {
      "text/plain": [
       "count    6518921.00\n",
       "mean         116.92\n",
       "std           53.35\n",
       "min           12.00\n",
       "25%           75.00\n",
       "50%          106.00\n",
       "75%          149.00\n",
       "max          277.00\n",
       "Name: ActualElapsedTime, dtype: float64"
      ]
     },
     "execution_count": 84,
     "metadata": {},
     "output_type": "execute_result"
    }
   ],
   "source": [
    "flights.ActualElapsedTime.describe().round(2)"
   ]
  },
  {
   "cell_type": "code",
   "execution_count": 85,
   "metadata": {
    "slideshow": {
     "slide_type": "skip"
    }
   },
   "outputs": [],
   "source": [
    "flights['ActualElapsedTimePmile'] = flights['ActualElapsedTime'].astype(float)/ flights['Distance'].astype(float)"
   ]
  },
  {
   "cell_type": "code",
   "execution_count": 86,
   "metadata": {
    "slideshow": {
     "slide_type": "skip"
    }
   },
   "outputs": [
    {
     "data": {
      "text/plain": [
       "count    6518921.000\n",
       "mean           0.219\n",
       "std            0.092\n",
       "min            0.023\n",
       "25%            0.163\n",
       "50%            0.192\n",
       "75%            0.242\n",
       "max            5.455\n",
       "Name: ActualElapsedTimePmile, dtype: float64"
      ]
     },
     "execution_count": 86,
     "metadata": {},
     "output_type": "execute_result"
    }
   ],
   "source": [
    "flights.ActualElapsedTimePmile.describe().round(3)"
   ]
  },
  {
   "cell_type": "code",
   "execution_count": 87,
   "metadata": {
    "slideshow": {
     "slide_type": "skip"
    }
   },
   "outputs": [
    {
     "data": {
      "image/png": "[encoded data removed]",
      "text/plain": [
       "<Figure size 432x288 with 1 Axes>"
      ]
     },
     "metadata": {
      "needs_background": "light"
     },
     "output_type": "display_data"
    }
   ],
   "source": [
    "bins = np.arange(0,flights['ActualElapsedTimePmile'].max()+0.1,0.1)\n",
    "plt.hist(data = flights, x= 'ActualElapsedTimePmile', bins=bins);\n",
    "plt.xlim(right=1);  # adjust the right leaving left unchanged\n",
    "plt.xlim(left=0);  # adjust the left leaving right unchanged"
   ]
  },
  {
   "cell_type": "code",
   "execution_count": 88,
   "metadata": {
    "slideshow": {
     "slide_type": "skip"
    }
   },
   "outputs": [
    {
     "data": {
      "image/png": "[encoded data removed]",
      "text/plain": [
       "<Figure size 432x288 with 1 Axes>"
      ]
     },
     "metadata": {
      "needs_background": "light"
     },
     "output_type": "display_data"
    }
   ],
   "source": [
    "bins = np.arange(0,flights['ActualElapsedTimePmile'].max()+0.1,0.1)\n",
    "plt.hist(data = flights, x= 'ActualElapsedTimePmile', bins=bins);\n",
    "plt.xlim(right=4);  # adjust the right leaving left unchanged\n",
    "plt.xlim(left=-0.5);  # adjust the left leaving right unchanged\n",
    "plt.yscale('log')"
   ]
  },
  {
   "cell_type": "markdown",
   "metadata": {
    "slideshow": {
     "slide_type": "subslide"
    }
   },
   "source": [
    "#### histogram indicate the density of Actual ElapsedTime for flights per distance"
   ]
  },
  {
   "cell_type": "code",
   "execution_count": 89,
   "metadata": {
    "slideshow": {
     "slide_type": "subslide"
    }
   },
   "outputs": [
    {
     "data": {
      "image/png": "[encoded data removed]",
      "text/plain": [
       "<Figure size 432x288 with 1 Axes>"
      ]
     },
     "metadata": {
      "needs_background": "light"
     },
     "output_type": "display_data"
    }
   ],
   "source": [
    "plot_hist(flights['ActualElapsedTimePmile'], 1, scale=1, x_right=1, x_left=0)"
   ]
  },
  {
   "cell_type": "code",
   "execution_count": 90,
   "metadata": {},
   "outputs": [
    {
     "data": {
      "image/png": "[encoded data removed]",
      "text/plain": [
       "<Figure size 432x288 with 1 Axes>"
      ]
     },
     "metadata": {
      "needs_background": "light"
     },
     "output_type": "display_data"
    }
   ],
   "source": [
    "sns.boxplot(x=flights['ActualElapsedTimePmile']);\n",
    "plt.xlim(right=0.4);  # adjust the right leaving left unchanged\n",
    "plt.xlim(left=0);  # adjust the left leaving right unchanged"
   ]
  },
  {
   "cell_type": "code",
   "execution_count": 91,
   "metadata": {
    "slideshow": {
     "slide_type": "skip"
    }
   },
   "outputs": [
    {
     "data": {
      "image/png": "[encoded data removed]",
      "text/plain": [
       "<Figure size 432x288 with 1 Axes>"
      ]
     },
     "metadata": {
      "needs_background": "light"
     },
     "output_type": "display_data"
    }
   ],
   "source": [
    "flights.boxplot(column=['ActualElapsedTimePmile']);\n",
    "plt.ylim(top=0.4);  # adjust the top leaving bottom unchanged\n",
    "plt.ylim(bottom=0); # adjust the bottom leaving top unchanged"
   ]
  },
  {
   "cell_type": "markdown",
   "metadata": {
    "slideshow": {
     "slide_type": "subslide"
    }
   },
   "source": [
    "### 13. Flight dataset CRSElapsedTime column:\n",
    "    range :\tin minutes\n",
    "    CRSElapsedTime"
   ]
  },
  {
   "cell_type": "code",
   "execution_count": 92,
   "metadata": {
    "slideshow": {
     "slide_type": "skip"
    }
   },
   "outputs": [
    {
     "data": {
      "text/plain": [
       "count    6518921.0\n",
       "mean         118.9\n",
       "std           53.1\n",
       "min         -141.0\n",
       "25%           78.0\n",
       "50%          108.0\n",
       "75%          150.0\n",
       "max          362.0\n",
       "Name: CRSElapsedTime, dtype: float64"
      ]
     },
     "execution_count": 92,
     "metadata": {},
     "output_type": "execute_result"
    }
   ],
   "source": [
    "flights.CRSElapsedTime.describe().round(1)"
   ]
  },
  {
   "cell_type": "code",
   "execution_count": null,
   "metadata": {
    "scrolled": false,
    "slideshow": {
     "slide_type": "skip"
    }
   },
   "outputs": [],
   "source": [
    "flights[flights['CRSElapsedTime'] <0]"
   ]
  },
  {
   "cell_type": "markdown",
   "metadata": {
    "slideshow": {
     "slide_type": "skip"
    }
   },
   "source": [
    "#### remove incorrect data"
   ]
  },
  {
   "cell_type": "code",
   "execution_count": 93,
   "metadata": {
    "slideshow": {
     "slide_type": "skip"
    }
   },
   "outputs": [],
   "source": [
    "flights = flights[~(flights['CRSElapsedTime'] <0)]"
   ]
  },
  {
   "cell_type": "code",
   "execution_count": 94,
   "metadata": {
    "slideshow": {
     "slide_type": "skip"
    }
   },
   "outputs": [
    {
     "data": {
      "text/plain": [
       "count    6518911.0\n",
       "mean         118.9\n",
       "std           53.1\n",
       "min            1.0\n",
       "25%           78.0\n",
       "50%          108.0\n",
       "75%          150.0\n",
       "max          362.0\n",
       "Name: CRSElapsedTime, dtype: float64"
      ]
     },
     "execution_count": 94,
     "metadata": {},
     "output_type": "execute_result"
    }
   ],
   "source": [
    "flights.CRSElapsedTime.describe().round(1)"
   ]
  },
  {
   "cell_type": "code",
   "execution_count": 95,
   "metadata": {
    "slideshow": {
     "slide_type": "skip"
    }
   },
   "outputs": [],
   "source": [
    "# remove outliers \n",
    "flights = outlier(flights, 'CRSElapsedTime')"
   ]
  },
  {
   "cell_type": "code",
   "execution_count": 96,
   "metadata": {
    "slideshow": {
     "slide_type": "skip"
    }
   },
   "outputs": [
    {
     "data": {
      "text/plain": [
       "count    6402282.0\n",
       "mean         116.1\n",
       "std           49.3\n",
       "min            1.0\n",
       "25%           77.0\n",
       "50%          106.0\n",
       "75%          148.0\n",
       "max          258.0\n",
       "Name: CRSElapsedTime, dtype: float64"
      ]
     },
     "execution_count": 96,
     "metadata": {},
     "output_type": "execute_result"
    }
   ],
   "source": [
    "flights.CRSElapsedTime.describe().round(1)"
   ]
  },
  {
   "cell_type": "code",
   "execution_count": 97,
   "metadata": {
    "slideshow": {
     "slide_type": "skip"
    }
   },
   "outputs": [],
   "source": [
    "flights['CRSElapsedTimePmile'] = flights['CRSElapsedTime'].astype(float)/ flights['Distance'].astype(float)"
   ]
  },
  {
   "cell_type": "code",
   "execution_count": 98,
   "metadata": {
    "scrolled": true,
    "slideshow": {
     "slide_type": "skip"
    }
   },
   "outputs": [
    {
     "data": {
      "text/plain": [
       "count    6402282.000\n",
       "mean           0.220\n",
       "std            0.092\n",
       "min            0.023\n",
       "25%            0.164\n",
       "50%            0.193\n",
       "75%            0.243\n",
       "max            5.455\n",
       "Name: ActualElapsedTimePmile, dtype: float64"
      ]
     },
     "execution_count": 98,
     "metadata": {},
     "output_type": "execute_result"
    }
   ],
   "source": [
    "flights.ActualElapsedTimePmile.describe().round(3)"
   ]
  },
  {
   "cell_type": "code",
   "execution_count": 99,
   "metadata": {
    "slideshow": {
     "slide_type": "skip"
    }
   },
   "outputs": [
    {
     "data": {
      "image/png": "[encoded data removed]",
      "text/plain": [
       "<Figure size 432x288 with 1 Axes>"
      ]
     },
     "metadata": {
      "needs_background": "light"
     },
     "output_type": "display_data"
    }
   ],
   "source": [
    "bins = np.arange(0,flights['CRSElapsedTimePmile'].max()+0.1,0.1)\n",
    "plt.hist(data = flights, x= 'CRSElapsedTimePmile', bins=bins);\n",
    "plt.xlim(right=1);  # adjust the right leaving left unchanged\n",
    "plt.xlim(left=0);  # adjust the left leaving right unchanged"
   ]
  },
  {
   "cell_type": "markdown",
   "metadata": {
    "slideshow": {
     "slide_type": "subslide"
    }
   },
   "source": [
    "#### histogram indicate the density of scheduled ElapsedTime for flights per distance"
   ]
  },
  {
   "cell_type": "code",
   "execution_count": 100,
   "metadata": {
    "slideshow": {
     "slide_type": "subslide"
    }
   },
   "outputs": [
    {
     "data": {
      "image/png": "[encoded data removed]",
      "text/plain": [
       "<Figure size 432x288 with 1 Axes>"
      ]
     },
     "metadata": {
      "needs_background": "light"
     },
     "output_type": "display_data"
    }
   ],
   "source": [
    "plot_hist(flights['CRSElapsedTimePmile'], 1, scale=1, x_right=1, x_left=0)"
   ]
  },
  {
   "cell_type": "code",
   "execution_count": 101,
   "metadata": {
    "slideshow": {
     "slide_type": "skip"
    }
   },
   "outputs": [
    {
     "data": {
      "image/png": "[encoded data removed]",
      "text/plain": [
       "<Figure size 432x288 with 1 Axes>"
      ]
     },
     "metadata": {
      "needs_background": "light"
     },
     "output_type": "display_data"
    }
   ],
   "source": [
    "sns.distplot(flights['CRSElapsedTimePmile']);\n",
    "plt.xlim(right=1);  # adjust the right leaving left unchanged\n",
    "plt.xlim(left=0);  # adjust the left leaving right unchanged"
   ]
  },
  {
   "cell_type": "code",
   "execution_count": 102,
   "metadata": {
    "scrolled": true,
    "slideshow": {
     "slide_type": "skip"
    }
   },
   "outputs": [
    {
     "data": {
      "image/png": "[encoded data removed]",
      "text/plain": [
       "<Figure size 432x288 with 1 Axes>"
      ]
     },
     "metadata": {
      "needs_background": "light"
     },
     "output_type": "display_data"
    }
   ],
   "source": [
    "sns.boxplot(x=flights['CRSElapsedTimePmile']);\n",
    "plt.xlim(right=0.5);  # adjust the right leaving left unchanged\n",
    "plt.xlim(left=0);  # adjust the left leaving right unchanged"
   ]
  },
  {
   "cell_type": "code",
   "execution_count": 103,
   "metadata": {
    "scrolled": true,
    "slideshow": {
     "slide_type": "skip"
    }
   },
   "outputs": [
    {
     "data": {
      "image/png": "[encoded data removed]",
      "text/plain": [
       "<Figure size 432x288 with 1 Axes>"
      ]
     },
     "metadata": {
      "needs_background": "light"
     },
     "output_type": "display_data"
    }
   ],
   "source": [
    "flights.boxplot(column=['CRSElapsedTimePmile']);\n",
    "plt.ylim(top=0.5);  # adjust the top leaving bottom unchanged\n",
    "plt.ylim(bottom=0); # adjust the bottom leaving top unchanged"
   ]
  },
  {
   "cell_type": "markdown",
   "metadata": {
    "slideshow": {
     "slide_type": "subslide"
    }
   },
   "source": [
    "### 14. Flight dataset AirTime column:\n",
    "    range :\tin minutes"
   ]
  },
  {
   "cell_type": "code",
   "execution_count": 104,
   "metadata": {
    "slideshow": {
     "slide_type": "skip"
    }
   },
   "outputs": [
    {
     "data": {
      "text/plain": [
       "count    6402282.0\n",
       "mean          91.4\n",
       "std           47.7\n",
       "min            0.0\n",
       "25%           54.0\n",
       "50%           81.0\n",
       "75%          121.0\n",
       "max          265.0\n",
       "Name: AirTime, dtype: float64"
      ]
     },
     "execution_count": 104,
     "metadata": {},
     "output_type": "execute_result"
    }
   ],
   "source": [
    "flights.AirTime.describe().round(1)"
   ]
  },
  {
   "cell_type": "code",
   "execution_count": 105,
   "metadata": {
    "slideshow": {
     "slide_type": "skip"
    }
   },
   "outputs": [],
   "source": [
    "# remove outliers \n",
    "flights = outlier(flights, 'AirTime')"
   ]
  },
  {
   "cell_type": "code",
   "execution_count": 106,
   "metadata": {
    "slideshow": {
     "slide_type": "skip"
    }
   },
   "outputs": [
    {
     "data": {
      "text/plain": [
       "count    6341146.0\n",
       "mean          90.1\n",
       "std           45.9\n",
       "min            0.0\n",
       "25%           54.0\n",
       "50%           81.0\n",
       "75%          120.0\n",
       "max          221.0\n",
       "Name: AirTime, dtype: float64"
      ]
     },
     "execution_count": 106,
     "metadata": {},
     "output_type": "execute_result"
    }
   ],
   "source": [
    "flights.AirTime.describe().round(1)"
   ]
  },
  {
   "cell_type": "code",
   "execution_count": 107,
   "metadata": {
    "slideshow": {
     "slide_type": "skip"
    }
   },
   "outputs": [],
   "source": [
    "flights['AirTimePmile'] = flights['AirTime'].astype(float)/ flights['Distance'].astype(float)"
   ]
  },
  {
   "cell_type": "code",
   "execution_count": 108,
   "metadata": {
    "scrolled": true,
    "slideshow": {
     "slide_type": "skip"
    }
   },
   "outputs": [
    {
     "data": {
      "text/plain": [
       "count    6341146.000\n",
       "mean           0.163\n",
       "std            0.040\n",
       "min            0.000\n",
       "25%            0.138\n",
       "50%            0.153\n",
       "75%            0.175\n",
       "max            2.818\n",
       "Name: AirTimePmile, dtype: float64"
      ]
     },
     "execution_count": 108,
     "metadata": {},
     "output_type": "execute_result"
    }
   ],
   "source": [
    "flights.AirTimePmile.describe().round(3)"
   ]
  },
  {
   "cell_type": "code",
   "execution_count": 109,
   "metadata": {
    "slideshow": {
     "slide_type": "skip"
    }
   },
   "outputs": [
    {
     "data": {
      "image/png": "[encoded data removed]",
      "text/plain": [
       "<Figure size 432x288 with 1 Axes>"
      ]
     },
     "metadata": {
      "needs_background": "light"
     },
     "output_type": "display_data"
    }
   ],
   "source": [
    "bins = np.arange(0,flights['AirTimePmile'].max()+0.1,0.1)\n",
    "plt.hist(data = flights, x= 'AirTimePmile', bins=bins);\n",
    "plt.xlim(right=1);  # adjust the right leaving left unchanged\n",
    "plt.xlim(left=0);  # adjust the left leaving right unchanged"
   ]
  },
  {
   "cell_type": "markdown",
   "metadata": {
    "slideshow": {
     "slide_type": "subslide"
    }
   },
   "source": [
    "#### histogram indicate the density of arive Time for flights per distance"
   ]
  },
  {
   "cell_type": "code",
   "execution_count": 110,
   "metadata": {
    "slideshow": {
     "slide_type": "subslide"
    }
   },
   "outputs": [
    {
     "data": {
      "image/png": "[encoded data removed]",
      "text/plain": [
       "<Figure size 432x288 with 1 Axes>"
      ]
     },
     "metadata": {
      "needs_background": "light"
     },
     "output_type": "display_data"
    }
   ],
   "source": [
    "plot_hist(flights['AirTimePmile'], 1, scale=1, x_right=1, x_left=0)"
   ]
  },
  {
   "cell_type": "code",
   "execution_count": 111,
   "metadata": {
    "slideshow": {
     "slide_type": "skip"
    }
   },
   "outputs": [
    {
     "data": {
      "text/plain": [
       "(0.0, 1.0)"
      ]
     },
     "execution_count": 111,
     "metadata": {},
     "output_type": "execute_result"
    },
    {
     "data": {
      "image/png": "[encoded data removed]",
      "text/plain": [
       "<Figure size 432x288 with 1 Axes>"
      ]
     },
     "metadata": {
      "needs_background": "light"
     },
     "output_type": "display_data"
    }
   ],
   "source": [
    "sns.distplot(flights['AirTimePmile']);\n",
    "plt.xlim(right=1);  # adjust the right leaving left unchanged\n",
    "plt.xlim(left=0)  # adjust the left leaving right unchanged"
   ]
  },
  {
   "cell_type": "code",
   "execution_count": 112,
   "metadata": {
    "scrolled": true,
    "slideshow": {
     "slide_type": "skip"
    }
   },
   "outputs": [
    {
     "data": {
      "image/png": "[encoded data removed]",
      "text/plain": [
       "<Figure size 432x288 with 1 Axes>"
      ]
     },
     "metadata": {
      "needs_background": "light"
     },
     "output_type": "display_data"
    }
   ],
   "source": [
    "sns.boxplot(x=flights['AirTimePmile']);\n",
    "plt.xlim(right=0.35);  # adjust the right leaving left unchanged\n",
    "plt.xlim(left=0);  # adjust the left leaving right unchanged"
   ]
  },
  {
   "cell_type": "code",
   "execution_count": 113,
   "metadata": {
    "scrolled": true,
    "slideshow": {
     "slide_type": "skip"
    }
   },
   "outputs": [
    {
     "data": {
      "image/png": "[encoded data removed]",
      "text/plain": [
       "<Figure size 432x288 with 1 Axes>"
      ]
     },
     "metadata": {
      "needs_background": "light"
     },
     "output_type": "display_data"
    }
   ],
   "source": [
    "flights.boxplot(column=['AirTimePmile']);\n",
    "plt.ylim(top=0.35);  # adjust the top leaving bottom unchanged\n",
    "plt.ylim(bottom=0); # adjust the bottom leaving top unchanged"
   ]
  },
  {
   "cell_type": "markdown",
   "metadata": {
    "slideshow": {
     "slide_type": "subslide"
    }
   },
   "source": [
    "### 15. Flight dataset ArrDelay column:\n",
    "    range :\tin minutes\n",
    "    arrival delay:\n",
    "    A flight is counted as \"on time\" if it operated less than 15 minutes later the scheduled time shown in the carriers' Computerized Reservations Systems (CRS)."
   ]
  },
  {
   "cell_type": "code",
   "execution_count": 114,
   "metadata": {
    "slideshow": {
     "slide_type": "skip"
    }
   },
   "outputs": [
    {
     "data": {
      "text/plain": [
       "count    6341146.0\n",
       "mean           7.9\n",
       "std           37.8\n",
       "min         -129.0\n",
       "25%          -10.0\n",
       "50%           -2.0\n",
       "75%           11.0\n",
       "max         2453.0\n",
       "Name: ArrDelay, dtype: float64"
      ]
     },
     "execution_count": 114,
     "metadata": {},
     "output_type": "execute_result"
    }
   ],
   "source": [
    "flights.ArrDelay.describe().round(1)"
   ]
  },
  {
   "cell_type": "code",
   "execution_count": 115,
   "metadata": {
    "slideshow": {
     "slide_type": "skip"
    }
   },
   "outputs": [
    {
     "data": {
      "text/plain": [
       "(4965244, 29)"
      ]
     },
     "execution_count": 115,
     "metadata": {},
     "output_type": "execute_result"
    }
   ],
   "source": [
    "flights[flights['ArrDelay'] <15].shape"
   ]
  },
  {
   "cell_type": "code",
   "execution_count": 116,
   "metadata": {
    "slideshow": {
     "slide_type": "skip"
    }
   },
   "outputs": [],
   "source": [
    "# remove outliers \n",
    "flights = outlier(flights, 'ArrDelay')"
   ]
  },
  {
   "cell_type": "code",
   "execution_count": 117,
   "metadata": {
    "slideshow": {
     "slide_type": "skip"
    }
   },
   "outputs": [
    {
     "data": {
      "text/plain": [
       "count    5731953.0\n",
       "mean          -1.4\n",
       "std           14.2\n",
       "min          -41.0\n",
       "25%          -11.0\n",
       "50%           -4.0\n",
       "75%            6.0\n",
       "max           42.0\n",
       "Name: ArrDelay, dtype: float64"
      ]
     },
     "execution_count": 117,
     "metadata": {},
     "output_type": "execute_result"
    }
   ],
   "source": [
    "flights.ArrDelay.describe().round(1)"
   ]
  },
  {
   "cell_type": "code",
   "execution_count": 118,
   "metadata": {
    "slideshow": {
     "slide_type": "skip"
    }
   },
   "outputs": [
    {
     "data": {
      "image/png": "[encoded data removed]",
      "text/plain": [
       "<Figure size 432x288 with 1 Axes>"
      ]
     },
     "metadata": {
      "needs_background": "light"
     },
     "output_type": "display_data"
    }
   ],
   "source": [
    "plt.hist(data = flights, x= 'ArrDelay');\n",
    "#plt.xlim(right=500);  # adjust the right leaving left unchanged\n",
    "plt.xlim(left=-60);  # adjust the left leaving right unchanged"
   ]
  },
  {
   "cell_type": "code",
   "execution_count": 119,
   "metadata": {},
   "outputs": [
    {
     "data": {
      "image/png": "[encoded data removed]",
      "text/plain": [
       "<Figure size 432x288 with 1 Axes>"
      ]
     },
     "metadata": {
      "needs_background": "light"
     },
     "output_type": "display_data"
    }
   ],
   "source": [
    "plt.hist(data = flights, x= 'ArrDelay');\n",
    "#plt.xlim(right=500);  # adjust the right leaving left unchanged\n",
    "plt.xlim(left=-60);  # adjust the left leaving right unchanged\n",
    "plt.yscale('log')"
   ]
  },
  {
   "cell_type": "code",
   "execution_count": 120,
   "metadata": {},
   "outputs": [
    {
     "data": {
      "image/png": "[encoded data removed]",
      "text/plain": [
       "<Figure size 432x288 with 1 Axes>"
      ]
     },
     "metadata": {
      "needs_background": "light"
     },
     "output_type": "display_data"
    }
   ],
   "source": [
    "plot_hist(flights['AirTimePmile'], .1)"
   ]
  },
  {
   "cell_type": "markdown",
   "metadata": {
    "slideshow": {
     "slide_type": "subslide"
    }
   },
   "source": [
    "#### histogram indicate the density of arive delayTime for flights per distance"
   ]
  },
  {
   "cell_type": "code",
   "execution_count": 121,
   "metadata": {
    "slideshow": {
     "slide_type": "subslide"
    }
   },
   "outputs": [
    {
     "data": {
      "image/png": "[encoded data removed]",
      "text/plain": [
       "<Figure size 432x288 with 1 Axes>"
      ]
     },
     "metadata": {
      "needs_background": "light"
     },
     "output_type": "display_data"
    }
   ],
   "source": [
    "sns.distplot(flights['ArrDelay']);\n",
    "#plt.xlim(right=12);  # adjust the right leaving left unchanged\n",
    "#plt.xlim(left=-700);  # adjust the left leaving right unchanged\n",
    "#plt.yscale('log')"
   ]
  },
  {
   "cell_type": "code",
   "execution_count": 122,
   "metadata": {
    "scrolled": true
   },
   "outputs": [
    {
     "data": {
      "image/png": "[encoded data removed]",
      "text/plain": [
       "<Figure size 432x288 with 1 Axes>"
      ]
     },
     "metadata": {
      "needs_background": "light"
     },
     "output_type": "display_data"
    }
   ],
   "source": [
    "sns.boxplot(x=flights['ArrDelay']);\n",
    "plt.xlim(right=50);  # adjust the right leaving left unchanged\n",
    "plt.xlim(left=-50);  # adjust the left leaving right unchanged"
   ]
  },
  {
   "cell_type": "code",
   "execution_count": 123,
   "metadata": {
    "scrolled": true
   },
   "outputs": [
    {
     "data": {
      "image/png": "[encoded data removed]",
      "text/plain": [
       "<Figure size 432x288 with 1 Axes>"
      ]
     },
     "metadata": {
      "needs_background": "light"
     },
     "output_type": "display_data"
    }
   ],
   "source": [
    "flights.boxplot(column=['ArrDelay']);\n",
    "plt.ylim(top=50);  # adjust the top leaving bottom unchanged\n",
    "plt.ylim(bottom=-50); # adjust the bottom leaving top unchanged"
   ]
  },
  {
   "cell_type": "markdown",
   "metadata": {
    "slideshow": {
     "slide_type": "subslide"
    }
   },
   "source": [
    "### 16. Flight dataset DepDelay column:\n",
    "    range :\tin minutes\n",
    "    departure delay:"
   ]
  },
  {
   "cell_type": "code",
   "execution_count": 124,
   "metadata": {
    "slideshow": {
     "slide_type": "subslide"
    }
   },
   "outputs": [
    {
     "data": {
      "text/plain": [
       "count    5731953.0\n",
       "mean           1.5\n",
       "std           11.1\n",
       "min          -92.0\n",
       "25%           -5.0\n",
       "50%           -2.0\n",
       "75%            3.0\n",
       "max          100.0\n",
       "Name: DepDelay, dtype: float64"
      ]
     },
     "execution_count": 124,
     "metadata": {},
     "output_type": "execute_result"
    }
   ],
   "source": [
    "flights.DepDelay.describe().round(1)"
   ]
  },
  {
   "cell_type": "code",
   "execution_count": 125,
   "metadata": {
    "scrolled": true
   },
   "outputs": [
    {
     "data": {
      "text/plain": [
       "(3375432, 29)"
      ]
     },
     "execution_count": 125,
     "metadata": {},
     "output_type": "execute_result"
    }
   ],
   "source": [
    "flights[flights['DepDelay'] <0].shape"
   ]
  },
  {
   "cell_type": "code",
   "execution_count": 126,
   "metadata": {},
   "outputs": [],
   "source": [
    "# remove outliers \n",
    "flights = outlier(flights, 'DepDelay')"
   ]
  },
  {
   "cell_type": "code",
   "execution_count": 127,
   "metadata": {},
   "outputs": [
    {
     "data": {
      "text/plain": [
       "count    5123589.0\n",
       "mean          -1.6\n",
       "std            5.5\n",
       "min          -17.0\n",
       "25%           -5.0\n",
       "50%           -2.0\n",
       "75%            0.0\n",
       "max           15.0\n",
       "Name: DepDelay, dtype: float64"
      ]
     },
     "execution_count": 127,
     "metadata": {},
     "output_type": "execute_result"
    }
   ],
   "source": [
    "flights.DepDelay.describe().round(1)"
   ]
  },
  {
   "cell_type": "code",
   "execution_count": 128,
   "metadata": {},
   "outputs": [
    {
     "data": {
      "image/png": "[encoded data removed]",
      "text/plain": [
       "<Figure size 432x288 with 1 Axes>"
      ]
     },
     "metadata": {
      "needs_background": "light"
     },
     "output_type": "display_data"
    }
   ],
   "source": [
    "plt.hist(data = flights, x= 'DepDelay');\n",
    "#plt.xlim(right=1);  # adjust the right leaving left unchanged\n",
    "#plt.xlim(left=0);  # adjust the left leaving right unchanged"
   ]
  },
  {
   "cell_type": "markdown",
   "metadata": {
    "slideshow": {
     "slide_type": "subslide"
    }
   },
   "source": [
    "#### histogram indicate the density of depate delay Time for flights per distance"
   ]
  },
  {
   "cell_type": "code",
   "execution_count": 129,
   "metadata": {
    "slideshow": {
     "slide_type": "subslide"
    }
   },
   "outputs": [
    {
     "data": {
      "image/png": "[encoded data removed]",
      "text/plain": [
       "<Figure size 432x288 with 1 Axes>"
      ]
     },
     "metadata": {
      "needs_background": "light"
     },
     "output_type": "display_data"
    }
   ],
   "source": [
    "plot_hist(flights['AirTimePmile'], .1)"
   ]
  },
  {
   "cell_type": "code",
   "execution_count": 130,
   "metadata": {},
   "outputs": [
    {
     "data": {
      "image/png": "[encoded data removed]",
      "text/plain": [
       "<Figure size 432x288 with 1 Axes>"
      ]
     },
     "metadata": {
      "needs_background": "light"
     },
     "output_type": "display_data"
    }
   ],
   "source": [
    "sns.distplot(flights['DepDelay']);\n",
    "#plt.xlim(right=1);  # adjust the right leaving left unchanged\n",
    "#plt.xlim(left=0)  # adjust the left leaving right unchanged"
   ]
  },
  {
   "cell_type": "code",
   "execution_count": 131,
   "metadata": {
    "scrolled": true
   },
   "outputs": [
    {
     "data": {
      "image/png": "[encoded data removed]",
      "text/plain": [
       "<Figure size 432x288 with 1 Axes>"
      ]
     },
     "metadata": {
      "needs_background": "light"
     },
     "output_type": "display_data"
    }
   ],
   "source": [
    "sns.boxplot(x=flights['DepDelay']);\n",
    "#plt.xlim(right=1);  # adjust the right leaving left unchanged\n",
    "#plt.xlim(left=0);  # adjust the left leaving right unchanged"
   ]
  },
  {
   "cell_type": "code",
   "execution_count": 132,
   "metadata": {
    "scrolled": true
   },
   "outputs": [
    {
     "data": {
      "image/png": "[encoded data removed]",
      "text/plain": [
       "<Figure size 432x288 with 1 Axes>"
      ]
     },
     "metadata": {
      "needs_background": "light"
     },
     "output_type": "display_data"
    }
   ],
   "source": [
    "flights.boxplot(column=['DepDelay']);\n",
    "#plt.ylim(top=1);  # adjust the top leaving bottom unchanged\n",
    "#plt.ylim(bottom=0); # adjust the bottom leaving top unchanged"
   ]
  },
  {
   "cell_type": "markdown",
   "metadata": {
    "slideshow": {
     "slide_type": "subslide"
    }
   },
   "source": [
    "### 17. Flight dataset Origin column:\n",
    "    range :\tstring\n",
    "    origin IATA airport code"
   ]
  },
  {
   "cell_type": "code",
   "execution_count": 133,
   "metadata": {},
   "outputs": [
    {
     "data": {
      "text/plain": [
       "count     5123589\n",
       "unique        302\n",
       "top           ATL\n",
       "freq       296072\n",
       "Name: Origin, dtype: object"
      ]
     },
     "execution_count": 133,
     "metadata": {},
     "output_type": "execute_result"
    }
   ],
   "source": [
    "flights.Origin.describe()"
   ]
  },
  {
   "cell_type": "markdown",
   "metadata": {
    "slideshow": {
     "slide_type": "subslide"
    }
   },
   "source": [
    "### 18. Flight dataset Dest column:\n",
    "    range :\tstring\n",
    "    destination IATA airport code "
   ]
  },
  {
   "cell_type": "code",
   "execution_count": 134,
   "metadata": {},
   "outputs": [
    {
     "data": {
      "text/plain": [
       "count     5123589\n",
       "unique        302\n",
       "top           ATL\n",
       "freq       318267\n",
       "Name: Dest, dtype: object"
      ]
     },
     "execution_count": 134,
     "metadata": {},
     "output_type": "execute_result"
    }
   ],
   "source": [
    "flights.Dest.describe()"
   ]
  },
  {
   "cell_type": "markdown",
   "metadata": {
    "slideshow": {
     "slide_type": "subslide"
    }
   },
   "source": [
    "### 19. Flight dataset Distance column:\n",
    "    range :\tin miles \n",
    "    Distance"
   ]
  },
  {
   "cell_type": "code",
   "execution_count": 135,
   "metadata": {},
   "outputs": [
    {
     "data": {
      "text/plain": [
       "count    5123589.0\n",
       "mean         607.9\n",
       "std          382.4\n",
       "min           21.0\n",
       "25%          307.0\n",
       "50%          528.0\n",
       "75%          857.0\n",
       "max         2175.0\n",
       "Name: Distance, dtype: float64"
      ]
     },
     "execution_count": 135,
     "metadata": {},
     "output_type": "execute_result"
    }
   ],
   "source": [
    "flights.Distance.describe().round(1)"
   ]
  },
  {
   "cell_type": "markdown",
   "metadata": {
    "slideshow": {
     "slide_type": "subslide"
    }
   },
   "source": [
    "### 20. Flight dataset TaxiIn column:\n",
    "    range :\tin minutes\n",
    "    taxi in time "
   ]
  },
  {
   "cell_type": "code",
   "execution_count": 137,
   "metadata": {},
   "outputs": [
    {
     "data": {
      "text/plain": [
       "count    5123589.0\n",
       "mean           6.7\n",
       "std            4.5\n",
       "min            0.0\n",
       "25%            4.0\n",
       "50%            6.0\n",
       "75%            8.0\n",
       "max          138.0\n",
       "Name: TaxiIn, dtype: float64"
      ]
     },
     "execution_count": 137,
     "metadata": {},
     "output_type": "execute_result"
    }
   ],
   "source": [
    "flights.TaxiIn.describe().round(1)"
   ]
  },
  {
   "cell_type": "code",
   "execution_count": 138,
   "metadata": {},
   "outputs": [],
   "source": [
    "# remove outliers \n",
    "flights = outlier(flights, 'TaxiIn')"
   ]
  },
  {
   "cell_type": "code",
   "execution_count": 139,
   "metadata": {},
   "outputs": [
    {
     "data": {
      "text/plain": [
       "count    4857065.0\n",
       "mean           6.0\n",
       "std            2.8\n",
       "min            0.0\n",
       "25%            4.0\n",
       "50%            5.0\n",
       "75%            8.0\n",
       "max           14.0\n",
       "Name: TaxiIn, dtype: float64"
      ]
     },
     "execution_count": 139,
     "metadata": {},
     "output_type": "execute_result"
    }
   ],
   "source": [
    "flights.TaxiIn.describe().round(1)"
   ]
  },
  {
   "cell_type": "markdown",
   "metadata": {
    "slideshow": {
     "slide_type": "subslide"
    }
   },
   "source": [
    "### 21. Flight dataset TaxiOut column:\n",
    "    range :\tin minutes \n",
    "    taxi out time "
   ]
  },
  {
   "cell_type": "code",
   "execution_count": 140,
   "metadata": {
    "slideshow": {
     "slide_type": "subslide"
    }
   },
   "outputs": [
    {
     "data": {
      "text/plain": [
       "count    4857065.0\n",
       "mean          15.3\n",
       "std            8.3\n",
       "min            0.0\n",
       "25%           10.0\n",
       "50%           13.0\n",
       "75%           18.0\n",
       "max          151.0\n",
       "Name: TaxiOut, dtype: float64"
      ]
     },
     "execution_count": 140,
     "metadata": {},
     "output_type": "execute_result"
    }
   ],
   "source": [
    "flights.TaxiOut.describe().round(1)"
   ]
  },
  {
   "cell_type": "code",
   "execution_count": 141,
   "metadata": {},
   "outputs": [],
   "source": [
    "# remove outliers \n",
    "flights = outlier(flights, 'TaxiOut')"
   ]
  },
  {
   "cell_type": "code",
   "execution_count": 142,
   "metadata": {},
   "outputs": [
    {
     "data": {
      "text/plain": [
       "count    4598311.0\n",
       "mean          13.9\n",
       "std            5.6\n",
       "min            0.0\n",
       "25%           10.0\n",
       "50%           13.0\n",
       "75%           17.0\n",
       "max           30.0\n",
       "Name: TaxiOut, dtype: float64"
      ]
     },
     "execution_count": 142,
     "metadata": {},
     "output_type": "execute_result"
    }
   ],
   "source": [
    "flights.TaxiOut.describe().round(1)"
   ]
  },
  {
   "cell_type": "markdown",
   "metadata": {
    "slideshow": {
     "slide_type": "subslide"
    }
   },
   "source": [
    "### 25. Flight dataset CarrierDelay column:\n",
    "    range :\tin minutes\n",
    "    - Carrier delay is within the control of the air carrier. \n",
    "    - Examples of occurrences that may determine carrier delay are: \n",
    "        - aircraft cleaning, aircraft damage, awaiting the arrival of connecting passengers or crew, \n",
    "        - baggage, bird strike, cargo loading, catering, computer, outage-carrier equipment, \n",
    "        - crew legality (pilot or attendant rest), damage by hazardous goods, engineering inspection, fueling, \n",
    "        - handling disabled passengers, late crew, lavatory servicing, maintenance, oversales, \n",
    "        - potable water servicing, removal of unruly passenger, slow boarding or seating, \n",
    "        - stowing carry-on baggage, weight and balance delays.              "
   ]
  },
  {
   "cell_type": "code",
   "execution_count": 143,
   "metadata": {
    "slideshow": {
     "slide_type": "subslide"
    }
   },
   "outputs": [
    {
     "data": {
      "text/plain": [
       "count    4598311.000\n",
       "mean           0.123\n",
       "std            1.245\n",
       "min            0.000\n",
       "25%            0.000\n",
       "50%            0.000\n",
       "75%            0.000\n",
       "max           42.000\n",
       "Name: CarrierDelay, dtype: float64"
      ]
     },
     "execution_count": 143,
     "metadata": {},
     "output_type": "execute_result"
    }
   ],
   "source": [
    "flights.CarrierDelay.describe().round(3)"
   ]
  },
  {
   "cell_type": "markdown",
   "metadata": {
    "slideshow": {
     "slide_type": "subslide"
    }
   },
   "source": [
    "### 26. Flight dataset WeatherDelay column:\n",
    "    range :\tin minutes\n",
    "    Weather delay is caused by extreme or hazardous weather conditions that are forecasted or \n",
    "    manifest themselves on point of departure, enroute, or on point of arrival. \n"
   ]
  },
  {
   "cell_type": "code",
   "execution_count": 144,
   "metadata": {
    "slideshow": {
     "slide_type": "subslide"
    }
   },
   "outputs": [
    {
     "data": {
      "text/plain": [
       "count    4598311.000\n",
       "mean           0.010\n",
       "std            0.362\n",
       "min            0.000\n",
       "25%            0.000\n",
       "50%            0.000\n",
       "75%            0.000\n",
       "max           42.000\n",
       "Name: WeatherDelay, dtype: float64"
      ]
     },
     "execution_count": 144,
     "metadata": {},
     "output_type": "execute_result"
    }
   ],
   "source": [
    "flights.WeatherDelay.describe().round(3)"
   ]
  },
  {
   "cell_type": "markdown",
   "metadata": {
    "slideshow": {
     "slide_type": "subslide"
    }
   },
   "source": [
    "### 27. Flight dataset NASDelay column:\n",
    "    range :\tin minutes\n",
    "    Delay that is within the control of the National Airspace System (NAS) may include: \n",
    "    non-extreme weather conditions, airport operations, heavy traffic volume, air traffic control, etc.          "
   ]
  },
  {
   "cell_type": "code",
   "execution_count": 145,
   "metadata": {
    "slideshow": {
     "slide_type": "subslide"
    }
   },
   "outputs": [
    {
     "data": {
      "text/plain": [
       "count    4598311.000\n",
       "mean           0.525\n",
       "std            3.172\n",
       "min            0.000\n",
       "25%            0.000\n",
       "50%            0.000\n",
       "75%            0.000\n",
       "max           42.000\n",
       "Name: NASDelay, dtype: float64"
      ]
     },
     "execution_count": 145,
     "metadata": {},
     "output_type": "execute_result"
    }
   ],
   "source": [
    "flights.NASDelay.describe().round(3)"
   ]
  },
  {
   "cell_type": "markdown",
   "metadata": {
    "slideshow": {
     "slide_type": "subslide"
    }
   },
   "source": [
    "### 28. Flight dataset SecurityDelay column:\n",
    "    range :\tin minutes\n",
    "    Security delay is caused by evacuation of a terminal or concourse, re-boarding of aircraft because of security breach, inoperative screening equipment and/or long lines in excess of 29 minutes at screening areas."
   ]
  },
  {
   "cell_type": "code",
   "execution_count": 146,
   "metadata": {
    "slideshow": {
     "slide_type": "subslide"
    }
   },
   "outputs": [
    {
     "data": {
      "text/plain": [
       "count    4598311.000\n",
       "mean           0.002\n",
       "std            0.174\n",
       "min            0.000\n",
       "25%            0.000\n",
       "50%            0.000\n",
       "75%            0.000\n",
       "max           40.000\n",
       "Name: SecurityDelay, dtype: float64"
      ]
     },
     "execution_count": 146,
     "metadata": {},
     "output_type": "execute_result"
    }
   ],
   "source": [
    "flights.SecurityDelay.describe().round(3)"
   ]
  },
  {
   "cell_type": "markdown",
   "metadata": {
    "slideshow": {
     "slide_type": "subslide"
    }
   },
   "source": [
    "### 29. Flight dataset LateAircraftDelay column:\n",
    "    range :\tin minutes\n",
    "    Arrival delay at an airport due to the late arrival of the same aircraft at a previous airport. \n",
    "    The ripple effect of an earlier delay at downstream airports is referred to as delay propagation. "
   ]
  },
  {
   "cell_type": "code",
   "execution_count": 147,
   "metadata": {
    "slideshow": {
     "slide_type": "subslide"
    }
   },
   "outputs": [
    {
     "data": {
      "text/plain": [
       "count    4598311.000\n",
       "mean           0.082\n",
       "std            1.001\n",
       "min            0.000\n",
       "25%            0.000\n",
       "50%            0.000\n",
       "75%            0.000\n",
       "max           42.000\n",
       "Name: LateAircraftDelay, dtype: float64"
      ]
     },
     "execution_count": 147,
     "metadata": {},
     "output_type": "execute_result"
    }
   ],
   "source": [
    "flights.LateAircraftDelay.describe().round(3)"
   ]
  },
  {
   "cell_type": "markdown",
   "metadata": {
    "slideshow": {
     "slide_type": "subslide"
    }
   },
   "source": [
    "## correlation matrix"
   ]
  },
  {
   "cell_type": "code",
   "execution_count": 148,
   "metadata": {
    "slideshow": {
     "slide_type": "subslide"
    }
   },
   "outputs": [
    {
     "data": {
      "image/png": "[encoded data removed]",
      "text/plain": [
       "<Figure size 1080x720 with 2 Axes>"
      ]
     },
     "metadata": {
      "needs_background": "light"
     },
     "output_type": "display_data"
    }
   ],
   "source": [
    "corrmat = flights.corr()\n",
    "f, ax = plt.subplots(figsize=(15, 10))\n",
    "sns.heatmap(corrmat, vmin=-1, square=True, annot=True, fmt='.2f', cmap='vlag_r', center=0);"
   ]
  },
  {
   "cell_type": "markdown",
   "metadata": {
    "slideshow": {
     "slide_type": "skip"
    }
   },
   "source": [
    "## Saving cleaned data after romvoing outliers and duplicates"
   ]
  },
  {
   "cell_type": "code",
   "execution_count": 149,
   "metadata": {},
   "outputs": [
    {
     "data": {
      "text/plain": [
       "Index(['Year', 'Month', 'DayofMonth', 'DayOfWeek', 'DepTime', 'CRSDepTime',\n",
       "       'ArrTime', 'CRSArrTime', 'UniqueCarrier', 'FlightNum', 'TailNum',\n",
       "       'ActualElapsedTime', 'CRSElapsedTime', 'AirTime', 'ArrDelay',\n",
       "       'DepDelay', 'Origin', 'Dest', 'Distance', 'TaxiIn', 'TaxiOut',\n",
       "       'CarrierDelay', 'WeatherDelay', 'NASDelay', 'SecurityDelay',\n",
       "       'LateAircraftDelay', 'ActualElapsedTimePmile', 'CRSElapsedTimePmile',\n",
       "       'AirTimePmile'],\n",
       "      dtype='object')"
      ]
     },
     "execution_count": 149,
     "metadata": {},
     "output_type": "execute_result"
    }
   ],
   "source": [
    "flights.columns"
   ]
  },
  {
   "cell_type": "code",
   "execution_count": 151,
   "metadata": {},
   "outputs": [],
   "source": [
    "# drop some columns\n",
    "flights = flights[['Month', 'DayofMonth', 'DayOfWeek', 'DepTime', 'CRSDepTime',\n",
    "       'ArrTime', 'CRSArrTime', 'UniqueCarrier', 'FlightNum', 'TailNum',\n",
    "       'ActualElapsedTime', 'CRSElapsedTime', 'AirTime', 'ArrDelay',\n",
    "       'DepDelay', 'Origin', 'Dest', 'Distance', 'CarrierDelay', 'WeatherDelay', 'NASDelay', 'SecurityDelay',\n",
    "       'LateAircraftDelay']]"
   ]
  },
  {
   "cell_type": "code",
   "execution_count": 152,
   "metadata": {
    "slideshow": {
     "slide_type": "skip"
    }
   },
   "outputs": [
    {
     "name": "stdout",
     "output_type": "stream",
     "text": [
      "Elapsed saving time : 37.21841216087341\n"
     ]
    }
   ],
   "source": [
    "# saving data\n",
    "t1 = time.time()\n",
    "flights.to_csv('../data/processed/{}.csv'.format('flights'), index=False)\n",
    "t2 = time.time()\n",
    "print('Elapsed saving time :', t2-t1)"
   ]
  },
  {
   "cell_type": "code",
   "execution_count": 153,
   "metadata": {},
   "outputs": [
    {
     "data": {
      "text/plain": [
       "Index(['Year', 'Month', 'DayofMonth', 'DayOfWeek', 'CRSDepTime', 'CRSArrTime',\n",
       "       'UniqueCarrier', 'FlightNum', 'Origin', 'Dest', 'Distance',\n",
       "       'CancellationCode'],\n",
       "      dtype='object')"
      ]
     },
     "execution_count": 153,
     "metadata": {},
     "output_type": "execute_result"
    }
   ],
   "source": [
    "cancelled.columns"
   ]
  },
  {
   "cell_type": "code",
   "execution_count": 154,
   "metadata": {},
   "outputs": [],
   "source": [
    "# drop some columns\n",
    "cancelled = cancelled[['Month', 'DayofMonth', 'DayOfWeek', 'CRSDepTime', 'CRSArrTime',\n",
    "       'UniqueCarrier', 'FlightNum', 'Origin', 'Dest', 'Distance', 'CancellationCode']]"
   ]
  },
  {
   "cell_type": "code",
   "execution_count": 155,
   "metadata": {},
   "outputs": [
    {
     "name": "stdout",
     "output_type": "stream",
     "text": [
      "Elapsed saving time : 0.868523359298706\n"
     ]
    }
   ],
   "source": [
    "# saving data\n",
    "t1 = time.time()\n",
    "cancelled.to_csv('../data/processed/{}.csv'.format('cancelled'), index=False)\n",
    "t2 = time.time()\n",
    "print('Elapsed saving time :', t2-t1)"
   ]
  },
  {
   "cell_type": "code",
   "execution_count": 156,
   "metadata": {},
   "outputs": [
    {
     "data": {
      "text/plain": [
       "Index(['Year', 'Month', 'DayofMonth', 'DayOfWeek', 'DepTime', 'CRSDepTime',\n",
       "       'UniqueCarrier', 'FlightNum', 'DepDelay', 'Origin', 'Dest', 'Distance'],\n",
       "      dtype='object')"
      ]
     },
     "execution_count": 156,
     "metadata": {},
     "output_type": "execute_result"
    }
   ],
   "source": [
    "diverted.columns"
   ]
  },
  {
   "cell_type": "code",
   "execution_count": 157,
   "metadata": {},
   "outputs": [],
   "source": [
    "# drop some columns\n",
    "diverted = diverted[['Month', 'DayofMonth', 'DayOfWeek', 'DepTime', 'CRSDepTime',\n",
    "       'UniqueCarrier', 'FlightNum', 'DepDelay', 'Origin', 'Dest', 'Distance']]"
   ]
  },
  {
   "cell_type": "code",
   "execution_count": 158,
   "metadata": {},
   "outputs": [
    {
     "name": "stdout",
     "output_type": "stream",
     "text": [
      "Elapsed saving time : 0.0709981918334961\n"
     ]
    }
   ],
   "source": [
    "# saving data\n",
    "t1 = time.time()\n",
    "diverted.to_csv('../data/processed/{}.csv'.format('diverted'), index=False)\n",
    "t2 = time.time()\n",
    "print('Elapsed saving time :', t2-t1)"
   ]
  },
  {
   "cell_type": "markdown",
   "metadata": {
    "slideshow": {
     "slide_type": "slide"
    }
   },
   "source": [
    "## 02.What is the worst time of day to travel?"
   ]
  },
  {
   "cell_type": "code",
   "execution_count": 132,
   "metadata": {},
   "outputs": [],
   "source": [
    "flights['hours'] = pd.to_datetime(flights['CRSDepTime'], format='%I:%M %p').dt.hour\n",
    "flights['minutes'] = pd.to_datetime(flights['CRSDepTime'], format='%I:%M %p').dt.minute\n",
    "flights = flights.sort_values(['hours', 'minutes'])\n",
    "flights = flights.drop(columns=['minutes'])\n",
    "df = flights[(flights['ArrDelay'] > 15)].groupby('hours')\\\n",
    "                .agg(ArrDelayCount=('ArrDelay', 'count'), ArrDelaysum=('ArrDelay', sum)) \n",
    "df = df.reset_index()"
   ]
  },
  {
   "cell_type": "code",
   "execution_count": 133,
   "metadata": {},
   "outputs": [],
   "source": [
    "df['ArrDelayAvg'] = (df['ArrDelaysum']/df['ArrDelayCount']).round(2)"
   ]
  },
  {
   "cell_type": "code",
   "execution_count": 134,
   "metadata": {},
   "outputs": [
    {
     "data": {
      "text/html": [
       "<div>\n",
       "<style scoped>\n",
       "    .dataframe tbody tr th:only-of-type {\n",
       "        vertical-align: middle;\n",
       "    }\n",
       "\n",
       "    .dataframe tbody tr th {\n",
       "        vertical-align: top;\n",
       "    }\n",
       "\n",
       "    .dataframe thead th {\n",
       "        text-align: right;\n",
       "    }\n",
       "</style>\n",
       "<table border=\"1\" class=\"dataframe\">\n",
       "  <thead>\n",
       "    <tr style=\"text-align: right;\">\n",
       "      <th></th>\n",
       "      <th>hours</th>\n",
       "      <th>ArrDelayCount</th>\n",
       "      <th>ArrDelaysum</th>\n",
       "      <th>ArrDelayAvg</th>\n",
       "    </tr>\n",
       "  </thead>\n",
       "  <tbody>\n",
       "    <tr>\n",
       "      <th>0</th>\n",
       "      <td>0</td>\n",
       "      <td>1328</td>\n",
       "      <td>10528</td>\n",
       "      <td>7.93</td>\n",
       "    </tr>\n",
       "    <tr>\n",
       "      <th>1</th>\n",
       "      <td>1</td>\n",
       "      <td>303</td>\n",
       "      <td>2568</td>\n",
       "      <td>8.48</td>\n",
       "    </tr>\n",
       "    <tr>\n",
       "      <th>2</th>\n",
       "      <td>2</td>\n",
       "      <td>75</td>\n",
       "      <td>657</td>\n",
       "      <td>8.76</td>\n",
       "    </tr>\n",
       "    <tr>\n",
       "      <th>3</th>\n",
       "      <td>3</td>\n",
       "      <td>65</td>\n",
       "      <td>368</td>\n",
       "      <td>5.66</td>\n",
       "    </tr>\n",
       "    <tr>\n",
       "      <th>4</th>\n",
       "      <td>4</td>\n",
       "      <td>159</td>\n",
       "      <td>1075</td>\n",
       "      <td>6.76</td>\n",
       "    </tr>\n",
       "    <tr>\n",
       "      <th>5</th>\n",
       "      <td>5</td>\n",
       "      <td>9974</td>\n",
       "      <td>76967</td>\n",
       "      <td>7.72</td>\n",
       "    </tr>\n",
       "    <tr>\n",
       "      <th>6</th>\n",
       "      <td>6</td>\n",
       "      <td>95883</td>\n",
       "      <td>728478</td>\n",
       "      <td>7.60</td>\n",
       "    </tr>\n",
       "    <tr>\n",
       "      <th>7</th>\n",
       "      <td>7</td>\n",
       "      <td>80283</td>\n",
       "      <td>620549</td>\n",
       "      <td>7.73</td>\n",
       "    </tr>\n",
       "    <tr>\n",
       "      <th>8</th>\n",
       "      <td>8</td>\n",
       "      <td>77599</td>\n",
       "      <td>599668</td>\n",
       "      <td>7.73</td>\n",
       "    </tr>\n",
       "    <tr>\n",
       "      <th>9</th>\n",
       "      <td>9</td>\n",
       "      <td>74905</td>\n",
       "      <td>567304</td>\n",
       "      <td>7.57</td>\n",
       "    </tr>\n",
       "    <tr>\n",
       "      <th>10</th>\n",
       "      <td>10</td>\n",
       "      <td>78804</td>\n",
       "      <td>598151</td>\n",
       "      <td>7.59</td>\n",
       "    </tr>\n",
       "    <tr>\n",
       "      <th>11</th>\n",
       "      <td>11</td>\n",
       "      <td>83836</td>\n",
       "      <td>660350</td>\n",
       "      <td>7.88</td>\n",
       "    </tr>\n",
       "    <tr>\n",
       "      <th>12</th>\n",
       "      <td>12</td>\n",
       "      <td>78274</td>\n",
       "      <td>622896</td>\n",
       "      <td>7.96</td>\n",
       "    </tr>\n",
       "    <tr>\n",
       "      <th>13</th>\n",
       "      <td>13</td>\n",
       "      <td>82112</td>\n",
       "      <td>650460</td>\n",
       "      <td>7.92</td>\n",
       "    </tr>\n",
       "    <tr>\n",
       "      <th>14</th>\n",
       "      <td>14</td>\n",
       "      <td>75635</td>\n",
       "      <td>600414</td>\n",
       "      <td>7.94</td>\n",
       "    </tr>\n",
       "    <tr>\n",
       "      <th>15</th>\n",
       "      <td>15</td>\n",
       "      <td>70541</td>\n",
       "      <td>558287</td>\n",
       "      <td>7.91</td>\n",
       "    </tr>\n",
       "    <tr>\n",
       "      <th>16</th>\n",
       "      <td>16</td>\n",
       "      <td>70584</td>\n",
       "      <td>558168</td>\n",
       "      <td>7.91</td>\n",
       "    </tr>\n",
       "    <tr>\n",
       "      <th>17</th>\n",
       "      <td>17</td>\n",
       "      <td>68001</td>\n",
       "      <td>546753</td>\n",
       "      <td>8.04</td>\n",
       "    </tr>\n",
       "    <tr>\n",
       "      <th>18</th>\n",
       "      <td>18</td>\n",
       "      <td>60832</td>\n",
       "      <td>487766</td>\n",
       "      <td>8.02</td>\n",
       "    </tr>\n",
       "    <tr>\n",
       "      <th>19</th>\n",
       "      <td>19</td>\n",
       "      <td>61034</td>\n",
       "      <td>479519</td>\n",
       "      <td>7.86</td>\n",
       "    </tr>\n",
       "    <tr>\n",
       "      <th>20</th>\n",
       "      <td>20</td>\n",
       "      <td>40328</td>\n",
       "      <td>307118</td>\n",
       "      <td>7.62</td>\n",
       "    </tr>\n",
       "    <tr>\n",
       "      <th>21</th>\n",
       "      <td>21</td>\n",
       "      <td>41791</td>\n",
       "      <td>328945</td>\n",
       "      <td>7.87</td>\n",
       "    </tr>\n",
       "    <tr>\n",
       "      <th>22</th>\n",
       "      <td>22</td>\n",
       "      <td>11084</td>\n",
       "      <td>84851</td>\n",
       "      <td>7.66</td>\n",
       "    </tr>\n",
       "    <tr>\n",
       "      <th>23</th>\n",
       "      <td>23</td>\n",
       "      <td>2789</td>\n",
       "      <td>19460</td>\n",
       "      <td>6.98</td>\n",
       "    </tr>\n",
       "  </tbody>\n",
       "</table>\n",
       "</div>"
      ],
      "text/plain": [
       "    hours  ArrDelayCount  ArrDelaysum  ArrDelayAvg\n",
       "0       0           1328        10528         7.93\n",
       "1       1            303         2568         8.48\n",
       "2       2             75          657         8.76\n",
       "3       3             65          368         5.66\n",
       "4       4            159         1075         6.76\n",
       "5       5           9974        76967         7.72\n",
       "6       6          95883       728478         7.60\n",
       "7       7          80283       620549         7.73\n",
       "8       8          77599       599668         7.73\n",
       "9       9          74905       567304         7.57\n",
       "10     10          78804       598151         7.59\n",
       "11     11          83836       660350         7.88\n",
       "12     12          78274       622896         7.96\n",
       "13     13          82112       650460         7.92\n",
       "14     14          75635       600414         7.94\n",
       "15     15          70541       558287         7.91\n",
       "16     16          70584       558168         7.91\n",
       "17     17          68001       546753         8.04\n",
       "18     18          60832       487766         8.02\n",
       "19     19          61034       479519         7.86\n",
       "20     20          40328       307118         7.62\n",
       "21     21          41791       328945         7.87\n",
       "22     22          11084        84851         7.66\n",
       "23     23           2789        19460         6.98"
      ]
     },
     "execution_count": 134,
     "metadata": {},
     "output_type": "execute_result"
    }
   ],
   "source": [
    "df"
   ]
  },
  {
   "cell_type": "code",
   "execution_count": 135,
   "metadata": {},
   "outputs": [
    {
     "data": {
      "image/png": "[encoded data removed]",
      "text/plain": [
       "<Figure size 432x288 with 2 Axes>"
      ]
     },
     "metadata": {
      "needs_background": "light"
     },
     "output_type": "display_data"
    }
   ],
   "source": [
    "plt.scatter(data = df, x='hours', y='ArrDelayCount', c='ArrDelayAvg',cmap='mako_r');\n",
    "plt.colorbar();"
   ]
  },
  {
   "cell_type": "code",
   "execution_count": 136,
   "metadata": {
    "slideshow": {
     "slide_type": "slide"
    }
   },
   "outputs": [
    {
     "data": {
      "image/png": "[encoded data removed]",
      "text/plain": [
       "<Figure size 432x288 with 1 Axes>"
      ]
     },
     "metadata": {
      "needs_background": "light"
     },
     "output_type": "display_data"
    }
   ],
   "source": [
    "sns.lineplot(data = df, x='hours', y='ArrDelayCount');\n",
    "plt.grid()"
   ]
  },
  {
   "cell_type": "code",
   "execution_count": 137,
   "metadata": {
    "slideshow": {
     "slide_type": "slide"
    }
   },
   "outputs": [
    {
     "data": {
      "image/png": "[encoded data removed]",
      "text/plain": [
       "<Figure size 720x504 with 1 Axes>"
      ]
     },
     "metadata": {
      "needs_background": "light"
     },
     "output_type": "display_data"
    }
   ],
   "source": [
    "plt.figure(figsize=(10,7))\n",
    "ax = plt.gca()\n",
    "ax.spines[\"top\"].set_visible(False)\n",
    "ax.spines[\"right\"].set_visible(False)\n",
    "ax.spines[\"left\"].set_visible(False)\n",
    "df.plot.bar(ax=ax);\n",
    "plt.ylabel('count')\n",
    "plt.yscale('log')\n",
    "plt.grid()"
   ]
  },
  {
   "cell_type": "markdown",
   "metadata": {
    "slideshow": {
     "slide_type": "slide"
    }
   },
   "source": [
    "the worst dealy around 06 AM"
   ]
  },
  {
   "cell_type": "markdown",
   "metadata": {
    "slideshow": {
     "slide_type": "slide"
    }
   },
   "source": [
    "## 03. Flight delay reasons and how much they contribute to the number of delayed flights"
   ]
  },
  {
   "cell_type": "code",
   "execution_count": 141,
   "metadata": {},
   "outputs": [],
   "source": [
    "df_row = pd.merge(flights.groupby(['UniqueCarrier']).agg(UniqueCarrierCount=('UniqueCarrier', 'count')), \n",
    "                  flights[(flights['ArrDelay'] > 15)].groupby(['UniqueCarrier']).agg(ArrDelaycount=('ArrDelay', 'count')),\n",
    "                  on='UniqueCarrier', how='inner')"
   ]
  },
  {
   "cell_type": "code",
   "execution_count": 142,
   "metadata": {},
   "outputs": [],
   "source": [
    "df_delay = flights[(flights['ArrDelay'] > 15)]"
   ]
  },
  {
   "cell_type": "code",
   "execution_count": 143,
   "metadata": {},
   "outputs": [],
   "source": [
    "df_delay = df_delay[(flights['LateAircraftDelay'] != 0) | (flights['SecurityDelay'] != 0) |\n",
    "        (flights['NASDelay'] != 0) | (flights['WeatherDelay'] != 0) | \n",
    "        (flights['CarrierDelay'] != 0) | (flights['WeatherDelay'] != 0)]"
   ]
  },
  {
   "cell_type": "code",
   "execution_count": 144,
   "metadata": {},
   "outputs": [],
   "source": [
    "df_delay['LateAircraftDelay'] = df_delay['LateAircraftDelay'].apply(lambda x: 1 if x else 0)\n",
    "df_delay['SecurityDelay'] = df_delay['SecurityDelay'].apply(lambda x: 1 if x else 0)\n",
    "df_delay['NASDelay'] = df_delay['NASDelay'].apply(lambda x: 1 if x else 0)\n",
    "df_delay['WeatherDelay'] = df_delay['WeatherDelay'].apply(lambda x: 1 if x else 0)\n",
    "df_delay['CarrierDelay'] = df_delay['CarrierDelay'].apply(lambda x: 1 if x else 0)"
   ]
  },
  {
   "cell_type": "code",
   "execution_count": 145,
   "metadata": {},
   "outputs": [],
   "source": [
    "df_delay = df_delay.groupby(['UniqueCarrier']).agg(\n",
    "    # Get count of the column for each group\n",
    "    LateAircraftDelayCount=('LateAircraftDelay', sum),\n",
    "    # Get count of the column for each group\n",
    "    SecurityDelayCount=('SecurityDelay', sum),\n",
    "    # Get count of the column for each group\n",
    "    NASDelayCount=('NASDelay', sum),\n",
    "    # Get count of the column for each group\n",
    "    WeatherDelayCount=('WeatherDelay', sum),\n",
    "    # Get count of the column for each group\n",
    "    CarrierDelayCount=('CarrierDelay', sum),   \n",
    ")"
   ]
  },
  {
   "cell_type": "code",
   "execution_count": 146,
   "metadata": {},
   "outputs": [
    {
     "data": {
      "text/html": [
       "<div>\n",
       "<style scoped>\n",
       "    .dataframe tbody tr th:only-of-type {\n",
       "        vertical-align: middle;\n",
       "    }\n",
       "\n",
       "    .dataframe tbody tr th {\n",
       "        vertical-align: top;\n",
       "    }\n",
       "\n",
       "    .dataframe thead th {\n",
       "        text-align: right;\n",
       "    }\n",
       "</style>\n",
       "<table border=\"1\" class=\"dataframe\">\n",
       "  <thead>\n",
       "    <tr style=\"text-align: right;\">\n",
       "      <th></th>\n",
       "      <th>LateAircraftDelayCount</th>\n",
       "      <th>SecurityDelayCount</th>\n",
       "      <th>NASDelayCount</th>\n",
       "      <th>WeatherDelayCount</th>\n",
       "      <th>CarrierDelayCount</th>\n",
       "      <th>UniqueCarrierCount</th>\n",
       "      <th>ArrDelaycount</th>\n",
       "    </tr>\n",
       "    <tr>\n",
       "      <th>UniqueCarrier</th>\n",
       "      <th></th>\n",
       "      <th></th>\n",
       "      <th></th>\n",
       "      <th></th>\n",
       "      <th></th>\n",
       "      <th></th>\n",
       "      <th></th>\n",
       "    </tr>\n",
       "  </thead>\n",
       "  <tbody>\n",
       "    <tr>\n",
       "      <th>9E</th>\n",
       "      <td>661</td>\n",
       "      <td>7</td>\n",
       "      <td>4185</td>\n",
       "      <td>155</td>\n",
       "      <td>1032</td>\n",
       "      <td>177627</td>\n",
       "      <td>31574</td>\n",
       "    </tr>\n",
       "    <tr>\n",
       "      <th>AA</th>\n",
       "      <td>3125</td>\n",
       "      <td>18</td>\n",
       "      <td>15913</td>\n",
       "      <td>536</td>\n",
       "      <td>4864</td>\n",
       "      <td>340780</td>\n",
       "      <td>96860</td>\n",
       "    </tr>\n",
       "    <tr>\n",
       "      <th>AQ</th>\n",
       "      <td>14</td>\n",
       "      <td>2</td>\n",
       "      <td>2</td>\n",
       "      <td>0</td>\n",
       "      <td>29</td>\n",
       "      <td>6519</td>\n",
       "      <td>1324</td>\n",
       "    </tr>\n",
       "    <tr>\n",
       "      <th>AS</th>\n",
       "      <td>1129</td>\n",
       "      <td>55</td>\n",
       "      <td>5721</td>\n",
       "      <td>68</td>\n",
       "      <td>1417</td>\n",
       "      <td>106312</td>\n",
       "      <td>30643</td>\n",
       "    </tr>\n",
       "    <tr>\n",
       "      <th>B6</th>\n",
       "      <td>786</td>\n",
       "      <td>16</td>\n",
       "      <td>3631</td>\n",
       "      <td>12</td>\n",
       "      <td>1085</td>\n",
       "      <td>102867</td>\n",
       "      <td>21414</td>\n",
       "    </tr>\n",
       "    <tr>\n",
       "      <th>CO</th>\n",
       "      <td>573</td>\n",
       "      <td>128</td>\n",
       "      <td>6068</td>\n",
       "      <td>172</td>\n",
       "      <td>1810</td>\n",
       "      <td>162159</td>\n",
       "      <td>43855</td>\n",
       "    </tr>\n",
       "    <tr>\n",
       "      <th>DL</th>\n",
       "      <td>2573</td>\n",
       "      <td>0</td>\n",
       "      <td>10144</td>\n",
       "      <td>131</td>\n",
       "      <td>2885</td>\n",
       "      <td>249612</td>\n",
       "      <td>70357</td>\n",
       "    </tr>\n",
       "    <tr>\n",
       "      <th>EV</th>\n",
       "      <td>987</td>\n",
       "      <td>38</td>\n",
       "      <td>5698</td>\n",
       "      <td>239</td>\n",
       "      <td>2444</td>\n",
       "      <td>184023</td>\n",
       "      <td>42531</td>\n",
       "    </tr>\n",
       "    <tr>\n",
       "      <th>F9</th>\n",
       "      <td>1177</td>\n",
       "      <td>0</td>\n",
       "      <td>4698</td>\n",
       "      <td>141</td>\n",
       "      <td>2424</td>\n",
       "      <td>73843</td>\n",
       "      <td>27340</td>\n",
       "    </tr>\n",
       "    <tr>\n",
       "      <th>FL</th>\n",
       "      <td>2282</td>\n",
       "      <td>0</td>\n",
       "      <td>8862</td>\n",
       "      <td>76</td>\n",
       "      <td>3103</td>\n",
       "      <td>184947</td>\n",
       "      <td>54919</td>\n",
       "    </tr>\n",
       "    <tr>\n",
       "      <th>HA</th>\n",
       "      <td>368</td>\n",
       "      <td>0</td>\n",
       "      <td>13</td>\n",
       "      <td>48</td>\n",
       "      <td>448</td>\n",
       "      <td>47723</td>\n",
       "      <td>10330</td>\n",
       "    </tr>\n",
       "    <tr>\n",
       "      <th>MQ</th>\n",
       "      <td>3215</td>\n",
       "      <td>10</td>\n",
       "      <td>9979</td>\n",
       "      <td>458</td>\n",
       "      <td>2981</td>\n",
       "      <td>328469</td>\n",
       "      <td>77260</td>\n",
       "    </tr>\n",
       "    <tr>\n",
       "      <th>NW</th>\n",
       "      <td>1483</td>\n",
       "      <td>39</td>\n",
       "      <td>12667</td>\n",
       "      <td>218</td>\n",
       "      <td>4347</td>\n",
       "      <td>233742</td>\n",
       "      <td>70043</td>\n",
       "    </tr>\n",
       "    <tr>\n",
       "      <th>OH</th>\n",
       "      <td>104</td>\n",
       "      <td>10</td>\n",
       "      <td>6240</td>\n",
       "      <td>721</td>\n",
       "      <td>2292</td>\n",
       "      <td>119626</td>\n",
       "      <td>36820</td>\n",
       "    </tr>\n",
       "    <tr>\n",
       "      <th>OO</th>\n",
       "      <td>4531</td>\n",
       "      <td>122</td>\n",
       "      <td>9288</td>\n",
       "      <td>347</td>\n",
       "      <td>5901</td>\n",
       "      <td>429857</td>\n",
       "      <td>106380</td>\n",
       "    </tr>\n",
       "    <tr>\n",
       "      <th>UA</th>\n",
       "      <td>1923</td>\n",
       "      <td>0</td>\n",
       "      <td>8564</td>\n",
       "      <td>145</td>\n",
       "      <td>2537</td>\n",
       "      <td>237746</td>\n",
       "      <td>55197</td>\n",
       "    </tr>\n",
       "    <tr>\n",
       "      <th>US</th>\n",
       "      <td>1835</td>\n",
       "      <td>58</td>\n",
       "      <td>9237</td>\n",
       "      <td>125</td>\n",
       "      <td>4057</td>\n",
       "      <td>287174</td>\n",
       "      <td>58652</td>\n",
       "    </tr>\n",
       "    <tr>\n",
       "      <th>WN</th>\n",
       "      <td>9086</td>\n",
       "      <td>295</td>\n",
       "      <td>20466</td>\n",
       "      <td>419</td>\n",
       "      <td>7731</td>\n",
       "      <td>899734</td>\n",
       "      <td>218005</td>\n",
       "    </tr>\n",
       "    <tr>\n",
       "      <th>XE</th>\n",
       "      <td>2019</td>\n",
       "      <td>192</td>\n",
       "      <td>10956</td>\n",
       "      <td>325</td>\n",
       "      <td>3014</td>\n",
       "      <td>254882</td>\n",
       "      <td>67731</td>\n",
       "    </tr>\n",
       "    <tr>\n",
       "      <th>YV</th>\n",
       "      <td>464</td>\n",
       "      <td>47</td>\n",
       "      <td>2860</td>\n",
       "      <td>126</td>\n",
       "      <td>2869</td>\n",
       "      <td>170669</td>\n",
       "      <td>44984</td>\n",
       "    </tr>\n",
       "  </tbody>\n",
       "</table>\n",
       "</div>"
      ],
      "text/plain": [
       "               LateAircraftDelayCount  SecurityDelayCount  NASDelayCount  \\\n",
       "UniqueCarrier                                                              \n",
       "9E                                661                   7           4185   \n",
       "AA                               3125                  18          15913   \n",
       "AQ                                 14                   2              2   \n",
       "AS                               1129                  55           5721   \n",
       "B6                                786                  16           3631   \n",
       "CO                                573                 128           6068   \n",
       "DL                               2573                   0          10144   \n",
       "EV                                987                  38           5698   \n",
       "F9                               1177                   0           4698   \n",
       "FL                               2282                   0           8862   \n",
       "HA                                368                   0             13   \n",
       "MQ                               3215                  10           9979   \n",
       "NW                               1483                  39          12667   \n",
       "OH                                104                  10           6240   \n",
       "OO                               4531                 122           9288   \n",
       "UA                               1923                   0           8564   \n",
       "US                               1835                  58           9237   \n",
       "WN                               9086                 295          20466   \n",
       "XE                               2019                 192          10956   \n",
       "YV                                464                  47           2860   \n",
       "\n",
       "               WeatherDelayCount  CarrierDelayCount  UniqueCarrierCount  \\\n",
       "UniqueCarrier                                                             \n",
       "9E                           155               1032              177627   \n",
       "AA                           536               4864              340780   \n",
       "AQ                             0                 29                6519   \n",
       "AS                            68               1417              106312   \n",
       "B6                            12               1085              102867   \n",
       "CO                           172               1810              162159   \n",
       "DL                           131               2885              249612   \n",
       "EV                           239               2444              184023   \n",
       "F9                           141               2424               73843   \n",
       "FL                            76               3103              184947   \n",
       "HA                            48                448               47723   \n",
       "MQ                           458               2981              328469   \n",
       "NW                           218               4347              233742   \n",
       "OH                           721               2292              119626   \n",
       "OO                           347               5901              429857   \n",
       "UA                           145               2537              237746   \n",
       "US                           125               4057              287174   \n",
       "WN                           419               7731              899734   \n",
       "XE                           325               3014              254882   \n",
       "YV                           126               2869              170669   \n",
       "\n",
       "               ArrDelaycount  \n",
       "UniqueCarrier                 \n",
       "9E                     31574  \n",
       "AA                     96860  \n",
       "AQ                      1324  \n",
       "AS                     30643  \n",
       "B6                     21414  \n",
       "CO                     43855  \n",
       "DL                     70357  \n",
       "EV                     42531  \n",
       "F9                     27340  \n",
       "FL                     54919  \n",
       "HA                     10330  \n",
       "MQ                     77260  \n",
       "NW                     70043  \n",
       "OH                     36820  \n",
       "OO                    106380  \n",
       "UA                     55197  \n",
       "US                     58652  \n",
       "WN                    218005  \n",
       "XE                     67731  \n",
       "YV                     44984  "
      ]
     },
     "execution_count": 146,
     "metadata": {},
     "output_type": "execute_result"
    }
   ],
   "source": [
    "df_delay = pd.merge(df_delay, df_row,  on='UniqueCarrier', how='inner')\n",
    "df_delay"
   ]
  },
  {
   "cell_type": "code",
   "execution_count": 147,
   "metadata": {},
   "outputs": [
    {
     "data": {
      "image/png": "[encoded data removed]",
      "text/plain": [
       "<Figure size 1260x1260 with 56 Axes>"
      ]
     },
     "metadata": {
      "needs_background": "light"
     },
     "output_type": "display_data"
    }
   ],
   "source": [
    "sns.pairplot(df_delay, size = 2.5);"
   ]
  },
  {
   "cell_type": "code",
   "execution_count": 148,
   "metadata": {},
   "outputs": [
    {
     "data": {
      "image/png": "[encoded data removed]",
      "text/plain": [
       "<Figure size 1080x720 with 2 Axes>"
      ]
     },
     "metadata": {
      "needs_background": "light"
     },
     "output_type": "display_data"
    }
   ],
   "source": [
    "#correlation matrix\n",
    "corrmat = df_delay.corr()\n",
    "f, ax = plt.subplots(figsize=(15, 10))\n",
    "sns.heatmap(corrmat, vmin=-1, square=True, annot=True, fmt='.2f', cmap='vlag_r', center=0);"
   ]
  },
  {
   "cell_type": "code",
   "execution_count": 149,
   "metadata": {},
   "outputs": [],
   "source": [
    "df_delay['pct'] = (df_delay['ArrDelaycount'].astype(float)/df_delay['UniqueCarrierCount'].astype(float)).round(2)"
   ]
  },
  {
   "cell_type": "code",
   "execution_count": 150,
   "metadata": {},
   "outputs": [
    {
     "data": {
      "text/html": [
       "<div>\n",
       "<style scoped>\n",
       "    .dataframe tbody tr th:only-of-type {\n",
       "        vertical-align: middle;\n",
       "    }\n",
       "\n",
       "    .dataframe tbody tr th {\n",
       "        vertical-align: top;\n",
       "    }\n",
       "\n",
       "    .dataframe thead th {\n",
       "        text-align: right;\n",
       "    }\n",
       "</style>\n",
       "<table border=\"1\" class=\"dataframe\">\n",
       "  <thead>\n",
       "    <tr style=\"text-align: right;\">\n",
       "      <th></th>\n",
       "      <th>LateAircraftDelayCount</th>\n",
       "      <th>SecurityDelayCount</th>\n",
       "      <th>NASDelayCount</th>\n",
       "      <th>WeatherDelayCount</th>\n",
       "      <th>CarrierDelayCount</th>\n",
       "      <th>UniqueCarrierCount</th>\n",
       "      <th>ArrDelaycount</th>\n",
       "      <th>pct</th>\n",
       "    </tr>\n",
       "    <tr>\n",
       "      <th>UniqueCarrier</th>\n",
       "      <th></th>\n",
       "      <th></th>\n",
       "      <th></th>\n",
       "      <th></th>\n",
       "      <th></th>\n",
       "      <th></th>\n",
       "      <th></th>\n",
       "      <th></th>\n",
       "    </tr>\n",
       "  </thead>\n",
       "  <tbody>\n",
       "    <tr>\n",
       "      <th>9E</th>\n",
       "      <td>661</td>\n",
       "      <td>7</td>\n",
       "      <td>4185</td>\n",
       "      <td>155</td>\n",
       "      <td>1032</td>\n",
       "      <td>177627</td>\n",
       "      <td>31574</td>\n",
       "      <td>0.18</td>\n",
       "    </tr>\n",
       "    <tr>\n",
       "      <th>AA</th>\n",
       "      <td>3125</td>\n",
       "      <td>18</td>\n",
       "      <td>15913</td>\n",
       "      <td>536</td>\n",
       "      <td>4864</td>\n",
       "      <td>340780</td>\n",
       "      <td>96860</td>\n",
       "      <td>0.28</td>\n",
       "    </tr>\n",
       "    <tr>\n",
       "      <th>AQ</th>\n",
       "      <td>14</td>\n",
       "      <td>2</td>\n",
       "      <td>2</td>\n",
       "      <td>0</td>\n",
       "      <td>29</td>\n",
       "      <td>6519</td>\n",
       "      <td>1324</td>\n",
       "      <td>0.20</td>\n",
       "    </tr>\n",
       "    <tr>\n",
       "      <th>AS</th>\n",
       "      <td>1129</td>\n",
       "      <td>55</td>\n",
       "      <td>5721</td>\n",
       "      <td>68</td>\n",
       "      <td>1417</td>\n",
       "      <td>106312</td>\n",
       "      <td>30643</td>\n",
       "      <td>0.29</td>\n",
       "    </tr>\n",
       "    <tr>\n",
       "      <th>B6</th>\n",
       "      <td>786</td>\n",
       "      <td>16</td>\n",
       "      <td>3631</td>\n",
       "      <td>12</td>\n",
       "      <td>1085</td>\n",
       "      <td>102867</td>\n",
       "      <td>21414</td>\n",
       "      <td>0.21</td>\n",
       "    </tr>\n",
       "    <tr>\n",
       "      <th>CO</th>\n",
       "      <td>573</td>\n",
       "      <td>128</td>\n",
       "      <td>6068</td>\n",
       "      <td>172</td>\n",
       "      <td>1810</td>\n",
       "      <td>162159</td>\n",
       "      <td>43855</td>\n",
       "      <td>0.27</td>\n",
       "    </tr>\n",
       "    <tr>\n",
       "      <th>DL</th>\n",
       "      <td>2573</td>\n",
       "      <td>0</td>\n",
       "      <td>10144</td>\n",
       "      <td>131</td>\n",
       "      <td>2885</td>\n",
       "      <td>249612</td>\n",
       "      <td>70357</td>\n",
       "      <td>0.28</td>\n",
       "    </tr>\n",
       "    <tr>\n",
       "      <th>EV</th>\n",
       "      <td>987</td>\n",
       "      <td>38</td>\n",
       "      <td>5698</td>\n",
       "      <td>239</td>\n",
       "      <td>2444</td>\n",
       "      <td>184023</td>\n",
       "      <td>42531</td>\n",
       "      <td>0.23</td>\n",
       "    </tr>\n",
       "    <tr>\n",
       "      <th>F9</th>\n",
       "      <td>1177</td>\n",
       "      <td>0</td>\n",
       "      <td>4698</td>\n",
       "      <td>141</td>\n",
       "      <td>2424</td>\n",
       "      <td>73843</td>\n",
       "      <td>27340</td>\n",
       "      <td>0.37</td>\n",
       "    </tr>\n",
       "    <tr>\n",
       "      <th>FL</th>\n",
       "      <td>2282</td>\n",
       "      <td>0</td>\n",
       "      <td>8862</td>\n",
       "      <td>76</td>\n",
       "      <td>3103</td>\n",
       "      <td>184947</td>\n",
       "      <td>54919</td>\n",
       "      <td>0.30</td>\n",
       "    </tr>\n",
       "    <tr>\n",
       "      <th>HA</th>\n",
       "      <td>368</td>\n",
       "      <td>0</td>\n",
       "      <td>13</td>\n",
       "      <td>48</td>\n",
       "      <td>448</td>\n",
       "      <td>47723</td>\n",
       "      <td>10330</td>\n",
       "      <td>0.22</td>\n",
       "    </tr>\n",
       "    <tr>\n",
       "      <th>MQ</th>\n",
       "      <td>3215</td>\n",
       "      <td>10</td>\n",
       "      <td>9979</td>\n",
       "      <td>458</td>\n",
       "      <td>2981</td>\n",
       "      <td>328469</td>\n",
       "      <td>77260</td>\n",
       "      <td>0.24</td>\n",
       "    </tr>\n",
       "    <tr>\n",
       "      <th>NW</th>\n",
       "      <td>1483</td>\n",
       "      <td>39</td>\n",
       "      <td>12667</td>\n",
       "      <td>218</td>\n",
       "      <td>4347</td>\n",
       "      <td>233742</td>\n",
       "      <td>70043</td>\n",
       "      <td>0.30</td>\n",
       "    </tr>\n",
       "    <tr>\n",
       "      <th>OH</th>\n",
       "      <td>104</td>\n",
       "      <td>10</td>\n",
       "      <td>6240</td>\n",
       "      <td>721</td>\n",
       "      <td>2292</td>\n",
       "      <td>119626</td>\n",
       "      <td>36820</td>\n",
       "      <td>0.31</td>\n",
       "    </tr>\n",
       "    <tr>\n",
       "      <th>OO</th>\n",
       "      <td>4531</td>\n",
       "      <td>122</td>\n",
       "      <td>9288</td>\n",
       "      <td>347</td>\n",
       "      <td>5901</td>\n",
       "      <td>429857</td>\n",
       "      <td>106380</td>\n",
       "      <td>0.25</td>\n",
       "    </tr>\n",
       "    <tr>\n",
       "      <th>UA</th>\n",
       "      <td>1923</td>\n",
       "      <td>0</td>\n",
       "      <td>8564</td>\n",
       "      <td>145</td>\n",
       "      <td>2537</td>\n",
       "      <td>237746</td>\n",
       "      <td>55197</td>\n",
       "      <td>0.23</td>\n",
       "    </tr>\n",
       "    <tr>\n",
       "      <th>US</th>\n",
       "      <td>1835</td>\n",
       "      <td>58</td>\n",
       "      <td>9237</td>\n",
       "      <td>125</td>\n",
       "      <td>4057</td>\n",
       "      <td>287174</td>\n",
       "      <td>58652</td>\n",
       "      <td>0.20</td>\n",
       "    </tr>\n",
       "    <tr>\n",
       "      <th>WN</th>\n",
       "      <td>9086</td>\n",
       "      <td>295</td>\n",
       "      <td>20466</td>\n",
       "      <td>419</td>\n",
       "      <td>7731</td>\n",
       "      <td>899734</td>\n",
       "      <td>218005</td>\n",
       "      <td>0.24</td>\n",
       "    </tr>\n",
       "    <tr>\n",
       "      <th>XE</th>\n",
       "      <td>2019</td>\n",
       "      <td>192</td>\n",
       "      <td>10956</td>\n",
       "      <td>325</td>\n",
       "      <td>3014</td>\n",
       "      <td>254882</td>\n",
       "      <td>67731</td>\n",
       "      <td>0.27</td>\n",
       "    </tr>\n",
       "    <tr>\n",
       "      <th>YV</th>\n",
       "      <td>464</td>\n",
       "      <td>47</td>\n",
       "      <td>2860</td>\n",
       "      <td>126</td>\n",
       "      <td>2869</td>\n",
       "      <td>170669</td>\n",
       "      <td>44984</td>\n",
       "      <td>0.26</td>\n",
       "    </tr>\n",
       "  </tbody>\n",
       "</table>\n",
       "</div>"
      ],
      "text/plain": [
       "               LateAircraftDelayCount  SecurityDelayCount  NASDelayCount  \\\n",
       "UniqueCarrier                                                              \n",
       "9E                                661                   7           4185   \n",
       "AA                               3125                  18          15913   \n",
       "AQ                                 14                   2              2   \n",
       "AS                               1129                  55           5721   \n",
       "B6                                786                  16           3631   \n",
       "CO                                573                 128           6068   \n",
       "DL                               2573                   0          10144   \n",
       "EV                                987                  38           5698   \n",
       "F9                               1177                   0           4698   \n",
       "FL                               2282                   0           8862   \n",
       "HA                                368                   0             13   \n",
       "MQ                               3215                  10           9979   \n",
       "NW                               1483                  39          12667   \n",
       "OH                                104                  10           6240   \n",
       "OO                               4531                 122           9288   \n",
       "UA                               1923                   0           8564   \n",
       "US                               1835                  58           9237   \n",
       "WN                               9086                 295          20466   \n",
       "XE                               2019                 192          10956   \n",
       "YV                                464                  47           2860   \n",
       "\n",
       "               WeatherDelayCount  CarrierDelayCount  UniqueCarrierCount  \\\n",
       "UniqueCarrier                                                             \n",
       "9E                           155               1032              177627   \n",
       "AA                           536               4864              340780   \n",
       "AQ                             0                 29                6519   \n",
       "AS                            68               1417              106312   \n",
       "B6                            12               1085              102867   \n",
       "CO                           172               1810              162159   \n",
       "DL                           131               2885              249612   \n",
       "EV                           239               2444              184023   \n",
       "F9                           141               2424               73843   \n",
       "FL                            76               3103              184947   \n",
       "HA                            48                448               47723   \n",
       "MQ                           458               2981              328469   \n",
       "NW                           218               4347              233742   \n",
       "OH                           721               2292              119626   \n",
       "OO                           347               5901              429857   \n",
       "UA                           145               2537              237746   \n",
       "US                           125               4057              287174   \n",
       "WN                           419               7731              899734   \n",
       "XE                           325               3014              254882   \n",
       "YV                           126               2869              170669   \n",
       "\n",
       "               ArrDelaycount   pct  \n",
       "UniqueCarrier                       \n",
       "9E                     31574  0.18  \n",
       "AA                     96860  0.28  \n",
       "AQ                      1324  0.20  \n",
       "AS                     30643  0.29  \n",
       "B6                     21414  0.21  \n",
       "CO                     43855  0.27  \n",
       "DL                     70357  0.28  \n",
       "EV                     42531  0.23  \n",
       "F9                     27340  0.37  \n",
       "FL                     54919  0.30  \n",
       "HA                     10330  0.22  \n",
       "MQ                     77260  0.24  \n",
       "NW                     70043  0.30  \n",
       "OH                     36820  0.31  \n",
       "OO                    106380  0.25  \n",
       "UA                     55197  0.23  \n",
       "US                     58652  0.20  \n",
       "WN                    218005  0.24  \n",
       "XE                     67731  0.27  \n",
       "YV                     44984  0.26  "
      ]
     },
     "execution_count": 150,
     "metadata": {},
     "output_type": "execute_result"
    }
   ],
   "source": [
    "df_delay"
   ]
  },
  {
   "cell_type": "code",
   "execution_count": 152,
   "metadata": {
    "slideshow": {
     "slide_type": "slide"
    }
   },
   "outputs": [
    {
     "data": {
      "image/png": "[encoded data removed]",
      "text/plain": [
       "<Figure size 720x504 with 1 Axes>"
      ]
     },
     "metadata": {},
     "output_type": "display_data"
    }
   ],
   "source": [
    "wethear_sum   = df_delay['WeatherDelayCount'].sum()\n",
    "nas_sum       = df_delay['NASDelayCount'].sum()\n",
    "carrier_sum   = df_delay['CarrierDelayCount'].sum()\n",
    "security_sum  = df_delay['SecurityDelayCount'].sum()\n",
    "aircraft_sum  = df_delay['LateAircraftDelayCount'].sum()\n",
    "#ArrDelaycount_sum = df_delay['ArrDelaycount'].sum()\n",
    "\n",
    "num_of_overall = wethear_sum + nas_sum + carrier_sum + security_sum + aircraft_sum\n",
    "\n",
    "wethear_sum  = (wethear_sum/num_of_overall).round(2)*100\n",
    "nas_sum      = (nas_sum/num_of_overall).round(2)*100\n",
    "carrier_sum  = (carrier_sum/num_of_overall).round(2)*100\n",
    "security_sum = (security_sum/num_of_overall).round(2)*100\n",
    "aircraft_sum = (aircraft_sum/num_of_overall).round(2)*100\n",
    "\n",
    "plt.figure(figsize=(10,7))\n",
    "X = ['weather delays' , 'nas delays','carrier delays','late air craft','secuirity delays']\n",
    "Y = [wethear_sum, nas_sum, carrier_sum, aircraft_sum, security_sum]\n",
    "plt.pie(Y, labels=X , explode=[0.09,0,0,0,0.3],  autopct='%1.2f%%');\n",
    "plt.title('Contribution of each Delay reason to overall delays');"
   ]
  },
  {
   "cell_type": "markdown",
   "metadata": {
    "slideshow": {
     "slide_type": "slide"
    }
   },
   "source": [
    "We also see that the weather is not the main reason for delays. Weather only contributes to 2% of the delays."
   ]
  },
  {
   "cell_type": "markdown",
   "metadata": {},
   "source": [
    "> At the end of your report, make sure that you export the notebook as an\n",
    "html file from the `File > Download as... > HTML` menu. Make sure you keep\n",
    "track of where the exported file goes, so you can put it in the same folder\n",
    "as this notebook for project submission. Also, make sure you remove all of\n",
    "the quote-formatted guide notes like this one before you finish your report!"
   ]
  }
 ],
 "metadata": {
  "celltoolbar": "Slideshow",
  "kernelspec": {
   "display_name": "Python 3",
   "language": "python",
   "name": "python3"
  },
  "language_info": {
   "codemirror_mode": {
    "name": "ipython",
    "version": 3
   },
   "file_extension": ".py",
   "mimetype": "text/x-python",
   "name": "python",
   "nbconvert_exporter": "python",
   "pygments_lexer": "ipython3",
   "version": "3.8.8"
  }
 },
 "nbformat": 4,
 "nbformat_minor": 2
}
