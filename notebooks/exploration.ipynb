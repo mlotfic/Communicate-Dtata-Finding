{
 "cells": [
  {
   "cell_type": "markdown",
   "metadata": {
    "slideshow": {
     "slide_type": "slide"
    }
   },
   "source": [
    "# Data Expo 2009 - Airline on-time performance\n",
    "## by (Mahmoud Lotfi)\n",
    "\n",
    "## Preliminary Wrangling\n",
    "\n",
    "- The data consists of flight arrival and departure details for all commercial flights within the USA, from October 1987 to April 2008. \n",
    "- This is a large dataset: there are nearly 120 million records in total, and takes up 1.6 gigabytes of space compressed and 12 gigabytes when uncompressed. \n",
    "- The data comes originally from RITA where it is described in detail. \n",
    "- the data in bzipped csv file. \n",
    "- These files have derivable variables removed, are packaged in yearly chunks and have been more heavily compressed than the originals.\n",
    "- in this project we will discuss flight delay for __2008__ data set"
   ]
  },
  {
   "cell_type": "markdown",
   "metadata": {
    "slideshow": {
     "slide_type": "subslide"
    }
   },
   "source": [
    "### Individual years:\n",
    "\n",
    "1987, 1988, 1989, 1990, 1991, 1992, 1993, 1994, 1995, 1996, 1997, 1998, 1999, 2000, 2001, 2002, 2003, 2004, 2005, 2006, 2007, 2008\n",
    "\n",
    "### Our scope on 2008 dataset"
   ]
  },
  {
   "cell_type": "markdown",
   "metadata": {
    "slideshow": {
     "slide_type": "notes"
    }
   },
   "source": [
    "## How to Run the project:\n",
    "- Insrt raw data download in __\"./data/raw\"__\n",
    "- Run the script __\"Communicate-Dtata-Finding\\src\\data\\make_dataset.py\"__\n",
    "- Now you can find output data from script  __\"Communicate-Dtata-Finding/data/interim/*.csv\"__\n",
    "- Run the notebook in __\"Communicate-Dtata-Finding\\notebooks\\exploration.ipynb\"__ to find __Exploratory data__\n",
    "- Run the notebook in __\"Communicate-Dtata-Finding\\notebooks\\explanatory.ipynb\"__ to find __Explanatory data__"
   ]
  },
  {
   "cell_type": "code",
   "execution_count": 1,
   "metadata": {
    "slideshow": {
     "slide_type": "skip"
    }
   },
   "outputs": [],
   "source": [
    "# import all packages and set plots to be embedded inline\n",
    "import numpy as np\n",
    "import pandas as pd\n",
    "import matplotlib.pyplot as plt\n",
    "import seaborn as sns\n",
    "import time\n",
    "\n",
    "# display static image online \n",
    "%matplotlib inline\n",
    "\n",
    "# display zoomable images inline\n",
    "#%matplotlib notebook\n",
    "\n",
    "# suppress warnings from final output\n",
    "import warnings\n",
    "warnings.simplefilter(\"ignore\")"
   ]
  },
  {
   "cell_type": "markdown",
   "metadata": {
    "slideshow": {
     "slide_type": "notes"
    }
   },
   "source": [
    "### User define function and general configrations"
   ]
  },
  {
   "cell_type": "code",
   "execution_count": 2,
   "metadata": {
    "slideshow": {
     "slide_type": "notes"
    }
   },
   "outputs": [
    {
     "data": {
      "text/plain": [
       "'\\n# center plot figure\\nfrom IPython.core.display import HTML\\nHTML(\\n    \"\"\"\\n    <style>    .output_png \\n    {    \\n    display: table-cell;    \\n    text-align: center;    \\n    vertical-align: \\n    middle;\\n    }\\n    </style>\\n    \"\"\"\\n    )\\n\\n'"
      ]
     },
     "execution_count": 2,
     "metadata": {},
     "output_type": "execute_result"
    }
   ],
   "source": [
    "'''\n",
    "# center plot figure\n",
    "from IPython.core.display import HTML\n",
    "HTML(\n",
    "    \"\"\"\n",
    "    <style>    .output_png \n",
    "    {    \n",
    "    display: table-cell;    \n",
    "    text-align: center;    \n",
    "    vertical-align: \n",
    "    middle;\n",
    "    }\n",
    "    </style>\n",
    "    \"\"\"\n",
    "    )\n",
    "\n",
    "'''"
   ]
  },
  {
   "cell_type": "code",
   "execution_count": 3,
   "metadata": {
    "slideshow": {
     "slide_type": "skip"
    }
   },
   "outputs": [],
   "source": [
    "# reset seaborn settings\n",
    "sns.reset_orig()\n",
    "# set plotting color\n",
    "base_color = sns.color_palette()[0]"
   ]
  },
  {
   "cell_type": "code",
   "execution_count": 4,
   "metadata": {
    "slideshow": {
     "slide_type": "skip"
    }
   },
   "outputs": [],
   "source": [
    "def load_dataset(name='flights'):\n",
    "    '''\n",
    "    Description: load dataset acoordding to year\n",
    "    parameter name string flights, diverted, canceled\n",
    "    return dataframe\n",
    "    '''\n",
    "    t1 = time.time()\n",
    "    df = pd.read_csv('../data/interim/{}.csv'.format(name))\n",
    "    t2 = time.time()\n",
    "    print('Elapsed loading time :', t2-t1)\n",
    "    return df"
   ]
  },
  {
   "cell_type": "code",
   "execution_count": 88,
   "metadata": {
    "slideshow": {
     "slide_type": "skip"
    }
   },
   "outputs": [],
   "source": [
    "def plot_bar_str(df, col, inc=1, base_color=sns.color_palette()[0] , \n",
    "                            title = None ,  fontsize =40, \n",
    "                            figsize = None, rotation = 0, \n",
    "                 log =None):\n",
    "    '''\n",
    "    Description: custom bar plot\n",
    "    parameter   df : dataframe\n",
    "                col: destent colunm \n",
    "                inc: increment value for yaxis \n",
    "                base_color : bar color\n",
    "                title: chart title\n",
    "                fontsize: font size\n",
    "                figsize: chart size \n",
    "                rotation: x-axis label rotation\n",
    "                log : y-axis log scale\n",
    "    return dataframe\n",
    "    '''\n",
    "    month_frq = df[col].value_counts()\n",
    "    month_max_count = month_frq[0]\n",
    "    if figsize: plt.figure(figsize=figsize)\n",
    "    if not log:\n",
    "        month_max_prop = month_max_count/1000\n",
    "        tick_prop = np.arange(0, month_max_prop, inc)\n",
    "        tick_names = ['{:0.0f}K'.format(v) for v in tick_prop]\n",
    "        plt.yticks(tick_prop*1000, tick_names)  \n",
    "    ax = plt.gca()\n",
    "    ax.spines[\"top\"].set_visible(False)\n",
    "    ax.spines[\"right\"].set_visible(False)\n",
    "    ax.spines[\"left\"].set_visible(False)\n",
    "    plt.xticks(rotation=rotation)\n",
    "    sns.countplot(data = flights, x=col, color = base_color, ax=ax);\n",
    "    if  log  : \n",
    "        plt.yscale('log')\n",
    "    if  title: \n",
    "        plt.title( label = title, fontsize=fontsize)  \n",
    "    plt.grid()\n",
    "    return ax"
   ]
  },
  {
   "cell_type": "code",
   "execution_count": 6,
   "metadata": {
    "slideshow": {
     "slide_type": "skip"
    }
   },
   "outputs": [],
   "source": [
    "def sort_time_fmt(df1, col):\n",
    "    '''\n",
    "    Description: create new dataframe contain hour, \n",
    "                frequency order by hour mintes from string format column dataframe\n",
    "    parameter :\n",
    "       df1 : dataframe\n",
    "       col: target column\n",
    "    return dataframe\n",
    "    '''\n",
    "    df = df1[col].value_counts().to_frame()\n",
    "    df['hours'] = pd.to_datetime(df.index, format='%I:%M %p').hour\n",
    "    df['minutes'] = pd.to_datetime(df.index, format='%I:%M %p').minute\n",
    "    df = df.reset_index()\n",
    "    df.columns = [col, 'frequency' , 'hours' , 'minutes']\n",
    "    df = df.sort_values(['hours', 'minutes'])\n",
    "    df = df.drop(columns=['minutes'])\n",
    "    df = df.groupby('hours').sum().reset_index()\n",
    "    df.columns = [col, 'frequency']   \n",
    "    return df"
   ]
  },
  {
   "cell_type": "code",
   "execution_count": 7,
   "metadata": {
    "slideshow": {
     "slide_type": "skip"
    }
   },
   "outputs": [],
   "source": [
    "def plot_line_time_fmt(df, x, y='frequency', figsize=(12, 4),  \n",
    "                            title = None ,  fontsize =40, \n",
    "                            xtitle= None , xfontsize =18,\n",
    "                            ytitle= None , yfontsize =18, \n",
    "                            rotation = 0 ):\n",
    "    '''\n",
    "    Description: custom line plot\n",
    "    parameter :\n",
    "       df : dataframe\n",
    "       x,y : target column axes\n",
    "       figsize : chart frame size\n",
    "       title , fontsize : title label and size\n",
    "       xtitle , xfontsize : title label and size\n",
    "       ytitle , yfontsize : title label and size\n",
    "       \n",
    "    return dataframe\n",
    "    '''\n",
    "    order = df.index\n",
    "    max_count = df[y].max()\n",
    "    max_prop = max_count/1000\n",
    "    tick_prop = np.arange(0, max_prop, 100)\n",
    "    tick_names = ['{:0.0f}K'.format(v) for v in tick_prop]\n",
    "    plt.figure(figsize=figsize)\n",
    "    ax = plt.gca()\n",
    "    ax.spines[\"top\"].set_visible(False)\n",
    "    ax.spines[\"right\"].set_visible(False)\n",
    "    ax.spines[\"left\"].set_visible(False)\n",
    "    plt.yticks(tick_prop*1000, tick_names)        \n",
    "    if  title: plt.title( label=title, fontsize=fontsize)  \n",
    "    if xtitle: plt.xlabel(label=xtitle, fontsize=xfontsize)\n",
    "    if ytitle: plt.ylabel(label=ytitle, fontsize=yfontsize)\n",
    "    df.plot(x=x, y=y, ax =ax);\n",
    "    plt.grid()"
   ]
  },
  {
   "cell_type": "code",
   "execution_count": 8,
   "metadata": {
    "slideshow": {
     "slide_type": "skip"
    }
   },
   "outputs": [],
   "source": [
    "def plot_hist(col, inc, \n",
    "                            title = None ,  fontsize =40, \n",
    "                            xtitle= None , xfontsize =18,\n",
    "                            ytitle= None , yfontsize =18, \n",
    "                            figsize = None,rotation = 0,             \n",
    "                            log =None , scale=1):\n",
    "    '''\n",
    "    Description: custom hist plot\n",
    "    parameter :\n",
    "       col : col from dataframe \n",
    "       inc : y increment value\n",
    "       figsize : chart frame size\n",
    "       title , fontsize : title label and size\n",
    "       xtitle , xfontsize : title label and size\n",
    "       ytitle , yfontsize : title label and size\n",
    "       \n",
    "    return dataframe\n",
    "    '''\n",
    "    if scale == 1000:\n",
    "        k='K'\n",
    "    else:\n",
    "        k=''\n",
    "    inc = 1\n",
    "    max_prop = (1.25*flights['ActualElapsedTimePmile'].max())/scale\n",
    "    tick_prop = np.arange(0, max_prop, inc)\n",
    "    tick_names = ['{:0.0f}{}'.format(v,k) for v in tick_prop]\n",
    "    if figsize:  plt.figure(figsize=figsize)\n",
    "\n",
    "    plt.yticks(tick_prop*scale, tick_names)\n",
    "    ax = plt.gca()\n",
    "\n",
    "    plt.xticks(rotation=rotation)\n",
    "    if log: plt.yscale('log')\n",
    "    plt.grid(alpha= 0.2)\n",
    "    sns.distplot(flights['ActualElapsedTimePmile'], ax=ax);\n",
    "    \n",
    "    plt.xlim(right=1);  # adjust the right leaving left unchanged\n",
    "    plt.xlim(left=0);  # adjust the left leaving right unchanged\n",
    "    \n",
    "    ax.spines[\"top\"].set_visible(False)\n",
    "    ax.spines[\"right\"].set_visible(False)\n",
    "    ax.spines[\"left\"].set_visible(False)\n",
    "    if  title: plt.title( label=title, fontsize=fontsize)  \n",
    "    if xtitle: plt.xlabel(label=title, fontsize=xfontsize)\n",
    "    if ytitle: plt.ylabel(label=title, fontsize=yfontsize)\n",
    "    plt.grid()"
   ]
  },
  {
   "cell_type": "code",
   "execution_count": 9,
   "metadata": {
    "slideshow": {
     "slide_type": "skip"
    }
   },
   "outputs": [
    {
     "data": {
      "text/plain": [
       "\"\\n# relative frequency\\n# return the highest frequency \\nmonth_max_count = month_frq[0]\\nmonth_max_prop = month_max_count/flights.shape[0]\\ntick_prop = np.arange(0, month_max_prop, 0.02)\\ntick_names = ['{:0.2f}'.format(v) for v in tick_prop]\\nplt.yticks(tick_prop*flights.shape[0], tick_names)\\nplt.grid()\\nsns.countplot(data = flights, x='Month', color = base_color, order = month_frq.index);\\n\""
      ]
     },
     "execution_count": 9,
     "metadata": {},
     "output_type": "execute_result"
    }
   ],
   "source": [
    "'''\n",
    "# relative frequency\n",
    "# return the highest frequency \n",
    "month_max_count = month_frq[0]\n",
    "month_max_prop = month_max_count/flights.shape[0]\n",
    "tick_prop = np.arange(0, month_max_prop, 0.02)\n",
    "tick_names = ['{:0.2f}'.format(v) for v in tick_prop]\n",
    "plt.yticks(tick_prop*flights.shape[0], tick_names)\n",
    "plt.grid()\n",
    "sns.countplot(data = flights, x='Month', color = base_color, order = month_frq.index);\n",
    "'''"
   ]
  },
  {
   "cell_type": "markdown",
   "metadata": {
    "slideshow": {
     "slide_type": "skip"
    }
   },
   "source": [
    "#### Run \"../src/data/make_dataset.py\" to divide the data set into three part for easier handling nan values\n",
    "the output of the script in:\n",
    "- ../data/interim/flights.csv\n",
    "- ../data/interim/diverted.csv\n",
    "- ../data/interim/canceled.csv"
   ]
  },
  {
   "cell_type": "markdown",
   "metadata": {
    "slideshow": {
     "slide_type": "skip"
    }
   },
   "source": []
  },
  {
   "cell_type": "code",
   "execution_count": 10,
   "metadata": {
    "slideshow": {
     "slide_type": "skip"
    }
   },
   "outputs": [
    {
     "name": "stdout",
     "output_type": "stream",
     "text": [
      "Elapsed loading time : 29.29810094833374\n",
      "(7009728, 26)\n"
     ]
    },
    {
     "data": {
      "text/html": [
       "<div>\n",
       "<style scoped>\n",
       "    .dataframe tbody tr th:only-of-type {\n",
       "        vertical-align: middle;\n",
       "    }\n",
       "\n",
       "    .dataframe tbody tr th {\n",
       "        vertical-align: top;\n",
       "    }\n",
       "\n",
       "    .dataframe thead th {\n",
       "        text-align: right;\n",
       "    }\n",
       "</style>\n",
       "<table border=\"1\" class=\"dataframe\">\n",
       "  <thead>\n",
       "    <tr style=\"text-align: right;\">\n",
       "      <th></th>\n",
       "      <th>Year</th>\n",
       "      <th>Month</th>\n",
       "      <th>DayofMonth</th>\n",
       "      <th>DayOfWeek</th>\n",
       "      <th>DepTime</th>\n",
       "      <th>CRSDepTime</th>\n",
       "      <th>ArrTime</th>\n",
       "      <th>CRSArrTime</th>\n",
       "      <th>UniqueCarrier</th>\n",
       "      <th>FlightNum</th>\n",
       "      <th>...</th>\n",
       "      <th>Origin</th>\n",
       "      <th>Dest</th>\n",
       "      <th>Distance</th>\n",
       "      <th>TaxiIn</th>\n",
       "      <th>TaxiOut</th>\n",
       "      <th>CarrierDelay</th>\n",
       "      <th>WeatherDelay</th>\n",
       "      <th>NASDelay</th>\n",
       "      <th>SecurityDelay</th>\n",
       "      <th>LateAircraftDelay</th>\n",
       "    </tr>\n",
       "  </thead>\n",
       "  <tbody>\n",
       "    <tr>\n",
       "      <th>0</th>\n",
       "      <td>2008</td>\n",
       "      <td>1</td>\n",
       "      <td>3</td>\n",
       "      <td>4</td>\n",
       "      <td>08:03 PM</td>\n",
       "      <td>07:55 PM</td>\n",
       "      <td>10:11 PM</td>\n",
       "      <td>10:25 PM</td>\n",
       "      <td>WN</td>\n",
       "      <td>335</td>\n",
       "      <td>...</td>\n",
       "      <td>IAD</td>\n",
       "      <td>TPA</td>\n",
       "      <td>810</td>\n",
       "      <td>4.0</td>\n",
       "      <td>8.0</td>\n",
       "      <td>0</td>\n",
       "      <td>0</td>\n",
       "      <td>0</td>\n",
       "      <td>0</td>\n",
       "      <td>0</td>\n",
       "    </tr>\n",
       "    <tr>\n",
       "      <th>1</th>\n",
       "      <td>2008</td>\n",
       "      <td>1</td>\n",
       "      <td>3</td>\n",
       "      <td>4</td>\n",
       "      <td>07:54 AM</td>\n",
       "      <td>07:35 AM</td>\n",
       "      <td>10:02 AM</td>\n",
       "      <td>10:00 AM</td>\n",
       "      <td>WN</td>\n",
       "      <td>3231</td>\n",
       "      <td>...</td>\n",
       "      <td>IAD</td>\n",
       "      <td>TPA</td>\n",
       "      <td>810</td>\n",
       "      <td>5.0</td>\n",
       "      <td>10.0</td>\n",
       "      <td>0</td>\n",
       "      <td>0</td>\n",
       "      <td>0</td>\n",
       "      <td>0</td>\n",
       "      <td>0</td>\n",
       "    </tr>\n",
       "    <tr>\n",
       "      <th>2</th>\n",
       "      <td>2008</td>\n",
       "      <td>1</td>\n",
       "      <td>3</td>\n",
       "      <td>4</td>\n",
       "      <td>06:28 AM</td>\n",
       "      <td>06:20 AM</td>\n",
       "      <td>08:04 AM</td>\n",
       "      <td>07:50 AM</td>\n",
       "      <td>WN</td>\n",
       "      <td>448</td>\n",
       "      <td>...</td>\n",
       "      <td>IND</td>\n",
       "      <td>BWI</td>\n",
       "      <td>515</td>\n",
       "      <td>3.0</td>\n",
       "      <td>17.0</td>\n",
       "      <td>0</td>\n",
       "      <td>0</td>\n",
       "      <td>0</td>\n",
       "      <td>0</td>\n",
       "      <td>0</td>\n",
       "    </tr>\n",
       "    <tr>\n",
       "      <th>3</th>\n",
       "      <td>2008</td>\n",
       "      <td>1</td>\n",
       "      <td>3</td>\n",
       "      <td>4</td>\n",
       "      <td>09:26 AM</td>\n",
       "      <td>09:30 AM</td>\n",
       "      <td>10:54 AM</td>\n",
       "      <td>11:00 AM</td>\n",
       "      <td>WN</td>\n",
       "      <td>1746</td>\n",
       "      <td>...</td>\n",
       "      <td>IND</td>\n",
       "      <td>BWI</td>\n",
       "      <td>515</td>\n",
       "      <td>3.0</td>\n",
       "      <td>7.0</td>\n",
       "      <td>0</td>\n",
       "      <td>0</td>\n",
       "      <td>0</td>\n",
       "      <td>0</td>\n",
       "      <td>0</td>\n",
       "    </tr>\n",
       "    <tr>\n",
       "      <th>4</th>\n",
       "      <td>2008</td>\n",
       "      <td>1</td>\n",
       "      <td>3</td>\n",
       "      <td>4</td>\n",
       "      <td>06:29 PM</td>\n",
       "      <td>05:55 PM</td>\n",
       "      <td>07:59 PM</td>\n",
       "      <td>07:25 PM</td>\n",
       "      <td>WN</td>\n",
       "      <td>3920</td>\n",
       "      <td>...</td>\n",
       "      <td>IND</td>\n",
       "      <td>BWI</td>\n",
       "      <td>515</td>\n",
       "      <td>3.0</td>\n",
       "      <td>10.0</td>\n",
       "      <td>2</td>\n",
       "      <td>0</td>\n",
       "      <td>0</td>\n",
       "      <td>0</td>\n",
       "      <td>32</td>\n",
       "    </tr>\n",
       "  </tbody>\n",
       "</table>\n",
       "<p>5 rows × 26 columns</p>\n",
       "</div>"
      ],
      "text/plain": [
       "   Year  Month  DayofMonth  DayOfWeek   DepTime CRSDepTime   ArrTime  \\\n",
       "0  2008      1           3          4  08:03 PM   07:55 PM  10:11 PM   \n",
       "1  2008      1           3          4  07:54 AM   07:35 AM  10:02 AM   \n",
       "2  2008      1           3          4  06:28 AM   06:20 AM  08:04 AM   \n",
       "3  2008      1           3          4  09:26 AM   09:30 AM  10:54 AM   \n",
       "4  2008      1           3          4  06:29 PM   05:55 PM  07:59 PM   \n",
       "\n",
       "  CRSArrTime UniqueCarrier  FlightNum  ... Origin  Dest  Distance  TaxiIn  \\\n",
       "0   10:25 PM            WN        335  ...    IAD   TPA       810     4.0   \n",
       "1   10:00 AM            WN       3231  ...    IAD   TPA       810     5.0   \n",
       "2   07:50 AM            WN        448  ...    IND   BWI       515     3.0   \n",
       "3   11:00 AM            WN       1746  ...    IND   BWI       515     3.0   \n",
       "4   07:25 PM            WN       3920  ...    IND   BWI       515     3.0   \n",
       "\n",
       "   TaxiOut  CarrierDelay WeatherDelay NASDelay  SecurityDelay  \\\n",
       "0      8.0             0            0        0              0   \n",
       "1     10.0             0            0        0              0   \n",
       "2     17.0             0            0        0              0   \n",
       "3      7.0             0            0        0              0   \n",
       "4     10.0             2            0        0              0   \n",
       "\n",
       "   LateAircraftDelay  \n",
       "0                  0  \n",
       "1                  0  \n",
       "2                  0  \n",
       "3                  0  \n",
       "4                 32  \n",
       "\n",
       "[5 rows x 26 columns]"
      ]
     },
     "execution_count": 10,
     "metadata": {},
     "output_type": "execute_result"
    }
   ],
   "source": [
    "# now we will load flights dataset 2008\n",
    "flights = load_dataset()\n",
    "# print df size\n",
    "print(flights.shape)\n",
    "# dispay first 10 rows\n",
    "flights.head()"
   ]
  },
  {
   "cell_type": "code",
   "execution_count": 11,
   "metadata": {
    "slideshow": {
     "slide_type": "skip"
    }
   },
   "outputs": [
    {
     "name": "stdout",
     "output_type": "stream",
     "text": [
      "<class 'pandas.core.frame.DataFrame'>\n",
      "RangeIndex: 7009728 entries, 0 to 7009727\n",
      "Data columns (total 26 columns):\n",
      " #   Column             Dtype  \n",
      "---  ------             -----  \n",
      " 0   Year               int64  \n",
      " 1   Month              int64  \n",
      " 2   DayofMonth         int64  \n",
      " 3   DayOfWeek          int64  \n",
      " 4   DepTime            object \n",
      " 5   CRSDepTime         object \n",
      " 6   ArrTime            object \n",
      " 7   CRSArrTime         object \n",
      " 8   UniqueCarrier      object \n",
      " 9   FlightNum          int64  \n",
      " 10  TailNum            object \n",
      " 11  ActualElapsedTime  float64\n",
      " 12  CRSElapsedTime     float64\n",
      " 13  AirTime            float64\n",
      " 14  ArrDelay           float64\n",
      " 15  DepDelay           float64\n",
      " 16  Origin             object \n",
      " 17  Dest               object \n",
      " 18  Distance           int64  \n",
      " 19  TaxiIn             float64\n",
      " 20  TaxiOut            float64\n",
      " 21  CarrierDelay       int64  \n",
      " 22  WeatherDelay       int64  \n",
      " 23  NASDelay           int64  \n",
      " 24  SecurityDelay      int64  \n",
      " 25  LateAircraftDelay  int64  \n",
      "dtypes: float64(7), int64(11), object(8)\n",
      "memory usage: 1.4+ GB\n"
     ]
    }
   ],
   "source": [
    "# get df data types and schema\n",
    "flights.info()"
   ]
  },
  {
   "cell_type": "code",
   "execution_count": 12,
   "metadata": {
    "slideshow": {
     "slide_type": "skip"
    }
   },
   "outputs": [
    {
     "data": {
      "text/plain": [
       "Index(['Year', 'Month', 'DayofMonth', 'DayOfWeek', 'DepTime', 'CRSDepTime',\n",
       "       'ArrTime', 'CRSArrTime', 'UniqueCarrier', 'FlightNum', 'TailNum',\n",
       "       'ActualElapsedTime', 'CRSElapsedTime', 'AirTime', 'ArrDelay',\n",
       "       'DepDelay', 'Origin', 'Dest', 'Distance', 'TaxiIn', 'TaxiOut',\n",
       "       'CarrierDelay', 'WeatherDelay', 'NASDelay', 'SecurityDelay',\n",
       "       'LateAircraftDelay'],\n",
       "      dtype='object')"
      ]
     },
     "execution_count": 12,
     "metadata": {},
     "output_type": "execute_result"
    }
   ],
   "source": [
    "flights.columns"
   ]
  },
  {
   "cell_type": "code",
   "execution_count": 13,
   "metadata": {
    "slideshow": {
     "slide_type": "skip"
    }
   },
   "outputs": [],
   "source": [
    "totals_flights = flights.shape[0]"
   ]
  },
  {
   "cell_type": "code",
   "execution_count": 14,
   "metadata": {
    "slideshow": {
     "slide_type": "skip"
    }
   },
   "outputs": [
    {
     "data": {
      "text/plain": [
       "4"
      ]
     },
     "execution_count": 14,
     "metadata": {},
     "output_type": "execute_result"
    }
   ],
   "source": [
    "# find the number of duplicated rows\n",
    "flights.duplicated().sum()"
   ]
  },
  {
   "cell_type": "code",
   "execution_count": 15,
   "metadata": {
    "slideshow": {
     "slide_type": "skip"
    }
   },
   "outputs": [],
   "source": [
    "# drop duplicated rows\n",
    "flights = flights.drop_duplicates()"
   ]
  },
  {
   "cell_type": "code",
   "execution_count": 16,
   "metadata": {
    "slideshow": {
     "slide_type": "skip"
    }
   },
   "outputs": [
    {
     "data": {
      "text/plain": [
       "0"
      ]
     },
     "execution_count": 16,
     "metadata": {},
     "output_type": "execute_result"
    }
   ],
   "source": [
    "# check number of duplicated rows\n",
    "flights.duplicated().sum()"
   ]
  },
  {
   "cell_type": "code",
   "execution_count": 17,
   "metadata": {
    "slideshow": {
     "slide_type": "skip"
    }
   },
   "outputs": [
    {
     "data": {
      "text/plain": [
       "Year                      0\n",
       "Month                     0\n",
       "DayofMonth                0\n",
       "DayOfWeek                 0\n",
       "DepTime              136767\n",
       "CRSDepTime                0\n",
       "ArrTime              154326\n",
       "CRSArrTime              547\n",
       "UniqueCarrier             0\n",
       "FlightNum                 0\n",
       "TailNum               83365\n",
       "ActualElapsedTime    154699\n",
       "CRSElapsedTime          844\n",
       "AirTime              154699\n",
       "ArrDelay             154699\n",
       "DepDelay             136246\n",
       "Origin                    0\n",
       "Dest                      0\n",
       "Distance                  0\n",
       "TaxiIn               151649\n",
       "TaxiOut              137058\n",
       "CarrierDelay              0\n",
       "WeatherDelay              0\n",
       "NASDelay                  0\n",
       "SecurityDelay             0\n",
       "LateAircraftDelay         0\n",
       "dtype: int64"
      ]
     },
     "execution_count": 17,
     "metadata": {},
     "output_type": "execute_result"
    }
   ],
   "source": [
    "# check for null in each column\n",
    "# flights.isna().sum()\n",
    "flights.isnull().sum()"
   ]
  },
  {
   "cell_type": "code",
   "execution_count": 18,
   "metadata": {
    "slideshow": {
     "slide_type": "skip"
    }
   },
   "outputs": [],
   "source": [
    "# drop all rows with any NaN and Null values\n",
    "flights = flights.dropna()"
   ]
  },
  {
   "cell_type": "code",
   "execution_count": 19,
   "metadata": {
    "slideshow": {
     "slide_type": "skip"
    }
   },
   "outputs": [
    {
     "data": {
      "text/plain": [
       "Year                 0\n",
       "Month                0\n",
       "DayofMonth           0\n",
       "DayOfWeek            0\n",
       "DepTime              0\n",
       "CRSDepTime           0\n",
       "ArrTime              0\n",
       "CRSArrTime           0\n",
       "UniqueCarrier        0\n",
       "FlightNum            0\n",
       "TailNum              0\n",
       "ActualElapsedTime    0\n",
       "CRSElapsedTime       0\n",
       "AirTime              0\n",
       "ArrDelay             0\n",
       "DepDelay             0\n",
       "Origin               0\n",
       "Dest                 0\n",
       "Distance             0\n",
       "TaxiIn               0\n",
       "TaxiOut              0\n",
       "CarrierDelay         0\n",
       "WeatherDelay         0\n",
       "NASDelay             0\n",
       "SecurityDelay        0\n",
       "LateAircraftDelay    0\n",
       "dtype: int64"
      ]
     },
     "execution_count": 19,
     "metadata": {},
     "output_type": "execute_result"
    }
   ],
   "source": [
    "# check for null in each column\n",
    "# flights.isna().sum()\n",
    "flights.isnull().sum()"
   ]
  },
  {
   "cell_type": "code",
   "execution_count": 20,
   "metadata": {
    "slideshow": {
     "slide_type": "skip"
    }
   },
   "outputs": [
    {
     "data": {
      "text/plain": [
       "-157896"
      ]
     },
     "execution_count": 20,
     "metadata": {},
     "output_type": "execute_result"
    }
   ],
   "source": [
    "# the size after deleting null\n",
    "flights.shape[0] - totals_flights"
   ]
  },
  {
   "cell_type": "code",
   "execution_count": 21,
   "metadata": {
    "slideshow": {
     "slide_type": "skip"
    }
   },
   "outputs": [],
   "source": [
    "# change schema\n",
    "flights['Year']              = flights['Year'].astype('str')\n",
    "flights['Month']             = flights['Month'].astype('str')\n",
    "flights['DayofMonth']        = flights['DayofMonth'].astype('str')\n",
    "flights['DayOfWeek']         = flights['DayOfWeek'].astype('str')\n",
    "\n",
    "flights['DepTime']           = flights['DepTime'].astype('str')          \n",
    "flights['CRSDepTime']        = flights['CRSDepTime'].astype('str')        \n",
    "flights['ArrTime']           = flights['ArrTime'].astype('str')          \n",
    "flights['CRSArrTime']        = flights['CRSArrTime'].astype('str')        \n",
    "\n",
    "flights['UniqueCarrier']     = flights['UniqueCarrier'].astype('str')  \n",
    "flights['FlightNum']         = flights['FlightNum'].astype('str')  \n",
    "flights['TailNum']           = flights['TailNum'].astype('str') \n",
    "\n",
    "flights['ActualElapsedTime'] = flights['ActualElapsedTime'].astype('int') \n",
    "flights['CRSElapsedTime']    = flights['CRSElapsedTime'].astype('int') \n",
    "flights['AirTime']           = flights['AirTime'].astype('int') \n",
    "flights['ArrDelay']          = flights['ArrDelay'].astype('int') \n",
    "flights['DepDelay']          = flights['DepDelay'].astype('int') \n",
    "\n",
    "flights['Origin']            = flights['Origin'].astype('str') \n",
    "flights['Dest']              = flights['Dest'].astype('str') \n",
    "\n",
    "flights['Distance']          = flights['Distance'].astype('int') \n",
    "\n",
    "flights['TaxiIn']            = flights['TaxiIn'].astype('int')  \n",
    "flights['TaxiOut']           = flights['TaxiOut'].astype('int') \n",
    "\n",
    "flights['CarrierDelay']      = flights['CarrierDelay'].astype('int')  \n",
    "flights['WeatherDelay']      = flights['WeatherDelay'].astype('int') \n",
    "flights['NASDelay']          = flights['NASDelay'].astype('int') \n",
    "flights['SecurityDelay']     = flights['SecurityDelay'].astype('int') \n",
    "flights['LateAircraftDelay'] = flights['LateAircraftDelay'].astype('int') "
   ]
  },
  {
   "cell_type": "code",
   "execution_count": 22,
   "metadata": {
    "slideshow": {
     "slide_type": "skip"
    }
   },
   "outputs": [
    {
     "name": "stdout",
     "output_type": "stream",
     "text": [
      "<class 'pandas.core.frame.DataFrame'>\n",
      "Int64Index: 6851832 entries, 0 to 7009727\n",
      "Data columns (total 26 columns):\n",
      " #   Column             Dtype \n",
      "---  ------             ----- \n",
      " 0   Year               object\n",
      " 1   Month              object\n",
      " 2   DayofMonth         object\n",
      " 3   DayOfWeek          object\n",
      " 4   DepTime            object\n",
      " 5   CRSDepTime         object\n",
      " 6   ArrTime            object\n",
      " 7   CRSArrTime         object\n",
      " 8   UniqueCarrier      object\n",
      " 9   FlightNum          object\n",
      " 10  TailNum            object\n",
      " 11  ActualElapsedTime  int32 \n",
      " 12  CRSElapsedTime     int32 \n",
      " 13  AirTime            int32 \n",
      " 14  ArrDelay           int32 \n",
      " 15  DepDelay           int32 \n",
      " 16  Origin             object\n",
      " 17  Dest               object\n",
      " 18  Distance           int32 \n",
      " 19  TaxiIn             int32 \n",
      " 20  TaxiOut            int32 \n",
      " 21  CarrierDelay       int32 \n",
      " 22  WeatherDelay       int32 \n",
      " 23  NASDelay           int32 \n",
      " 24  SecurityDelay      int32 \n",
      " 25  LateAircraftDelay  int32 \n",
      "dtypes: int32(13), object(13)\n",
      "memory usage: 1.0+ GB\n"
     ]
    }
   ],
   "source": [
    "# get df data types and schema\n",
    "flights.info()"
   ]
  },
  {
   "cell_type": "code",
   "execution_count": 23,
   "metadata": {
    "scrolled": true,
    "slideshow": {
     "slide_type": "skip"
    }
   },
   "outputs": [
    {
     "data": {
      "text/html": [
       "<div>\n",
       "<style scoped>\n",
       "    .dataframe tbody tr th:only-of-type {\n",
       "        vertical-align: middle;\n",
       "    }\n",
       "\n",
       "    .dataframe tbody tr th {\n",
       "        vertical-align: top;\n",
       "    }\n",
       "\n",
       "    .dataframe thead th {\n",
       "        text-align: right;\n",
       "    }\n",
       "</style>\n",
       "<table border=\"1\" class=\"dataframe\">\n",
       "  <thead>\n",
       "    <tr style=\"text-align: right;\">\n",
       "      <th></th>\n",
       "      <th>ActualElapsedTime</th>\n",
       "      <th>CRSElapsedTime</th>\n",
       "      <th>AirTime</th>\n",
       "      <th>ArrDelay</th>\n",
       "      <th>DepDelay</th>\n",
       "      <th>Distance</th>\n",
       "      <th>TaxiIn</th>\n",
       "      <th>TaxiOut</th>\n",
       "      <th>CarrierDelay</th>\n",
       "      <th>WeatherDelay</th>\n",
       "      <th>NASDelay</th>\n",
       "      <th>SecurityDelay</th>\n",
       "      <th>LateAircraftDelay</th>\n",
       "    </tr>\n",
       "  </thead>\n",
       "  <tbody>\n",
       "    <tr>\n",
       "      <th>count</th>\n",
       "      <td>6851832</td>\n",
       "      <td>6851832</td>\n",
       "      <td>6851832</td>\n",
       "      <td>6851832</td>\n",
       "      <td>6851832</td>\n",
       "      <td>6851832</td>\n",
       "      <td>6851832</td>\n",
       "      <td>6851832</td>\n",
       "      <td>6851832</td>\n",
       "      <td>6851832</td>\n",
       "      <td>6851832</td>\n",
       "      <td>6851832</td>\n",
       "      <td>6851832</td>\n",
       "    </tr>\n",
       "    <tr>\n",
       "      <th>mean</th>\n",
       "      <td>127</td>\n",
       "      <td>129</td>\n",
       "      <td>104</td>\n",
       "      <td>8</td>\n",
       "      <td>9</td>\n",
       "      <td>728</td>\n",
       "      <td>6</td>\n",
       "      <td>16</td>\n",
       "      <td>3</td>\n",
       "      <td>0</td>\n",
       "      <td>3</td>\n",
       "      <td>0</td>\n",
       "      <td>4</td>\n",
       "    </tr>\n",
       "    <tr>\n",
       "      <th>std</th>\n",
       "      <td>70</td>\n",
       "      <td>69</td>\n",
       "      <td>67</td>\n",
       "      <td>38</td>\n",
       "      <td>35</td>\n",
       "      <td>563</td>\n",
       "      <td>4</td>\n",
       "      <td>11</td>\n",
       "      <td>19</td>\n",
       "      <td>9</td>\n",
       "      <td>16</td>\n",
       "      <td>0</td>\n",
       "      <td>20</td>\n",
       "    </tr>\n",
       "    <tr>\n",
       "      <th>min</th>\n",
       "      <td>12</td>\n",
       "      <td>-141</td>\n",
       "      <td>0</td>\n",
       "      <td>-519</td>\n",
       "      <td>-534</td>\n",
       "      <td>11</td>\n",
       "      <td>0</td>\n",
       "      <td>0</td>\n",
       "      <td>0</td>\n",
       "      <td>0</td>\n",
       "      <td>0</td>\n",
       "      <td>0</td>\n",
       "      <td>0</td>\n",
       "    </tr>\n",
       "    <tr>\n",
       "      <th>25%</th>\n",
       "      <td>77</td>\n",
       "      <td>80</td>\n",
       "      <td>55</td>\n",
       "      <td>-10</td>\n",
       "      <td>-4</td>\n",
       "      <td>326</td>\n",
       "      <td>4</td>\n",
       "      <td>10</td>\n",
       "      <td>0</td>\n",
       "      <td>0</td>\n",
       "      <td>0</td>\n",
       "      <td>0</td>\n",
       "      <td>0</td>\n",
       "    </tr>\n",
       "    <tr>\n",
       "      <th>50%</th>\n",
       "      <td>110</td>\n",
       "      <td>111</td>\n",
       "      <td>86</td>\n",
       "      <td>-2</td>\n",
       "      <td>-1</td>\n",
       "      <td>581</td>\n",
       "      <td>6</td>\n",
       "      <td>14</td>\n",
       "      <td>0</td>\n",
       "      <td>0</td>\n",
       "      <td>0</td>\n",
       "      <td>0</td>\n",
       "      <td>0</td>\n",
       "    </tr>\n",
       "    <tr>\n",
       "      <th>75%</th>\n",
       "      <td>157</td>\n",
       "      <td>159</td>\n",
       "      <td>132</td>\n",
       "      <td>12</td>\n",
       "      <td>8</td>\n",
       "      <td>954</td>\n",
       "      <td>8</td>\n",
       "      <td>19</td>\n",
       "      <td>0</td>\n",
       "      <td>0</td>\n",
       "      <td>0</td>\n",
       "      <td>0</td>\n",
       "      <td>0</td>\n",
       "    </tr>\n",
       "    <tr>\n",
       "      <th>max</th>\n",
       "      <td>1379</td>\n",
       "      <td>660</td>\n",
       "      <td>1350</td>\n",
       "      <td>2461</td>\n",
       "      <td>2467</td>\n",
       "      <td>4962</td>\n",
       "      <td>308</td>\n",
       "      <td>429</td>\n",
       "      <td>2436</td>\n",
       "      <td>1352</td>\n",
       "      <td>1357</td>\n",
       "      <td>392</td>\n",
       "      <td>1316</td>\n",
       "    </tr>\n",
       "  </tbody>\n",
       "</table>\n",
       "</div>"
      ],
      "text/plain": [
       "       ActualElapsedTime  CRSElapsedTime  AirTime  ArrDelay  DepDelay  \\\n",
       "count            6851832         6851832  6851832   6851832   6851832   \n",
       "mean                 127             129      104         8         9   \n",
       "std                   70              69       67        38        35   \n",
       "min                   12            -141        0      -519      -534   \n",
       "25%                   77              80       55       -10        -4   \n",
       "50%                  110             111       86        -2        -1   \n",
       "75%                  157             159      132        12         8   \n",
       "max                 1379             660     1350      2461      2467   \n",
       "\n",
       "       Distance   TaxiIn  TaxiOut  CarrierDelay  WeatherDelay  NASDelay  \\\n",
       "count   6851832  6851832  6851832       6851832       6851832   6851832   \n",
       "mean        728        6       16             3             0         3   \n",
       "std         563        4       11            19             9        16   \n",
       "min          11        0        0             0             0         0   \n",
       "25%         326        4       10             0             0         0   \n",
       "50%         581        6       14             0             0         0   \n",
       "75%         954        8       19             0             0         0   \n",
       "max        4962      308      429          2436          1352      1357   \n",
       "\n",
       "       SecurityDelay  LateAircraftDelay  \n",
       "count        6851832            6851832  \n",
       "mean               0                  4  \n",
       "std                0                 20  \n",
       "min                0                  0  \n",
       "25%                0                  0  \n",
       "50%                0                  0  \n",
       "75%                0                  0  \n",
       "max              392               1316  "
      ]
     },
     "execution_count": 23,
     "metadata": {},
     "output_type": "execute_result"
    }
   ],
   "source": [
    "flights.describe().astype(int)"
   ]
  },
  {
   "cell_type": "markdown",
   "metadata": {
    "slideshow": {
     "slide_type": "slide"
    }
   },
   "source": [
    "## 01. Flights without cancellation nor divertion dataset:"
   ]
  },
  {
   "cell_type": "markdown",
   "metadata": {
    "slideshow": {
     "slide_type": "slide"
    }
   },
   "source": [
    "### What is the structure of your dataset?\n",
    "\n",
    "> There are 6,851,832 flight observations with 26 features in 2008 without diverted/cancelled flights and missing or incorrect​ data.\n",
    "\n",
    "\n",
    "### What is/are the main feature(s) of interest in your dataset?\n",
    "\n",
    "> Delayed flights in terms of carriers, origin & time.\n",
    "\n",
    "\n",
    "### What features in the dataset do you think will help support your investigation into your feature(s) of interest?\n",
    "\n",
    "> ArrDelay, Month, DayOfWeek, DepTime, ArrTime, UniqueCarrier."
   ]
  },
  {
   "cell_type": "markdown",
   "metadata": {
    "slideshow": {
     "slide_type": "skip"
    }
   },
   "source": []
  },
  {
   "cell_type": "code",
   "execution_count": 24,
   "metadata": {
    "slideshow": {
     "slide_type": "skip"
    }
   },
   "outputs": [
    {
     "name": "stdout",
     "output_type": "stream",
     "text": [
      "Elapsed loading time : 0.7720999717712402\n",
      "(137434, 14)\n"
     ]
    },
    {
     "data": {
      "text/html": [
       "<div>\n",
       "<style scoped>\n",
       "    .dataframe tbody tr th:only-of-type {\n",
       "        vertical-align: middle;\n",
       "    }\n",
       "\n",
       "    .dataframe tbody tr th {\n",
       "        vertical-align: top;\n",
       "    }\n",
       "\n",
       "    .dataframe thead th {\n",
       "        text-align: right;\n",
       "    }\n",
       "</style>\n",
       "<table border=\"1\" class=\"dataframe\">\n",
       "  <thead>\n",
       "    <tr style=\"text-align: right;\">\n",
       "      <th></th>\n",
       "      <th>Year</th>\n",
       "      <th>Month</th>\n",
       "      <th>DayofMonth</th>\n",
       "      <th>DayOfWeek</th>\n",
       "      <th>CRSDepTime</th>\n",
       "      <th>CRSArrTime</th>\n",
       "      <th>UniqueCarrier</th>\n",
       "      <th>FlightNum</th>\n",
       "      <th>TailNum</th>\n",
       "      <th>CRSElapsedTime</th>\n",
       "      <th>Origin</th>\n",
       "      <th>Dest</th>\n",
       "      <th>Distance</th>\n",
       "      <th>CancellationCode</th>\n",
       "    </tr>\n",
       "  </thead>\n",
       "  <tbody>\n",
       "    <tr>\n",
       "      <th>0</th>\n",
       "      <td>2008</td>\n",
       "      <td>1</td>\n",
       "      <td>3</td>\n",
       "      <td>4</td>\n",
       "      <td>07:00 AM</td>\n",
       "      <td>08:30 AM</td>\n",
       "      <td>WN</td>\n",
       "      <td>126</td>\n",
       "      <td>NaN</td>\n",
       "      <td>90.0</td>\n",
       "      <td>LAS</td>\n",
       "      <td>OAK</td>\n",
       "      <td>407</td>\n",
       "      <td>A</td>\n",
       "    </tr>\n",
       "    <tr>\n",
       "      <th>1</th>\n",
       "      <td>2008</td>\n",
       "      <td>1</td>\n",
       "      <td>3</td>\n",
       "      <td>4</td>\n",
       "      <td>11:00 AM</td>\n",
       "      <td>12:15 PM</td>\n",
       "      <td>WN</td>\n",
       "      <td>1146</td>\n",
       "      <td>NaN</td>\n",
       "      <td>75.0</td>\n",
       "      <td>LAX</td>\n",
       "      <td>OAK</td>\n",
       "      <td>337</td>\n",
       "      <td>A</td>\n",
       "    </tr>\n",
       "    <tr>\n",
       "      <th>2</th>\n",
       "      <td>2008</td>\n",
       "      <td>1</td>\n",
       "      <td>3</td>\n",
       "      <td>4</td>\n",
       "      <td>09:05 AM</td>\n",
       "      <td>10:25 AM</td>\n",
       "      <td>WN</td>\n",
       "      <td>469</td>\n",
       "      <td>NaN</td>\n",
       "      <td>80.0</td>\n",
       "      <td>LAX</td>\n",
       "      <td>SFO</td>\n",
       "      <td>337</td>\n",
       "      <td>A</td>\n",
       "    </tr>\n",
       "    <tr>\n",
       "      <th>3</th>\n",
       "      <td>2008</td>\n",
       "      <td>1</td>\n",
       "      <td>3</td>\n",
       "      <td>4</td>\n",
       "      <td>04:20 PM</td>\n",
       "      <td>05:40 PM</td>\n",
       "      <td>WN</td>\n",
       "      <td>618</td>\n",
       "      <td>NaN</td>\n",
       "      <td>80.0</td>\n",
       "      <td>LAX</td>\n",
       "      <td>SFO</td>\n",
       "      <td>337</td>\n",
       "      <td>C</td>\n",
       "    </tr>\n",
       "    <tr>\n",
       "      <th>4</th>\n",
       "      <td>2008</td>\n",
       "      <td>1</td>\n",
       "      <td>3</td>\n",
       "      <td>4</td>\n",
       "      <td>07:30 PM</td>\n",
       "      <td>08:35 PM</td>\n",
       "      <td>WN</td>\n",
       "      <td>2528</td>\n",
       "      <td>NaN</td>\n",
       "      <td>65.0</td>\n",
       "      <td>LAX</td>\n",
       "      <td>SJC</td>\n",
       "      <td>308</td>\n",
       "      <td>A</td>\n",
       "    </tr>\n",
       "  </tbody>\n",
       "</table>\n",
       "</div>"
      ],
      "text/plain": [
       "   Year  Month  DayofMonth  DayOfWeek CRSDepTime CRSArrTime UniqueCarrier  \\\n",
       "0  2008      1           3          4   07:00 AM   08:30 AM            WN   \n",
       "1  2008      1           3          4   11:00 AM   12:15 PM            WN   \n",
       "2  2008      1           3          4   09:05 AM   10:25 AM            WN   \n",
       "3  2008      1           3          4   04:20 PM   05:40 PM            WN   \n",
       "4  2008      1           3          4   07:30 PM   08:35 PM            WN   \n",
       "\n",
       "   FlightNum TailNum  CRSElapsedTime Origin Dest  Distance CancellationCode  \n",
       "0        126     NaN            90.0    LAS  OAK       407                A  \n",
       "1       1146     NaN            75.0    LAX  OAK       337                A  \n",
       "2        469     NaN            80.0    LAX  SFO       337                A  \n",
       "3        618     NaN            80.0    LAX  SFO       337                C  \n",
       "4       2528     NaN            65.0    LAX  SJC       308                A  "
      ]
     },
     "execution_count": 24,
     "metadata": {},
     "output_type": "execute_result"
    }
   ],
   "source": [
    "# now we will load flights dataset 2008\n",
    "cancelled = load_dataset('canceled')\n",
    "# print df size\n",
    "print(cancelled.shape)\n",
    "# dispay first 10 rows\n",
    "cancelled.head()"
   ]
  },
  {
   "cell_type": "code",
   "execution_count": 25,
   "metadata": {
    "slideshow": {
     "slide_type": "skip"
    }
   },
   "outputs": [
    {
     "name": "stdout",
     "output_type": "stream",
     "text": [
      "<class 'pandas.core.frame.DataFrame'>\n",
      "RangeIndex: 137434 entries, 0 to 137433\n",
      "Data columns (total 14 columns):\n",
      " #   Column            Non-Null Count   Dtype  \n",
      "---  ------            --------------   -----  \n",
      " 0   Year              137434 non-null  int64  \n",
      " 1   Month             137434 non-null  int64  \n",
      " 2   DayofMonth        137434 non-null  int64  \n",
      " 3   DayOfWeek         137434 non-null  int64  \n",
      " 4   CRSDepTime        137434 non-null  object \n",
      " 5   CRSArrTime        137434 non-null  object \n",
      " 6   UniqueCarrier     137434 non-null  object \n",
      " 7   FlightNum         137434 non-null  int64  \n",
      " 8   TailNum           54076 non-null   object \n",
      " 9   CRSElapsedTime    137188 non-null  float64\n",
      " 10  Origin            137434 non-null  object \n",
      " 11  Dest              137434 non-null  object \n",
      " 12  Distance          137434 non-null  int64  \n",
      " 13  CancellationCode  137434 non-null  object \n",
      "dtypes: float64(1), int64(6), object(7)\n",
      "memory usage: 14.7+ MB\n"
     ]
    }
   ],
   "source": [
    "# get df data types and schema\n",
    "cancelled.info()"
   ]
  },
  {
   "cell_type": "code",
   "execution_count": 26,
   "metadata": {
    "slideshow": {
     "slide_type": "skip"
    }
   },
   "outputs": [
    {
     "data": {
      "text/plain": [
       "Index(['Year', 'Month', 'DayofMonth', 'DayOfWeek', 'CRSDepTime', 'CRSArrTime',\n",
       "       'UniqueCarrier', 'FlightNum', 'TailNum', 'CRSElapsedTime', 'Origin',\n",
       "       'Dest', 'Distance', 'CancellationCode'],\n",
       "      dtype='object')"
      ]
     },
     "execution_count": 26,
     "metadata": {},
     "output_type": "execute_result"
    }
   ],
   "source": [
    "cancelled.columns"
   ]
  },
  {
   "cell_type": "code",
   "execution_count": 27,
   "metadata": {
    "slideshow": {
     "slide_type": "skip"
    }
   },
   "outputs": [],
   "source": [
    "totals_cancelled = cancelled.shape[0]"
   ]
  },
  {
   "cell_type": "code",
   "execution_count": 28,
   "metadata": {
    "slideshow": {
     "slide_type": "skip"
    }
   },
   "outputs": [
    {
     "data": {
      "text/plain": [
       "0"
      ]
     },
     "execution_count": 28,
     "metadata": {},
     "output_type": "execute_result"
    }
   ],
   "source": [
    "# find the number of duplicated rows\n",
    "cancelled.duplicated().sum()"
   ]
  },
  {
   "cell_type": "code",
   "execution_count": 29,
   "metadata": {
    "slideshow": {
     "slide_type": "skip"
    }
   },
   "outputs": [
    {
     "data": {
      "text/plain": [
       "Year                    0\n",
       "Month                   0\n",
       "DayofMonth              0\n",
       "DayOfWeek               0\n",
       "CRSDepTime              0\n",
       "CRSArrTime              0\n",
       "UniqueCarrier           0\n",
       "FlightNum               0\n",
       "TailNum             83358\n",
       "CRSElapsedTime        246\n",
       "Origin                  0\n",
       "Dest                    0\n",
       "Distance                0\n",
       "CancellationCode        0\n",
       "dtype: int64"
      ]
     },
     "execution_count": 29,
     "metadata": {},
     "output_type": "execute_result"
    }
   ],
   "source": [
    "# check for null in each column\n",
    "# flights.isna().sum()\n",
    "cancelled.isnull().sum()"
   ]
  },
  {
   "cell_type": "code",
   "execution_count": 30,
   "metadata": {
    "slideshow": {
     "slide_type": "skip"
    }
   },
   "outputs": [],
   "source": [
    "# drop all columns with any NaN and NaT values\n",
    "cancelled = cancelled.dropna(axis=1)"
   ]
  },
  {
   "cell_type": "code",
   "execution_count": 31,
   "metadata": {
    "slideshow": {
     "slide_type": "skip"
    }
   },
   "outputs": [
    {
     "data": {
      "text/plain": [
       "Year                0\n",
       "Month               0\n",
       "DayofMonth          0\n",
       "DayOfWeek           0\n",
       "CRSDepTime          0\n",
       "CRSArrTime          0\n",
       "UniqueCarrier       0\n",
       "FlightNum           0\n",
       "Origin              0\n",
       "Dest                0\n",
       "Distance            0\n",
       "CancellationCode    0\n",
       "dtype: int64"
      ]
     },
     "execution_count": 31,
     "metadata": {},
     "output_type": "execute_result"
    }
   ],
   "source": [
    "# check for null in each column\n",
    "# flights.isna().sum()\n",
    "cancelled.isnull().sum()"
   ]
  },
  {
   "cell_type": "code",
   "execution_count": 32,
   "metadata": {
    "slideshow": {
     "slide_type": "skip"
    }
   },
   "outputs": [
    {
     "data": {
      "text/plain": [
       "0"
      ]
     },
     "execution_count": 32,
     "metadata": {},
     "output_type": "execute_result"
    }
   ],
   "source": [
    "# the size after deleting null\n",
    "cancelled.shape[0] - totals_cancelled"
   ]
  },
  {
   "cell_type": "code",
   "execution_count": 33,
   "metadata": {
    "slideshow": {
     "slide_type": "skip"
    }
   },
   "outputs": [],
   "source": [
    "# change schema\n",
    "cancelled['Year']              = cancelled['Year'].astype('str')\n",
    "cancelled['Month']             = cancelled['Month'].astype('str')\n",
    "cancelled['DayofMonth']        = cancelled['DayofMonth'].astype('str')\n",
    "cancelled['DayOfWeek']         = cancelled['DayOfWeek'].astype('str')\n",
    "\n",
    "cancelled['CRSDepTime']        = cancelled['CRSDepTime'].astype('str')        \n",
    "cancelled['CRSArrTime']        = cancelled['CRSArrTime'].astype('str')        \n",
    "\n",
    "cancelled['UniqueCarrier']     = cancelled['UniqueCarrier'].astype('str')  \n",
    "cancelled['FlightNum']         = cancelled['FlightNum'].astype('str')  \n",
    "\n",
    "cancelled['Origin']            = cancelled['Origin'].astype('str') \n",
    "cancelled['Dest']              = cancelled['Dest'].astype('str') \n",
    "\n",
    "cancelled['Distance']          = cancelled['Distance'].astype('int') \n",
    "cancelled['CancellationCode']  = cancelled['CancellationCode'].astype('str') "
   ]
  },
  {
   "cell_type": "code",
   "execution_count": 34,
   "metadata": {
    "slideshow": {
     "slide_type": "skip"
    }
   },
   "outputs": [
    {
     "name": "stdout",
     "output_type": "stream",
     "text": [
      "<class 'pandas.core.frame.DataFrame'>\n",
      "RangeIndex: 137434 entries, 0 to 137433\n",
      "Data columns (total 12 columns):\n",
      " #   Column            Non-Null Count   Dtype \n",
      "---  ------            --------------   ----- \n",
      " 0   Year              137434 non-null  object\n",
      " 1   Month             137434 non-null  object\n",
      " 2   DayofMonth        137434 non-null  object\n",
      " 3   DayOfWeek         137434 non-null  object\n",
      " 4   CRSDepTime        137434 non-null  object\n",
      " 5   CRSArrTime        137434 non-null  object\n",
      " 6   UniqueCarrier     137434 non-null  object\n",
      " 7   FlightNum         137434 non-null  object\n",
      " 8   Origin            137434 non-null  object\n",
      " 9   Dest              137434 non-null  object\n",
      " 10  Distance          137434 non-null  int32 \n",
      " 11  CancellationCode  137434 non-null  object\n",
      "dtypes: int32(1), object(11)\n",
      "memory usage: 12.1+ MB\n"
     ]
    }
   ],
   "source": [
    "# get df data types and schema\n",
    "cancelled.info()"
   ]
  },
  {
   "cell_type": "code",
   "execution_count": 35,
   "metadata": {
    "scrolled": true,
    "slideshow": {
     "slide_type": "skip"
    }
   },
   "outputs": [
    {
     "data": {
      "text/html": [
       "<div>\n",
       "<style scoped>\n",
       "    .dataframe tbody tr th:only-of-type {\n",
       "        vertical-align: middle;\n",
       "    }\n",
       "\n",
       "    .dataframe tbody tr th {\n",
       "        vertical-align: top;\n",
       "    }\n",
       "\n",
       "    .dataframe thead th {\n",
       "        text-align: right;\n",
       "    }\n",
       "</style>\n",
       "<table border=\"1\" class=\"dataframe\">\n",
       "  <thead>\n",
       "    <tr style=\"text-align: right;\">\n",
       "      <th></th>\n",
       "      <th>Distance</th>\n",
       "    </tr>\n",
       "  </thead>\n",
       "  <tbody>\n",
       "    <tr>\n",
       "      <th>count</th>\n",
       "      <td>137434</td>\n",
       "    </tr>\n",
       "    <tr>\n",
       "      <th>mean</th>\n",
       "      <td>581</td>\n",
       "    </tr>\n",
       "    <tr>\n",
       "      <th>std</th>\n",
       "      <td>457</td>\n",
       "    </tr>\n",
       "    <tr>\n",
       "      <th>min</th>\n",
       "      <td>17</td>\n",
       "    </tr>\n",
       "    <tr>\n",
       "      <th>25%</th>\n",
       "      <td>256</td>\n",
       "    </tr>\n",
       "    <tr>\n",
       "      <th>50%</th>\n",
       "      <td>448</td>\n",
       "    </tr>\n",
       "    <tr>\n",
       "      <th>75%</th>\n",
       "      <td>749</td>\n",
       "    </tr>\n",
       "    <tr>\n",
       "      <th>max</th>\n",
       "      <td>4502</td>\n",
       "    </tr>\n",
       "  </tbody>\n",
       "</table>\n",
       "</div>"
      ],
      "text/plain": [
       "       Distance\n",
       "count    137434\n",
       "mean        581\n",
       "std         457\n",
       "min          17\n",
       "25%         256\n",
       "50%         448\n",
       "75%         749\n",
       "max        4502"
      ]
     },
     "execution_count": 35,
     "metadata": {},
     "output_type": "execute_result"
    }
   ],
   "source": [
    "cancelled.describe().astype(int)"
   ]
  },
  {
   "cell_type": "markdown",
   "metadata": {
    "slideshow": {
     "slide_type": "slide"
    }
   },
   "source": [
    "## 02. Flights that have been Cancellation:"
   ]
  },
  {
   "cell_type": "markdown",
   "metadata": {
    "slideshow": {
     "slide_type": "slide"
    }
   },
   "source": [
    "### What is the structure of your dataset?\n",
    "\n",
    "> There are 137,434 flight observations with 12 features in 2008.\n",
    "\n",
    "\n",
    "### What is/are the main feature(s) of interest in your dataset?\n",
    "\n",
    " - what are the worstest airlines in terms of cancelled flighes?\n",
    " - what are the most cases of flights cancelled?\n",
    "\n",
    "\n",
    "### What features in the dataset do you think will help support your investigation into your feature(s) of interest?\n",
    "\n",
    "> UniqueCarrier, CancellationCode"
   ]
  },
  {
   "cell_type": "code",
   "execution_count": 36,
   "metadata": {
    "slideshow": {
     "slide_type": "skip"
    }
   },
   "outputs": [
    {
     "name": "stdout",
     "output_type": "stream",
     "text": [
      "Elapsed loading time : 0.18958806991577148\n",
      "(17265, 16)\n"
     ]
    },
    {
     "data": {
      "text/html": [
       "<div>\n",
       "<style scoped>\n",
       "    .dataframe tbody tr th:only-of-type {\n",
       "        vertical-align: middle;\n",
       "    }\n",
       "\n",
       "    .dataframe tbody tr th {\n",
       "        vertical-align: top;\n",
       "    }\n",
       "\n",
       "    .dataframe thead th {\n",
       "        text-align: right;\n",
       "    }\n",
       "</style>\n",
       "<table border=\"1\" class=\"dataframe\">\n",
       "  <thead>\n",
       "    <tr style=\"text-align: right;\">\n",
       "      <th></th>\n",
       "      <th>Year</th>\n",
       "      <th>Month</th>\n",
       "      <th>DayofMonth</th>\n",
       "      <th>DayOfWeek</th>\n",
       "      <th>DepTime</th>\n",
       "      <th>CRSDepTime</th>\n",
       "      <th>UniqueCarrier</th>\n",
       "      <th>FlightNum</th>\n",
       "      <th>TailNum</th>\n",
       "      <th>ActualElapsedTime</th>\n",
       "      <th>AirTime</th>\n",
       "      <th>ArrDelay</th>\n",
       "      <th>DepDelay</th>\n",
       "      <th>Origin</th>\n",
       "      <th>Dest</th>\n",
       "      <th>Distance</th>\n",
       "    </tr>\n",
       "  </thead>\n",
       "  <tbody>\n",
       "    <tr>\n",
       "      <th>0</th>\n",
       "      <td>2008</td>\n",
       "      <td>1</td>\n",
       "      <td>3</td>\n",
       "      <td>4</td>\n",
       "      <td>09:22 AM</td>\n",
       "      <td>09:15 AM</td>\n",
       "      <td>WN</td>\n",
       "      <td>1069</td>\n",
       "      <td>N630WN</td>\n",
       "      <td>NaN</td>\n",
       "      <td>NaN</td>\n",
       "      <td>NaN</td>\n",
       "      <td>7</td>\n",
       "      <td>SAN</td>\n",
       "      <td>SMF</td>\n",
       "      <td>480</td>\n",
       "    </tr>\n",
       "    <tr>\n",
       "      <th>1</th>\n",
       "      <td>2008</td>\n",
       "      <td>1</td>\n",
       "      <td>3</td>\n",
       "      <td>4</td>\n",
       "      <td>11:25 PM</td>\n",
       "      <td>07:00 PM</td>\n",
       "      <td>WN</td>\n",
       "      <td>2092</td>\n",
       "      <td>N302SW</td>\n",
       "      <td>NaN</td>\n",
       "      <td>NaN</td>\n",
       "      <td>NaN</td>\n",
       "      <td>265</td>\n",
       "      <td>SFO</td>\n",
       "      <td>SAN</td>\n",
       "      <td>447</td>\n",
       "    </tr>\n",
       "    <tr>\n",
       "      <th>2</th>\n",
       "      <td>2008</td>\n",
       "      <td>1</td>\n",
       "      <td>4</td>\n",
       "      <td>5</td>\n",
       "      <td>07:49 PM</td>\n",
       "      <td>07:05 PM</td>\n",
       "      <td>WN</td>\n",
       "      <td>1403</td>\n",
       "      <td>N504SW</td>\n",
       "      <td>NaN</td>\n",
       "      <td>NaN</td>\n",
       "      <td>NaN</td>\n",
       "      <td>44</td>\n",
       "      <td>BOI</td>\n",
       "      <td>RNO</td>\n",
       "      <td>335</td>\n",
       "    </tr>\n",
       "    <tr>\n",
       "      <th>3</th>\n",
       "      <td>2008</td>\n",
       "      <td>1</td>\n",
       "      <td>4</td>\n",
       "      <td>5</td>\n",
       "      <td>07:37 AM</td>\n",
       "      <td>07:05 AM</td>\n",
       "      <td>WN</td>\n",
       "      <td>178</td>\n",
       "      <td>N718SW</td>\n",
       "      <td>NaN</td>\n",
       "      <td>NaN</td>\n",
       "      <td>NaN</td>\n",
       "      <td>32</td>\n",
       "      <td>BUR</td>\n",
       "      <td>SMF</td>\n",
       "      <td>358</td>\n",
       "    </tr>\n",
       "    <tr>\n",
       "      <th>4</th>\n",
       "      <td>2008</td>\n",
       "      <td>1</td>\n",
       "      <td>4</td>\n",
       "      <td>5</td>\n",
       "      <td>09:31 AM</td>\n",
       "      <td>09:30 AM</td>\n",
       "      <td>WN</td>\n",
       "      <td>2011</td>\n",
       "      <td>N726SW</td>\n",
       "      <td>NaN</td>\n",
       "      <td>NaN</td>\n",
       "      <td>NaN</td>\n",
       "      <td>1</td>\n",
       "      <td>HOU</td>\n",
       "      <td>OAK</td>\n",
       "      <td>1642</td>\n",
       "    </tr>\n",
       "  </tbody>\n",
       "</table>\n",
       "</div>"
      ],
      "text/plain": [
       "   Year  Month  DayofMonth  DayOfWeek   DepTime CRSDepTime UniqueCarrier  \\\n",
       "0  2008      1           3          4  09:22 AM   09:15 AM            WN   \n",
       "1  2008      1           3          4  11:25 PM   07:00 PM            WN   \n",
       "2  2008      1           4          5  07:49 PM   07:05 PM            WN   \n",
       "3  2008      1           4          5  07:37 AM   07:05 AM            WN   \n",
       "4  2008      1           4          5  09:31 AM   09:30 AM            WN   \n",
       "\n",
       "   FlightNum TailNum  ActualElapsedTime  AirTime  ArrDelay  DepDelay Origin  \\\n",
       "0       1069  N630WN                NaN      NaN       NaN         7    SAN   \n",
       "1       2092  N302SW                NaN      NaN       NaN       265    SFO   \n",
       "2       1403  N504SW                NaN      NaN       NaN        44    BOI   \n",
       "3        178  N718SW                NaN      NaN       NaN        32    BUR   \n",
       "4       2011  N726SW                NaN      NaN       NaN         1    HOU   \n",
       "\n",
       "  Dest  Distance  \n",
       "0  SMF       480  \n",
       "1  SAN       447  \n",
       "2  RNO       335  \n",
       "3  SMF       358  \n",
       "4  OAK      1642  "
      ]
     },
     "execution_count": 36,
     "metadata": {},
     "output_type": "execute_result"
    }
   ],
   "source": [
    "# now we will load flights dataset 2008\n",
    "diverted = load_dataset('diverted')\n",
    "# print df size\n",
    "print(diverted.shape)\n",
    "# dispay first 10 rows\n",
    "diverted.head()"
   ]
  },
  {
   "cell_type": "code",
   "execution_count": 37,
   "metadata": {
    "slideshow": {
     "slide_type": "skip"
    }
   },
   "outputs": [
    {
     "name": "stdout",
     "output_type": "stream",
     "text": [
      "<class 'pandas.core.frame.DataFrame'>\n",
      "RangeIndex: 17265 entries, 0 to 17264\n",
      "Data columns (total 16 columns):\n",
      " #   Column             Non-Null Count  Dtype  \n",
      "---  ------             --------------  -----  \n",
      " 0   Year               17265 non-null  int64  \n",
      " 1   Month              17265 non-null  int64  \n",
      " 2   DayofMonth         17265 non-null  int64  \n",
      " 3   DayOfWeek          17265 non-null  int64  \n",
      " 4   DepTime            17265 non-null  object \n",
      " 5   CRSDepTime         17265 non-null  object \n",
      " 6   UniqueCarrier      17265 non-null  object \n",
      " 7   FlightNum          17265 non-null  int64  \n",
      " 8   TailNum            17263 non-null  object \n",
      " 9   ActualElapsedTime  0 non-null      float64\n",
      " 10  AirTime            0 non-null      float64\n",
      " 11  ArrDelay           0 non-null      float64\n",
      " 12  DepDelay           17265 non-null  int64  \n",
      " 13  Origin             17265 non-null  object \n",
      " 14  Dest               17265 non-null  object \n",
      " 15  Distance           17265 non-null  int64  \n",
      "dtypes: float64(3), int64(7), object(6)\n",
      "memory usage: 2.1+ MB\n"
     ]
    }
   ],
   "source": [
    "# get df data types and schema\n",
    "diverted.info()"
   ]
  },
  {
   "cell_type": "code",
   "execution_count": 38,
   "metadata": {
    "slideshow": {
     "slide_type": "skip"
    }
   },
   "outputs": [
    {
     "data": {
      "text/plain": [
       "Index(['Year', 'Month', 'DayofMonth', 'DayOfWeek', 'DepTime', 'CRSDepTime',\n",
       "       'UniqueCarrier', 'FlightNum', 'TailNum', 'ActualElapsedTime', 'AirTime',\n",
       "       'ArrDelay', 'DepDelay', 'Origin', 'Dest', 'Distance'],\n",
       "      dtype='object')"
      ]
     },
     "execution_count": 38,
     "metadata": {},
     "output_type": "execute_result"
    }
   ],
   "source": [
    "diverted.columns"
   ]
  },
  {
   "cell_type": "code",
   "execution_count": 39,
   "metadata": {
    "slideshow": {
     "slide_type": "skip"
    }
   },
   "outputs": [],
   "source": [
    "totals_diverted = diverted.shape[0]"
   ]
  },
  {
   "cell_type": "code",
   "execution_count": 40,
   "metadata": {
    "slideshow": {
     "slide_type": "skip"
    }
   },
   "outputs": [
    {
     "data": {
      "text/plain": [
       "0"
      ]
     },
     "execution_count": 40,
     "metadata": {},
     "output_type": "execute_result"
    }
   ],
   "source": [
    "# find the number of duplicated rows\n",
    "diverted.duplicated().sum()"
   ]
  },
  {
   "cell_type": "code",
   "execution_count": 41,
   "metadata": {
    "slideshow": {
     "slide_type": "skip"
    }
   },
   "outputs": [
    {
     "data": {
      "text/plain": [
       "Year                     0\n",
       "Month                    0\n",
       "DayofMonth               0\n",
       "DayOfWeek                0\n",
       "DepTime                  0\n",
       "CRSDepTime               0\n",
       "UniqueCarrier            0\n",
       "FlightNum                0\n",
       "TailNum                  2\n",
       "ActualElapsedTime    17265\n",
       "AirTime              17265\n",
       "ArrDelay             17265\n",
       "DepDelay                 0\n",
       "Origin                   0\n",
       "Dest                     0\n",
       "Distance                 0\n",
       "dtype: int64"
      ]
     },
     "execution_count": 41,
     "metadata": {},
     "output_type": "execute_result"
    }
   ],
   "source": [
    "# check for null in each column\n",
    "# flights.isna().sum()\n",
    "diverted.isnull().sum()"
   ]
  },
  {
   "cell_type": "code",
   "execution_count": 42,
   "metadata": {
    "slideshow": {
     "slide_type": "skip"
    }
   },
   "outputs": [],
   "source": [
    "# drop all columns with any NaN and NaT values\n",
    "diverted = diverted.dropna(axis=1)"
   ]
  },
  {
   "cell_type": "code",
   "execution_count": 43,
   "metadata": {
    "slideshow": {
     "slide_type": "skip"
    }
   },
   "outputs": [
    {
     "data": {
      "text/plain": [
       "Year             0\n",
       "Month            0\n",
       "DayofMonth       0\n",
       "DayOfWeek        0\n",
       "DepTime          0\n",
       "CRSDepTime       0\n",
       "UniqueCarrier    0\n",
       "FlightNum        0\n",
       "DepDelay         0\n",
       "Origin           0\n",
       "Dest             0\n",
       "Distance         0\n",
       "dtype: int64"
      ]
     },
     "execution_count": 43,
     "metadata": {},
     "output_type": "execute_result"
    }
   ],
   "source": [
    "# check for null in each column\n",
    "# flights.isna().sum()\n",
    "diverted.isnull().sum()"
   ]
  },
  {
   "cell_type": "code",
   "execution_count": 44,
   "metadata": {
    "slideshow": {
     "slide_type": "skip"
    }
   },
   "outputs": [
    {
     "data": {
      "text/plain": [
       "0"
      ]
     },
     "execution_count": 44,
     "metadata": {},
     "output_type": "execute_result"
    }
   ],
   "source": [
    "# the size after deleting null\n",
    "diverted.shape[0] - totals_diverted"
   ]
  },
  {
   "cell_type": "code",
   "execution_count": 45,
   "metadata": {
    "slideshow": {
     "slide_type": "skip"
    }
   },
   "outputs": [],
   "source": [
    "# change schema\n",
    "diverted['Year']              = diverted['Year'].astype('str')\n",
    "diverted['Month']             = diverted['Month'].astype('str')\n",
    "diverted['DayofMonth']        = diverted['DayofMonth'].astype('str')\n",
    "diverted['DayOfWeek']         = diverted['DayOfWeek'].astype('str')\n",
    "\n",
    "diverted['DepTime']           = diverted['DepTime'].astype('str')          \n",
    "diverted['CRSDepTime']        = diverted['CRSDepTime'].astype('str')        \n",
    "\n",
    "diverted['UniqueCarrier']     = diverted['UniqueCarrier'].astype('str')  \n",
    "diverted['FlightNum']         = diverted['FlightNum'].astype('str')  \n",
    "\n",
    "diverted['DepDelay']          = diverted['DepDelay'].astype('int') \n",
    "\n",
    "diverted['Origin']            = diverted['Origin'].astype('str') \n",
    "diverted['Dest']              = diverted['Dest'].astype('str') \n",
    "\n",
    "diverted['Distance']          = diverted['Distance'].astype('int') "
   ]
  },
  {
   "cell_type": "code",
   "execution_count": 46,
   "metadata": {
    "slideshow": {
     "slide_type": "skip"
    }
   },
   "outputs": [
    {
     "name": "stdout",
     "output_type": "stream",
     "text": [
      "<class 'pandas.core.frame.DataFrame'>\n",
      "RangeIndex: 17265 entries, 0 to 17264\n",
      "Data columns (total 12 columns):\n",
      " #   Column         Non-Null Count  Dtype \n",
      "---  ------         --------------  ----- \n",
      " 0   Year           17265 non-null  object\n",
      " 1   Month          17265 non-null  object\n",
      " 2   DayofMonth     17265 non-null  object\n",
      " 3   DayOfWeek      17265 non-null  object\n",
      " 4   DepTime        17265 non-null  object\n",
      " 5   CRSDepTime     17265 non-null  object\n",
      " 6   UniqueCarrier  17265 non-null  object\n",
      " 7   FlightNum      17265 non-null  object\n",
      " 8   DepDelay       17265 non-null  int32 \n",
      " 9   Origin         17265 non-null  object\n",
      " 10  Dest           17265 non-null  object\n",
      " 11  Distance       17265 non-null  int32 \n",
      "dtypes: int32(2), object(10)\n",
      "memory usage: 1.4+ MB\n"
     ]
    }
   ],
   "source": [
    "# get df data types and schema\n",
    "diverted.info()"
   ]
  },
  {
   "cell_type": "code",
   "execution_count": 47,
   "metadata": {
    "scrolled": true,
    "slideshow": {
     "slide_type": "skip"
    }
   },
   "outputs": [
    {
     "data": {
      "text/html": [
       "<div>\n",
       "<style scoped>\n",
       "    .dataframe tbody tr th:only-of-type {\n",
       "        vertical-align: middle;\n",
       "    }\n",
       "\n",
       "    .dataframe tbody tr th {\n",
       "        vertical-align: top;\n",
       "    }\n",
       "\n",
       "    .dataframe thead th {\n",
       "        text-align: right;\n",
       "    }\n",
       "</style>\n",
       "<table border=\"1\" class=\"dataframe\">\n",
       "  <thead>\n",
       "    <tr style=\"text-align: right;\">\n",
       "      <th></th>\n",
       "      <th>DepDelay</th>\n",
       "      <th>Distance</th>\n",
       "    </tr>\n",
       "  </thead>\n",
       "  <tbody>\n",
       "    <tr>\n",
       "      <th>count</th>\n",
       "      <td>17265</td>\n",
       "      <td>17265</td>\n",
       "    </tr>\n",
       "    <tr>\n",
       "      <th>mean</th>\n",
       "      <td>26</td>\n",
       "      <td>947</td>\n",
       "    </tr>\n",
       "    <tr>\n",
       "      <th>std</th>\n",
       "      <td>58</td>\n",
       "      <td>657</td>\n",
       "    </tr>\n",
       "    <tr>\n",
       "      <th>min</th>\n",
       "      <td>-62</td>\n",
       "      <td>28</td>\n",
       "    </tr>\n",
       "    <tr>\n",
       "      <th>25%</th>\n",
       "      <td>-3</td>\n",
       "      <td>461</td>\n",
       "    </tr>\n",
       "    <tr>\n",
       "      <th>50%</th>\n",
       "      <td>3</td>\n",
       "      <td>781</td>\n",
       "    </tr>\n",
       "    <tr>\n",
       "      <th>75%</th>\n",
       "      <td>30</td>\n",
       "      <td>1201</td>\n",
       "    </tr>\n",
       "    <tr>\n",
       "      <th>max</th>\n",
       "      <td>1154</td>\n",
       "      <td>4962</td>\n",
       "    </tr>\n",
       "  </tbody>\n",
       "</table>\n",
       "</div>"
      ],
      "text/plain": [
       "       DepDelay  Distance\n",
       "count     17265     17265\n",
       "mean         26       947\n",
       "std          58       657\n",
       "min         -62        28\n",
       "25%          -3       461\n",
       "50%           3       781\n",
       "75%          30      1201\n",
       "max        1154      4962"
      ]
     },
     "execution_count": 47,
     "metadata": {},
     "output_type": "execute_result"
    }
   ],
   "source": [
    "diverted.describe().astype(int)"
   ]
  },
  {
   "cell_type": "markdown",
   "metadata": {
    "slideshow": {
     "slide_type": "slide"
    }
   },
   "source": [
    "## 03. Flights that have been diverted:"
   ]
  },
  {
   "cell_type": "markdown",
   "metadata": {
    "slideshow": {
     "slide_type": "slide"
    }
   },
   "source": [
    "### What is the structure of your dataset?\n",
    "\n",
    "> There are 17,265 flight observations with 12 features in 2008.\n",
    "\n",
    "\n",
    "### What is/are the main feature(s) of interest in your dataset?\n",
    "\n",
    "> what are the Origin & Dest that have the most diverted flighes?\n",
    "\n",
    "\n",
    "### What features in the dataset do you think will help support your investigation into your feature(s) of interest?\n",
    "\n",
    "> Origin & Dest."
   ]
  },
  {
   "cell_type": "markdown",
   "metadata": {
    "slideshow": {
     "slide_type": "slide"
    }
   },
   "source": [
    "## Expoloring Flights dataset:"
   ]
  },
  {
   "cell_type": "markdown",
   "metadata": {
    "slideshow": {
     "slide_type": "subslide"
    }
   },
   "source": [
    "### 01. Flight dataset Year column:\n",
    "    range :\t 1987-2008 "
   ]
  },
  {
   "cell_type": "code",
   "execution_count": 48,
   "metadata": {
    "scrolled": true,
    "slideshow": {
     "slide_type": "subslide"
    }
   },
   "outputs": [
    {
     "data": {
      "text/plain": [
       "2008    6851832\n",
       "Name: Year, dtype: int64"
      ]
     },
     "execution_count": 48,
     "metadata": {},
     "output_type": "execute_result"
    }
   ],
   "source": [
    "flights.Year.value_counts()"
   ]
  },
  {
   "cell_type": "markdown",
   "metadata": {
    "slideshow": {
     "slide_type": "subslide"
    }
   },
   "source": [
    "### 02. Flight dataset Month column:\n",
    "    range :\t 1-12                                                        "
   ]
  },
  {
   "cell_type": "code",
   "execution_count": 49,
   "metadata": {
    "slideshow": {
     "slide_type": "skip"
    }
   },
   "outputs": [
    {
     "data": {
      "text/plain": [
       "count     6851832\n",
       "unique         12\n",
       "top             7\n",
       "freq       615042\n",
       "Name: Month, dtype: object"
      ]
     },
     "execution_count": 49,
     "metadata": {},
     "output_type": "execute_result"
    }
   ],
   "source": [
    "flights.Month.describe()"
   ]
  },
  {
   "cell_type": "code",
   "execution_count": 50,
   "metadata": {
    "slideshow": {
     "slide_type": "skip"
    }
   },
   "outputs": [],
   "source": [
    "months = ['', 'January', 'February', 'March', 'April', 'May', 'June', 'July', \n",
    "           'August', 'September', 'October', 'November', 'December']\n",
    "# substitute number with actual day of month name \n",
    "for i in flights.Month.unique():\n",
    "    if str(i).isnumeric():\n",
    "        flights.Month.replace(i,months[int(i)], inplace=True)"
   ]
  },
  {
   "cell_type": "code",
   "execution_count": 51,
   "metadata": {},
   "outputs": [
    {
     "data": {
      "text/plain": [
       "array(['January', 'February', 'March', 'April', 'May', 'June', 'July',\n",
       "       'August', 'September', 'October', 'November', 'December'],\n",
       "      dtype=object)"
      ]
     },
     "execution_count": 51,
     "metadata": {},
     "output_type": "execute_result"
    }
   ],
   "source": [
    "flights.Month.unique()"
   ]
  },
  {
   "cell_type": "code",
   "execution_count": 85,
   "metadata": {
    "slideshow": {
     "slide_type": "skip"
    }
   },
   "outputs": [
    {
     "data": {
      "image/png": "[encoded data removed]",
      "text/plain": [
       "<Figure size 792x360 with 1 Axes>"
      ]
     },
     "metadata": {
      "needs_background": "light"
     },
     "output_type": "display_data"
    }
   ],
   "source": [
    "plot_bar_str(flights, 'Month', 100, base_color, figsize=(11, 5), title = 'The Number Of Flights Per Month', fontsize =14); \n",
    "plt.xlabel('Months In 2008',fontsize =14);                          \n",
    "plt.ylabel('Number Of Flights',fontsize =14);"
   ]
  },
  {
   "cell_type": "markdown",
   "metadata": {
    "slideshow": {
     "slide_type": "subslide"
    }
   },
   "source": [
    "### Bar plot indicate the number of flights per month"
   ]
  },
  {
   "cell_type": "code",
   "execution_count": 84,
   "metadata": {
    "slideshow": {
     "slide_type": "subslide"
    }
   },
   "outputs": [
    {
     "data": {
      "image/png": "[encoded data removed]",
      "text/plain": [
       "<Figure size 792x360 with 1 Axes>"
      ]
     },
     "metadata": {
      "needs_background": "light"
     },
     "output_type": "display_data"
    }
   ],
   "source": [
    "plot_bar_str(flights, 'Month', 100, base_color, figsize=(11, 5), title = 'The Number Of Flights Per Month', fontsize =14, log =True)\n",
    "plt.xlabel('Months In 2008',fontsize =14);                          \n",
    "plt.ylabel('Number Of Flights',fontsize =14);"
   ]
  },
  {
   "cell_type": "markdown",
   "metadata": {
    "slideshow": {
     "slide_type": "subslide"
    }
   },
   "source": [
    "- less flights on winter November , December  "
   ]
  },
  {
   "cell_type": "markdown",
   "metadata": {
    "slideshow": {
     "slide_type": "subslide"
    }
   },
   "source": [
    "### 03. Flight dataset DayofMonth column:\n",
    "    range :\t 1-31"
   ]
  },
  {
   "cell_type": "code",
   "execution_count": 69,
   "metadata": {},
   "outputs": [
    {
     "data": {
      "text/plain": [
       "count     6851832\n",
       "unique         31\n",
       "top             7\n",
       "freq       229210\n",
       "Name: DayofMonth, dtype: object"
      ]
     },
     "execution_count": 69,
     "metadata": {},
     "output_type": "execute_result"
    }
   ],
   "source": [
    "flights.DayofMonth.describe()"
   ]
  },
  {
   "cell_type": "markdown",
   "metadata": {
    "slideshow": {
     "slide_type": "subslide"
    }
   },
   "source": [
    "### Bar plot indicate the number of flights per day of month"
   ]
  },
  {
   "cell_type": "code",
   "execution_count": 89,
   "metadata": {
    "slideshow": {
     "slide_type": "subslide"
    }
   },
   "outputs": [
    {
     "data": {
      "image/png": "[encoded data removed]",
      "text/plain": [
       "<Figure size 792x360 with 1 Axes>"
      ]
     },
     "metadata": {
      "needs_background": "light"
     },
     "output_type": "display_data"
    }
   ],
   "source": [
    "plot_bar_str(flights, 'DayofMonth', 50, base_color, figsize=(11, 5), title = 'The Number Of Flights Per Day of Month', fontsize =14);\n",
    "plt.xlabel('Days of Months In 2008',fontsize =12);                          \n",
    "plt.ylabel('Number Of Flights',fontsize =12);"
   ]
  },
  {
   "cell_type": "markdown",
   "metadata": {
    "slideshow": {
     "slide_type": "subslide"
    }
   },
   "source": [
    "- There are not big difference amonge monthes in the flights number during the days of months, and its natural to be less half flights during 31th."
   ]
  },
  {
   "cell_type": "markdown",
   "metadata": {
    "slideshow": {
     "slide_type": "subslide"
    }
   },
   "source": [
    "### 04. Flight dataset DayOfWeek column:\n",
    "    range :\t 1 (Monday) - 7 (Sunday)"
   ]
  },
  {
   "cell_type": "code",
   "execution_count": 91,
   "metadata": {},
   "outputs": [],
   "source": [
    "# substitute number with actual day of week name \n",
    "days = ['', 'Monday', 'Tuesday', 'Wednesday', 'Thursday', 'Friday', 'Saturday', 'Sunday']\n",
    "for i in flights.DayOfWeek.unique():\n",
    "    if str(i).isnumeric():\n",
    "        flights.DayOfWeek.replace(i,days[int(i)], inplace=True)"
   ]
  },
  {
   "cell_type": "code",
   "execution_count": 92,
   "metadata": {
    "slideshow": {
     "slide_type": "skip"
    }
   },
   "outputs": [
    {
     "data": {
      "text/plain": [
       "count       6851832\n",
       "unique            7\n",
       "top       Wednesday\n",
       "freq        1016581\n",
       "Name: DayOfWeek, dtype: object"
      ]
     },
     "execution_count": 92,
     "metadata": {},
     "output_type": "execute_result"
    }
   ],
   "source": [
    "flights.DayOfWeek.describe()"
   ]
  },
  {
   "cell_type": "code",
   "execution_count": 93,
   "metadata": {
    "slideshow": {
     "slide_type": "skip"
    }
   },
   "outputs": [
    {
     "data": {
      "text/plain": [
       "<AxesSubplot:xlabel='DayOfWeek', ylabel='count'>"
      ]
     },
     "execution_count": 93,
     "metadata": {},
     "output_type": "execute_result"
    },
    {
     "data": {
      "image/png": "[encoded data removed]",
      "text/plain": [
       "<Figure size 432x288 with 1 Axes>"
      ]
     },
     "metadata": {
      "needs_background": "light"
     },
     "output_type": "display_data"
    }
   ],
   "source": [
    "plot_bar_str(flights, 'DayOfWeek', 200, base_color, figsize=(11, 5), title = 'The Number Of Flights Per Day', fontsize =14, log =True);\n",
    "plt.xlabel('Months In 2008',fontsize =14);                          \n",
    "plt.ylabel('Number Of Flights',fontsize =14);)"
   ]
  },
  {
   "cell_type": "markdown",
   "metadata": {
    "slideshow": {
     "slide_type": "subslide"
    }
   },
   "source": [
    "#### Bar plot indicate the number of flights per day of week"
   ]
  },
  {
   "cell_type": "code",
   "execution_count": null,
   "metadata": {
    "slideshow": {
     "slide_type": "subslide"
    }
   },
   "outputs": [],
   "source": [
    "plot_bar_str(flights, 'DayOfWeek', 200, base_color, rotation =45, log=True)"
   ]
  },
  {
   "cell_type": "markdown",
   "metadata": {
    "slideshow": {
     "slide_type": "subslide"
    }
   },
   "source": [
    "There are not big difference amonge flights number during working days 'Tuesday', 'Wednesday', 'Thursday', 'Friday' , and less  flights during Sunday , and more less in Saturday."
   ]
  },
  {
   "cell_type": "markdown",
   "metadata": {
    "slideshow": {
     "slide_type": "subslide"
    }
   },
   "source": [
    "### 05. Flight dataset DepTime column:\n",
    "    range :\t 00:00 AM-11:59 PM  \n",
    "    actual departure time (local, hh:mm AM/PM)"
   ]
  },
  {
   "cell_type": "code",
   "execution_count": null,
   "metadata": {
    "slideshow": {
     "slide_type": "subslide"
    }
   },
   "outputs": [],
   "source": [
    "flights.DepTime.describe()"
   ]
  },
  {
   "cell_type": "code",
   "execution_count": null,
   "metadata": {},
   "outputs": [],
   "source": [
    "# sort time in ascending order with its frequency\n",
    "df = sort_time_fmt(flights, 'DepTime')"
   ]
  },
  {
   "cell_type": "code",
   "execution_count": null,
   "metadata": {},
   "outputs": [],
   "source": [
    "df[df.frequency == df.frequency.max()]"
   ]
  },
  {
   "cell_type": "markdown",
   "metadata": {
    "slideshow": {
     "slide_type": "subslide"
    }
   },
   "source": [
    "### line plot indicate the number of actual departed flights over the day time"
   ]
  },
  {
   "cell_type": "code",
   "execution_count": null,
   "metadata": {
    "slideshow": {
     "slide_type": "subslide"
    }
   },
   "outputs": [],
   "source": [
    "plot_line_time_fmt(df, 'DepTime', 'frequency', figsize=(12, 4))"
   ]
  },
  {
   "cell_type": "markdown",
   "metadata": {},
   "source": []
  },
  {
   "cell_type": "markdown",
   "metadata": {
    "slideshow": {
     "slide_type": "subslide"
    }
   },
   "source": [
    "### 06. Flight dataset CRSDepTime column:\n",
    "    range :\t 00:00 AM-11:59 PM  \n",
    "    scheduled departure time (local, hh:mm AM/PM)"
   ]
  },
  {
   "cell_type": "code",
   "execution_count": null,
   "metadata": {},
   "outputs": [],
   "source": [
    "flights.CRSDepTime.describe()"
   ]
  },
  {
   "cell_type": "code",
   "execution_count": null,
   "metadata": {},
   "outputs": [],
   "source": [
    "df = sort_time_fmt(flights, 'CRSDepTime')\n",
    "df.head()"
   ]
  },
  {
   "cell_type": "code",
   "execution_count": null,
   "metadata": {},
   "outputs": [],
   "source": [
    "df[df.frequency == df.frequency.max()]"
   ]
  },
  {
   "cell_type": "markdown",
   "metadata": {
    "slideshow": {
     "slide_type": "subslide"
    }
   },
   "source": [
    "### line plot indicate the number of scheduled departed flights over the day time"
   ]
  },
  {
   "cell_type": "code",
   "execution_count": null,
   "metadata": {
    "slideshow": {
     "slide_type": "subslide"
    }
   },
   "outputs": [],
   "source": [
    "plot_line_time_fmt(df, 'CRSDepTime', 'frequency', figsize=(12, 4))"
   ]
  },
  {
   "cell_type": "markdown",
   "metadata": {
    "slideshow": {
     "slide_type": "subslide"
    }
   },
   "source": [
    "### 07. Flight dataset ArrTime column:\n",
    "    range :\t 00:00 AM-11:59 PM  \n",
    "    actual arrival time (local, hh:mm AM/PM)"
   ]
  },
  {
   "cell_type": "code",
   "execution_count": null,
   "metadata": {},
   "outputs": [],
   "source": [
    "flights.ArrTime.describe()"
   ]
  },
  {
   "cell_type": "code",
   "execution_count": null,
   "metadata": {},
   "outputs": [],
   "source": [
    "df = sort_time_fmt(flights, 'ArrTime')\n",
    "df.head()"
   ]
  },
  {
   "cell_type": "code",
   "execution_count": null,
   "metadata": {},
   "outputs": [],
   "source": [
    "df[df.frequency == df.frequency.max()]"
   ]
  },
  {
   "cell_type": "markdown",
   "metadata": {
    "slideshow": {
     "slide_type": "subslide"
    }
   },
   "source": [
    "### line plot indicate the number of actual arrival flights over the day time"
   ]
  },
  {
   "cell_type": "code",
   "execution_count": null,
   "metadata": {
    "slideshow": {
     "slide_type": "subslide"
    }
   },
   "outputs": [],
   "source": [
    "plot_line_time_fmt(df, 'ArrTime', 'frequency', figsize=(12, 4))"
   ]
  },
  {
   "cell_type": "markdown",
   "metadata": {
    "slideshow": {
     "slide_type": "subslide"
    }
   },
   "source": [
    "### 08. Flight dataset CRSArrTime column:\n",
    "    range :\t 00:00 AM-11:59 PM  \n",
    "    scheduled arrival time (local, hh:mm AM/PM)"
   ]
  },
  {
   "cell_type": "code",
   "execution_count": null,
   "metadata": {
    "slideshow": {
     "slide_type": "subslide"
    }
   },
   "outputs": [],
   "source": [
    "flights.CRSArrTime.describe()"
   ]
  },
  {
   "cell_type": "code",
   "execution_count": null,
   "metadata": {
    "slideshow": {
     "slide_type": "skip"
    }
   },
   "outputs": [],
   "source": [
    "df = sort_time_fmt(flights, 'CRSArrTime')\n",
    "df.head()"
   ]
  },
  {
   "cell_type": "code",
   "execution_count": null,
   "metadata": {},
   "outputs": [],
   "source": [
    "df[df.frequency == df.frequency.max()]"
   ]
  },
  {
   "cell_type": "markdown",
   "metadata": {
    "slideshow": {
     "slide_type": "subslide"
    }
   },
   "source": [
    "### line plot indicate the number of scheduled arrival flights over the day time"
   ]
  },
  {
   "cell_type": "code",
   "execution_count": null,
   "metadata": {
    "slideshow": {
     "slide_type": "subslide"
    }
   },
   "outputs": [],
   "source": [
    "plot_line_time_fmt(df, 'CRSArrTime', 'frequency', figsize=(12, 4))"
   ]
  },
  {
   "cell_type": "markdown",
   "metadata": {
    "slideshow": {
     "slide_type": "subslide"
    }
   },
   "source": [
    "### 09. Flight dataset UniqueCarrier column:\n",
    "    range :\t 1 - 20 string\n",
    "    unique carrier code "
   ]
  },
  {
   "cell_type": "code",
   "execution_count": null,
   "metadata": {
    "slideshow": {
     "slide_type": "skip"
    }
   },
   "outputs": [],
   "source": [
    "flights.UniqueCarrier.describe()"
   ]
  },
  {
   "cell_type": "markdown",
   "metadata": {
    "slideshow": {
     "slide_type": "subslide"
    }
   },
   "source": [
    "#### Bar plot indicate the number of flights per carrier"
   ]
  },
  {
   "cell_type": "code",
   "execution_count": null,
   "metadata": {
    "slideshow": {
     "slide_type": "subslide"
    }
   },
   "outputs": [],
   "source": [
    "plot_bar_str(flights, 'UniqueCarrier', 200, base_color, (10, 4), rotation =0)"
   ]
  },
  {
   "cell_type": "markdown",
   "metadata": {
    "slideshow": {
     "slide_type": "subslide"
    }
   },
   "source": [
    "apperantly WN carrier have the most share of flights about 1,186,911 flight."
   ]
  },
  {
   "cell_type": "code",
   "execution_count": null,
   "metadata": {
    "scrolled": true,
    "slideshow": {
     "slide_type": "subslide"
    }
   },
   "outputs": [],
   "source": [
    "plot_bar_str(flights, 'UniqueCarrier', 200, base_color, (10, 4), rotation =0, log=True)"
   ]
  },
  {
   "cell_type": "markdown",
   "metadata": {
    "slideshow": {
     "slide_type": "subslide"
    }
   },
   "source": [
    "### 10. Flight dataset FlightNum column:\n",
    "    range :\tstring\n",
    "    flight number "
   ]
  },
  {
   "cell_type": "code",
   "execution_count": null,
   "metadata": {
    "slideshow": {
     "slide_type": "subslide"
    }
   },
   "outputs": [],
   "source": [
    "flights.FlightNum.describe()"
   ]
  },
  {
   "cell_type": "markdown",
   "metadata": {
    "slideshow": {
     "slide_type": "subslide"
    }
   },
   "source": [
    "### 11. Flight dataset TailNum column:\n",
    "    range :\tstring\n",
    "    plane tail number :\n",
    "    aircraft registration, unique aircraft identifier"
   ]
  },
  {
   "cell_type": "code",
   "execution_count": null,
   "metadata": {
    "slideshow": {
     "slide_type": "subslide"
    }
   },
   "outputs": [],
   "source": [
    "flights.TailNum.describe()"
   ]
  },
  {
   "cell_type": "markdown",
   "metadata": {
    "slideshow": {
     "slide_type": "skip"
    }
   },
   "source": [
    "# keep the orignal then remove outliers"
   ]
  },
  {
   "cell_type": "code",
   "execution_count": null,
   "metadata": {
    "slideshow": {
     "slide_type": "skip"
    }
   },
   "outputs": [],
   "source": [
    "flights_orignal = flights.copy()"
   ]
  },
  {
   "cell_type": "code",
   "execution_count": null,
   "metadata": {
    "slideshow": {
     "slide_type": "skip"
    }
   },
   "outputs": [],
   "source": [
    "#flights = flights_orignal"
   ]
  },
  {
   "cell_type": "markdown",
   "metadata": {
    "slideshow": {
     "slide_type": "skip"
    }
   },
   "source": [
    "outliers = (((df.DepDelay - df.DepDelay.mean()).abs() > df.DepDelay.std()*3) | \n",
    "            ((df.ArrDelay - df.ArrDelay.mean()).abs() > df.ArrDelay.std()*3))"
   ]
  },
  {
   "cell_type": "code",
   "execution_count": null,
   "metadata": {
    "slideshow": {
     "slide_type": "skip"
    }
   },
   "outputs": [],
   "source": [
    "def outlier(df, col):\n",
    "    df_non_outlier = df[(df[col] >= (2.5*df[col].quantile(.25)-1.5*df[col].quantile(.75))) & (df[col] <= (2.5*df[col].quantile(.75)-1.5*df[col].quantile(.25)))]\n",
    "    return df_non_outlier"
   ]
  },
  {
   "cell_type": "markdown",
   "metadata": {
    "slideshow": {
     "slide_type": "subslide"
    }
   },
   "source": [
    "### 12. Flight dataset ActualElapsedTime column:\n",
    "    range :\tin minutes\n",
    "    ActualElapsedTime "
   ]
  },
  {
   "cell_type": "code",
   "execution_count": null,
   "metadata": {
    "slideshow": {
     "slide_type": "subslide"
    }
   },
   "outputs": [],
   "source": [
    "flights.ActualElapsedTime.describe().round(2)"
   ]
  },
  {
   "cell_type": "code",
   "execution_count": null,
   "metadata": {
    "slideshow": {
     "slide_type": "skip"
    }
   },
   "outputs": [],
   "source": [
    "# remove outliers \n",
    "flights = outlier(flights, 'ActualElapsedTime')"
   ]
  },
  {
   "cell_type": "code",
   "execution_count": null,
   "metadata": {
    "slideshow": {
     "slide_type": "skip"
    }
   },
   "outputs": [],
   "source": [
    "flights.ActualElapsedTime.describe().round(2)"
   ]
  },
  {
   "cell_type": "code",
   "execution_count": null,
   "metadata": {
    "slideshow": {
     "slide_type": "skip"
    }
   },
   "outputs": [],
   "source": [
    "flights['ActualElapsedTimePmile'] = flights['ActualElapsedTime'].astype(float)/ flights['Distance'].astype(float)"
   ]
  },
  {
   "cell_type": "code",
   "execution_count": null,
   "metadata": {
    "slideshow": {
     "slide_type": "skip"
    }
   },
   "outputs": [],
   "source": [
    "flights.ActualElapsedTimePmile.describe().round(3)"
   ]
  },
  {
   "cell_type": "code",
   "execution_count": null,
   "metadata": {
    "slideshow": {
     "slide_type": "skip"
    }
   },
   "outputs": [],
   "source": [
    "bins = np.arange(0,flights['ActualElapsedTimePmile'].max()+0.1,0.1)\n",
    "plt.hist(data = flights, x= 'ActualElapsedTimePmile', bins=bins);\n",
    "plt.xlim(right=1);  # adjust the right leaving left unchanged\n",
    "plt.xlim(left=0);  # adjust the left leaving right unchanged"
   ]
  },
  {
   "cell_type": "code",
   "execution_count": null,
   "metadata": {
    "slideshow": {
     "slide_type": "skip"
    }
   },
   "outputs": [],
   "source": [
    "bins = np.arange(0,flights['ActualElapsedTimePmile'].max()+0.1,0.1)\n",
    "plt.hist(data = flights, x= 'ActualElapsedTimePmile', bins=bins);\n",
    "plt.xlim(right=4);  # adjust the right leaving left unchanged\n",
    "plt.xlim(left=-0.5);  # adjust the left leaving right unchanged\n",
    "plt.yscale('log')"
   ]
  },
  {
   "cell_type": "markdown",
   "metadata": {
    "slideshow": {
     "slide_type": "subslide"
    }
   },
   "source": [
    "#### histogram indicate the density of Actual ElapsedTime for flights per distance"
   ]
  },
  {
   "cell_type": "code",
   "execution_count": null,
   "metadata": {
    "slideshow": {
     "slide_type": "subslide"
    }
   },
   "outputs": [],
   "source": [
    "plot_hist(flights['ActualElapsedTimePmile'], 1, scale=1, x_right=1, x_left=0)"
   ]
  },
  {
   "cell_type": "code",
   "execution_count": null,
   "metadata": {},
   "outputs": [],
   "source": [
    "sns.boxplot(x=flights['ActualElapsedTimePmile']);\n",
    "plt.xlim(right=0.4);  # adjust the right leaving left unchanged\n",
    "plt.xlim(left=0);  # adjust the left leaving right unchanged"
   ]
  },
  {
   "cell_type": "code",
   "execution_count": null,
   "metadata": {
    "slideshow": {
     "slide_type": "skip"
    }
   },
   "outputs": [],
   "source": [
    "flights.boxplot(column=['ActualElapsedTimePmile']);\n",
    "plt.ylim(top=0.4);  # adjust the top leaving bottom unchanged\n",
    "plt.ylim(bottom=0); # adjust the bottom leaving top unchanged"
   ]
  },
  {
   "cell_type": "markdown",
   "metadata": {
    "slideshow": {
     "slide_type": "subslide"
    }
   },
   "source": [
    "### 13. Flight dataset CRSElapsedTime column:\n",
    "    range :\tin minutes\n",
    "    CRSElapsedTime"
   ]
  },
  {
   "cell_type": "code",
   "execution_count": null,
   "metadata": {
    "slideshow": {
     "slide_type": "skip"
    }
   },
   "outputs": [],
   "source": [
    "flights.CRSElapsedTime.describe().round(1)"
   ]
  },
  {
   "cell_type": "code",
   "execution_count": null,
   "metadata": {
    "scrolled": false,
    "slideshow": {
     "slide_type": "skip"
    }
   },
   "outputs": [],
   "source": [
    "flights[flights['CRSElapsedTime'] <0]"
   ]
  },
  {
   "cell_type": "markdown",
   "metadata": {
    "slideshow": {
     "slide_type": "skip"
    }
   },
   "source": [
    "#### remove incorrect data"
   ]
  },
  {
   "cell_type": "code",
   "execution_count": null,
   "metadata": {
    "slideshow": {
     "slide_type": "skip"
    }
   },
   "outputs": [],
   "source": [
    "flights = flights[~(flights['CRSElapsedTime'] <0)]"
   ]
  },
  {
   "cell_type": "code",
   "execution_count": null,
   "metadata": {
    "slideshow": {
     "slide_type": "skip"
    }
   },
   "outputs": [],
   "source": [
    "flights.CRSElapsedTime.describe().round(1)"
   ]
  },
  {
   "cell_type": "code",
   "execution_count": null,
   "metadata": {
    "slideshow": {
     "slide_type": "skip"
    }
   },
   "outputs": [],
   "source": [
    "# remove outliers \n",
    "flights = outlier(flights, 'CRSElapsedTime')"
   ]
  },
  {
   "cell_type": "code",
   "execution_count": null,
   "metadata": {
    "slideshow": {
     "slide_type": "skip"
    }
   },
   "outputs": [],
   "source": [
    "flights.CRSElapsedTime.describe().round(1)"
   ]
  },
  {
   "cell_type": "code",
   "execution_count": null,
   "metadata": {
    "slideshow": {
     "slide_type": "skip"
    }
   },
   "outputs": [],
   "source": [
    "flights['CRSElapsedTimePmile'] = flights['CRSElapsedTime'].astype(float)/ flights['Distance'].astype(float)"
   ]
  },
  {
   "cell_type": "code",
   "execution_count": null,
   "metadata": {
    "scrolled": true,
    "slideshow": {
     "slide_type": "skip"
    }
   },
   "outputs": [],
   "source": [
    "flights.ActualElapsedTimePmile.describe().round(3)"
   ]
  },
  {
   "cell_type": "code",
   "execution_count": null,
   "metadata": {
    "slideshow": {
     "slide_type": "skip"
    }
   },
   "outputs": [],
   "source": [
    "bins = np.arange(0,flights['CRSElapsedTimePmile'].max()+0.1,0.1)\n",
    "plt.hist(data = flights, x= 'CRSElapsedTimePmile', bins=bins);\n",
    "plt.xlim(right=1);  # adjust the right leaving left unchanged\n",
    "plt.xlim(left=0);  # adjust the left leaving right unchanged"
   ]
  },
  {
   "cell_type": "markdown",
   "metadata": {
    "slideshow": {
     "slide_type": "subslide"
    }
   },
   "source": [
    "#### histogram indicate the density of scheduled ElapsedTime for flights per distance"
   ]
  },
  {
   "cell_type": "code",
   "execution_count": null,
   "metadata": {
    "slideshow": {
     "slide_type": "subslide"
    }
   },
   "outputs": [],
   "source": [
    "plot_hist(flights['CRSElapsedTimePmile'], 1, scale=1, x_right=1, x_left=0)"
   ]
  },
  {
   "cell_type": "code",
   "execution_count": null,
   "metadata": {
    "slideshow": {
     "slide_type": "skip"
    }
   },
   "outputs": [],
   "source": [
    "sns.distplot(flights['CRSElapsedTimePmile']);\n",
    "plt.xlim(right=1);  # adjust the right leaving left unchanged\n",
    "plt.xlim(left=0);  # adjust the left leaving right unchanged"
   ]
  },
  {
   "cell_type": "code",
   "execution_count": null,
   "metadata": {
    "scrolled": true,
    "slideshow": {
     "slide_type": "skip"
    }
   },
   "outputs": [],
   "source": [
    "sns.boxplot(x=flights['CRSElapsedTimePmile']);\n",
    "plt.xlim(right=0.5);  # adjust the right leaving left unchanged\n",
    "plt.xlim(left=0);  # adjust the left leaving right unchanged"
   ]
  },
  {
   "cell_type": "code",
   "execution_count": null,
   "metadata": {
    "scrolled": true,
    "slideshow": {
     "slide_type": "skip"
    }
   },
   "outputs": [],
   "source": [
    "flights.boxplot(column=['CRSElapsedTimePmile']);\n",
    "plt.ylim(top=0.5);  # adjust the top leaving bottom unchanged\n",
    "plt.ylim(bottom=0); # adjust the bottom leaving top unchanged"
   ]
  },
  {
   "cell_type": "markdown",
   "metadata": {
    "slideshow": {
     "slide_type": "subslide"
    }
   },
   "source": [
    "### 14. Flight dataset AirTime column:\n",
    "    range :\tin minutes"
   ]
  },
  {
   "cell_type": "code",
   "execution_count": null,
   "metadata": {
    "slideshow": {
     "slide_type": "skip"
    }
   },
   "outputs": [],
   "source": [
    "flights.AirTime.describe().round(1)"
   ]
  },
  {
   "cell_type": "code",
   "execution_count": null,
   "metadata": {
    "slideshow": {
     "slide_type": "skip"
    }
   },
   "outputs": [],
   "source": [
    "# remove outliers \n",
    "flights = outlier(flights, 'AirTime')"
   ]
  },
  {
   "cell_type": "code",
   "execution_count": null,
   "metadata": {
    "slideshow": {
     "slide_type": "skip"
    }
   },
   "outputs": [],
   "source": [
    "flights.AirTime.describe().round(1)"
   ]
  },
  {
   "cell_type": "code",
   "execution_count": null,
   "metadata": {
    "slideshow": {
     "slide_type": "skip"
    }
   },
   "outputs": [],
   "source": [
    "flights['AirTimePmile'] = flights['AirTime'].astype(float)/ flights['Distance'].astype(float)"
   ]
  },
  {
   "cell_type": "code",
   "execution_count": null,
   "metadata": {
    "scrolled": true,
    "slideshow": {
     "slide_type": "skip"
    }
   },
   "outputs": [],
   "source": [
    "flights.AirTimePmile.describe().round(3)"
   ]
  },
  {
   "cell_type": "code",
   "execution_count": null,
   "metadata": {
    "slideshow": {
     "slide_type": "skip"
    }
   },
   "outputs": [],
   "source": [
    "bins = np.arange(0,flights['AirTimePmile'].max()+0.1,0.1)\n",
    "plt.hist(data = flights, x= 'AirTimePmile', bins=bins);\n",
    "plt.xlim(right=1);  # adjust the right leaving left unchanged\n",
    "plt.xlim(left=0);  # adjust the left leaving right unchanged"
   ]
  },
  {
   "cell_type": "markdown",
   "metadata": {
    "slideshow": {
     "slide_type": "subslide"
    }
   },
   "source": [
    "#### histogram indicate the density of arive Time for flights per distance"
   ]
  },
  {
   "cell_type": "code",
   "execution_count": null,
   "metadata": {
    "slideshow": {
     "slide_type": "subslide"
    }
   },
   "outputs": [],
   "source": [
    "plot_hist(flights['AirTimePmile'], 1, scale=1, x_right=1, x_left=0)"
   ]
  },
  {
   "cell_type": "code",
   "execution_count": null,
   "metadata": {
    "slideshow": {
     "slide_type": "skip"
    }
   },
   "outputs": [],
   "source": [
    "sns.distplot(flights['AirTimePmile']);\n",
    "plt.xlim(right=1);  # adjust the right leaving left unchanged\n",
    "plt.xlim(left=0)  # adjust the left leaving right unchanged"
   ]
  },
  {
   "cell_type": "code",
   "execution_count": null,
   "metadata": {
    "scrolled": true,
    "slideshow": {
     "slide_type": "skip"
    }
   },
   "outputs": [],
   "source": [
    "sns.boxplot(x=flights['AirTimePmile']);\n",
    "plt.xlim(right=0.35);  # adjust the right leaving left unchanged\n",
    "plt.xlim(left=0);  # adjust the left leaving right unchanged"
   ]
  },
  {
   "cell_type": "code",
   "execution_count": null,
   "metadata": {
    "scrolled": true,
    "slideshow": {
     "slide_type": "skip"
    }
   },
   "outputs": [],
   "source": [
    "flights.boxplot(column=['AirTimePmile']);\n",
    "plt.ylim(top=0.35);  # adjust the top leaving bottom unchanged\n",
    "plt.ylim(bottom=0); # adjust the bottom leaving top unchanged"
   ]
  },
  {
   "cell_type": "markdown",
   "metadata": {
    "slideshow": {
     "slide_type": "subslide"
    }
   },
   "source": [
    "### 15. Flight dataset ArrDelay column:\n",
    "    range :\tin minutes\n",
    "    arrival delay:\n",
    "    A flight is counted as \"on time\" if it operated less than 15 minutes later the scheduled time shown in the carriers' Computerized Reservations Systems (CRS)."
   ]
  },
  {
   "cell_type": "code",
   "execution_count": null,
   "metadata": {
    "slideshow": {
     "slide_type": "skip"
    }
   },
   "outputs": [],
   "source": [
    "flights.ArrDelay.describe().round(1)"
   ]
  },
  {
   "cell_type": "code",
   "execution_count": null,
   "metadata": {
    "slideshow": {
     "slide_type": "skip"
    }
   },
   "outputs": [],
   "source": [
    "flights[flights['ArrDelay'] <15].shape"
   ]
  },
  {
   "cell_type": "code",
   "execution_count": null,
   "metadata": {
    "slideshow": {
     "slide_type": "skip"
    }
   },
   "outputs": [],
   "source": [
    "# remove outliers \n",
    "flights = outlier(flights, 'ArrDelay')"
   ]
  },
  {
   "cell_type": "code",
   "execution_count": null,
   "metadata": {
    "slideshow": {
     "slide_type": "skip"
    }
   },
   "outputs": [],
   "source": [
    "flights.ArrDelay.describe().round(1)"
   ]
  },
  {
   "cell_type": "code",
   "execution_count": null,
   "metadata": {
    "slideshow": {
     "slide_type": "skip"
    }
   },
   "outputs": [],
   "source": [
    "plt.hist(data = flights, x= 'ArrDelay');\n",
    "#plt.xlim(right=500);  # adjust the right leaving left unchanged\n",
    "plt.xlim(left=-60);  # adjust the left leaving right unchanged"
   ]
  },
  {
   "cell_type": "code",
   "execution_count": null,
   "metadata": {},
   "outputs": [],
   "source": [
    "plt.hist(data = flights, x= 'ArrDelay');\n",
    "#plt.xlim(right=500);  # adjust the right leaving left unchanged\n",
    "plt.xlim(left=-60);  # adjust the left leaving right unchanged\n",
    "plt.yscale('log')"
   ]
  },
  {
   "cell_type": "code",
   "execution_count": null,
   "metadata": {},
   "outputs": [],
   "source": [
    "plot_hist(flights['AirTimePmile'], .1)"
   ]
  },
  {
   "cell_type": "markdown",
   "metadata": {
    "slideshow": {
     "slide_type": "subslide"
    }
   },
   "source": [
    "#### histogram indicate the density of arive delayTime for flights per distance"
   ]
  },
  {
   "cell_type": "code",
   "execution_count": null,
   "metadata": {
    "slideshow": {
     "slide_type": "subslide"
    }
   },
   "outputs": [],
   "source": [
    "sns.distplot(flights['ArrDelay']);\n",
    "#plt.xlim(right=12);  # adjust the right leaving left unchanged\n",
    "#plt.xlim(left=-700);  # adjust the left leaving right unchanged\n",
    "#plt.yscale('log')"
   ]
  },
  {
   "cell_type": "code",
   "execution_count": null,
   "metadata": {
    "scrolled": true
   },
   "outputs": [],
   "source": [
    "sns.boxplot(x=flights['ArrDelay']);\n",
    "plt.xlim(right=50);  # adjust the right leaving left unchanged\n",
    "plt.xlim(left=-50);  # adjust the left leaving right unchanged"
   ]
  },
  {
   "cell_type": "code",
   "execution_count": null,
   "metadata": {
    "scrolled": true
   },
   "outputs": [],
   "source": [
    "flights.boxplot(column=['ArrDelay']);\n",
    "plt.ylim(top=50);  # adjust the top leaving bottom unchanged\n",
    "plt.ylim(bottom=-50); # adjust the bottom leaving top unchanged"
   ]
  },
  {
   "cell_type": "markdown",
   "metadata": {
    "slideshow": {
     "slide_type": "subslide"
    }
   },
   "source": [
    "### 16. Flight dataset DepDelay column:\n",
    "    range :\tin minutes\n",
    "    departure delay:"
   ]
  },
  {
   "cell_type": "code",
   "execution_count": null,
   "metadata": {
    "slideshow": {
     "slide_type": "subslide"
    }
   },
   "outputs": [],
   "source": [
    "flights.DepDelay.describe().round(1)"
   ]
  },
  {
   "cell_type": "code",
   "execution_count": null,
   "metadata": {
    "scrolled": true
   },
   "outputs": [],
   "source": [
    "flights[flights['DepDelay'] <0].shape"
   ]
  },
  {
   "cell_type": "code",
   "execution_count": null,
   "metadata": {},
   "outputs": [],
   "source": [
    "# remove outliers \n",
    "flights = outlier(flights, 'DepDelay')"
   ]
  },
  {
   "cell_type": "code",
   "execution_count": null,
   "metadata": {},
   "outputs": [],
   "source": [
    "flights.DepDelay.describe().round(1)"
   ]
  },
  {
   "cell_type": "code",
   "execution_count": null,
   "metadata": {},
   "outputs": [],
   "source": [
    "plt.hist(data = flights, x= 'DepDelay');\n",
    "#plt.xlim(right=1);  # adjust the right leaving left unchanged\n",
    "#plt.xlim(left=0);  # adjust the left leaving right unchanged"
   ]
  },
  {
   "cell_type": "markdown",
   "metadata": {
    "slideshow": {
     "slide_type": "subslide"
    }
   },
   "source": [
    "#### histogram indicate the density of depate delay Time for flights per distance"
   ]
  },
  {
   "cell_type": "code",
   "execution_count": null,
   "metadata": {
    "slideshow": {
     "slide_type": "subslide"
    }
   },
   "outputs": [],
   "source": [
    "plot_hist(flights['AirTimePmile'], .1)"
   ]
  },
  {
   "cell_type": "code",
   "execution_count": null,
   "metadata": {},
   "outputs": [],
   "source": [
    "sns.distplot(flights['DepDelay']);\n",
    "#plt.xlim(right=1);  # adjust the right leaving left unchanged\n",
    "#plt.xlim(left=0)  # adjust the left leaving right unchanged"
   ]
  },
  {
   "cell_type": "code",
   "execution_count": null,
   "metadata": {
    "scrolled": true
   },
   "outputs": [],
   "source": [
    "sns.boxplot(x=flights['DepDelay']);\n",
    "#plt.xlim(right=1);  # adjust the right leaving left unchanged\n",
    "#plt.xlim(left=0);  # adjust the left leaving right unchanged"
   ]
  },
  {
   "cell_type": "code",
   "execution_count": null,
   "metadata": {
    "scrolled": true
   },
   "outputs": [],
   "source": [
    "flights.boxplot(column=['DepDelay']);\n",
    "#plt.ylim(top=1);  # adjust the top leaving bottom unchanged\n",
    "#plt.ylim(bottom=0); # adjust the bottom leaving top unchanged"
   ]
  },
  {
   "cell_type": "markdown",
   "metadata": {
    "slideshow": {
     "slide_type": "subslide"
    }
   },
   "source": [
    "### 17. Flight dataset Origin column:\n",
    "    range :\tstring\n",
    "    origin IATA airport code"
   ]
  },
  {
   "cell_type": "code",
   "execution_count": null,
   "metadata": {},
   "outputs": [],
   "source": [
    "flights.Origin.describe()"
   ]
  },
  {
   "cell_type": "markdown",
   "metadata": {
    "slideshow": {
     "slide_type": "subslide"
    }
   },
   "source": [
    "### 18. Flight dataset Dest column:\n",
    "    range :\tstring\n",
    "    destination IATA airport code "
   ]
  },
  {
   "cell_type": "code",
   "execution_count": null,
   "metadata": {},
   "outputs": [],
   "source": [
    "flights.Dest.describe()"
   ]
  },
  {
   "cell_type": "markdown",
   "metadata": {
    "slideshow": {
     "slide_type": "subslide"
    }
   },
   "source": [
    "### 19. Flight dataset Distance column:\n",
    "    range :\tin miles \n",
    "    Distance"
   ]
  },
  {
   "cell_type": "code",
   "execution_count": null,
   "metadata": {},
   "outputs": [],
   "source": [
    "flights.Distance.describe().round(1)"
   ]
  },
  {
   "cell_type": "markdown",
   "metadata": {
    "slideshow": {
     "slide_type": "subslide"
    }
   },
   "source": [
    "### 20. Flight dataset TaxiIn column:\n",
    "    range :\tin minutes\n",
    "    taxi in time "
   ]
  },
  {
   "cell_type": "code",
   "execution_count": null,
   "metadata": {},
   "outputs": [],
   "source": [
    "flights.TaxiIn.describe().round(1)"
   ]
  },
  {
   "cell_type": "code",
   "execution_count": null,
   "metadata": {},
   "outputs": [],
   "source": [
    "# remove outliers \n",
    "flights = outlier(flights, 'TaxiIn')"
   ]
  },
  {
   "cell_type": "code",
   "execution_count": null,
   "metadata": {},
   "outputs": [],
   "source": [
    "flights.TaxiIn.describe().round(1)"
   ]
  },
  {
   "cell_type": "markdown",
   "metadata": {
    "slideshow": {
     "slide_type": "subslide"
    }
   },
   "source": [
    "### 21. Flight dataset TaxiOut column:\n",
    "    range :\tin minutes \n",
    "    taxi out time "
   ]
  },
  {
   "cell_type": "code",
   "execution_count": null,
   "metadata": {
    "slideshow": {
     "slide_type": "subslide"
    }
   },
   "outputs": [],
   "source": [
    "flights.TaxiOut.describe().round(1)"
   ]
  },
  {
   "cell_type": "code",
   "execution_count": null,
   "metadata": {},
   "outputs": [],
   "source": [
    "# remove outliers \n",
    "flights = outlier(flights, 'TaxiOut')"
   ]
  },
  {
   "cell_type": "code",
   "execution_count": null,
   "metadata": {},
   "outputs": [],
   "source": [
    "flights.TaxiOut.describe().round(1)"
   ]
  },
  {
   "cell_type": "markdown",
   "metadata": {
    "slideshow": {
     "slide_type": "subslide"
    }
   },
   "source": [
    "### 25. Flight dataset CarrierDelay column:\n",
    "    range :\tin minutes\n",
    "    - Carrier delay is within the control of the air carrier. \n",
    "    - Examples of occurrences that may determine carrier delay are: \n",
    "        - aircraft cleaning, aircraft damage, awaiting the arrival of connecting passengers or crew, \n",
    "        - baggage, bird strike, cargo loading, catering, computer, outage-carrier equipment, \n",
    "        - crew legality (pilot or attendant rest), damage by hazardous goods, engineering inspection, fueling, \n",
    "        - handling disabled passengers, late crew, lavatory servicing, maintenance, oversales, \n",
    "        - potable water servicing, removal of unruly passenger, slow boarding or seating, \n",
    "        - stowing carry-on baggage, weight and balance delays.              "
   ]
  },
  {
   "cell_type": "code",
   "execution_count": null,
   "metadata": {
    "slideshow": {
     "slide_type": "subslide"
    }
   },
   "outputs": [],
   "source": [
    "flights.CarrierDelay.describe().round(3)"
   ]
  },
  {
   "cell_type": "markdown",
   "metadata": {
    "slideshow": {
     "slide_type": "subslide"
    }
   },
   "source": [
    "### 26. Flight dataset WeatherDelay column:\n",
    "    range :\tin minutes\n",
    "    Weather delay is caused by extreme or hazardous weather conditions that are forecasted or \n",
    "    manifest themselves on point of departure, enroute, or on point of arrival. \n"
   ]
  },
  {
   "cell_type": "code",
   "execution_count": null,
   "metadata": {
    "slideshow": {
     "slide_type": "subslide"
    }
   },
   "outputs": [],
   "source": [
    "flights.WeatherDelay.describe().round(3)"
   ]
  },
  {
   "cell_type": "markdown",
   "metadata": {
    "slideshow": {
     "slide_type": "subslide"
    }
   },
   "source": [
    "### 27. Flight dataset NASDelay column:\n",
    "    range :\tin minutes\n",
    "    Delay that is within the control of the National Airspace System (NAS) may include: \n",
    "    non-extreme weather conditions, airport operations, heavy traffic volume, air traffic control, etc.          "
   ]
  },
  {
   "cell_type": "code",
   "execution_count": null,
   "metadata": {
    "slideshow": {
     "slide_type": "subslide"
    }
   },
   "outputs": [],
   "source": [
    "flights.NASDelay.describe().round(3)"
   ]
  },
  {
   "cell_type": "markdown",
   "metadata": {
    "slideshow": {
     "slide_type": "subslide"
    }
   },
   "source": [
    "### 28. Flight dataset SecurityDelay column:\n",
    "    range :\tin minutes\n",
    "    Security delay is caused by evacuation of a terminal or concourse, re-boarding of aircraft because of security breach, inoperative screening equipment and/or long lines in excess of 29 minutes at screening areas."
   ]
  },
  {
   "cell_type": "code",
   "execution_count": null,
   "metadata": {
    "slideshow": {
     "slide_type": "subslide"
    }
   },
   "outputs": [],
   "source": [
    "flights.SecurityDelay.describe().round(3)"
   ]
  },
  {
   "cell_type": "markdown",
   "metadata": {
    "slideshow": {
     "slide_type": "subslide"
    }
   },
   "source": [
    "### 29. Flight dataset LateAircraftDelay column:\n",
    "    range :\tin minutes\n",
    "    Arrival delay at an airport due to the late arrival of the same aircraft at a previous airport. \n",
    "    The ripple effect of an earlier delay at downstream airports is referred to as delay propagation. "
   ]
  },
  {
   "cell_type": "code",
   "execution_count": null,
   "metadata": {
    "slideshow": {
     "slide_type": "subslide"
    }
   },
   "outputs": [],
   "source": [
    "flights.LateAircraftDelay.describe().round(3)"
   ]
  },
  {
   "cell_type": "markdown",
   "metadata": {
    "slideshow": {
     "slide_type": "subslide"
    }
   },
   "source": [
    "## correlation matrix"
   ]
  },
  {
   "cell_type": "code",
   "execution_count": null,
   "metadata": {
    "slideshow": {
     "slide_type": "subslide"
    }
   },
   "outputs": [],
   "source": [
    "corrmat = flights.corr()\n",
    "f, ax = plt.subplots(figsize=(15, 10))\n",
    "sns.heatmap(corrmat, vmin=-1, square=True, annot=True, fmt='.2f', cmap='vlag_r', center=0);"
   ]
  },
  {
   "cell_type": "markdown",
   "metadata": {
    "slideshow": {
     "slide_type": "skip"
    }
   },
   "source": [
    "## Saving cleaned data after romvoing outliers and duplicates"
   ]
  },
  {
   "cell_type": "code",
   "execution_count": null,
   "metadata": {},
   "outputs": [],
   "source": [
    "flights.columns"
   ]
  },
  {
   "cell_type": "code",
   "execution_count": null,
   "metadata": {},
   "outputs": [],
   "source": [
    "# drop some columns\n",
    "flights = flights[['Month', 'DayofMonth', 'DayOfWeek', 'DepTime', 'CRSDepTime',\n",
    "       'ArrTime', 'CRSArrTime', 'UniqueCarrier', 'FlightNum', 'TailNum',\n",
    "       'ActualElapsedTime', 'CRSElapsedTime', 'AirTime', 'ArrDelay',\n",
    "       'DepDelay', 'Origin', 'Dest', 'Distance', 'CarrierDelay', 'WeatherDelay', 'NASDelay', 'SecurityDelay',\n",
    "       'LateAircraftDelay']]"
   ]
  },
  {
   "cell_type": "code",
   "execution_count": null,
   "metadata": {
    "slideshow": {
     "slide_type": "skip"
    }
   },
   "outputs": [],
   "source": [
    "# saving data\n",
    "t1 = time.time()\n",
    "flights.to_csv('../data/processed/{}.csv'.format('flights'), index=False)\n",
    "t2 = time.time()\n",
    "print('Elapsed saving time :', t2-t1)"
   ]
  },
  {
   "cell_type": "code",
   "execution_count": null,
   "metadata": {},
   "outputs": [],
   "source": [
    "cancelled.columns"
   ]
  },
  {
   "cell_type": "code",
   "execution_count": null,
   "metadata": {},
   "outputs": [],
   "source": [
    "# drop some columns\n",
    "cancelled = cancelled[['Month', 'DayofMonth', 'DayOfWeek', 'CRSDepTime', 'CRSArrTime',\n",
    "       'UniqueCarrier', 'FlightNum', 'Origin', 'Dest', 'Distance', 'CancellationCode']]"
   ]
  },
  {
   "cell_type": "code",
   "execution_count": null,
   "metadata": {},
   "outputs": [],
   "source": [
    "# saving data\n",
    "t1 = time.time()\n",
    "cancelled.to_csv('../data/processed/{}.csv'.format('cancelled'), index=False)\n",
    "t2 = time.time()\n",
    "print('Elapsed saving time :', t2-t1)"
   ]
  },
  {
   "cell_type": "code",
   "execution_count": null,
   "metadata": {},
   "outputs": [],
   "source": [
    "diverted.columns"
   ]
  },
  {
   "cell_type": "code",
   "execution_count": null,
   "metadata": {},
   "outputs": [],
   "source": [
    "# drop some columns\n",
    "diverted = diverted[['Month', 'DayofMonth', 'DayOfWeek', 'DepTime', 'CRSDepTime',\n",
    "       'UniqueCarrier', 'FlightNum', 'DepDelay', 'Origin', 'Dest', 'Distance']]"
   ]
  },
  {
   "cell_type": "code",
   "execution_count": null,
   "metadata": {},
   "outputs": [],
   "source": [
    "# saving data\n",
    "t1 = time.time()\n",
    "diverted.to_csv('../data/processed/{}.csv'.format('diverted'), index=False)\n",
    "t2 = time.time()\n",
    "print('Elapsed saving time :', t2-t1)"
   ]
  },
  {
   "cell_type": "code",
   "execution_count": null,
   "metadata": {},
   "outputs": [],
   "source": [
    "!jupyter nbconvert exploration.ipynb --to slides --post serve --no-input --no-prompt"
   ]
  },
  {
   "cell_type": "markdown",
   "metadata": {},
   "source": [
    "> At the end of your report, make sure that you export the notebook as an\n",
    "html file from the `File > Download as... > HTML` menu. Make sure you keep\n",
    "track of where the exported file goes, so you can put it in the same folder\n",
    "as this notebook for project submission. Also, make sure you remove all of\n",
    "the quote-formatted guide notes like this one before you finish your report!"
   ]
  }
 ],
 "metadata": {
  "celltoolbar": "Slideshow",
  "kernelspec": {
   "display_name": "Python 3",
   "language": "python",
   "name": "python3"
  },
  "language_info": {
   "codemirror_mode": {
    "name": "ipython",
    "version": 3
   },
   "file_extension": ".py",
   "mimetype": "text/x-python",
   "name": "python",
   "nbconvert_exporter": "python",
   "pygments_lexer": "ipython3",
   "version": "3.8.8"
  }
 },
 "nbformat": 4,
 "nbformat_minor": 2
}
