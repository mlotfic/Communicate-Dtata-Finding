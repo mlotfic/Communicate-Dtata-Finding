{
 "cells": [
  {
   "cell_type": "markdown",
   "metadata": {
    "slideshow": {
     "slide_type": "slide"
    }
   },
   "source": [
    "# Data Expo 2009 - Airline on-time performance\n",
    "## by (Mahmoud Lotfi)\n",
    "\n",
    "## Preliminary Wrangling\n",
    "\n",
    "- The data consists of flight arrival and departure details for all commercial flights within the USA, from October 1987 to April 2008. \n",
    "- This is a large dataset: there are nearly 120 million records in total, and takes up 1.6 gigabytes of space compressed and 12 gigabytes when uncompressed. \n",
    "- The data comes originally from RITA where it is described in detail. \n",
    "- the data in bzipped csv file. \n",
    "- These files have derivable variables removed, are packaged in yearly chunks and have been more heavily compressed than the originals.\n",
    "- in this project we will discuss flight delay for __2008__ data set\n",
    "\n",
    "### Individual years:\n",
    "\n",
    "1987, 1988, 1989, 1990, 1991, 1992, 1993, 1994, 1995, 1996, 1997, 1998, 1999, 2000, 2001, 2002, 2003, 2004, 2005, 2006, 2007, 2008\n",
    "\n",
    "### Our scope on 2008 dataset\n"
   ]
  },
  {
   "cell_type": "markdown",
   "metadata": {
    "slideshow": {
     "slide_type": "slide"
    }
   },
   "source": [
    "## How to Run the project:\n",
    "- Insrt raw data download in __\"./data/raw\"__\n",
    "- Run the script __\"Communicate-Dtata-Finding\\src\\data\\make_dataset.py\"__\n",
    "- Now you can find output data from script  __\"Communicate-Dtata-Finding/data/interim/*.csv\"__\n",
    "- Run the notebook in __\"Communicate-Dtata-Finding\\notebooks\\exploration.ipynb\"__ to find __Exploratory data__\n",
    "- Run the notebook in __\"Communicate-Dtata-Finding\\notebooks\\explanatory.ipynb\"__ to find __Explanatory data__"
   ]
  },
  {
   "cell_type": "code",
   "execution_count": 222,
   "metadata": {
    "slideshow": {
     "slide_type": "skip"
    }
   },
   "outputs": [],
   "source": [
    "# import all packages and set plots to be embedded inline\n",
    "import numpy as np\n",
    "import pandas as pd\n",
    "import matplotlib.pyplot as plt\n",
    "import seaborn as sns\n",
    "import time\n",
    "\n",
    "# display static image online \n",
    "%matplotlib inline\n",
    "\n",
    "# display zoomable images inline\n",
    "#%matplotlib notebook\n",
    "\n",
    "# suppress warnings from final output\n",
    "import warnings\n",
    "warnings.simplefilter(\"ignore\")"
   ]
  },
  {
   "cell_type": "markdown",
   "metadata": {
    "slideshow": {
     "slide_type": "skip"
    }
   },
   "source": [
    "### User define function and general configrations"
   ]
  },
  {
   "cell_type": "code",
   "execution_count": 223,
   "metadata": {
    "slideshow": {
     "slide_type": "skip"
    }
   },
   "outputs": [
    {
     "data": {
      "text/plain": [
       "'\\n# center plot figure\\nfrom IPython.core.display import HTML\\nHTML(\\n    \"\"\"\\n    <style>    .output_png \\n    {    \\n    display: table-cell;    \\n    text-align: center;    \\n    vertical-align: \\n    middle;\\n    }\\n    </style>\\n    \"\"\"\\n    )\\n\\n'"
      ]
     },
     "execution_count": 223,
     "metadata": {},
     "output_type": "execute_result"
    }
   ],
   "source": [
    "'''\n",
    "# center plot figure\n",
    "from IPython.core.display import HTML\n",
    "HTML(\n",
    "    \"\"\"\n",
    "    <style>    .output_png \n",
    "    {    \n",
    "    display: table-cell;    \n",
    "    text-align: center;    \n",
    "    vertical-align: \n",
    "    middle;\n",
    "    }\n",
    "    </style>\n",
    "    \"\"\"\n",
    "    )\n",
    "\n",
    "'''"
   ]
  },
  {
   "cell_type": "code",
   "execution_count": 224,
   "metadata": {
    "slideshow": {
     "slide_type": "skip"
    }
   },
   "outputs": [],
   "source": [
    "# reset seaborn settings\n",
    "sns.reset_orig()\n",
    "# set plotting color\n",
    "base_color = sns.color_palette()[0]"
   ]
  },
  {
   "cell_type": "code",
   "execution_count": 225,
   "metadata": {
    "slideshow": {
     "slide_type": "skip"
    }
   },
   "outputs": [],
   "source": [
    "def load_dataset(name='flights'):\n",
    "    '''\n",
    "    Description: load dataset acoordding to year\n",
    "    parameter name string flights, diverted, canceled\n",
    "    return dataframe\n",
    "    '''\n",
    "    t1 = time.time()\n",
    "    df = pd.read_csv('../data/interim/{}.csv'.format(name))\n",
    "    t2 = time.time()\n",
    "    print('Elapsed loading time :', t2-t1)\n",
    "    return df"
   ]
  },
  {
   "cell_type": "code",
   "execution_count": 226,
   "metadata": {
    "slideshow": {
     "slide_type": "skip"
    }
   },
   "outputs": [],
   "source": [
    "def plot_bar_str(df, col, inc, base_color , figsize = None, rotation = 0 , log =None):\n",
    "    month_frq = df[col].value_counts()\n",
    "    month_max_count = month_frq[0]\n",
    "    month_max_prop = month_max_count/1000\n",
    "    tick_prop = np.arange(0, month_max_prop, inc)\n",
    "    tick_names = ['{:0.0f}K'.format(v) for v in tick_prop]\n",
    "    if figsize:\n",
    "        plt.figure(figsize=figsize)\n",
    "        \n",
    "    plt.yticks(tick_prop*1000, tick_names)\n",
    "    ax = plt.gca()\n",
    "    ax.spines[\"top\"].set_visible(False)\n",
    "    ax.spines[\"right\"].set_visible(False)\n",
    "    ax.spines[\"left\"].set_visible(False)\n",
    "    plt.xticks(rotation=rotation)\n",
    "    if log:\n",
    "        plt.yscale('log')\n",
    "    plt.grid()\n",
    "    sns.countplot(data = flights, x=col, color = base_color, order = month_frq.index, ax=ax);"
   ]
  },
  {
   "cell_type": "code",
   "execution_count": 227,
   "metadata": {
    "slideshow": {
     "slide_type": "skip"
    }
   },
   "outputs": [],
   "source": [
    "def sort_time_fmt(df1, col):\n",
    "    df = df1[col].value_counts().to_frame()\n",
    "    df['hours'] = pd.to_datetime(df.index, format='%I:%M %p').hour\n",
    "    df['minutes'] = pd.to_datetime(df.index, format='%I:%M %p').minute\n",
    "    df = df.reset_index()\n",
    "    df.columns = [col, 'frequency' , 'hours' , 'minutes']\n",
    "    df = df.sort_values(['hours', 'minutes'])\n",
    "    df = df.drop(columns=['minutes'])\n",
    "    df = df.groupby('hours').sum().reset_index()\n",
    "    df.columns = [col, 'frequency']   \n",
    "    return df"
   ]
  },
  {
   "cell_type": "code",
   "execution_count": 228,
   "metadata": {
    "slideshow": {
     "slide_type": "skip"
    }
   },
   "outputs": [],
   "source": [
    "def plot_line_time_fmt(df, x, y='frequency', figsize=(12, 4)):\n",
    "    order = df.index\n",
    "    max_count = df[y].max()\n",
    "    max_prop = max_count/1000\n",
    "    tick_prop = np.arange(0, max_prop, 100)\n",
    "    tick_names = ['{:0.0f}K'.format(v) for v in tick_prop]\n",
    "    plt.figure(figsize=figsize)\n",
    "    ax = plt.gca()\n",
    "    ax.spines[\"top\"].set_visible(False)\n",
    "    ax.spines[\"right\"].set_visible(False)\n",
    "    ax.spines[\"left\"].set_visible(False)\n",
    "    plt.yticks(tick_prop*1000, tick_names)\n",
    "    df.plot(x=x, y=y, ax =ax);\n",
    "    plt.grid()"
   ]
  },
  {
   "cell_type": "code",
   "execution_count": 229,
   "metadata": {
    "slideshow": {
     "slide_type": "skip"
    }
   },
   "outputs": [],
   "source": [
    "def plot_hist(col, inc, figsize = None, rotation = 0 , log =None , scale=1, x_right=False, \n",
    "             x_left=False, y_top=False, y_bottom=False):\n",
    "    if scale == 1000:\n",
    "        k='K'\n",
    "    else:\n",
    "        k=''\n",
    "    inc = 1\n",
    "    max_prop = (1.25*flights['ActualElapsedTimePmile'].max())/scale\n",
    "    tick_prop = np.arange(0, max_prop, inc)\n",
    "    tick_names = ['{:0.0f}{}'.format(v,k) for v in tick_prop]\n",
    "    if figsize:\n",
    "        plt.figure(figsize=figsize)\n",
    "\n",
    "    plt.yticks(tick_prop*scale, tick_names)\n",
    "    ax = plt.gca()\n",
    "\n",
    "    plt.xticks(rotation=rotation)\n",
    "    if log:\n",
    "        plt.yscale('log')\n",
    "    plt.grid(alpha= 0.2)\n",
    "    sns.distplot(flights['ActualElapsedTimePmile'], ax=ax);\n",
    "    plt.xlim(right=1);  # adjust the right leaving left unchanged\n",
    "    plt.xlim(left=0);  # adjust the left leaving right unchanged\n",
    "    ax.spines[\"top\"].set_visible(False)\n",
    "    ax.spines[\"right\"].set_visible(False)\n",
    "    ax.spines[\"left\"].set_visible(False)\n",
    "    plt.grid()"
   ]
  },
  {
   "cell_type": "code",
   "execution_count": 230,
   "metadata": {
    "slideshow": {
     "slide_type": "skip"
    }
   },
   "outputs": [
    {
     "data": {
      "text/plain": [
       "\"\\n# relative frequency\\n# return the highest frequency \\nmonth_max_count = month_frq[0]\\nmonth_max_prop = month_max_count/flights.shape[0]\\ntick_prop = np.arange(0, month_max_prop, 0.02)\\ntick_names = ['{:0.2f}'.format(v) for v in tick_prop]\\nplt.yticks(tick_prop*flights.shape[0], tick_names)\\nplt.grid()\\nsns.countplot(data = flights, x='Month', color = base_color, order = month_frq.index);\\n\""
      ]
     },
     "execution_count": 230,
     "metadata": {},
     "output_type": "execute_result"
    }
   ],
   "source": [
    "'''\n",
    "# relative frequency\n",
    "# return the highest frequency \n",
    "month_max_count = month_frq[0]\n",
    "month_max_prop = month_max_count/flights.shape[0]\n",
    "tick_prop = np.arange(0, month_max_prop, 0.02)\n",
    "tick_names = ['{:0.2f}'.format(v) for v in tick_prop]\n",
    "plt.yticks(tick_prop*flights.shape[0], tick_names)\n",
    "plt.grid()\n",
    "sns.countplot(data = flights, x='Month', color = base_color, order = month_frq.index);\n",
    "'''"
   ]
  },
  {
   "cell_type": "markdown",
   "metadata": {
    "slideshow": {
     "slide_type": "slide"
    }
   },
   "source": [
    "#### Run \"../src/data/make_dataset.py\" to divide the data set into three part for easier handling nan values\n",
    "the output of the script in:\n",
    "- ../data/interim/flights.csv\n",
    "- ../data/interim/diverted.csv\n",
    "- ../data/interim/canceled.csv"
   ]
  },
  {
   "cell_type": "markdown",
   "metadata": {
    "slideshow": {
     "slide_type": "skip"
    }
   },
   "source": []
  },
  {
   "cell_type": "code",
   "execution_count": 231,
   "metadata": {
    "slideshow": {
     "slide_type": "skip"
    }
   },
   "outputs": [
    {
     "name": "stdout",
     "output_type": "stream",
     "text": [
      "Elapsed loading time : 27.910651206970215\n",
      "(7009728, 26)\n"
     ]
    },
    {
     "data": {
      "text/html": [
       "<div>\n",
       "<style scoped>\n",
       "    .dataframe tbody tr th:only-of-type {\n",
       "        vertical-align: middle;\n",
       "    }\n",
       "\n",
       "    .dataframe tbody tr th {\n",
       "        vertical-align: top;\n",
       "    }\n",
       "\n",
       "    .dataframe thead th {\n",
       "        text-align: right;\n",
       "    }\n",
       "</style>\n",
       "<table border=\"1\" class=\"dataframe\">\n",
       "  <thead>\n",
       "    <tr style=\"text-align: right;\">\n",
       "      <th></th>\n",
       "      <th>Year</th>\n",
       "      <th>Month</th>\n",
       "      <th>DayofMonth</th>\n",
       "      <th>DayOfWeek</th>\n",
       "      <th>DepTime</th>\n",
       "      <th>CRSDepTime</th>\n",
       "      <th>ArrTime</th>\n",
       "      <th>CRSArrTime</th>\n",
       "      <th>UniqueCarrier</th>\n",
       "      <th>FlightNum</th>\n",
       "      <th>...</th>\n",
       "      <th>Origin</th>\n",
       "      <th>Dest</th>\n",
       "      <th>Distance</th>\n",
       "      <th>TaxiIn</th>\n",
       "      <th>TaxiOut</th>\n",
       "      <th>CarrierDelay</th>\n",
       "      <th>WeatherDelay</th>\n",
       "      <th>NASDelay</th>\n",
       "      <th>SecurityDelay</th>\n",
       "      <th>LateAircraftDelay</th>\n",
       "    </tr>\n",
       "  </thead>\n",
       "  <tbody>\n",
       "    <tr>\n",
       "      <th>0</th>\n",
       "      <td>2008</td>\n",
       "      <td>1</td>\n",
       "      <td>3</td>\n",
       "      <td>4</td>\n",
       "      <td>08:03 PM</td>\n",
       "      <td>07:55 PM</td>\n",
       "      <td>10:11 PM</td>\n",
       "      <td>10:25 PM</td>\n",
       "      <td>WN</td>\n",
       "      <td>335</td>\n",
       "      <td>...</td>\n",
       "      <td>IAD</td>\n",
       "      <td>TPA</td>\n",
       "      <td>810</td>\n",
       "      <td>4.0</td>\n",
       "      <td>8.0</td>\n",
       "      <td>0</td>\n",
       "      <td>0</td>\n",
       "      <td>0</td>\n",
       "      <td>0</td>\n",
       "      <td>0</td>\n",
       "    </tr>\n",
       "    <tr>\n",
       "      <th>1</th>\n",
       "      <td>2008</td>\n",
       "      <td>1</td>\n",
       "      <td>3</td>\n",
       "      <td>4</td>\n",
       "      <td>07:54 AM</td>\n",
       "      <td>07:35 AM</td>\n",
       "      <td>10:02 AM</td>\n",
       "      <td>10:00 AM</td>\n",
       "      <td>WN</td>\n",
       "      <td>3231</td>\n",
       "      <td>...</td>\n",
       "      <td>IAD</td>\n",
       "      <td>TPA</td>\n",
       "      <td>810</td>\n",
       "      <td>5.0</td>\n",
       "      <td>10.0</td>\n",
       "      <td>0</td>\n",
       "      <td>0</td>\n",
       "      <td>0</td>\n",
       "      <td>0</td>\n",
       "      <td>0</td>\n",
       "    </tr>\n",
       "    <tr>\n",
       "      <th>2</th>\n",
       "      <td>2008</td>\n",
       "      <td>1</td>\n",
       "      <td>3</td>\n",
       "      <td>4</td>\n",
       "      <td>06:28 AM</td>\n",
       "      <td>06:20 AM</td>\n",
       "      <td>08:04 AM</td>\n",
       "      <td>07:50 AM</td>\n",
       "      <td>WN</td>\n",
       "      <td>448</td>\n",
       "      <td>...</td>\n",
       "      <td>IND</td>\n",
       "      <td>BWI</td>\n",
       "      <td>515</td>\n",
       "      <td>3.0</td>\n",
       "      <td>17.0</td>\n",
       "      <td>0</td>\n",
       "      <td>0</td>\n",
       "      <td>0</td>\n",
       "      <td>0</td>\n",
       "      <td>0</td>\n",
       "    </tr>\n",
       "    <tr>\n",
       "      <th>3</th>\n",
       "      <td>2008</td>\n",
       "      <td>1</td>\n",
       "      <td>3</td>\n",
       "      <td>4</td>\n",
       "      <td>09:26 AM</td>\n",
       "      <td>09:30 AM</td>\n",
       "      <td>10:54 AM</td>\n",
       "      <td>11:00 AM</td>\n",
       "      <td>WN</td>\n",
       "      <td>1746</td>\n",
       "      <td>...</td>\n",
       "      <td>IND</td>\n",
       "      <td>BWI</td>\n",
       "      <td>515</td>\n",
       "      <td>3.0</td>\n",
       "      <td>7.0</td>\n",
       "      <td>0</td>\n",
       "      <td>0</td>\n",
       "      <td>0</td>\n",
       "      <td>0</td>\n",
       "      <td>0</td>\n",
       "    </tr>\n",
       "    <tr>\n",
       "      <th>4</th>\n",
       "      <td>2008</td>\n",
       "      <td>1</td>\n",
       "      <td>3</td>\n",
       "      <td>4</td>\n",
       "      <td>06:29 PM</td>\n",
       "      <td>05:55 PM</td>\n",
       "      <td>07:59 PM</td>\n",
       "      <td>07:25 PM</td>\n",
       "      <td>WN</td>\n",
       "      <td>3920</td>\n",
       "      <td>...</td>\n",
       "      <td>IND</td>\n",
       "      <td>BWI</td>\n",
       "      <td>515</td>\n",
       "      <td>3.0</td>\n",
       "      <td>10.0</td>\n",
       "      <td>2</td>\n",
       "      <td>0</td>\n",
       "      <td>0</td>\n",
       "      <td>0</td>\n",
       "      <td>32</td>\n",
       "    </tr>\n",
       "  </tbody>\n",
       "</table>\n",
       "<p>5 rows × 26 columns</p>\n",
       "</div>"
      ],
      "text/plain": [
       "   Year  Month  DayofMonth  DayOfWeek   DepTime CRSDepTime   ArrTime  \\\n",
       "0  2008      1           3          4  08:03 PM   07:55 PM  10:11 PM   \n",
       "1  2008      1           3          4  07:54 AM   07:35 AM  10:02 AM   \n",
       "2  2008      1           3          4  06:28 AM   06:20 AM  08:04 AM   \n",
       "3  2008      1           3          4  09:26 AM   09:30 AM  10:54 AM   \n",
       "4  2008      1           3          4  06:29 PM   05:55 PM  07:59 PM   \n",
       "\n",
       "  CRSArrTime UniqueCarrier  FlightNum  ... Origin  Dest  Distance  TaxiIn  \\\n",
       "0   10:25 PM            WN        335  ...    IAD   TPA       810     4.0   \n",
       "1   10:00 AM            WN       3231  ...    IAD   TPA       810     5.0   \n",
       "2   07:50 AM            WN        448  ...    IND   BWI       515     3.0   \n",
       "3   11:00 AM            WN       1746  ...    IND   BWI       515     3.0   \n",
       "4   07:25 PM            WN       3920  ...    IND   BWI       515     3.0   \n",
       "\n",
       "   TaxiOut  CarrierDelay WeatherDelay NASDelay  SecurityDelay  \\\n",
       "0      8.0             0            0        0              0   \n",
       "1     10.0             0            0        0              0   \n",
       "2     17.0             0            0        0              0   \n",
       "3      7.0             0            0        0              0   \n",
       "4     10.0             2            0        0              0   \n",
       "\n",
       "   LateAircraftDelay  \n",
       "0                  0  \n",
       "1                  0  \n",
       "2                  0  \n",
       "3                  0  \n",
       "4                 32  \n",
       "\n",
       "[5 rows x 26 columns]"
      ]
     },
     "execution_count": 231,
     "metadata": {},
     "output_type": "execute_result"
    }
   ],
   "source": [
    "# now we will load flights dataset 2008\n",
    "flights = load_dataset()\n",
    "# print df size\n",
    "print(flights.shape)\n",
    "# dispay first 10 rows\n",
    "flights.head()"
   ]
  },
  {
   "cell_type": "code",
   "execution_count": 232,
   "metadata": {
    "slideshow": {
     "slide_type": "skip"
    }
   },
   "outputs": [
    {
     "name": "stdout",
     "output_type": "stream",
     "text": [
      "<class 'pandas.core.frame.DataFrame'>\n",
      "RangeIndex: 7009728 entries, 0 to 7009727\n",
      "Data columns (total 26 columns):\n",
      " #   Column             Dtype  \n",
      "---  ------             -----  \n",
      " 0   Year               int64  \n",
      " 1   Month              int64  \n",
      " 2   DayofMonth         int64  \n",
      " 3   DayOfWeek          int64  \n",
      " 4   DepTime            object \n",
      " 5   CRSDepTime         object \n",
      " 6   ArrTime            object \n",
      " 7   CRSArrTime         object \n",
      " 8   UniqueCarrier      object \n",
      " 9   FlightNum          int64  \n",
      " 10  TailNum            object \n",
      " 11  ActualElapsedTime  float64\n",
      " 12  CRSElapsedTime     float64\n",
      " 13  AirTime            float64\n",
      " 14  ArrDelay           float64\n",
      " 15  DepDelay           float64\n",
      " 16  Origin             object \n",
      " 17  Dest               object \n",
      " 18  Distance           int64  \n",
      " 19  TaxiIn             float64\n",
      " 20  TaxiOut            float64\n",
      " 21  CarrierDelay       int64  \n",
      " 22  WeatherDelay       int64  \n",
      " 23  NASDelay           int64  \n",
      " 24  SecurityDelay      int64  \n",
      " 25  LateAircraftDelay  int64  \n",
      "dtypes: float64(7), int64(11), object(8)\n",
      "memory usage: 1.4+ GB\n"
     ]
    }
   ],
   "source": [
    "# get df data types and schema\n",
    "flights.info()"
   ]
  },
  {
   "cell_type": "code",
   "execution_count": 233,
   "metadata": {
    "slideshow": {
     "slide_type": "skip"
    }
   },
   "outputs": [
    {
     "data": {
      "text/plain": [
       "Index(['Year', 'Month', 'DayofMonth', 'DayOfWeek', 'DepTime', 'CRSDepTime',\n",
       "       'ArrTime', 'CRSArrTime', 'UniqueCarrier', 'FlightNum', 'TailNum',\n",
       "       'ActualElapsedTime', 'CRSElapsedTime', 'AirTime', 'ArrDelay',\n",
       "       'DepDelay', 'Origin', 'Dest', 'Distance', 'TaxiIn', 'TaxiOut',\n",
       "       'CarrierDelay', 'WeatherDelay', 'NASDelay', 'SecurityDelay',\n",
       "       'LateAircraftDelay'],\n",
       "      dtype='object')"
      ]
     },
     "execution_count": 233,
     "metadata": {},
     "output_type": "execute_result"
    }
   ],
   "source": [
    "flights.columns"
   ]
  },
  {
   "cell_type": "code",
   "execution_count": 234,
   "metadata": {
    "slideshow": {
     "slide_type": "skip"
    }
   },
   "outputs": [],
   "source": [
    "totals_flights = flights.shape[0]"
   ]
  },
  {
   "cell_type": "code",
   "execution_count": 235,
   "metadata": {
    "slideshow": {
     "slide_type": "skip"
    }
   },
   "outputs": [
    {
     "data": {
      "text/plain": [
       "4"
      ]
     },
     "execution_count": 235,
     "metadata": {},
     "output_type": "execute_result"
    }
   ],
   "source": [
    "# find the number of duplicated rows\n",
    "flights.duplicated().sum()"
   ]
  },
  {
   "cell_type": "code",
   "execution_count": 236,
   "metadata": {
    "slideshow": {
     "slide_type": "skip"
    }
   },
   "outputs": [],
   "source": [
    "# drop duplicated rows\n",
    "flights = flights.drop_duplicates()"
   ]
  },
  {
   "cell_type": "code",
   "execution_count": 237,
   "metadata": {
    "slideshow": {
     "slide_type": "skip"
    }
   },
   "outputs": [
    {
     "data": {
      "text/plain": [
       "0"
      ]
     },
     "execution_count": 237,
     "metadata": {},
     "output_type": "execute_result"
    }
   ],
   "source": [
    "# check number of duplicated rows\n",
    "flights.duplicated().sum()"
   ]
  },
  {
   "cell_type": "code",
   "execution_count": 238,
   "metadata": {
    "slideshow": {
     "slide_type": "skip"
    }
   },
   "outputs": [
    {
     "data": {
      "text/plain": [
       "Year                      0\n",
       "Month                     0\n",
       "DayofMonth                0\n",
       "DayOfWeek                 0\n",
       "DepTime              136767\n",
       "CRSDepTime                0\n",
       "ArrTime              154326\n",
       "CRSArrTime              547\n",
       "UniqueCarrier             0\n",
       "FlightNum                 0\n",
       "TailNum               83365\n",
       "ActualElapsedTime    154699\n",
       "CRSElapsedTime          844\n",
       "AirTime              154699\n",
       "ArrDelay             154699\n",
       "DepDelay             136246\n",
       "Origin                    0\n",
       "Dest                      0\n",
       "Distance                  0\n",
       "TaxiIn               151649\n",
       "TaxiOut              137058\n",
       "CarrierDelay              0\n",
       "WeatherDelay              0\n",
       "NASDelay                  0\n",
       "SecurityDelay             0\n",
       "LateAircraftDelay         0\n",
       "dtype: int64"
      ]
     },
     "execution_count": 238,
     "metadata": {},
     "output_type": "execute_result"
    }
   ],
   "source": [
    "# check for null in each column\n",
    "# flights.isna().sum()\n",
    "flights.isnull().sum()"
   ]
  },
  {
   "cell_type": "code",
   "execution_count": 239,
   "metadata": {
    "slideshow": {
     "slide_type": "skip"
    }
   },
   "outputs": [],
   "source": [
    "# drop all rows with any NaN and Null values\n",
    "flights = flights.dropna()"
   ]
  },
  {
   "cell_type": "code",
   "execution_count": 240,
   "metadata": {
    "slideshow": {
     "slide_type": "skip"
    }
   },
   "outputs": [
    {
     "data": {
      "text/plain": [
       "Year                 0\n",
       "Month                0\n",
       "DayofMonth           0\n",
       "DayOfWeek            0\n",
       "DepTime              0\n",
       "CRSDepTime           0\n",
       "ArrTime              0\n",
       "CRSArrTime           0\n",
       "UniqueCarrier        0\n",
       "FlightNum            0\n",
       "TailNum              0\n",
       "ActualElapsedTime    0\n",
       "CRSElapsedTime       0\n",
       "AirTime              0\n",
       "ArrDelay             0\n",
       "DepDelay             0\n",
       "Origin               0\n",
       "Dest                 0\n",
       "Distance             0\n",
       "TaxiIn               0\n",
       "TaxiOut              0\n",
       "CarrierDelay         0\n",
       "WeatherDelay         0\n",
       "NASDelay             0\n",
       "SecurityDelay        0\n",
       "LateAircraftDelay    0\n",
       "dtype: int64"
      ]
     },
     "execution_count": 240,
     "metadata": {},
     "output_type": "execute_result"
    }
   ],
   "source": [
    "# check for null in each column\n",
    "# flights.isna().sum()\n",
    "flights.isnull().sum()"
   ]
  },
  {
   "cell_type": "code",
   "execution_count": 241,
   "metadata": {
    "slideshow": {
     "slide_type": "skip"
    }
   },
   "outputs": [
    {
     "data": {
      "text/plain": [
       "-157896"
      ]
     },
     "execution_count": 241,
     "metadata": {},
     "output_type": "execute_result"
    }
   ],
   "source": [
    "# the size after deleting null\n",
    "flights.shape[0] - totals_flights"
   ]
  },
  {
   "cell_type": "code",
   "execution_count": 242,
   "metadata": {
    "slideshow": {
     "slide_type": "skip"
    }
   },
   "outputs": [],
   "source": [
    "# change schema\n",
    "flights['Year']              = flights['Year'].astype('str')\n",
    "flights['Month']             = flights['Month'].astype('str')\n",
    "flights['DayofMonth']        = flights['DayofMonth'].astype('str')\n",
    "flights['DayOfWeek']         = flights['DayOfWeek'].astype('str')\n",
    "\n",
    "flights['DepTime']           = flights['DepTime'].astype('str')          \n",
    "flights['CRSDepTime']        = flights['CRSDepTime'].astype('str')        \n",
    "flights['ArrTime']           = flights['ArrTime'].astype('str')          \n",
    "flights['CRSArrTime']        = flights['CRSArrTime'].astype('str')        \n",
    "\n",
    "flights['UniqueCarrier']     = flights['UniqueCarrier'].astype('str')  \n",
    "flights['FlightNum']         = flights['FlightNum'].astype('str')  \n",
    "flights['TailNum']           = flights['TailNum'].astype('str') \n",
    "\n",
    "flights['ActualElapsedTime'] = flights['ActualElapsedTime'].astype('int') \n",
    "flights['CRSElapsedTime']    = flights['CRSElapsedTime'].astype('int') \n",
    "flights['AirTime']           = flights['AirTime'].astype('int') \n",
    "flights['ArrDelay']          = flights['ArrDelay'].astype('int') \n",
    "flights['DepDelay']          = flights['DepDelay'].astype('int') \n",
    "\n",
    "flights['Origin']            = flights['Origin'].astype('str') \n",
    "flights['Dest']              = flights['Dest'].astype('str') \n",
    "\n",
    "flights['Distance']          = flights['Distance'].astype('int') \n",
    "\n",
    "flights['TaxiIn']            = flights['TaxiIn'].astype('int')  \n",
    "flights['TaxiOut']           = flights['TaxiOut'].astype('int') \n",
    "\n",
    "flights['CarrierDelay']      = flights['CarrierDelay'].astype('int')  \n",
    "flights['WeatherDelay']      = flights['WeatherDelay'].astype('int') \n",
    "flights['NASDelay']          = flights['NASDelay'].astype('int') \n",
    "flights['SecurityDelay']     = flights['SecurityDelay'].astype('int') \n",
    "flights['LateAircraftDelay'] = flights['LateAircraftDelay'].astype('int') "
   ]
  },
  {
   "cell_type": "code",
   "execution_count": 243,
   "metadata": {
    "slideshow": {
     "slide_type": "skip"
    }
   },
   "outputs": [
    {
     "name": "stdout",
     "output_type": "stream",
     "text": [
      "<class 'pandas.core.frame.DataFrame'>\n",
      "Int64Index: 6851832 entries, 0 to 7009727\n",
      "Data columns (total 26 columns):\n",
      " #   Column             Dtype \n",
      "---  ------             ----- \n",
      " 0   Year               object\n",
      " 1   Month              object\n",
      " 2   DayofMonth         object\n",
      " 3   DayOfWeek          object\n",
      " 4   DepTime            object\n",
      " 5   CRSDepTime         object\n",
      " 6   ArrTime            object\n",
      " 7   CRSArrTime         object\n",
      " 8   UniqueCarrier      object\n",
      " 9   FlightNum          object\n",
      " 10  TailNum            object\n",
      " 11  ActualElapsedTime  int32 \n",
      " 12  CRSElapsedTime     int32 \n",
      " 13  AirTime            int32 \n",
      " 14  ArrDelay           int32 \n",
      " 15  DepDelay           int32 \n",
      " 16  Origin             object\n",
      " 17  Dest               object\n",
      " 18  Distance           int32 \n",
      " 19  TaxiIn             int32 \n",
      " 20  TaxiOut            int32 \n",
      " 21  CarrierDelay       int32 \n",
      " 22  WeatherDelay       int32 \n",
      " 23  NASDelay           int32 \n",
      " 24  SecurityDelay      int32 \n",
      " 25  LateAircraftDelay  int32 \n",
      "dtypes: int32(13), object(13)\n",
      "memory usage: 1.0+ GB\n"
     ]
    }
   ],
   "source": [
    "# get df data types and schema\n",
    "flights.info()"
   ]
  },
  {
   "cell_type": "code",
   "execution_count": 244,
   "metadata": {
    "scrolled": true,
    "slideshow": {
     "slide_type": "skip"
    }
   },
   "outputs": [
    {
     "ename": "MemoryError",
     "evalue": "Unable to allocate 680. MiB for an array with shape (13, 6851832) and data type object",
     "output_type": "error",
     "traceback": [
      "\u001b[1;31m---------------------------------------------------------------------------\u001b[0m",
      "\u001b[1;31mMemoryError\u001b[0m                               Traceback (most recent call last)",
      "\u001b[1;32m<ipython-input-244-0b62d432901e>\u001b[0m in \u001b[0;36m<module>\u001b[1;34m\u001b[0m\n\u001b[1;32m----> 1\u001b[1;33m \u001b[0mflights\u001b[0m\u001b[1;33m.\u001b[0m\u001b[0mdescribe\u001b[0m\u001b[1;33m(\u001b[0m\u001b[1;33m)\u001b[0m\u001b[1;33m.\u001b[0m\u001b[0mastype\u001b[0m\u001b[1;33m(\u001b[0m\u001b[0mint\u001b[0m\u001b[1;33m)\u001b[0m\u001b[1;33m\u001b[0m\u001b[1;33m\u001b[0m\u001b[0m\n\u001b[0m",
      "\u001b[1;32mC:\\ProgramData\\Anaconda3\\lib\\site-packages\\pandas\\core\\generic.py\u001b[0m in \u001b[0;36mdescribe\u001b[1;34m(self, percentiles, include, exclude, datetime_is_numeric)\u001b[0m\n\u001b[0;32m  10388\u001b[0m             \u001b[1;32mif\u001b[0m \u001b[0mdatetime_is_numeric\u001b[0m\u001b[1;33m:\u001b[0m\u001b[1;33m\u001b[0m\u001b[1;33m\u001b[0m\u001b[0m\n\u001b[0;32m  10389\u001b[0m                 \u001b[0mdefault_include\u001b[0m\u001b[1;33m.\u001b[0m\u001b[0mappend\u001b[0m\u001b[1;33m(\u001b[0m\u001b[1;34m\"datetime\"\u001b[0m\u001b[1;33m)\u001b[0m\u001b[1;33m\u001b[0m\u001b[1;33m\u001b[0m\u001b[0m\n\u001b[1;32m> 10390\u001b[1;33m             \u001b[0mdata\u001b[0m \u001b[1;33m=\u001b[0m \u001b[0mself\u001b[0m\u001b[1;33m.\u001b[0m\u001b[0mselect_dtypes\u001b[0m\u001b[1;33m(\u001b[0m\u001b[0minclude\u001b[0m\u001b[1;33m=\u001b[0m\u001b[0mdefault_include\u001b[0m\u001b[1;33m)\u001b[0m\u001b[1;33m\u001b[0m\u001b[1;33m\u001b[0m\u001b[0m\n\u001b[0m\u001b[0;32m  10391\u001b[0m             \u001b[1;32mif\u001b[0m \u001b[0mlen\u001b[0m\u001b[1;33m(\u001b[0m\u001b[0mdata\u001b[0m\u001b[1;33m.\u001b[0m\u001b[0mcolumns\u001b[0m\u001b[1;33m)\u001b[0m \u001b[1;33m==\u001b[0m \u001b[1;36m0\u001b[0m\u001b[1;33m:\u001b[0m\u001b[1;33m\u001b[0m\u001b[1;33m\u001b[0m\u001b[0m\n\u001b[0;32m  10392\u001b[0m                 \u001b[0mdata\u001b[0m \u001b[1;33m=\u001b[0m \u001b[0mself\u001b[0m\u001b[1;33m\u001b[0m\u001b[1;33m\u001b[0m\u001b[0m\n",
      "\u001b[1;32mC:\\ProgramData\\Anaconda3\\lib\\site-packages\\pandas\\core\\frame.py\u001b[0m in \u001b[0;36mselect_dtypes\u001b[1;34m(self, include, exclude)\u001b[0m\n\u001b[0;32m   3736\u001b[0m             \u001b[0mkeep_these\u001b[0m \u001b[1;33m&=\u001b[0m \u001b[1;33m~\u001b[0m\u001b[0mself\u001b[0m\u001b[1;33m.\u001b[0m\u001b[0mdtypes\u001b[0m\u001b[1;33m.\u001b[0m\u001b[0misin\u001b[0m\u001b[1;33m(\u001b[0m\u001b[0mexcluded_dtypes\u001b[0m\u001b[1;33m)\u001b[0m\u001b[1;33m\u001b[0m\u001b[1;33m\u001b[0m\u001b[0m\n\u001b[0;32m   3737\u001b[0m \u001b[1;33m\u001b[0m\u001b[0m\n\u001b[1;32m-> 3738\u001b[1;33m         \u001b[1;32mreturn\u001b[0m \u001b[0mself\u001b[0m\u001b[1;33m.\u001b[0m\u001b[0miloc\u001b[0m\u001b[1;33m[\u001b[0m\u001b[1;33m:\u001b[0m\u001b[1;33m,\u001b[0m \u001b[0mkeep_these\u001b[0m\u001b[1;33m.\u001b[0m\u001b[0mvalues\u001b[0m\u001b[1;33m]\u001b[0m\u001b[1;33m\u001b[0m\u001b[1;33m\u001b[0m\u001b[0m\n\u001b[0m\u001b[0;32m   3739\u001b[0m \u001b[1;33m\u001b[0m\u001b[0m\n\u001b[0;32m   3740\u001b[0m     \u001b[1;32mdef\u001b[0m \u001b[0minsert\u001b[0m\u001b[1;33m(\u001b[0m\u001b[0mself\u001b[0m\u001b[1;33m,\u001b[0m \u001b[0mloc\u001b[0m\u001b[1;33m,\u001b[0m \u001b[0mcolumn\u001b[0m\u001b[1;33m,\u001b[0m \u001b[0mvalue\u001b[0m\u001b[1;33m,\u001b[0m \u001b[0mallow_duplicates\u001b[0m\u001b[1;33m=\u001b[0m\u001b[1;32mFalse\u001b[0m\u001b[1;33m)\u001b[0m \u001b[1;33m->\u001b[0m \u001b[1;32mNone\u001b[0m\u001b[1;33m:\u001b[0m\u001b[1;33m\u001b[0m\u001b[1;33m\u001b[0m\u001b[0m\n",
      "\u001b[1;32mC:\\ProgramData\\Anaconda3\\lib\\site-packages\\pandas\\core\\indexing.py\u001b[0m in \u001b[0;36m__getitem__\u001b[1;34m(self, key)\u001b[0m\n\u001b[0;32m    887\u001b[0m                     \u001b[1;31m# AttributeError for IntervalTree get_value\u001b[0m\u001b[1;33m\u001b[0m\u001b[1;33m\u001b[0m\u001b[1;33m\u001b[0m\u001b[0m\n\u001b[0;32m    888\u001b[0m                     \u001b[1;32mreturn\u001b[0m \u001b[0mself\u001b[0m\u001b[1;33m.\u001b[0m\u001b[0mobj\u001b[0m\u001b[1;33m.\u001b[0m\u001b[0m_get_value\u001b[0m\u001b[1;33m(\u001b[0m\u001b[1;33m*\u001b[0m\u001b[0mkey\u001b[0m\u001b[1;33m,\u001b[0m \u001b[0mtakeable\u001b[0m\u001b[1;33m=\u001b[0m\u001b[0mself\u001b[0m\u001b[1;33m.\u001b[0m\u001b[0m_takeable\u001b[0m\u001b[1;33m)\u001b[0m\u001b[1;33m\u001b[0m\u001b[1;33m\u001b[0m\u001b[0m\n\u001b[1;32m--> 889\u001b[1;33m             \u001b[1;32mreturn\u001b[0m \u001b[0mself\u001b[0m\u001b[1;33m.\u001b[0m\u001b[0m_getitem_tuple\u001b[0m\u001b[1;33m(\u001b[0m\u001b[0mkey\u001b[0m\u001b[1;33m)\u001b[0m\u001b[1;33m\u001b[0m\u001b[1;33m\u001b[0m\u001b[0m\n\u001b[0m\u001b[0;32m    890\u001b[0m         \u001b[1;32melse\u001b[0m\u001b[1;33m:\u001b[0m\u001b[1;33m\u001b[0m\u001b[1;33m\u001b[0m\u001b[0m\n\u001b[0;32m    891\u001b[0m             \u001b[1;31m# we by definition only have the 0th axis\u001b[0m\u001b[1;33m\u001b[0m\u001b[1;33m\u001b[0m\u001b[1;33m\u001b[0m\u001b[0m\n",
      "\u001b[1;32mC:\\ProgramData\\Anaconda3\\lib\\site-packages\\pandas\\core\\indexing.py\u001b[0m in \u001b[0;36m_getitem_tuple\u001b[1;34m(self, tup)\u001b[0m\n\u001b[0;32m   1452\u001b[0m             \u001b[1;32mreturn\u001b[0m \u001b[0mself\u001b[0m\u001b[1;33m.\u001b[0m\u001b[0m_getitem_lowerdim\u001b[0m\u001b[1;33m(\u001b[0m\u001b[0mtup\u001b[0m\u001b[1;33m)\u001b[0m\u001b[1;33m\u001b[0m\u001b[1;33m\u001b[0m\u001b[0m\n\u001b[0;32m   1453\u001b[0m \u001b[1;33m\u001b[0m\u001b[0m\n\u001b[1;32m-> 1454\u001b[1;33m         \u001b[1;32mreturn\u001b[0m \u001b[0mself\u001b[0m\u001b[1;33m.\u001b[0m\u001b[0m_getitem_tuple_same_dim\u001b[0m\u001b[1;33m(\u001b[0m\u001b[0mtup\u001b[0m\u001b[1;33m)\u001b[0m\u001b[1;33m\u001b[0m\u001b[1;33m\u001b[0m\u001b[0m\n\u001b[0m\u001b[0;32m   1455\u001b[0m \u001b[1;33m\u001b[0m\u001b[0m\n\u001b[0;32m   1456\u001b[0m     \u001b[1;32mdef\u001b[0m \u001b[0m_get_list_axis\u001b[0m\u001b[1;33m(\u001b[0m\u001b[0mself\u001b[0m\u001b[1;33m,\u001b[0m \u001b[0mkey\u001b[0m\u001b[1;33m,\u001b[0m \u001b[0maxis\u001b[0m\u001b[1;33m:\u001b[0m \u001b[0mint\u001b[0m\u001b[1;33m)\u001b[0m\u001b[1;33m:\u001b[0m\u001b[1;33m\u001b[0m\u001b[1;33m\u001b[0m\u001b[0m\n",
      "\u001b[1;32mC:\\ProgramData\\Anaconda3\\lib\\site-packages\\pandas\\core\\indexing.py\u001b[0m in \u001b[0;36m_getitem_tuple_same_dim\u001b[1;34m(self, tup)\u001b[0m\n\u001b[0;32m    773\u001b[0m                 \u001b[1;32mcontinue\u001b[0m\u001b[1;33m\u001b[0m\u001b[1;33m\u001b[0m\u001b[0m\n\u001b[0;32m    774\u001b[0m \u001b[1;33m\u001b[0m\u001b[0m\n\u001b[1;32m--> 775\u001b[1;33m             \u001b[0mretval\u001b[0m \u001b[1;33m=\u001b[0m \u001b[0mgetattr\u001b[0m\u001b[1;33m(\u001b[0m\u001b[0mretval\u001b[0m\u001b[1;33m,\u001b[0m \u001b[0mself\u001b[0m\u001b[1;33m.\u001b[0m\u001b[0mname\u001b[0m\u001b[1;33m)\u001b[0m\u001b[1;33m.\u001b[0m\u001b[0m_getitem_axis\u001b[0m\u001b[1;33m(\u001b[0m\u001b[0mkey\u001b[0m\u001b[1;33m,\u001b[0m \u001b[0maxis\u001b[0m\u001b[1;33m=\u001b[0m\u001b[0mi\u001b[0m\u001b[1;33m)\u001b[0m\u001b[1;33m\u001b[0m\u001b[1;33m\u001b[0m\u001b[0m\n\u001b[0m\u001b[0;32m    776\u001b[0m             \u001b[1;31m# We should never have retval.ndim < self.ndim, as that should\u001b[0m\u001b[1;33m\u001b[0m\u001b[1;33m\u001b[0m\u001b[1;33m\u001b[0m\u001b[0m\n\u001b[0;32m    777\u001b[0m             \u001b[1;31m#  be handled by the _getitem_lowerdim call above.\u001b[0m\u001b[1;33m\u001b[0m\u001b[1;33m\u001b[0m\u001b[1;33m\u001b[0m\u001b[0m\n",
      "\u001b[1;32mC:\\ProgramData\\Anaconda3\\lib\\site-packages\\pandas\\core\\indexing.py\u001b[0m in \u001b[0;36m_getitem_axis\u001b[1;34m(self, key, axis)\u001b[0m\n\u001b[0;32m   1486\u001b[0m         \u001b[1;32mif\u001b[0m \u001b[0mcom\u001b[0m\u001b[1;33m.\u001b[0m\u001b[0mis_bool_indexer\u001b[0m\u001b[1;33m(\u001b[0m\u001b[0mkey\u001b[0m\u001b[1;33m)\u001b[0m\u001b[1;33m:\u001b[0m\u001b[1;33m\u001b[0m\u001b[1;33m\u001b[0m\u001b[0m\n\u001b[0;32m   1487\u001b[0m             \u001b[0mself\u001b[0m\u001b[1;33m.\u001b[0m\u001b[0m_validate_key\u001b[0m\u001b[1;33m(\u001b[0m\u001b[0mkey\u001b[0m\u001b[1;33m,\u001b[0m \u001b[0maxis\u001b[0m\u001b[1;33m)\u001b[0m\u001b[1;33m\u001b[0m\u001b[1;33m\u001b[0m\u001b[0m\n\u001b[1;32m-> 1488\u001b[1;33m             \u001b[1;32mreturn\u001b[0m \u001b[0mself\u001b[0m\u001b[1;33m.\u001b[0m\u001b[0m_getbool_axis\u001b[0m\u001b[1;33m(\u001b[0m\u001b[0mkey\u001b[0m\u001b[1;33m,\u001b[0m \u001b[0maxis\u001b[0m\u001b[1;33m=\u001b[0m\u001b[0maxis\u001b[0m\u001b[1;33m)\u001b[0m\u001b[1;33m\u001b[0m\u001b[1;33m\u001b[0m\u001b[0m\n\u001b[0m\u001b[0;32m   1489\u001b[0m \u001b[1;33m\u001b[0m\u001b[0m\n\u001b[0;32m   1490\u001b[0m         \u001b[1;31m# a list of integers\u001b[0m\u001b[1;33m\u001b[0m\u001b[1;33m\u001b[0m\u001b[1;33m\u001b[0m\u001b[0m\n",
      "\u001b[1;32mC:\\ProgramData\\Anaconda3\\lib\\site-packages\\pandas\\core\\indexing.py\u001b[0m in \u001b[0;36m_getbool_axis\u001b[1;34m(self, key, axis)\u001b[0m\n\u001b[0;32m    912\u001b[0m         \u001b[0mkey\u001b[0m \u001b[1;33m=\u001b[0m \u001b[0mcheck_bool_indexer\u001b[0m\u001b[1;33m(\u001b[0m\u001b[0mlabels\u001b[0m\u001b[1;33m,\u001b[0m \u001b[0mkey\u001b[0m\u001b[1;33m)\u001b[0m\u001b[1;33m\u001b[0m\u001b[1;33m\u001b[0m\u001b[0m\n\u001b[0;32m    913\u001b[0m         \u001b[0minds\u001b[0m \u001b[1;33m=\u001b[0m \u001b[0mkey\u001b[0m\u001b[1;33m.\u001b[0m\u001b[0mnonzero\u001b[0m\u001b[1;33m(\u001b[0m\u001b[1;33m)\u001b[0m\u001b[1;33m[\u001b[0m\u001b[1;36m0\u001b[0m\u001b[1;33m]\u001b[0m\u001b[1;33m\u001b[0m\u001b[1;33m\u001b[0m\u001b[0m\n\u001b[1;32m--> 914\u001b[1;33m         \u001b[1;32mreturn\u001b[0m \u001b[0mself\u001b[0m\u001b[1;33m.\u001b[0m\u001b[0mobj\u001b[0m\u001b[1;33m.\u001b[0m\u001b[0m_take_with_is_copy\u001b[0m\u001b[1;33m(\u001b[0m\u001b[0minds\u001b[0m\u001b[1;33m,\u001b[0m \u001b[0maxis\u001b[0m\u001b[1;33m=\u001b[0m\u001b[0maxis\u001b[0m\u001b[1;33m)\u001b[0m\u001b[1;33m\u001b[0m\u001b[1;33m\u001b[0m\u001b[0m\n\u001b[0m\u001b[0;32m    915\u001b[0m \u001b[1;33m\u001b[0m\u001b[0m\n\u001b[0;32m    916\u001b[0m \u001b[1;33m\u001b[0m\u001b[0m\n",
      "\u001b[1;32mC:\\ProgramData\\Anaconda3\\lib\\site-packages\\pandas\\core\\generic.py\u001b[0m in \u001b[0;36m_take_with_is_copy\u001b[1;34m(self, indices, axis)\u001b[0m\n\u001b[0;32m   3598\u001b[0m         \u001b[0mSee\u001b[0m \u001b[0mthe\u001b[0m \u001b[0mdocstring\u001b[0m \u001b[0mof\u001b[0m\u001b[0;31m \u001b[0m\u001b[0;31m`\u001b[0m\u001b[0mtake\u001b[0m\u001b[0;31m`\u001b[0m \u001b[1;32mfor\u001b[0m \u001b[0mfull\u001b[0m \u001b[0mexplanation\u001b[0m \u001b[0mof\u001b[0m \u001b[0mthe\u001b[0m \u001b[0mparameters\u001b[0m\u001b[1;33m.\u001b[0m\u001b[1;33m\u001b[0m\u001b[1;33m\u001b[0m\u001b[0m\n\u001b[0;32m   3599\u001b[0m         \"\"\"\n\u001b[1;32m-> 3600\u001b[1;33m         \u001b[0mresult\u001b[0m \u001b[1;33m=\u001b[0m \u001b[0mself\u001b[0m\u001b[1;33m.\u001b[0m\u001b[0mtake\u001b[0m\u001b[1;33m(\u001b[0m\u001b[0mindices\u001b[0m\u001b[1;33m=\u001b[0m\u001b[0mindices\u001b[0m\u001b[1;33m,\u001b[0m \u001b[0maxis\u001b[0m\u001b[1;33m=\u001b[0m\u001b[0maxis\u001b[0m\u001b[1;33m)\u001b[0m\u001b[1;33m\u001b[0m\u001b[1;33m\u001b[0m\u001b[0m\n\u001b[0m\u001b[0;32m   3601\u001b[0m         \u001b[1;31m# Maybe set copy if we didn't actually change the index.\u001b[0m\u001b[1;33m\u001b[0m\u001b[1;33m\u001b[0m\u001b[1;33m\u001b[0m\u001b[0m\n\u001b[0;32m   3602\u001b[0m         \u001b[1;32mif\u001b[0m \u001b[1;32mnot\u001b[0m \u001b[0mresult\u001b[0m\u001b[1;33m.\u001b[0m\u001b[0m_get_axis\u001b[0m\u001b[1;33m(\u001b[0m\u001b[0maxis\u001b[0m\u001b[1;33m)\u001b[0m\u001b[1;33m.\u001b[0m\u001b[0mequals\u001b[0m\u001b[1;33m(\u001b[0m\u001b[0mself\u001b[0m\u001b[1;33m.\u001b[0m\u001b[0m_get_axis\u001b[0m\u001b[1;33m(\u001b[0m\u001b[0maxis\u001b[0m\u001b[1;33m)\u001b[0m\u001b[1;33m)\u001b[0m\u001b[1;33m:\u001b[0m\u001b[1;33m\u001b[0m\u001b[1;33m\u001b[0m\u001b[0m\n",
      "\u001b[1;32mC:\\ProgramData\\Anaconda3\\lib\\site-packages\\pandas\\core\\generic.py\u001b[0m in \u001b[0;36mtake\u001b[1;34m(self, indices, axis, is_copy, **kwargs)\u001b[0m\n\u001b[0;32m   3582\u001b[0m         \u001b[0mnv\u001b[0m\u001b[1;33m.\u001b[0m\u001b[0mvalidate_take\u001b[0m\u001b[1;33m(\u001b[0m\u001b[1;33m(\u001b[0m\u001b[1;33m)\u001b[0m\u001b[1;33m,\u001b[0m \u001b[0mkwargs\u001b[0m\u001b[1;33m)\u001b[0m\u001b[1;33m\u001b[0m\u001b[1;33m\u001b[0m\u001b[0m\n\u001b[0;32m   3583\u001b[0m \u001b[1;33m\u001b[0m\u001b[0m\n\u001b[1;32m-> 3584\u001b[1;33m         \u001b[0mself\u001b[0m\u001b[1;33m.\u001b[0m\u001b[0m_consolidate_inplace\u001b[0m\u001b[1;33m(\u001b[0m\u001b[1;33m)\u001b[0m\u001b[1;33m\u001b[0m\u001b[1;33m\u001b[0m\u001b[0m\n\u001b[0m\u001b[0;32m   3585\u001b[0m \u001b[1;33m\u001b[0m\u001b[0m\n\u001b[0;32m   3586\u001b[0m         new_data = self._mgr.take(\n",
      "\u001b[1;32mC:\\ProgramData\\Anaconda3\\lib\\site-packages\\pandas\\core\\generic.py\u001b[0m in \u001b[0;36m_consolidate_inplace\u001b[1;34m(self)\u001b[0m\n\u001b[0;32m   5539\u001b[0m             \u001b[0mself\u001b[0m\u001b[1;33m.\u001b[0m\u001b[0m_mgr\u001b[0m \u001b[1;33m=\u001b[0m \u001b[0mself\u001b[0m\u001b[1;33m.\u001b[0m\u001b[0m_mgr\u001b[0m\u001b[1;33m.\u001b[0m\u001b[0mconsolidate\u001b[0m\u001b[1;33m(\u001b[0m\u001b[1;33m)\u001b[0m\u001b[1;33m\u001b[0m\u001b[1;33m\u001b[0m\u001b[0m\n\u001b[0;32m   5540\u001b[0m \u001b[1;33m\u001b[0m\u001b[0m\n\u001b[1;32m-> 5541\u001b[1;33m         \u001b[0mself\u001b[0m\u001b[1;33m.\u001b[0m\u001b[0m_protect_consolidate\u001b[0m\u001b[1;33m(\u001b[0m\u001b[0mf\u001b[0m\u001b[1;33m)\u001b[0m\u001b[1;33m\u001b[0m\u001b[1;33m\u001b[0m\u001b[0m\n\u001b[0m\u001b[0;32m   5542\u001b[0m \u001b[1;33m\u001b[0m\u001b[0m\n\u001b[0;32m   5543\u001b[0m     \u001b[1;33m@\u001b[0m\u001b[0mfinal\u001b[0m\u001b[1;33m\u001b[0m\u001b[1;33m\u001b[0m\u001b[0m\n",
      "\u001b[1;32mC:\\ProgramData\\Anaconda3\\lib\\site-packages\\pandas\\core\\generic.py\u001b[0m in \u001b[0;36m_protect_consolidate\u001b[1;34m(self, f)\u001b[0m\n\u001b[0;32m   5527\u001b[0m         \"\"\"\n\u001b[0;32m   5528\u001b[0m         \u001b[0mblocks_before\u001b[0m \u001b[1;33m=\u001b[0m \u001b[0mlen\u001b[0m\u001b[1;33m(\u001b[0m\u001b[0mself\u001b[0m\u001b[1;33m.\u001b[0m\u001b[0m_mgr\u001b[0m\u001b[1;33m.\u001b[0m\u001b[0mblocks\u001b[0m\u001b[1;33m)\u001b[0m\u001b[1;33m\u001b[0m\u001b[1;33m\u001b[0m\u001b[0m\n\u001b[1;32m-> 5529\u001b[1;33m         \u001b[0mresult\u001b[0m \u001b[1;33m=\u001b[0m \u001b[0mf\u001b[0m\u001b[1;33m(\u001b[0m\u001b[1;33m)\u001b[0m\u001b[1;33m\u001b[0m\u001b[1;33m\u001b[0m\u001b[0m\n\u001b[0m\u001b[0;32m   5530\u001b[0m         \u001b[1;32mif\u001b[0m \u001b[0mlen\u001b[0m\u001b[1;33m(\u001b[0m\u001b[0mself\u001b[0m\u001b[1;33m.\u001b[0m\u001b[0m_mgr\u001b[0m\u001b[1;33m.\u001b[0m\u001b[0mblocks\u001b[0m\u001b[1;33m)\u001b[0m \u001b[1;33m!=\u001b[0m \u001b[0mblocks_before\u001b[0m\u001b[1;33m:\u001b[0m\u001b[1;33m\u001b[0m\u001b[1;33m\u001b[0m\u001b[0m\n\u001b[0;32m   5531\u001b[0m             \u001b[0mself\u001b[0m\u001b[1;33m.\u001b[0m\u001b[0m_clear_item_cache\u001b[0m\u001b[1;33m(\u001b[0m\u001b[1;33m)\u001b[0m\u001b[1;33m\u001b[0m\u001b[1;33m\u001b[0m\u001b[0m\n",
      "\u001b[1;32mC:\\ProgramData\\Anaconda3\\lib\\site-packages\\pandas\\core\\generic.py\u001b[0m in \u001b[0;36mf\u001b[1;34m()\u001b[0m\n\u001b[0;32m   5537\u001b[0m \u001b[1;33m\u001b[0m\u001b[0m\n\u001b[0;32m   5538\u001b[0m         \u001b[1;32mdef\u001b[0m \u001b[0mf\u001b[0m\u001b[1;33m(\u001b[0m\u001b[1;33m)\u001b[0m\u001b[1;33m:\u001b[0m\u001b[1;33m\u001b[0m\u001b[1;33m\u001b[0m\u001b[0m\n\u001b[1;32m-> 5539\u001b[1;33m             \u001b[0mself\u001b[0m\u001b[1;33m.\u001b[0m\u001b[0m_mgr\u001b[0m \u001b[1;33m=\u001b[0m \u001b[0mself\u001b[0m\u001b[1;33m.\u001b[0m\u001b[0m_mgr\u001b[0m\u001b[1;33m.\u001b[0m\u001b[0mconsolidate\u001b[0m\u001b[1;33m(\u001b[0m\u001b[1;33m)\u001b[0m\u001b[1;33m\u001b[0m\u001b[1;33m\u001b[0m\u001b[0m\n\u001b[0m\u001b[0;32m   5540\u001b[0m \u001b[1;33m\u001b[0m\u001b[0m\n\u001b[0;32m   5541\u001b[0m         \u001b[0mself\u001b[0m\u001b[1;33m.\u001b[0m\u001b[0m_protect_consolidate\u001b[0m\u001b[1;33m(\u001b[0m\u001b[0mf\u001b[0m\u001b[1;33m)\u001b[0m\u001b[1;33m\u001b[0m\u001b[1;33m\u001b[0m\u001b[0m\n",
      "\u001b[1;32mC:\\ProgramData\\Anaconda3\\lib\\site-packages\\pandas\\core\\internals\\managers.py\u001b[0m in \u001b[0;36mconsolidate\u001b[1;34m(self)\u001b[0m\n\u001b[0;32m    986\u001b[0m         \u001b[0mbm\u001b[0m \u001b[1;33m=\u001b[0m \u001b[0mtype\u001b[0m\u001b[1;33m(\u001b[0m\u001b[0mself\u001b[0m\u001b[1;33m)\u001b[0m\u001b[1;33m(\u001b[0m\u001b[0mself\u001b[0m\u001b[1;33m.\u001b[0m\u001b[0mblocks\u001b[0m\u001b[1;33m,\u001b[0m \u001b[0mself\u001b[0m\u001b[1;33m.\u001b[0m\u001b[0maxes\u001b[0m\u001b[1;33m)\u001b[0m\u001b[1;33m\u001b[0m\u001b[1;33m\u001b[0m\u001b[0m\n\u001b[0;32m    987\u001b[0m         \u001b[0mbm\u001b[0m\u001b[1;33m.\u001b[0m\u001b[0m_is_consolidated\u001b[0m \u001b[1;33m=\u001b[0m \u001b[1;32mFalse\u001b[0m\u001b[1;33m\u001b[0m\u001b[1;33m\u001b[0m\u001b[0m\n\u001b[1;32m--> 988\u001b[1;33m         \u001b[0mbm\u001b[0m\u001b[1;33m.\u001b[0m\u001b[0m_consolidate_inplace\u001b[0m\u001b[1;33m(\u001b[0m\u001b[1;33m)\u001b[0m\u001b[1;33m\u001b[0m\u001b[1;33m\u001b[0m\u001b[0m\n\u001b[0m\u001b[0;32m    989\u001b[0m         \u001b[1;32mreturn\u001b[0m \u001b[0mbm\u001b[0m\u001b[1;33m\u001b[0m\u001b[1;33m\u001b[0m\u001b[0m\n\u001b[0;32m    990\u001b[0m \u001b[1;33m\u001b[0m\u001b[0m\n",
      "\u001b[1;32mC:\\ProgramData\\Anaconda3\\lib\\site-packages\\pandas\\core\\internals\\managers.py\u001b[0m in \u001b[0;36m_consolidate_inplace\u001b[1;34m(self)\u001b[0m\n\u001b[0;32m    991\u001b[0m     \u001b[1;32mdef\u001b[0m \u001b[0m_consolidate_inplace\u001b[0m\u001b[1;33m(\u001b[0m\u001b[0mself\u001b[0m\u001b[1;33m)\u001b[0m \u001b[1;33m->\u001b[0m \u001b[1;32mNone\u001b[0m\u001b[1;33m:\u001b[0m\u001b[1;33m\u001b[0m\u001b[1;33m\u001b[0m\u001b[0m\n\u001b[0;32m    992\u001b[0m         \u001b[1;32mif\u001b[0m \u001b[1;32mnot\u001b[0m \u001b[0mself\u001b[0m\u001b[1;33m.\u001b[0m\u001b[0mis_consolidated\u001b[0m\u001b[1;33m(\u001b[0m\u001b[1;33m)\u001b[0m\u001b[1;33m:\u001b[0m\u001b[1;33m\u001b[0m\u001b[1;33m\u001b[0m\u001b[0m\n\u001b[1;32m--> 993\u001b[1;33m             \u001b[0mself\u001b[0m\u001b[1;33m.\u001b[0m\u001b[0mblocks\u001b[0m \u001b[1;33m=\u001b[0m \u001b[0mtuple\u001b[0m\u001b[1;33m(\u001b[0m\u001b[0m_consolidate\u001b[0m\u001b[1;33m(\u001b[0m\u001b[0mself\u001b[0m\u001b[1;33m.\u001b[0m\u001b[0mblocks\u001b[0m\u001b[1;33m)\u001b[0m\u001b[1;33m)\u001b[0m\u001b[1;33m\u001b[0m\u001b[1;33m\u001b[0m\u001b[0m\n\u001b[0m\u001b[0;32m    994\u001b[0m             \u001b[0mself\u001b[0m\u001b[1;33m.\u001b[0m\u001b[0m_is_consolidated\u001b[0m \u001b[1;33m=\u001b[0m \u001b[1;32mTrue\u001b[0m\u001b[1;33m\u001b[0m\u001b[1;33m\u001b[0m\u001b[0m\n\u001b[0;32m    995\u001b[0m             \u001b[0mself\u001b[0m\u001b[1;33m.\u001b[0m\u001b[0m_known_consolidated\u001b[0m \u001b[1;33m=\u001b[0m \u001b[1;32mTrue\u001b[0m\u001b[1;33m\u001b[0m\u001b[1;33m\u001b[0m\u001b[0m\n",
      "\u001b[1;32mC:\\ProgramData\\Anaconda3\\lib\\site-packages\\pandas\\core\\internals\\managers.py\u001b[0m in \u001b[0;36m_consolidate\u001b[1;34m(blocks)\u001b[0m\n\u001b[0;32m   1914\u001b[0m     \u001b[0mnew_blocks\u001b[0m\u001b[1;33m:\u001b[0m \u001b[0mList\u001b[0m\u001b[1;33m[\u001b[0m\u001b[0mBlock\u001b[0m\u001b[1;33m]\u001b[0m \u001b[1;33m=\u001b[0m \u001b[1;33m[\u001b[0m\u001b[1;33m]\u001b[0m\u001b[1;33m\u001b[0m\u001b[1;33m\u001b[0m\u001b[0m\n\u001b[0;32m   1915\u001b[0m     \u001b[1;32mfor\u001b[0m \u001b[1;33m(\u001b[0m\u001b[0m_can_consolidate\u001b[0m\u001b[1;33m,\u001b[0m \u001b[0mdtype\u001b[0m\u001b[1;33m)\u001b[0m\u001b[1;33m,\u001b[0m \u001b[0mgroup_blocks\u001b[0m \u001b[1;32min\u001b[0m \u001b[0mgrouper\u001b[0m\u001b[1;33m:\u001b[0m\u001b[1;33m\u001b[0m\u001b[1;33m\u001b[0m\u001b[0m\n\u001b[1;32m-> 1916\u001b[1;33m         merged_blocks = _merge_blocks(\n\u001b[0m\u001b[0;32m   1917\u001b[0m             \u001b[0mlist\u001b[0m\u001b[1;33m(\u001b[0m\u001b[0mgroup_blocks\u001b[0m\u001b[1;33m)\u001b[0m\u001b[1;33m,\u001b[0m \u001b[0mdtype\u001b[0m\u001b[1;33m=\u001b[0m\u001b[0mdtype\u001b[0m\u001b[1;33m,\u001b[0m \u001b[0mcan_consolidate\u001b[0m\u001b[1;33m=\u001b[0m\u001b[0m_can_consolidate\u001b[0m\u001b[1;33m\u001b[0m\u001b[1;33m\u001b[0m\u001b[0m\n\u001b[0;32m   1918\u001b[0m         )\n",
      "\u001b[1;32mC:\\ProgramData\\Anaconda3\\lib\\site-packages\\pandas\\core\\internals\\managers.py\u001b[0m in \u001b[0;36m_merge_blocks\u001b[1;34m(blocks, dtype, can_consolidate)\u001b[0m\n\u001b[0;32m   1940\u001b[0m \u001b[1;33m\u001b[0m\u001b[0m\n\u001b[0;32m   1941\u001b[0m         \u001b[0margsort\u001b[0m \u001b[1;33m=\u001b[0m \u001b[0mnp\u001b[0m\u001b[1;33m.\u001b[0m\u001b[0margsort\u001b[0m\u001b[1;33m(\u001b[0m\u001b[0mnew_mgr_locs\u001b[0m\u001b[1;33m)\u001b[0m\u001b[1;33m\u001b[0m\u001b[1;33m\u001b[0m\u001b[0m\n\u001b[1;32m-> 1942\u001b[1;33m         \u001b[0mnew_values\u001b[0m \u001b[1;33m=\u001b[0m \u001b[0mnew_values\u001b[0m\u001b[1;33m[\u001b[0m\u001b[0margsort\u001b[0m\u001b[1;33m]\u001b[0m\u001b[1;33m\u001b[0m\u001b[1;33m\u001b[0m\u001b[0m\n\u001b[0m\u001b[0;32m   1943\u001b[0m         \u001b[0mnew_mgr_locs\u001b[0m \u001b[1;33m=\u001b[0m \u001b[0mnew_mgr_locs\u001b[0m\u001b[1;33m[\u001b[0m\u001b[0margsort\u001b[0m\u001b[1;33m]\u001b[0m\u001b[1;33m\u001b[0m\u001b[1;33m\u001b[0m\u001b[0m\n\u001b[0;32m   1944\u001b[0m \u001b[1;33m\u001b[0m\u001b[0m\n",
      "\u001b[1;31mMemoryError\u001b[0m: Unable to allocate 680. MiB for an array with shape (13, 6851832) and data type object"
     ]
    }
   ],
   "source": [
    "flights.describe().astype(int)"
   ]
  },
  {
   "cell_type": "markdown",
   "metadata": {
    "slideshow": {
     "slide_type": "slide"
    }
   },
   "source": [
    "## 01. Flights without cancellation nor divertion dataset:"
   ]
  },
  {
   "cell_type": "markdown",
   "metadata": {
    "slideshow": {
     "slide_type": "slide"
    }
   },
   "source": [
    "### What is the structure of your dataset?\n",
    "\n",
    "> There are 6,851,832 flight observations with 26 features in 2008 without diverted/cancelled flights and missing or incorrect​ data.\n",
    "\n",
    "\n",
    "### What is/are the main feature(s) of interest in your dataset?\n",
    "\n",
    "> Delayed flights in terms of carriers, origin & time.\n",
    "\n",
    "\n",
    "### What features in the dataset do you think will help support your investigation into your feature(s) of interest?\n",
    "\n",
    "> ArrDelay, Month, DayOfWeek, DepTime, ArrTime, UniqueCarrier."
   ]
  },
  {
   "cell_type": "markdown",
   "metadata": {
    "slideshow": {
     "slide_type": "slide"
    }
   },
   "source": []
  },
  {
   "cell_type": "code",
   "execution_count": null,
   "metadata": {
    "slideshow": {
     "slide_type": "skip"
    }
   },
   "outputs": [],
   "source": [
    "# now we will load flights dataset 2008\n",
    "cancelled = load_dataset('canceled')\n",
    "# print df size\n",
    "print(cancelled.shape)\n",
    "# dispay first 10 rows\n",
    "cancelled.head()"
   ]
  },
  {
   "cell_type": "code",
   "execution_count": null,
   "metadata": {
    "slideshow": {
     "slide_type": "skip"
    }
   },
   "outputs": [],
   "source": [
    "# get df data types and schema\n",
    "cancelled.info()"
   ]
  },
  {
   "cell_type": "code",
   "execution_count": null,
   "metadata": {
    "slideshow": {
     "slide_type": "skip"
    }
   },
   "outputs": [],
   "source": [
    "cancelled.columns"
   ]
  },
  {
   "cell_type": "code",
   "execution_count": null,
   "metadata": {
    "slideshow": {
     "slide_type": "skip"
    }
   },
   "outputs": [],
   "source": [
    "totals_cancelled = cancelled.shape[0]"
   ]
  },
  {
   "cell_type": "code",
   "execution_count": null,
   "metadata": {
    "slideshow": {
     "slide_type": "skip"
    }
   },
   "outputs": [],
   "source": [
    "# find the number of duplicated rows\n",
    "cancelled.duplicated().sum()"
   ]
  },
  {
   "cell_type": "code",
   "execution_count": null,
   "metadata": {
    "slideshow": {
     "slide_type": "skip"
    }
   },
   "outputs": [],
   "source": [
    "# check for null in each column\n",
    "# flights.isna().sum()\n",
    "cancelled.isnull().sum()"
   ]
  },
  {
   "cell_type": "code",
   "execution_count": null,
   "metadata": {
    "slideshow": {
     "slide_type": "skip"
    }
   },
   "outputs": [],
   "source": [
    "# drop all columns with any NaN and NaT values\n",
    "cancelled = cancelled.dropna(axis=1)"
   ]
  },
  {
   "cell_type": "code",
   "execution_count": null,
   "metadata": {
    "slideshow": {
     "slide_type": "skip"
    }
   },
   "outputs": [],
   "source": [
    "# check for null in each column\n",
    "# flights.isna().sum()\n",
    "cancelled.isnull().sum()"
   ]
  },
  {
   "cell_type": "code",
   "execution_count": null,
   "metadata": {
    "slideshow": {
     "slide_type": "skip"
    }
   },
   "outputs": [],
   "source": [
    "# the size after deleting null\n",
    "cancelled.shape[0] - totals_cancelled"
   ]
  },
  {
   "cell_type": "code",
   "execution_count": null,
   "metadata": {
    "slideshow": {
     "slide_type": "skip"
    }
   },
   "outputs": [],
   "source": [
    "# change schema\n",
    "cancelled['Year']              = cancelled['Year'].astype('str')\n",
    "cancelled['Month']             = cancelled['Month'].astype('str')\n",
    "cancelled['DayofMonth']        = cancelled['DayofMonth'].astype('str')\n",
    "cancelled['DayOfWeek']         = cancelled['DayOfWeek'].astype('str')\n",
    "\n",
    "cancelled['CRSDepTime']        = cancelled['CRSDepTime'].astype('str')        \n",
    "cancelled['CRSArrTime']        = cancelled['CRSArrTime'].astype('str')        \n",
    "\n",
    "cancelled['UniqueCarrier']     = cancelled['UniqueCarrier'].astype('str')  \n",
    "cancelled['FlightNum']         = cancelled['FlightNum'].astype('str')  \n",
    "\n",
    "cancelled['Origin']            = cancelled['Origin'].astype('str') \n",
    "cancelled['Dest']              = cancelled['Dest'].astype('str') \n",
    "\n",
    "cancelled['Distance']          = cancelled['Distance'].astype('int') \n",
    "cancelled['CancellationCode']  = cancelled['CancellationCode'].astype('str') "
   ]
  },
  {
   "cell_type": "code",
   "execution_count": null,
   "metadata": {
    "slideshow": {
     "slide_type": "skip"
    }
   },
   "outputs": [],
   "source": [
    "# get df data types and schema\n",
    "cancelled.info()"
   ]
  },
  {
   "cell_type": "code",
   "execution_count": null,
   "metadata": {
    "scrolled": true,
    "slideshow": {
     "slide_type": "skip"
    }
   },
   "outputs": [],
   "source": [
    "cancelled.describe().astype(int)"
   ]
  },
  {
   "cell_type": "markdown",
   "metadata": {
    "slideshow": {
     "slide_type": "slide"
    }
   },
   "source": [
    "## 02. Flights that have been Cancellation:"
   ]
  },
  {
   "cell_type": "markdown",
   "metadata": {
    "slideshow": {
     "slide_type": "slide"
    }
   },
   "source": [
    "### What is the structure of your dataset?\n",
    "\n",
    "> There are 137,434 flight observations with 12 features in 2008.\n",
    "\n",
    "\n",
    "### What is/are the main feature(s) of interest in your dataset?\n",
    "\n",
    " - what are the worstest airlines in terms of cancelled flighes?\n",
    " - what are the most cases of flights cancelled?\n",
    "\n",
    "\n",
    "### What features in the dataset do you think will help support your investigation into your feature(s) of interest?\n",
    "\n",
    "> UniqueCarrier, CancellationCode"
   ]
  },
  {
   "cell_type": "code",
   "execution_count": null,
   "metadata": {
    "slideshow": {
     "slide_type": "skip"
    }
   },
   "outputs": [],
   "source": [
    "# now we will load flights dataset 2008\n",
    "diverted = load_dataset('diverted')\n",
    "# print df size\n",
    "print(diverted.shape)\n",
    "# dispay first 10 rows\n",
    "diverted.head()"
   ]
  },
  {
   "cell_type": "code",
   "execution_count": null,
   "metadata": {
    "slideshow": {
     "slide_type": "skip"
    }
   },
   "outputs": [],
   "source": [
    "# get df data types and schema\n",
    "diverted.info()"
   ]
  },
  {
   "cell_type": "code",
   "execution_count": null,
   "metadata": {
    "slideshow": {
     "slide_type": "skip"
    }
   },
   "outputs": [],
   "source": [
    "diverted.columns"
   ]
  },
  {
   "cell_type": "code",
   "execution_count": null,
   "metadata": {
    "slideshow": {
     "slide_type": "skip"
    }
   },
   "outputs": [],
   "source": [
    "totals_diverted = diverted.shape[0]"
   ]
  },
  {
   "cell_type": "code",
   "execution_count": null,
   "metadata": {
    "slideshow": {
     "slide_type": "skip"
    }
   },
   "outputs": [],
   "source": [
    "# find the number of duplicated rows\n",
    "diverted.duplicated().sum()"
   ]
  },
  {
   "cell_type": "code",
   "execution_count": null,
   "metadata": {
    "slideshow": {
     "slide_type": "skip"
    }
   },
   "outputs": [],
   "source": [
    "# check for null in each column\n",
    "# flights.isna().sum()\n",
    "diverted.isnull().sum()"
   ]
  },
  {
   "cell_type": "code",
   "execution_count": null,
   "metadata": {
    "slideshow": {
     "slide_type": "skip"
    }
   },
   "outputs": [],
   "source": [
    "# drop all columns with any NaN and NaT values\n",
    "diverted = diverted.dropna(axis=1)"
   ]
  },
  {
   "cell_type": "code",
   "execution_count": null,
   "metadata": {
    "slideshow": {
     "slide_type": "skip"
    }
   },
   "outputs": [],
   "source": [
    "# check for null in each column\n",
    "# flights.isna().sum()\n",
    "diverted.isnull().sum()"
   ]
  },
  {
   "cell_type": "code",
   "execution_count": null,
   "metadata": {
    "slideshow": {
     "slide_type": "skip"
    }
   },
   "outputs": [],
   "source": [
    "# the size after deleting null\n",
    "diverted.shape[0] - totals_diverted"
   ]
  },
  {
   "cell_type": "code",
   "execution_count": null,
   "metadata": {
    "slideshow": {
     "slide_type": "skip"
    }
   },
   "outputs": [],
   "source": [
    "# change schema\n",
    "diverted['Year']              = diverted['Year'].astype('str')\n",
    "diverted['Month']             = diverted['Month'].astype('str')\n",
    "diverted['DayofMonth']        = diverted['DayofMonth'].astype('str')\n",
    "diverted['DayOfWeek']         = diverted['DayOfWeek'].astype('str')\n",
    "\n",
    "diverted['DepTime']           = diverted['DepTime'].astype('str')          \n",
    "diverted['CRSDepTime']        = diverted['CRSDepTime'].astype('str')        \n",
    "\n",
    "diverted['UniqueCarrier']     = diverted['UniqueCarrier'].astype('str')  \n",
    "diverted['FlightNum']         = diverted['FlightNum'].astype('str')  \n",
    "\n",
    "diverted['DepDelay']          = diverted['DepDelay'].astype('int') \n",
    "\n",
    "diverted['Origin']            = diverted['Origin'].astype('str') \n",
    "diverted['Dest']              = diverted['Dest'].astype('str') \n",
    "\n",
    "diverted['Distance']          = diverted['Distance'].astype('int') "
   ]
  },
  {
   "cell_type": "code",
   "execution_count": null,
   "metadata": {
    "slideshow": {
     "slide_type": "skip"
    }
   },
   "outputs": [],
   "source": [
    "# get df data types and schema\n",
    "diverted.info()"
   ]
  },
  {
   "cell_type": "code",
   "execution_count": null,
   "metadata": {
    "scrolled": true,
    "slideshow": {
     "slide_type": "skip"
    }
   },
   "outputs": [],
   "source": [
    "diverted.describe().astype(int)"
   ]
  },
  {
   "cell_type": "markdown",
   "metadata": {
    "slideshow": {
     "slide_type": "slide"
    }
   },
   "source": [
    "## 03. Flights that have been diverted:"
   ]
  },
  {
   "cell_type": "markdown",
   "metadata": {
    "slideshow": {
     "slide_type": "slide"
    }
   },
   "source": [
    "### What is the structure of your dataset?\n",
    "\n",
    "> There are 17,265 flight observations with 12 features in 2008.\n",
    "\n",
    "\n",
    "### What is/are the main feature(s) of interest in your dataset?\n",
    "\n",
    "> what are the Origin & Dest that have the most diverted flighes?\n",
    "\n",
    "\n",
    "### What features in the dataset do you think will help support your investigation into your feature(s) of interest?\n",
    "\n",
    "> Origin & Dest."
   ]
  },
  {
   "cell_type": "markdown",
   "metadata": {
    "slideshow": {
     "slide_type": "slide"
    }
   },
   "source": [
    "## Expoloring Flights dataset:"
   ]
  },
  {
   "cell_type": "markdown",
   "metadata": {
    "slideshow": {
     "slide_type": "subslide"
    }
   },
   "source": [
    "### 01. Flight dataset Year column:\n",
    "    range :\t 1987-2008 "
   ]
  },
  {
   "cell_type": "code",
   "execution_count": null,
   "metadata": {
    "scrolled": true,
    "slideshow": {
     "slide_type": "subslide"
    }
   },
   "outputs": [],
   "source": [
    "flights.Year.value_counts()"
   ]
  },
  {
   "cell_type": "markdown",
   "metadata": {
    "slideshow": {
     "slide_type": "subslide"
    }
   },
   "source": [
    "### 02. Flight dataset Month column:\n",
    "    range :\t 1-12                                                        "
   ]
  },
  {
   "cell_type": "code",
   "execution_count": null,
   "metadata": {
    "slideshow": {
     "slide_type": "skip"
    }
   },
   "outputs": [],
   "source": [
    "flights.Month.describe()"
   ]
  },
  {
   "cell_type": "code",
   "execution_count": null,
   "metadata": {},
   "outputs": [],
   "source": [
    "plot_bar_str(flights, 'Month', 100, base_color)"
   ]
  },
  {
   "cell_type": "markdown",
   "metadata": {
    "slideshow": {
     "slide_type": "subslide"
    }
   },
   "source": [
    "#### Bar plot indicate the number of flights per month"
   ]
  },
  {
   "cell_type": "code",
   "execution_count": null,
   "metadata": {
    "slideshow": {
     "slide_type": "subslide"
    }
   },
   "outputs": [],
   "source": [
    "plot_bar_str(flights, 'Month', 100, base_color , log =True)"
   ]
  },
  {
   "cell_type": "markdown",
   "metadata": {
    "slideshow": {
     "slide_type": "subslide"
    }
   },
   "source": [
    "Most of fights occured on summer , less on winter  "
   ]
  },
  {
   "cell_type": "markdown",
   "metadata": {
    "slideshow": {
     "slide_type": "subslide"
    }
   },
   "source": [
    "### 03. Flight dataset DayofMonth column:\n",
    "    range :\t 1-31"
   ]
  },
  {
   "cell_type": "code",
   "execution_count": null,
   "metadata": {},
   "outputs": [],
   "source": [
    "flights.DayofMonth.describe()"
   ]
  },
  {
   "cell_type": "markdown",
   "metadata": {
    "slideshow": {
     "slide_type": "subslide"
    }
   },
   "source": [
    "#### Bar plot indicate the number of flights per day of month"
   ]
  },
  {
   "cell_type": "code",
   "execution_count": null,
   "metadata": {
    "slideshow": {
     "slide_type": "subslide"
    }
   },
   "outputs": [],
   "source": [
    "plot_bar_str(flights, 'DayofMonth', 50, base_color, (10, 4))"
   ]
  },
  {
   "cell_type": "markdown",
   "metadata": {
    "slideshow": {
     "slide_type": "subslide"
    }
   },
   "source": [
    "There are not big difference amonge monthes in the flights number during the days of months, and its natural to be less half flights during 31th."
   ]
  },
  {
   "cell_type": "markdown",
   "metadata": {
    "slideshow": {
     "slide_type": "subslide"
    }
   },
   "source": [
    "### 04. Flight dataset DayOfWeek column:\n",
    "    range :\t 1 (Monday) - 7 (Sunday)"
   ]
  },
  {
   "cell_type": "code",
   "execution_count": null,
   "metadata": {},
   "outputs": [],
   "source": [
    "# substitute number with actual day of week name \n",
    "days = ['', 'Monday', 'Tuesday', 'Wednesday', 'Thursday', 'Friday', 'Saturday', 'Sunday']\n",
    "for i in flights.DayOfWeek.unique():\n",
    "    if str(i).isnumeric():\n",
    "        flights.DayOfWeek.replace(i,days[int(i)], inplace=True)"
   ]
  },
  {
   "cell_type": "code",
   "execution_count": null,
   "metadata": {
    "slideshow": {
     "slide_type": "skip"
    }
   },
   "outputs": [],
   "source": [
    "flights.DayOfWeek.describe()"
   ]
  },
  {
   "cell_type": "code",
   "execution_count": null,
   "metadata": {
    "slideshow": {
     "slide_type": "skip"
    }
   },
   "outputs": [],
   "source": [
    "plot_bar_str(flights, 'DayOfWeek', 200, base_color, rotation =45)"
   ]
  },
  {
   "cell_type": "markdown",
   "metadata": {
    "slideshow": {
     "slide_type": "subslide"
    }
   },
   "source": [
    "#### Bar plot indicate the number of flights per day of week"
   ]
  },
  {
   "cell_type": "code",
   "execution_count": null,
   "metadata": {
    "slideshow": {
     "slide_type": "subslide"
    }
   },
   "outputs": [],
   "source": [
    "plot_bar_str(flights, 'DayOfWeek', 200, base_color, rotation =45, log=True)"
   ]
  },
  {
   "cell_type": "markdown",
   "metadata": {
    "slideshow": {
     "slide_type": "subslide"
    }
   },
   "source": [
    "There are not big difference amonge flights number during working days 'Tuesday', 'Wednesday', 'Thursday', 'Friday' , and less  flights during Sunday , and more less in Saturday."
   ]
  },
  {
   "cell_type": "markdown",
   "metadata": {
    "slideshow": {
     "slide_type": "subslide"
    }
   },
   "source": [
    "### 05. Flight dataset DepTime column:\n",
    "    range :\t 00:00 AM-11:59 PM  \n",
    "    actual departure time (local, hh:mm AM/PM)"
   ]
  },
  {
   "cell_type": "code",
   "execution_count": null,
   "metadata": {
    "slideshow": {
     "slide_type": "subslide"
    }
   },
   "outputs": [],
   "source": [
    "flights.DepTime.describe()"
   ]
  },
  {
   "cell_type": "code",
   "execution_count": null,
   "metadata": {},
   "outputs": [],
   "source": [
    "# sort time in ascending order with its frequency\n",
    "df = sort_time_fmt(flights, 'DepTime')"
   ]
  },
  {
   "cell_type": "code",
   "execution_count": null,
   "metadata": {},
   "outputs": [],
   "source": [
    "df[df.frequency == df.frequency.max()]"
   ]
  },
  {
   "cell_type": "markdown",
   "metadata": {
    "slideshow": {
     "slide_type": "subslide"
    }
   },
   "source": [
    "### line plot indicate the number of actual departed flights over the day time"
   ]
  },
  {
   "cell_type": "code",
   "execution_count": null,
   "metadata": {
    "slideshow": {
     "slide_type": "subslide"
    }
   },
   "outputs": [],
   "source": [
    "plot_line_time_fmt(df, 'DepTime', 'frequency', figsize=(12, 4))"
   ]
  },
  {
   "cell_type": "markdown",
   "metadata": {},
   "source": []
  },
  {
   "cell_type": "markdown",
   "metadata": {
    "slideshow": {
     "slide_type": "subslide"
    }
   },
   "source": [
    "### 06. Flight dataset CRSDepTime column:\n",
    "    range :\t 00:00 AM-11:59 PM  \n",
    "    scheduled departure time (local, hh:mm AM/PM)"
   ]
  },
  {
   "cell_type": "code",
   "execution_count": null,
   "metadata": {},
   "outputs": [],
   "source": [
    "flights.CRSDepTime.describe()"
   ]
  },
  {
   "cell_type": "code",
   "execution_count": null,
   "metadata": {},
   "outputs": [],
   "source": [
    "df = sort_time_fmt(flights, 'CRSDepTime')\n",
    "df.head()"
   ]
  },
  {
   "cell_type": "code",
   "execution_count": null,
   "metadata": {},
   "outputs": [],
   "source": [
    "df[df.frequency == df.frequency.max()]"
   ]
  },
  {
   "cell_type": "markdown",
   "metadata": {
    "slideshow": {
     "slide_type": "subslide"
    }
   },
   "source": [
    "### line plot indicate the number of scheduled departed flights over the day time"
   ]
  },
  {
   "cell_type": "code",
   "execution_count": null,
   "metadata": {
    "slideshow": {
     "slide_type": "subslide"
    }
   },
   "outputs": [],
   "source": [
    "plot_line_time_fmt(df, 'CRSDepTime', 'frequency', figsize=(12, 4))"
   ]
  },
  {
   "cell_type": "markdown",
   "metadata": {
    "slideshow": {
     "slide_type": "subslide"
    }
   },
   "source": [
    "### 07. Flight dataset ArrTime column:\n",
    "    range :\t 00:00 AM-11:59 PM  \n",
    "    actual arrival time (local, hh:mm AM/PM)"
   ]
  },
  {
   "cell_type": "code",
   "execution_count": null,
   "metadata": {},
   "outputs": [],
   "source": [
    "flights.ArrTime.describe()"
   ]
  },
  {
   "cell_type": "code",
   "execution_count": null,
   "metadata": {},
   "outputs": [],
   "source": [
    "df = sort_time_fmt(flights, 'ArrTime')\n",
    "df.head()"
   ]
  },
  {
   "cell_type": "code",
   "execution_count": null,
   "metadata": {},
   "outputs": [],
   "source": [
    "df[df.frequency == df.frequency.max()]"
   ]
  },
  {
   "cell_type": "markdown",
   "metadata": {
    "slideshow": {
     "slide_type": "subslide"
    }
   },
   "source": [
    "### line plot indicate the number of actual arrival flights over the day time"
   ]
  },
  {
   "cell_type": "code",
   "execution_count": null,
   "metadata": {
    "slideshow": {
     "slide_type": "subslide"
    }
   },
   "outputs": [],
   "source": [
    "plot_line_time_fmt(df, 'ArrTime', 'frequency', figsize=(12, 4))"
   ]
  },
  {
   "cell_type": "markdown",
   "metadata": {
    "slideshow": {
     "slide_type": "subslide"
    }
   },
   "source": [
    "### 08. Flight dataset CRSArrTime column:\n",
    "    range :\t 00:00 AM-11:59 PM  \n",
    "    scheduled arrival time (local, hh:mm AM/PM)"
   ]
  },
  {
   "cell_type": "code",
   "execution_count": null,
   "metadata": {
    "slideshow": {
     "slide_type": "subslide"
    }
   },
   "outputs": [],
   "source": [
    "flights.CRSArrTime.describe()"
   ]
  },
  {
   "cell_type": "code",
   "execution_count": null,
   "metadata": {
    "slideshow": {
     "slide_type": "skip"
    }
   },
   "outputs": [],
   "source": [
    "df = sort_time_fmt(flights, 'CRSArrTime')\n",
    "df.head()"
   ]
  },
  {
   "cell_type": "code",
   "execution_count": null,
   "metadata": {},
   "outputs": [],
   "source": [
    "df[df.frequency == df.frequency.max()]"
   ]
  },
  {
   "cell_type": "markdown",
   "metadata": {
    "slideshow": {
     "slide_type": "subslide"
    }
   },
   "source": [
    "### line plot indicate the number of scheduled arrival flights over the day time"
   ]
  },
  {
   "cell_type": "code",
   "execution_count": null,
   "metadata": {
    "slideshow": {
     "slide_type": "subslide"
    }
   },
   "outputs": [],
   "source": [
    "plot_line_time_fmt(df, 'CRSArrTime', 'frequency', figsize=(12, 4))"
   ]
  },
  {
   "cell_type": "markdown",
   "metadata": {
    "slideshow": {
     "slide_type": "subslide"
    }
   },
   "source": [
    "### 09. Flight dataset UniqueCarrier column:\n",
    "    range :\t 1 - 20 string\n",
    "    unique carrier code "
   ]
  },
  {
   "cell_type": "code",
   "execution_count": null,
   "metadata": {
    "slideshow": {
     "slide_type": "skip"
    }
   },
   "outputs": [],
   "source": [
    "flights.UniqueCarrier.describe()"
   ]
  },
  {
   "cell_type": "markdown",
   "metadata": {
    "slideshow": {
     "slide_type": "subslide"
    }
   },
   "source": [
    "#### Bar plot indicate the number of flights per carrier"
   ]
  },
  {
   "cell_type": "code",
   "execution_count": null,
   "metadata": {
    "slideshow": {
     "slide_type": "subslide"
    }
   },
   "outputs": [],
   "source": [
    "plot_bar_str(flights, 'UniqueCarrier', 200, base_color, (10, 4), rotation =0)"
   ]
  },
  {
   "cell_type": "markdown",
   "metadata": {
    "slideshow": {
     "slide_type": "subslide"
    }
   },
   "source": [
    "apperantly WN carrier have the most share of flights about 1,186,911 flight."
   ]
  },
  {
   "cell_type": "code",
   "execution_count": null,
   "metadata": {
    "scrolled": true,
    "slideshow": {
     "slide_type": "subslide"
    }
   },
   "outputs": [],
   "source": [
    "plot_bar_str(flights, 'UniqueCarrier', 200, base_color, (10, 4), rotation =0, log=True)"
   ]
  },
  {
   "cell_type": "markdown",
   "metadata": {
    "slideshow": {
     "slide_type": "subslide"
    }
   },
   "source": [
    "### 10. Flight dataset FlightNum column:\n",
    "    range :\tstring\n",
    "    flight number "
   ]
  },
  {
   "cell_type": "code",
   "execution_count": null,
   "metadata": {
    "slideshow": {
     "slide_type": "subslide"
    }
   },
   "outputs": [],
   "source": [
    "flights.FlightNum.describe()"
   ]
  },
  {
   "cell_type": "markdown",
   "metadata": {
    "slideshow": {
     "slide_type": "subslide"
    }
   },
   "source": [
    "### 11. Flight dataset TailNum column:\n",
    "    range :\tstring\n",
    "    plane tail number :\n",
    "    aircraft registration, unique aircraft identifier"
   ]
  },
  {
   "cell_type": "code",
   "execution_count": null,
   "metadata": {
    "slideshow": {
     "slide_type": "subslide"
    }
   },
   "outputs": [],
   "source": [
    "flights.TailNum.describe()"
   ]
  },
  {
   "cell_type": "markdown",
   "metadata": {
    "slideshow": {
     "slide_type": "skip"
    }
   },
   "source": [
    "# keep the orignal then remove outliers"
   ]
  },
  {
   "cell_type": "code",
   "execution_count": null,
   "metadata": {
    "slideshow": {
     "slide_type": "skip"
    }
   },
   "outputs": [],
   "source": [
    "flights_orignal = flights.copy()"
   ]
  },
  {
   "cell_type": "code",
   "execution_count": null,
   "metadata": {
    "slideshow": {
     "slide_type": "skip"
    }
   },
   "outputs": [],
   "source": [
    "#flights = flights_orignal"
   ]
  },
  {
   "cell_type": "markdown",
   "metadata": {
    "slideshow": {
     "slide_type": "skip"
    }
   },
   "source": [
    "outliers = (((df.DepDelay - df.DepDelay.mean()).abs() > df.DepDelay.std()*3) | \n",
    "            ((df.ArrDelay - df.ArrDelay.mean()).abs() > df.ArrDelay.std()*3))"
   ]
  },
  {
   "cell_type": "code",
   "execution_count": null,
   "metadata": {
    "slideshow": {
     "slide_type": "skip"
    }
   },
   "outputs": [],
   "source": [
    "def outlier(df, col):\n",
    "    df_non_outlier = df[(df[col] >= (2.5*df[col].quantile(.25)-1.5*df[col].quantile(.75))) & (df[col] <= (2.5*df[col].quantile(.75)-1.5*df[col].quantile(.25)))]\n",
    "    return df_non_outlier"
   ]
  },
  {
   "cell_type": "markdown",
   "metadata": {
    "slideshow": {
     "slide_type": "subslide"
    }
   },
   "source": [
    "### 12. Flight dataset ActualElapsedTime column:\n",
    "    range :\tin minutes\n",
    "    ActualElapsedTime "
   ]
  },
  {
   "cell_type": "code",
   "execution_count": null,
   "metadata": {
    "slideshow": {
     "slide_type": "subslide"
    }
   },
   "outputs": [],
   "source": [
    "flights.ActualElapsedTime.describe().round(2)"
   ]
  },
  {
   "cell_type": "code",
   "execution_count": null,
   "metadata": {
    "slideshow": {
     "slide_type": "skip"
    }
   },
   "outputs": [],
   "source": [
    "# remove outliers \n",
    "flights = outlier(flights, 'ActualElapsedTime')"
   ]
  },
  {
   "cell_type": "code",
   "execution_count": null,
   "metadata": {
    "slideshow": {
     "slide_type": "skip"
    }
   },
   "outputs": [],
   "source": [
    "flights.ActualElapsedTime.describe().round(2)"
   ]
  },
  {
   "cell_type": "code",
   "execution_count": null,
   "metadata": {
    "slideshow": {
     "slide_type": "skip"
    }
   },
   "outputs": [],
   "source": [
    "flights['ActualElapsedTimePmile'] = flights['ActualElapsedTime'].astype(float)/ flights['Distance'].astype(float)"
   ]
  },
  {
   "cell_type": "code",
   "execution_count": null,
   "metadata": {
    "slideshow": {
     "slide_type": "skip"
    }
   },
   "outputs": [],
   "source": [
    "flights.ActualElapsedTimePmile.describe().round(3)"
   ]
  },
  {
   "cell_type": "code",
   "execution_count": null,
   "metadata": {
    "slideshow": {
     "slide_type": "skip"
    }
   },
   "outputs": [],
   "source": [
    "bins = np.arange(0,flights['ActualElapsedTimePmile'].max()+0.1,0.1)\n",
    "plt.hist(data = flights, x= 'ActualElapsedTimePmile', bins=bins);\n",
    "plt.xlim(right=1);  # adjust the right leaving left unchanged\n",
    "plt.xlim(left=0);  # adjust the left leaving right unchanged"
   ]
  },
  {
   "cell_type": "code",
   "execution_count": null,
   "metadata": {
    "slideshow": {
     "slide_type": "skip"
    }
   },
   "outputs": [],
   "source": [
    "bins = np.arange(0,flights['ActualElapsedTimePmile'].max()+0.1,0.1)\n",
    "plt.hist(data = flights, x= 'ActualElapsedTimePmile', bins=bins);\n",
    "plt.xlim(right=4);  # adjust the right leaving left unchanged\n",
    "plt.xlim(left=-0.5);  # adjust the left leaving right unchanged\n",
    "plt.yscale('log')"
   ]
  },
  {
   "cell_type": "markdown",
   "metadata": {
    "slideshow": {
     "slide_type": "subslide"
    }
   },
   "source": [
    "#### histogram indicate the density of Actual ElapsedTime for flights per distance"
   ]
  },
  {
   "cell_type": "code",
   "execution_count": null,
   "metadata": {
    "slideshow": {
     "slide_type": "subslide"
    }
   },
   "outputs": [],
   "source": [
    "plot_hist(flights['ActualElapsedTimePmile'], 1, scale=1, x_right=1, x_left=0)"
   ]
  },
  {
   "cell_type": "code",
   "execution_count": null,
   "metadata": {},
   "outputs": [],
   "source": [
    "sns.boxplot(x=flights['ActualElapsedTimePmile']);\n",
    "plt.xlim(right=0.4);  # adjust the right leaving left unchanged\n",
    "plt.xlim(left=0);  # adjust the left leaving right unchanged"
   ]
  },
  {
   "cell_type": "code",
   "execution_count": null,
   "metadata": {
    "slideshow": {
     "slide_type": "skip"
    }
   },
   "outputs": [],
   "source": [
    "flights.boxplot(column=['ActualElapsedTimePmile']);\n",
    "plt.ylim(top=0.4);  # adjust the top leaving bottom unchanged\n",
    "plt.ylim(bottom=0); # adjust the bottom leaving top unchanged"
   ]
  },
  {
   "cell_type": "markdown",
   "metadata": {
    "slideshow": {
     "slide_type": "subslide"
    }
   },
   "source": [
    "### 13. Flight dataset CRSElapsedTime column:\n",
    "    range :\tin minutes\n",
    "    CRSElapsedTime"
   ]
  },
  {
   "cell_type": "code",
   "execution_count": null,
   "metadata": {
    "slideshow": {
     "slide_type": "skip"
    }
   },
   "outputs": [],
   "source": [
    "flights.CRSElapsedTime.describe().round(1)"
   ]
  },
  {
   "cell_type": "code",
   "execution_count": null,
   "metadata": {
    "scrolled": false,
    "slideshow": {
     "slide_type": "skip"
    }
   },
   "outputs": [],
   "source": [
    "flights[flights['CRSElapsedTime'] <0]"
   ]
  },
  {
   "cell_type": "markdown",
   "metadata": {
    "slideshow": {
     "slide_type": "skip"
    }
   },
   "source": [
    "#### remove incorrect data"
   ]
  },
  {
   "cell_type": "code",
   "execution_count": null,
   "metadata": {
    "slideshow": {
     "slide_type": "skip"
    }
   },
   "outputs": [],
   "source": [
    "flights = flights[~(flights['CRSElapsedTime'] <0)]"
   ]
  },
  {
   "cell_type": "code",
   "execution_count": null,
   "metadata": {
    "slideshow": {
     "slide_type": "skip"
    }
   },
   "outputs": [],
   "source": [
    "flights.CRSElapsedTime.describe().round(1)"
   ]
  },
  {
   "cell_type": "code",
   "execution_count": null,
   "metadata": {
    "slideshow": {
     "slide_type": "skip"
    }
   },
   "outputs": [],
   "source": [
    "# remove outliers \n",
    "flights = outlier(flights, 'CRSElapsedTime')"
   ]
  },
  {
   "cell_type": "code",
   "execution_count": null,
   "metadata": {
    "slideshow": {
     "slide_type": "skip"
    }
   },
   "outputs": [],
   "source": [
    "flights.CRSElapsedTime.describe().round(1)"
   ]
  },
  {
   "cell_type": "code",
   "execution_count": null,
   "metadata": {
    "slideshow": {
     "slide_type": "skip"
    }
   },
   "outputs": [],
   "source": [
    "flights['CRSElapsedTimePmile'] = flights['CRSElapsedTime'].astype(float)/ flights['Distance'].astype(float)"
   ]
  },
  {
   "cell_type": "code",
   "execution_count": null,
   "metadata": {
    "scrolled": true,
    "slideshow": {
     "slide_type": "skip"
    }
   },
   "outputs": [],
   "source": [
    "flights.ActualElapsedTimePmile.describe().round(3)"
   ]
  },
  {
   "cell_type": "code",
   "execution_count": null,
   "metadata": {
    "slideshow": {
     "slide_type": "skip"
    }
   },
   "outputs": [],
   "source": [
    "bins = np.arange(0,flights['CRSElapsedTimePmile'].max()+0.1,0.1)\n",
    "plt.hist(data = flights, x= 'CRSElapsedTimePmile', bins=bins);\n",
    "plt.xlim(right=1);  # adjust the right leaving left unchanged\n",
    "plt.xlim(left=0);  # adjust the left leaving right unchanged"
   ]
  },
  {
   "cell_type": "markdown",
   "metadata": {
    "slideshow": {
     "slide_type": "subslide"
    }
   },
   "source": [
    "#### histogram indicate the density of scheduled ElapsedTime for flights per distance"
   ]
  },
  {
   "cell_type": "code",
   "execution_count": null,
   "metadata": {
    "slideshow": {
     "slide_type": "subslide"
    }
   },
   "outputs": [],
   "source": [
    "plot_hist(flights['CRSElapsedTimePmile'], 1, scale=1, x_right=1, x_left=0)"
   ]
  },
  {
   "cell_type": "code",
   "execution_count": null,
   "metadata": {
    "slideshow": {
     "slide_type": "skip"
    }
   },
   "outputs": [],
   "source": [
    "sns.distplot(flights['CRSElapsedTimePmile']);\n",
    "plt.xlim(right=1);  # adjust the right leaving left unchanged\n",
    "plt.xlim(left=0);  # adjust the left leaving right unchanged"
   ]
  },
  {
   "cell_type": "code",
   "execution_count": null,
   "metadata": {
    "scrolled": true,
    "slideshow": {
     "slide_type": "skip"
    }
   },
   "outputs": [],
   "source": [
    "sns.boxplot(x=flights['CRSElapsedTimePmile']);\n",
    "plt.xlim(right=0.5);  # adjust the right leaving left unchanged\n",
    "plt.xlim(left=0);  # adjust the left leaving right unchanged"
   ]
  },
  {
   "cell_type": "code",
   "execution_count": null,
   "metadata": {
    "scrolled": true,
    "slideshow": {
     "slide_type": "skip"
    }
   },
   "outputs": [],
   "source": [
    "flights.boxplot(column=['CRSElapsedTimePmile']);\n",
    "plt.ylim(top=0.5);  # adjust the top leaving bottom unchanged\n",
    "plt.ylim(bottom=0); # adjust the bottom leaving top unchanged"
   ]
  },
  {
   "cell_type": "markdown",
   "metadata": {
    "slideshow": {
     "slide_type": "subslide"
    }
   },
   "source": [
    "### 14. Flight dataset AirTime column:\n",
    "    range :\tin minutes"
   ]
  },
  {
   "cell_type": "code",
   "execution_count": null,
   "metadata": {
    "slideshow": {
     "slide_type": "skip"
    }
   },
   "outputs": [],
   "source": [
    "flights.AirTime.describe().round(1)"
   ]
  },
  {
   "cell_type": "code",
   "execution_count": null,
   "metadata": {
    "slideshow": {
     "slide_type": "skip"
    }
   },
   "outputs": [],
   "source": [
    "# remove outliers \n",
    "flights = outlier(flights, 'AirTime')"
   ]
  },
  {
   "cell_type": "code",
   "execution_count": null,
   "metadata": {
    "slideshow": {
     "slide_type": "skip"
    }
   },
   "outputs": [],
   "source": [
    "flights.AirTime.describe().round(1)"
   ]
  },
  {
   "cell_type": "code",
   "execution_count": null,
   "metadata": {
    "slideshow": {
     "slide_type": "skip"
    }
   },
   "outputs": [],
   "source": [
    "flights['AirTimePmile'] = flights['AirTime'].astype(float)/ flights['Distance'].astype(float)"
   ]
  },
  {
   "cell_type": "code",
   "execution_count": null,
   "metadata": {
    "scrolled": true,
    "slideshow": {
     "slide_type": "skip"
    }
   },
   "outputs": [],
   "source": [
    "flights.AirTimePmile.describe().round(3)"
   ]
  },
  {
   "cell_type": "code",
   "execution_count": null,
   "metadata": {
    "slideshow": {
     "slide_type": "skip"
    }
   },
   "outputs": [],
   "source": [
    "bins = np.arange(0,flights['AirTimePmile'].max()+0.1,0.1)\n",
    "plt.hist(data = flights, x= 'AirTimePmile', bins=bins);\n",
    "plt.xlim(right=1);  # adjust the right leaving left unchanged\n",
    "plt.xlim(left=0);  # adjust the left leaving right unchanged"
   ]
  },
  {
   "cell_type": "markdown",
   "metadata": {
    "slideshow": {
     "slide_type": "subslide"
    }
   },
   "source": [
    "#### histogram indicate the density of arive Time for flights per distance"
   ]
  },
  {
   "cell_type": "code",
   "execution_count": null,
   "metadata": {
    "slideshow": {
     "slide_type": "subslide"
    }
   },
   "outputs": [],
   "source": [
    "plot_hist(flights['AirTimePmile'], 1, scale=1, x_right=1, x_left=0)"
   ]
  },
  {
   "cell_type": "code",
   "execution_count": null,
   "metadata": {
    "slideshow": {
     "slide_type": "skip"
    }
   },
   "outputs": [],
   "source": [
    "sns.distplot(flights['AirTimePmile']);\n",
    "plt.xlim(right=1);  # adjust the right leaving left unchanged\n",
    "plt.xlim(left=0)  # adjust the left leaving right unchanged"
   ]
  },
  {
   "cell_type": "code",
   "execution_count": null,
   "metadata": {
    "scrolled": true,
    "slideshow": {
     "slide_type": "skip"
    }
   },
   "outputs": [],
   "source": [
    "sns.boxplot(x=flights['AirTimePmile']);\n",
    "plt.xlim(right=0.35);  # adjust the right leaving left unchanged\n",
    "plt.xlim(left=0);  # adjust the left leaving right unchanged"
   ]
  },
  {
   "cell_type": "code",
   "execution_count": null,
   "metadata": {
    "scrolled": true,
    "slideshow": {
     "slide_type": "skip"
    }
   },
   "outputs": [],
   "source": [
    "flights.boxplot(column=['AirTimePmile']);\n",
    "plt.ylim(top=0.35);  # adjust the top leaving bottom unchanged\n",
    "plt.ylim(bottom=0); # adjust the bottom leaving top unchanged"
   ]
  },
  {
   "cell_type": "markdown",
   "metadata": {
    "slideshow": {
     "slide_type": "subslide"
    }
   },
   "source": [
    "### 15. Flight dataset ArrDelay column:\n",
    "    range :\tin minutes\n",
    "    arrival delay:\n",
    "    A flight is counted as \"on time\" if it operated less than 15 minutes later the scheduled time shown in the carriers' Computerized Reservations Systems (CRS)."
   ]
  },
  {
   "cell_type": "code",
   "execution_count": null,
   "metadata": {
    "slideshow": {
     "slide_type": "skip"
    }
   },
   "outputs": [],
   "source": [
    "flights.ArrDelay.describe().round(1)"
   ]
  },
  {
   "cell_type": "code",
   "execution_count": null,
   "metadata": {
    "slideshow": {
     "slide_type": "skip"
    }
   },
   "outputs": [],
   "source": [
    "flights[flights['ArrDelay'] <15].shape"
   ]
  },
  {
   "cell_type": "code",
   "execution_count": null,
   "metadata": {
    "slideshow": {
     "slide_type": "skip"
    }
   },
   "outputs": [],
   "source": [
    "# remove outliers \n",
    "flights = outlier(flights, 'ArrDelay')"
   ]
  },
  {
   "cell_type": "code",
   "execution_count": null,
   "metadata": {
    "slideshow": {
     "slide_type": "skip"
    }
   },
   "outputs": [],
   "source": [
    "flights.ArrDelay.describe().round(1)"
   ]
  },
  {
   "cell_type": "code",
   "execution_count": null,
   "metadata": {
    "slideshow": {
     "slide_type": "skip"
    }
   },
   "outputs": [],
   "source": [
    "plt.hist(data = flights, x= 'ArrDelay');\n",
    "#plt.xlim(right=500);  # adjust the right leaving left unchanged\n",
    "plt.xlim(left=-60);  # adjust the left leaving right unchanged"
   ]
  },
  {
   "cell_type": "code",
   "execution_count": null,
   "metadata": {},
   "outputs": [],
   "source": [
    "plt.hist(data = flights, x= 'ArrDelay');\n",
    "#plt.xlim(right=500);  # adjust the right leaving left unchanged\n",
    "plt.xlim(left=-60);  # adjust the left leaving right unchanged\n",
    "plt.yscale('log')"
   ]
  },
  {
   "cell_type": "code",
   "execution_count": null,
   "metadata": {},
   "outputs": [],
   "source": [
    "plot_hist(flights['AirTimePmile'], .1)"
   ]
  },
  {
   "cell_type": "markdown",
   "metadata": {
    "slideshow": {
     "slide_type": "subslide"
    }
   },
   "source": [
    "#### histogram indicate the density of arive delayTime for flights per distance"
   ]
  },
  {
   "cell_type": "code",
   "execution_count": null,
   "metadata": {
    "slideshow": {
     "slide_type": "subslide"
    }
   },
   "outputs": [],
   "source": [
    "sns.distplot(flights['ArrDelay']);\n",
    "#plt.xlim(right=12);  # adjust the right leaving left unchanged\n",
    "#plt.xlim(left=-700);  # adjust the left leaving right unchanged\n",
    "#plt.yscale('log')"
   ]
  },
  {
   "cell_type": "code",
   "execution_count": null,
   "metadata": {
    "scrolled": true
   },
   "outputs": [],
   "source": [
    "sns.boxplot(x=flights['ArrDelay']);\n",
    "plt.xlim(right=50);  # adjust the right leaving left unchanged\n",
    "plt.xlim(left=-50);  # adjust the left leaving right unchanged"
   ]
  },
  {
   "cell_type": "code",
   "execution_count": null,
   "metadata": {
    "scrolled": true
   },
   "outputs": [],
   "source": [
    "flights.boxplot(column=['ArrDelay']);\n",
    "plt.ylim(top=50);  # adjust the top leaving bottom unchanged\n",
    "plt.ylim(bottom=-50); # adjust the bottom leaving top unchanged"
   ]
  },
  {
   "cell_type": "markdown",
   "metadata": {
    "slideshow": {
     "slide_type": "subslide"
    }
   },
   "source": [
    "### 16. Flight dataset DepDelay column:\n",
    "    range :\tin minutes\n",
    "    departure delay:"
   ]
  },
  {
   "cell_type": "code",
   "execution_count": null,
   "metadata": {
    "slideshow": {
     "slide_type": "subslide"
    }
   },
   "outputs": [],
   "source": [
    "flights.DepDelay.describe().round(1)"
   ]
  },
  {
   "cell_type": "code",
   "execution_count": null,
   "metadata": {
    "scrolled": true
   },
   "outputs": [],
   "source": [
    "flights[flights['DepDelay'] <0].shape"
   ]
  },
  {
   "cell_type": "code",
   "execution_count": null,
   "metadata": {},
   "outputs": [],
   "source": [
    "# remove outliers \n",
    "flights = outlier(flights, 'DepDelay')"
   ]
  },
  {
   "cell_type": "code",
   "execution_count": null,
   "metadata": {},
   "outputs": [],
   "source": [
    "flights.DepDelay.describe().round(1)"
   ]
  },
  {
   "cell_type": "code",
   "execution_count": null,
   "metadata": {},
   "outputs": [],
   "source": [
    "plt.hist(data = flights, x= 'DepDelay');\n",
    "#plt.xlim(right=1);  # adjust the right leaving left unchanged\n",
    "#plt.xlim(left=0);  # adjust the left leaving right unchanged"
   ]
  },
  {
   "cell_type": "markdown",
   "metadata": {
    "slideshow": {
     "slide_type": "subslide"
    }
   },
   "source": [
    "#### histogram indicate the density of depate delay Time for flights per distance"
   ]
  },
  {
   "cell_type": "code",
   "execution_count": null,
   "metadata": {
    "slideshow": {
     "slide_type": "subslide"
    }
   },
   "outputs": [],
   "source": [
    "plot_hist(flights['AirTimePmile'], .1)"
   ]
  },
  {
   "cell_type": "code",
   "execution_count": null,
   "metadata": {},
   "outputs": [],
   "source": [
    "sns.distplot(flights['DepDelay']);\n",
    "#plt.xlim(right=1);  # adjust the right leaving left unchanged\n",
    "#plt.xlim(left=0)  # adjust the left leaving right unchanged"
   ]
  },
  {
   "cell_type": "code",
   "execution_count": null,
   "metadata": {
    "scrolled": true
   },
   "outputs": [],
   "source": [
    "sns.boxplot(x=flights['DepDelay']);\n",
    "#plt.xlim(right=1);  # adjust the right leaving left unchanged\n",
    "#plt.xlim(left=0);  # adjust the left leaving right unchanged"
   ]
  },
  {
   "cell_type": "code",
   "execution_count": null,
   "metadata": {
    "scrolled": true
   },
   "outputs": [],
   "source": [
    "flights.boxplot(column=['DepDelay']);\n",
    "#plt.ylim(top=1);  # adjust the top leaving bottom unchanged\n",
    "#plt.ylim(bottom=0); # adjust the bottom leaving top unchanged"
   ]
  },
  {
   "cell_type": "markdown",
   "metadata": {
    "slideshow": {
     "slide_type": "subslide"
    }
   },
   "source": [
    "### 17. Flight dataset Origin column:\n",
    "    range :\tstring\n",
    "    origin IATA airport code"
   ]
  },
  {
   "cell_type": "code",
   "execution_count": null,
   "metadata": {},
   "outputs": [],
   "source": [
    "flights.Origin.describe()"
   ]
  },
  {
   "cell_type": "markdown",
   "metadata": {
    "slideshow": {
     "slide_type": "subslide"
    }
   },
   "source": [
    "### 18. Flight dataset Dest column:\n",
    "    range :\tstring\n",
    "    destination IATA airport code "
   ]
  },
  {
   "cell_type": "code",
   "execution_count": null,
   "metadata": {},
   "outputs": [],
   "source": [
    "flights.Dest.describe()"
   ]
  },
  {
   "cell_type": "markdown",
   "metadata": {
    "slideshow": {
     "slide_type": "subslide"
    }
   },
   "source": [
    "### 19. Flight dataset Distance column:\n",
    "    range :\tin miles \n",
    "    Distance"
   ]
  },
  {
   "cell_type": "code",
   "execution_count": null,
   "metadata": {},
   "outputs": [],
   "source": [
    "flights.Distance.describe().round(1)"
   ]
  },
  {
   "cell_type": "markdown",
   "metadata": {
    "slideshow": {
     "slide_type": "subslide"
    }
   },
   "source": [
    "### 20. Flight dataset TaxiIn column:\n",
    "    range :\tin minutes\n",
    "    taxi in time "
   ]
  },
  {
   "cell_type": "code",
   "execution_count": null,
   "metadata": {},
   "outputs": [],
   "source": [
    "flights.TaxiIn.describe().round(1)"
   ]
  },
  {
   "cell_type": "code",
   "execution_count": null,
   "metadata": {},
   "outputs": [],
   "source": [
    "# remove outliers \n",
    "flights = outlier(flights, 'TaxiIn')"
   ]
  },
  {
   "cell_type": "code",
   "execution_count": null,
   "metadata": {},
   "outputs": [],
   "source": [
    "flights.TaxiIn.describe().round(1)"
   ]
  },
  {
   "cell_type": "markdown",
   "metadata": {
    "slideshow": {
     "slide_type": "subslide"
    }
   },
   "source": [
    "### 21. Flight dataset TaxiOut column:\n",
    "    range :\tin minutes \n",
    "    taxi out time "
   ]
  },
  {
   "cell_type": "code",
   "execution_count": null,
   "metadata": {
    "slideshow": {
     "slide_type": "subslide"
    }
   },
   "outputs": [],
   "source": [
    "flights.TaxiOut.describe().round(1)"
   ]
  },
  {
   "cell_type": "code",
   "execution_count": null,
   "metadata": {},
   "outputs": [],
   "source": [
    "# remove outliers \n",
    "flights = outlier(flights, 'TaxiOut')"
   ]
  },
  {
   "cell_type": "code",
   "execution_count": null,
   "metadata": {},
   "outputs": [],
   "source": [
    "flights.TaxiOut.describe().round(1)"
   ]
  },
  {
   "cell_type": "markdown",
   "metadata": {
    "slideshow": {
     "slide_type": "subslide"
    }
   },
   "source": [
    "### 25. Flight dataset CarrierDelay column:\n",
    "    range :\tin minutes\n",
    "    - Carrier delay is within the control of the air carrier. \n",
    "    - Examples of occurrences that may determine carrier delay are: \n",
    "        - aircraft cleaning, aircraft damage, awaiting the arrival of connecting passengers or crew, \n",
    "        - baggage, bird strike, cargo loading, catering, computer, outage-carrier equipment, \n",
    "        - crew legality (pilot or attendant rest), damage by hazardous goods, engineering inspection, fueling, \n",
    "        - handling disabled passengers, late crew, lavatory servicing, maintenance, oversales, \n",
    "        - potable water servicing, removal of unruly passenger, slow boarding or seating, \n",
    "        - stowing carry-on baggage, weight and balance delays.              "
   ]
  },
  {
   "cell_type": "code",
   "execution_count": null,
   "metadata": {
    "slideshow": {
     "slide_type": "subslide"
    }
   },
   "outputs": [],
   "source": [
    "flights.CarrierDelay.describe().round(3)"
   ]
  },
  {
   "cell_type": "markdown",
   "metadata": {
    "slideshow": {
     "slide_type": "subslide"
    }
   },
   "source": [
    "### 26. Flight dataset WeatherDelay column:\n",
    "    range :\tin minutes\n",
    "    Weather delay is caused by extreme or hazardous weather conditions that are forecasted or \n",
    "    manifest themselves on point of departure, enroute, or on point of arrival. \n"
   ]
  },
  {
   "cell_type": "code",
   "execution_count": null,
   "metadata": {
    "slideshow": {
     "slide_type": "subslide"
    }
   },
   "outputs": [],
   "source": [
    "flights.WeatherDelay.describe().round(3)"
   ]
  },
  {
   "cell_type": "markdown",
   "metadata": {
    "slideshow": {
     "slide_type": "subslide"
    }
   },
   "source": [
    "### 27. Flight dataset NASDelay column:\n",
    "    range :\tin minutes\n",
    "    Delay that is within the control of the National Airspace System (NAS) may include: \n",
    "    non-extreme weather conditions, airport operations, heavy traffic volume, air traffic control, etc.          "
   ]
  },
  {
   "cell_type": "code",
   "execution_count": null,
   "metadata": {
    "slideshow": {
     "slide_type": "subslide"
    }
   },
   "outputs": [],
   "source": [
    "flights.NASDelay.describe().round(3)"
   ]
  },
  {
   "cell_type": "markdown",
   "metadata": {
    "slideshow": {
     "slide_type": "subslide"
    }
   },
   "source": [
    "### 28. Flight dataset SecurityDelay column:\n",
    "    range :\tin minutes\n",
    "    Security delay is caused by evacuation of a terminal or concourse, re-boarding of aircraft because of security breach, inoperative screening equipment and/or long lines in excess of 29 minutes at screening areas."
   ]
  },
  {
   "cell_type": "code",
   "execution_count": null,
   "metadata": {
    "slideshow": {
     "slide_type": "subslide"
    }
   },
   "outputs": [],
   "source": [
    "flights.SecurityDelay.describe().round(3)"
   ]
  },
  {
   "cell_type": "markdown",
   "metadata": {
    "slideshow": {
     "slide_type": "subslide"
    }
   },
   "source": [
    "### 29. Flight dataset LateAircraftDelay column:\n",
    "    range :\tin minutes\n",
    "    Arrival delay at an airport due to the late arrival of the same aircraft at a previous airport. \n",
    "    The ripple effect of an earlier delay at downstream airports is referred to as delay propagation. "
   ]
  },
  {
   "cell_type": "code",
   "execution_count": null,
   "metadata": {
    "slideshow": {
     "slide_type": "subslide"
    }
   },
   "outputs": [],
   "source": [
    "flights.LateAircraftDelay.describe().round(3)"
   ]
  },
  {
   "cell_type": "markdown",
   "metadata": {
    "slideshow": {
     "slide_type": "subslide"
    }
   },
   "source": [
    "## correlation matrix"
   ]
  },
  {
   "cell_type": "code",
   "execution_count": null,
   "metadata": {
    "slideshow": {
     "slide_type": "subslide"
    }
   },
   "outputs": [],
   "source": [
    "corrmat = flights.corr()\n",
    "f, ax = plt.subplots(figsize=(15, 10))\n",
    "sns.heatmap(corrmat, vmin=-1, square=True, annot=True, fmt='.2f', cmap='vlag_r', center=0);"
   ]
  },
  {
   "cell_type": "markdown",
   "metadata": {
    "slideshow": {
     "slide_type": "skip"
    }
   },
   "source": [
    "## Saving cleaned data after romvoing outliers and duplicates"
   ]
  },
  {
   "cell_type": "code",
   "execution_count": 220,
   "metadata": {},
   "outputs": [
    {
     "data": {
      "text/plain": [
       "Index(['Year', 'Month', 'DayofMonth', 'DayOfWeek', 'DepTime', 'CRSDepTime',\n",
       "       'ArrTime', 'CRSArrTime', 'UniqueCarrier', 'FlightNum', 'TailNum',\n",
       "       'ActualElapsedTime', 'CRSElapsedTime', 'AirTime', 'ArrDelay',\n",
       "       'DepDelay', 'Origin', 'Dest', 'Distance', 'TaxiIn', 'TaxiOut',\n",
       "       'CarrierDelay', 'WeatherDelay', 'NASDelay', 'SecurityDelay',\n",
       "       'LateAircraftDelay', 'ActualElapsedTimePmile', 'CRSElapsedTimePmile',\n",
       "       'AirTimePmile'],\n",
       "      dtype='object')"
      ]
     },
     "execution_count": 220,
     "metadata": {},
     "output_type": "execute_result"
    }
   ],
   "source": [
    "flights.columns"
   ]
  },
  {
   "cell_type": "code",
   "execution_count": 221,
   "metadata": {},
   "outputs": [
    {
     "data": {
      "text/html": [
       "<div>\n",
       "<style scoped>\n",
       "    .dataframe tbody tr th:only-of-type {\n",
       "        vertical-align: middle;\n",
       "    }\n",
       "\n",
       "    .dataframe tbody tr th {\n",
       "        vertical-align: top;\n",
       "    }\n",
       "\n",
       "    .dataframe thead th {\n",
       "        text-align: right;\n",
       "    }\n",
       "</style>\n",
       "<table border=\"1\" class=\"dataframe\">\n",
       "  <thead>\n",
       "    <tr style=\"text-align: right;\">\n",
       "      <th></th>\n",
       "      <th>Year</th>\n",
       "      <th>TaxiIn</th>\n",
       "      <th>TaxiOut</th>\n",
       "      <th>ActualElapsedTimePmile</th>\n",
       "      <th>CRSElapsedTimePmile</th>\n",
       "      <th>AirTimePmile</th>\n",
       "    </tr>\n",
       "  </thead>\n",
       "  <tbody>\n",
       "    <tr>\n",
       "      <th>0</th>\n",
       "      <td>2008</td>\n",
       "      <td>4</td>\n",
       "      <td>8</td>\n",
       "      <td>0.158025</td>\n",
       "      <td>0.185185</td>\n",
       "      <td>0.143210</td>\n",
       "    </tr>\n",
       "    <tr>\n",
       "      <th>2</th>\n",
       "      <td>2008</td>\n",
       "      <td>3</td>\n",
       "      <td>17</td>\n",
       "      <td>0.186408</td>\n",
       "      <td>0.174757</td>\n",
       "      <td>0.147573</td>\n",
       "    </tr>\n",
       "    <tr>\n",
       "      <th>3</th>\n",
       "      <td>2008</td>\n",
       "      <td>3</td>\n",
       "      <td>7</td>\n",
       "      <td>0.170874</td>\n",
       "      <td>0.174757</td>\n",
       "      <td>0.151456</td>\n",
       "    </tr>\n",
       "    <tr>\n",
       "      <th>7</th>\n",
       "      <td>2008</td>\n",
       "      <td>7</td>\n",
       "      <td>7</td>\n",
       "      <td>0.146449</td>\n",
       "      <td>0.157134</td>\n",
       "      <td>0.137649</td>\n",
       "    </tr>\n",
       "    <tr>\n",
       "      <th>8</th>\n",
       "      <td>2008</td>\n",
       "      <td>6</td>\n",
       "      <td>19</td>\n",
       "      <td>0.210643</td>\n",
       "      <td>0.210643</td>\n",
       "      <td>0.155211</td>\n",
       "    </tr>\n",
       "    <tr>\n",
       "      <th>...</th>\n",
       "      <td>...</td>\n",
       "      <td>...</td>\n",
       "      <td>...</td>\n",
       "      <td>...</td>\n",
       "      <td>...</td>\n",
       "      <td>...</td>\n",
       "    </tr>\n",
       "    <tr>\n",
       "      <th>7009719</th>\n",
       "      <td>2008</td>\n",
       "      <td>14</td>\n",
       "      <td>26</td>\n",
       "      <td>0.333333</td>\n",
       "      <td>0.270370</td>\n",
       "      <td>0.185185</td>\n",
       "    </tr>\n",
       "    <tr>\n",
       "      <th>7009721</th>\n",
       "      <td>2008</td>\n",
       "      <td>5</td>\n",
       "      <td>23</td>\n",
       "      <td>0.239927</td>\n",
       "      <td>0.205128</td>\n",
       "      <td>0.188645</td>\n",
       "    </tr>\n",
       "    <tr>\n",
       "      <th>7009724</th>\n",
       "      <td>2008</td>\n",
       "      <td>5</td>\n",
       "      <td>23</td>\n",
       "      <td>0.191076</td>\n",
       "      <td>0.192220</td>\n",
       "      <td>0.159039</td>\n",
       "    </tr>\n",
       "    <tr>\n",
       "      <th>7009726</th>\n",
       "      <td>2008</td>\n",
       "      <td>13</td>\n",
       "      <td>13</td>\n",
       "      <td>0.215760</td>\n",
       "      <td>0.219512</td>\n",
       "      <td>0.166979</td>\n",
       "    </tr>\n",
       "    <tr>\n",
       "      <th>7009727</th>\n",
       "      <td>2008</td>\n",
       "      <td>8</td>\n",
       "      <td>11</td>\n",
       "      <td>0.140732</td>\n",
       "      <td>0.154462</td>\n",
       "      <td>0.118993</td>\n",
       "    </tr>\n",
       "  </tbody>\n",
       "</table>\n",
       "<p>4598311 rows × 6 columns</p>\n",
       "</div>"
      ],
      "text/plain": [
       "         Year  TaxiIn  TaxiOut  ActualElapsedTimePmile  CRSElapsedTimePmile  \\\n",
       "0        2008       4        8                0.158025             0.185185   \n",
       "2        2008       3       17                0.186408             0.174757   \n",
       "3        2008       3        7                0.170874             0.174757   \n",
       "7        2008       7        7                0.146449             0.157134   \n",
       "8        2008       6       19                0.210643             0.210643   \n",
       "...       ...     ...      ...                     ...                  ...   \n",
       "7009719  2008      14       26                0.333333             0.270370   \n",
       "7009721  2008       5       23                0.239927             0.205128   \n",
       "7009724  2008       5       23                0.191076             0.192220   \n",
       "7009726  2008      13       13                0.215760             0.219512   \n",
       "7009727  2008       8       11                0.140732             0.154462   \n",
       "\n",
       "         AirTimePmile  \n",
       "0            0.143210  \n",
       "2            0.147573  \n",
       "3            0.151456  \n",
       "7            0.137649  \n",
       "8            0.155211  \n",
       "...               ...  \n",
       "7009719      0.185185  \n",
       "7009721      0.188645  \n",
       "7009724      0.159039  \n",
       "7009726      0.166979  \n",
       "7009727      0.118993  \n",
       "\n",
       "[4598311 rows x 6 columns]"
      ]
     },
     "execution_count": 221,
     "metadata": {},
     "output_type": "execute_result"
    }
   ],
   "source": [
    "# drop some columns\n",
    "flights = flights['Month', 'DayofMonth', 'DayOfWeek', 'DepTime', 'CRSDepTime',\n",
    "       'ArrTime', 'CRSArrTime', 'UniqueCarrier', 'FlightNum', 'TailNum',\n",
    "       'ActualElapsedTime', 'CRSElapsedTime', 'AirTime', 'ArrDelay',\n",
    "       'DepDelay', 'Origin', 'Dest', 'Distance', 'CarrierDelay', 'WeatherDelay', 'NASDelay', 'SecurityDelay',\n",
    "       'LateAircraftDelay']"
   ]
  },
  {
   "cell_type": "code",
   "execution_count": null,
   "metadata": {
    "slideshow": {
     "slide_type": "skip"
    }
   },
   "outputs": [],
   "source": [
    "# saving data\n",
    "t1 = time.time()\n",
    "flights.to_csv('../data/processed/{}.csv'.format('flights'), index=False)\n",
    "t2 = time.time()\n",
    "print('Elapsed saving time :', t2-t1)"
   ]
  },
  {
   "cell_type": "code",
   "execution_count": null,
   "metadata": {},
   "outputs": [],
   "source": [
    "cancelled.columns"
   ]
  },
  {
   "cell_type": "code",
   "execution_count": null,
   "metadata": {},
   "outputs": [],
   "source": [
    "# drop some columns\n",
    "cancelled = cancelled['Month', 'DayofMonth', 'DayOfWeek', 'DepTime', 'CRSDepTime',\n",
    "       'ArrTime', 'CRSArrTime', 'UniqueCarrier', 'FlightNum', 'TailNum',\n",
    "       'ActualElapsedTime', 'CRSElapsedTime', 'AirTime', 'ArrDelay',\n",
    "       'DepDelay', 'Origin', 'Dest', 'Distance', 'CarrierDelay', 'WeatherDelay', 'NASDelay', 'SecurityDelay',\n",
    "       'LateAircraftDelay']"
   ]
  },
  {
   "cell_type": "code",
   "execution_count": null,
   "metadata": {},
   "outputs": [],
   "source": [
    "# saving data\n",
    "t1 = time.time()\n",
    "cancelled.to_csv('../data/processed/{}.csv'.format('cancelled'), index=False)\n",
    "t2 = time.time()\n",
    "print('Elapsed saving time :', t2-t1)"
   ]
  },
  {
   "cell_type": "code",
   "execution_count": null,
   "metadata": {},
   "outputs": [],
   "source": [
    "diverted.columns"
   ]
  },
  {
   "cell_type": "code",
   "execution_count": null,
   "metadata": {},
   "outputs": [],
   "source": [
    "# drop some columns\n",
    "diverted = diverted['Month', 'DayofMonth', 'DayOfWeek', 'DepTime', 'CRSDepTime',\n",
    "       'ArrTime', 'CRSArrTime', 'UniqueCarrier', 'FlightNum', 'TailNum',\n",
    "       'ActualElapsedTime', 'CRSElapsedTime', 'AirTime', 'ArrDelay',\n",
    "       'DepDelay', 'Origin', 'Dest', 'Distance', 'CarrierDelay', 'WeatherDelay', 'NASDelay', 'SecurityDelay',\n",
    "       'LateAircraftDelay']"
   ]
  },
  {
   "cell_type": "code",
   "execution_count": null,
   "metadata": {},
   "outputs": [],
   "source": [
    "# saving data\n",
    "t1 = time.time()\n",
    "diverted.to_csv('../data/processed/{}.csv'.format('diverted'), index=False)\n",
    "t2 = time.time()\n",
    "print('Elapsed saving time :', t2-t1)"
   ]
  },
  {
   "cell_type": "markdown",
   "metadata": {
    "slideshow": {
     "slide_type": "slide"
    }
   },
   "source": [
    "## 01. Which Airlines have the longest delays"
   ]
  },
  {
   "cell_type": "code",
   "execution_count": 130,
   "metadata": {},
   "outputs": [],
   "source": [
    "longest = flights[flights['ArrDelay']>0].groupby('UniqueCarrier')\\\n",
    "                .agg(DepDelayMean=('DepDelay', 'mean'), ArrDelayMean=('ArrDelay', 'mean'))\\\n",
    "                .sort_values('ArrDelayMean', ascending=False)"
   ]
  },
  {
   "cell_type": "code",
   "execution_count": 131,
   "metadata": {
    "slideshow": {
     "slide_type": "slide"
    }
   },
   "outputs": [
    {
     "data": {
      "image/png": "[encoded data removed]",
      "text/plain": [
       "<Figure size 720x504 with 1 Axes>"
      ]
     },
     "metadata": {
      "needs_background": "light"
     },
     "output_type": "display_data"
    }
   ],
   "source": [
    "plt.figure(figsize=(10,7))\n",
    "ax = plt.gca()\n",
    "ax.spines[\"top\"].set_visible(False)\n",
    "ax.spines[\"right\"].set_visible(False)\n",
    "ax.spines[\"left\"].set_visible(False)\n",
    "longest.plot.bar(ax=ax);\n",
    "plt.ylabel('Mintes')\n",
    "plt.grid()"
   ]
  },
  {
   "cell_type": "markdown",
   "metadata": {
    "slideshow": {
     "slide_type": "slide"
    }
   },
   "source": [
    "WN was the worste airline for departures, while AS,NW was the worst for arrivals."
   ]
  },
  {
   "cell_type": "markdown",
   "metadata": {
    "slideshow": {
     "slide_type": "slide"
    }
   },
   "source": [
    "## 02.What is the worst time of day to travel?"
   ]
  },
  {
   "cell_type": "code",
   "execution_count": 132,
   "metadata": {},
   "outputs": [],
   "source": [
    "flights['hours'] = pd.to_datetime(flights['CRSDepTime'], format='%I:%M %p').dt.hour\n",
    "flights['minutes'] = pd.to_datetime(flights['CRSDepTime'], format='%I:%M %p').dt.minute\n",
    "flights = flights.sort_values(['hours', 'minutes'])\n",
    "flights = flights.drop(columns=['minutes'])\n",
    "df = flights[(flights['ArrDelay'] > 15)].groupby('hours')\\\n",
    "                .agg(ArrDelayCount=('ArrDelay', 'count'), ArrDelaysum=('ArrDelay', sum)) \n",
    "df = df.reset_index()"
   ]
  },
  {
   "cell_type": "code",
   "execution_count": 133,
   "metadata": {},
   "outputs": [],
   "source": [
    "df['ArrDelayAvg'] = (df['ArrDelaysum']/df['ArrDelayCount']).round(2)"
   ]
  },
  {
   "cell_type": "code",
   "execution_count": 134,
   "metadata": {},
   "outputs": [
    {
     "data": {
      "text/html": [
       "<div>\n",
       "<style scoped>\n",
       "    .dataframe tbody tr th:only-of-type {\n",
       "        vertical-align: middle;\n",
       "    }\n",
       "\n",
       "    .dataframe tbody tr th {\n",
       "        vertical-align: top;\n",
       "    }\n",
       "\n",
       "    .dataframe thead th {\n",
       "        text-align: right;\n",
       "    }\n",
       "</style>\n",
       "<table border=\"1\" class=\"dataframe\">\n",
       "  <thead>\n",
       "    <tr style=\"text-align: right;\">\n",
       "      <th></th>\n",
       "      <th>hours</th>\n",
       "      <th>ArrDelayCount</th>\n",
       "      <th>ArrDelaysum</th>\n",
       "      <th>ArrDelayAvg</th>\n",
       "    </tr>\n",
       "  </thead>\n",
       "  <tbody>\n",
       "    <tr>\n",
       "      <th>0</th>\n",
       "      <td>0</td>\n",
       "      <td>1328</td>\n",
       "      <td>10528</td>\n",
       "      <td>7.93</td>\n",
       "    </tr>\n",
       "    <tr>\n",
       "      <th>1</th>\n",
       "      <td>1</td>\n",
       "      <td>303</td>\n",
       "      <td>2568</td>\n",
       "      <td>8.48</td>\n",
       "    </tr>\n",
       "    <tr>\n",
       "      <th>2</th>\n",
       "      <td>2</td>\n",
       "      <td>75</td>\n",
       "      <td>657</td>\n",
       "      <td>8.76</td>\n",
       "    </tr>\n",
       "    <tr>\n",
       "      <th>3</th>\n",
       "      <td>3</td>\n",
       "      <td>65</td>\n",
       "      <td>368</td>\n",
       "      <td>5.66</td>\n",
       "    </tr>\n",
       "    <tr>\n",
       "      <th>4</th>\n",
       "      <td>4</td>\n",
       "      <td>159</td>\n",
       "      <td>1075</td>\n",
       "      <td>6.76</td>\n",
       "    </tr>\n",
       "    <tr>\n",
       "      <th>5</th>\n",
       "      <td>5</td>\n",
       "      <td>9974</td>\n",
       "      <td>76967</td>\n",
       "      <td>7.72</td>\n",
       "    </tr>\n",
       "    <tr>\n",
       "      <th>6</th>\n",
       "      <td>6</td>\n",
       "      <td>95883</td>\n",
       "      <td>728478</td>\n",
       "      <td>7.60</td>\n",
       "    </tr>\n",
       "    <tr>\n",
       "      <th>7</th>\n",
       "      <td>7</td>\n",
       "      <td>80283</td>\n",
       "      <td>620549</td>\n",
       "      <td>7.73</td>\n",
       "    </tr>\n",
       "    <tr>\n",
       "      <th>8</th>\n",
       "      <td>8</td>\n",
       "      <td>77599</td>\n",
       "      <td>599668</td>\n",
       "      <td>7.73</td>\n",
       "    </tr>\n",
       "    <tr>\n",
       "      <th>9</th>\n",
       "      <td>9</td>\n",
       "      <td>74905</td>\n",
       "      <td>567304</td>\n",
       "      <td>7.57</td>\n",
       "    </tr>\n",
       "    <tr>\n",
       "      <th>10</th>\n",
       "      <td>10</td>\n",
       "      <td>78804</td>\n",
       "      <td>598151</td>\n",
       "      <td>7.59</td>\n",
       "    </tr>\n",
       "    <tr>\n",
       "      <th>11</th>\n",
       "      <td>11</td>\n",
       "      <td>83836</td>\n",
       "      <td>660350</td>\n",
       "      <td>7.88</td>\n",
       "    </tr>\n",
       "    <tr>\n",
       "      <th>12</th>\n",
       "      <td>12</td>\n",
       "      <td>78274</td>\n",
       "      <td>622896</td>\n",
       "      <td>7.96</td>\n",
       "    </tr>\n",
       "    <tr>\n",
       "      <th>13</th>\n",
       "      <td>13</td>\n",
       "      <td>82112</td>\n",
       "      <td>650460</td>\n",
       "      <td>7.92</td>\n",
       "    </tr>\n",
       "    <tr>\n",
       "      <th>14</th>\n",
       "      <td>14</td>\n",
       "      <td>75635</td>\n",
       "      <td>600414</td>\n",
       "      <td>7.94</td>\n",
       "    </tr>\n",
       "    <tr>\n",
       "      <th>15</th>\n",
       "      <td>15</td>\n",
       "      <td>70541</td>\n",
       "      <td>558287</td>\n",
       "      <td>7.91</td>\n",
       "    </tr>\n",
       "    <tr>\n",
       "      <th>16</th>\n",
       "      <td>16</td>\n",
       "      <td>70584</td>\n",
       "      <td>558168</td>\n",
       "      <td>7.91</td>\n",
       "    </tr>\n",
       "    <tr>\n",
       "      <th>17</th>\n",
       "      <td>17</td>\n",
       "      <td>68001</td>\n",
       "      <td>546753</td>\n",
       "      <td>8.04</td>\n",
       "    </tr>\n",
       "    <tr>\n",
       "      <th>18</th>\n",
       "      <td>18</td>\n",
       "      <td>60832</td>\n",
       "      <td>487766</td>\n",
       "      <td>8.02</td>\n",
       "    </tr>\n",
       "    <tr>\n",
       "      <th>19</th>\n",
       "      <td>19</td>\n",
       "      <td>61034</td>\n",
       "      <td>479519</td>\n",
       "      <td>7.86</td>\n",
       "    </tr>\n",
       "    <tr>\n",
       "      <th>20</th>\n",
       "      <td>20</td>\n",
       "      <td>40328</td>\n",
       "      <td>307118</td>\n",
       "      <td>7.62</td>\n",
       "    </tr>\n",
       "    <tr>\n",
       "      <th>21</th>\n",
       "      <td>21</td>\n",
       "      <td>41791</td>\n",
       "      <td>328945</td>\n",
       "      <td>7.87</td>\n",
       "    </tr>\n",
       "    <tr>\n",
       "      <th>22</th>\n",
       "      <td>22</td>\n",
       "      <td>11084</td>\n",
       "      <td>84851</td>\n",
       "      <td>7.66</td>\n",
       "    </tr>\n",
       "    <tr>\n",
       "      <th>23</th>\n",
       "      <td>23</td>\n",
       "      <td>2789</td>\n",
       "      <td>19460</td>\n",
       "      <td>6.98</td>\n",
       "    </tr>\n",
       "  </tbody>\n",
       "</table>\n",
       "</div>"
      ],
      "text/plain": [
       "    hours  ArrDelayCount  ArrDelaysum  ArrDelayAvg\n",
       "0       0           1328        10528         7.93\n",
       "1       1            303         2568         8.48\n",
       "2       2             75          657         8.76\n",
       "3       3             65          368         5.66\n",
       "4       4            159         1075         6.76\n",
       "5       5           9974        76967         7.72\n",
       "6       6          95883       728478         7.60\n",
       "7       7          80283       620549         7.73\n",
       "8       8          77599       599668         7.73\n",
       "9       9          74905       567304         7.57\n",
       "10     10          78804       598151         7.59\n",
       "11     11          83836       660350         7.88\n",
       "12     12          78274       622896         7.96\n",
       "13     13          82112       650460         7.92\n",
       "14     14          75635       600414         7.94\n",
       "15     15          70541       558287         7.91\n",
       "16     16          70584       558168         7.91\n",
       "17     17          68001       546753         8.04\n",
       "18     18          60832       487766         8.02\n",
       "19     19          61034       479519         7.86\n",
       "20     20          40328       307118         7.62\n",
       "21     21          41791       328945         7.87\n",
       "22     22          11084        84851         7.66\n",
       "23     23           2789        19460         6.98"
      ]
     },
     "execution_count": 134,
     "metadata": {},
     "output_type": "execute_result"
    }
   ],
   "source": [
    "df"
   ]
  },
  {
   "cell_type": "code",
   "execution_count": 135,
   "metadata": {},
   "outputs": [
    {
     "data": {
      "image/png": "[encoded data removed]",
      "text/plain": [
       "<Figure size 432x288 with 2 Axes>"
      ]
     },
     "metadata": {
      "needs_background": "light"
     },
     "output_type": "display_data"
    }
   ],
   "source": [
    "plt.scatter(data = df, x='hours', y='ArrDelayCount', c='ArrDelayAvg',cmap='mako_r');\n",
    "plt.colorbar();"
   ]
  },
  {
   "cell_type": "code",
   "execution_count": 136,
   "metadata": {
    "slideshow": {
     "slide_type": "slide"
    }
   },
   "outputs": [
    {
     "data": {
      "image/png": "[encoded data removed]",
      "text/plain": [
       "<Figure size 432x288 with 1 Axes>"
      ]
     },
     "metadata": {
      "needs_background": "light"
     },
     "output_type": "display_data"
    }
   ],
   "source": [
    "sns.lineplot(data = df, x='hours', y='ArrDelayCount');\n",
    "plt.grid()"
   ]
  },
  {
   "cell_type": "code",
   "execution_count": 137,
   "metadata": {
    "slideshow": {
     "slide_type": "slide"
    }
   },
   "outputs": [
    {
     "data": {
      "image/png": "[encoded data removed]",
      "text/plain": [
       "<Figure size 720x504 with 1 Axes>"
      ]
     },
     "metadata": {
      "needs_background": "light"
     },
     "output_type": "display_data"
    }
   ],
   "source": [
    "plt.figure(figsize=(10,7))\n",
    "ax = plt.gca()\n",
    "ax.spines[\"top\"].set_visible(False)\n",
    "ax.spines[\"right\"].set_visible(False)\n",
    "ax.spines[\"left\"].set_visible(False)\n",
    "df.plot.bar(ax=ax);\n",
    "plt.ylabel('count')\n",
    "plt.yscale('log')\n",
    "plt.grid()"
   ]
  },
  {
   "cell_type": "markdown",
   "metadata": {
    "slideshow": {
     "slide_type": "slide"
    }
   },
   "source": [
    "the worst dealy around 06 AM"
   ]
  },
  {
   "cell_type": "markdown",
   "metadata": {
    "slideshow": {
     "slide_type": "slide"
    }
   },
   "source": [
    "## 03. Flight delay reasons and how much they contribute to the number of delayed flights"
   ]
  },
  {
   "cell_type": "code",
   "execution_count": 141,
   "metadata": {},
   "outputs": [],
   "source": [
    "df_row = pd.merge(flights.groupby(['UniqueCarrier']).agg(UniqueCarrierCount=('UniqueCarrier', 'count')), \n",
    "                  flights[(flights['ArrDelay'] > 15)].groupby(['UniqueCarrier']).agg(ArrDelaycount=('ArrDelay', 'count')),\n",
    "                  on='UniqueCarrier', how='inner')"
   ]
  },
  {
   "cell_type": "code",
   "execution_count": 142,
   "metadata": {},
   "outputs": [],
   "source": [
    "df_delay = flights[(flights['ArrDelay'] > 15)]"
   ]
  },
  {
   "cell_type": "code",
   "execution_count": 143,
   "metadata": {},
   "outputs": [],
   "source": [
    "df_delay = df_delay[(flights['LateAircraftDelay'] != 0) | (flights['SecurityDelay'] != 0) |\n",
    "        (flights['NASDelay'] != 0) | (flights['WeatherDelay'] != 0) | \n",
    "        (flights['CarrierDelay'] != 0) | (flights['WeatherDelay'] != 0)]"
   ]
  },
  {
   "cell_type": "code",
   "execution_count": 144,
   "metadata": {},
   "outputs": [],
   "source": [
    "df_delay['LateAircraftDelay'] = df_delay['LateAircraftDelay'].apply(lambda x: 1 if x else 0)\n",
    "df_delay['SecurityDelay'] = df_delay['SecurityDelay'].apply(lambda x: 1 if x else 0)\n",
    "df_delay['NASDelay'] = df_delay['NASDelay'].apply(lambda x: 1 if x else 0)\n",
    "df_delay['WeatherDelay'] = df_delay['WeatherDelay'].apply(lambda x: 1 if x else 0)\n",
    "df_delay['CarrierDelay'] = df_delay['CarrierDelay'].apply(lambda x: 1 if x else 0)"
   ]
  },
  {
   "cell_type": "code",
   "execution_count": 145,
   "metadata": {},
   "outputs": [],
   "source": [
    "df_delay = df_delay.groupby(['UniqueCarrier']).agg(\n",
    "    # Get count of the column for each group\n",
    "    LateAircraftDelayCount=('LateAircraftDelay', sum),\n",
    "    # Get count of the column for each group\n",
    "    SecurityDelayCount=('SecurityDelay', sum),\n",
    "    # Get count of the column for each group\n",
    "    NASDelayCount=('NASDelay', sum),\n",
    "    # Get count of the column for each group\n",
    "    WeatherDelayCount=('WeatherDelay', sum),\n",
    "    # Get count of the column for each group\n",
    "    CarrierDelayCount=('CarrierDelay', sum),   \n",
    ")"
   ]
  },
  {
   "cell_type": "code",
   "execution_count": 146,
   "metadata": {},
   "outputs": [
    {
     "data": {
      "text/html": [
       "<div>\n",
       "<style scoped>\n",
       "    .dataframe tbody tr th:only-of-type {\n",
       "        vertical-align: middle;\n",
       "    }\n",
       "\n",
       "    .dataframe tbody tr th {\n",
       "        vertical-align: top;\n",
       "    }\n",
       "\n",
       "    .dataframe thead th {\n",
       "        text-align: right;\n",
       "    }\n",
       "</style>\n",
       "<table border=\"1\" class=\"dataframe\">\n",
       "  <thead>\n",
       "    <tr style=\"text-align: right;\">\n",
       "      <th></th>\n",
       "      <th>LateAircraftDelayCount</th>\n",
       "      <th>SecurityDelayCount</th>\n",
       "      <th>NASDelayCount</th>\n",
       "      <th>WeatherDelayCount</th>\n",
       "      <th>CarrierDelayCount</th>\n",
       "      <th>UniqueCarrierCount</th>\n",
       "      <th>ArrDelaycount</th>\n",
       "    </tr>\n",
       "    <tr>\n",
       "      <th>UniqueCarrier</th>\n",
       "      <th></th>\n",
       "      <th></th>\n",
       "      <th></th>\n",
       "      <th></th>\n",
       "      <th></th>\n",
       "      <th></th>\n",
       "      <th></th>\n",
       "    </tr>\n",
       "  </thead>\n",
       "  <tbody>\n",
       "    <tr>\n",
       "      <th>9E</th>\n",
       "      <td>661</td>\n",
       "      <td>7</td>\n",
       "      <td>4185</td>\n",
       "      <td>155</td>\n",
       "      <td>1032</td>\n",
       "      <td>177627</td>\n",
       "      <td>31574</td>\n",
       "    </tr>\n",
       "    <tr>\n",
       "      <th>AA</th>\n",
       "      <td>3125</td>\n",
       "      <td>18</td>\n",
       "      <td>15913</td>\n",
       "      <td>536</td>\n",
       "      <td>4864</td>\n",
       "      <td>340780</td>\n",
       "      <td>96860</td>\n",
       "    </tr>\n",
       "    <tr>\n",
       "      <th>AQ</th>\n",
       "      <td>14</td>\n",
       "      <td>2</td>\n",
       "      <td>2</td>\n",
       "      <td>0</td>\n",
       "      <td>29</td>\n",
       "      <td>6519</td>\n",
       "      <td>1324</td>\n",
       "    </tr>\n",
       "    <tr>\n",
       "      <th>AS</th>\n",
       "      <td>1129</td>\n",
       "      <td>55</td>\n",
       "      <td>5721</td>\n",
       "      <td>68</td>\n",
       "      <td>1417</td>\n",
       "      <td>106312</td>\n",
       "      <td>30643</td>\n",
       "    </tr>\n",
       "    <tr>\n",
       "      <th>B6</th>\n",
       "      <td>786</td>\n",
       "      <td>16</td>\n",
       "      <td>3631</td>\n",
       "      <td>12</td>\n",
       "      <td>1085</td>\n",
       "      <td>102867</td>\n",
       "      <td>21414</td>\n",
       "    </tr>\n",
       "    <tr>\n",
       "      <th>CO</th>\n",
       "      <td>573</td>\n",
       "      <td>128</td>\n",
       "      <td>6068</td>\n",
       "      <td>172</td>\n",
       "      <td>1810</td>\n",
       "      <td>162159</td>\n",
       "      <td>43855</td>\n",
       "    </tr>\n",
       "    <tr>\n",
       "      <th>DL</th>\n",
       "      <td>2573</td>\n",
       "      <td>0</td>\n",
       "      <td>10144</td>\n",
       "      <td>131</td>\n",
       "      <td>2885</td>\n",
       "      <td>249612</td>\n",
       "      <td>70357</td>\n",
       "    </tr>\n",
       "    <tr>\n",
       "      <th>EV</th>\n",
       "      <td>987</td>\n",
       "      <td>38</td>\n",
       "      <td>5698</td>\n",
       "      <td>239</td>\n",
       "      <td>2444</td>\n",
       "      <td>184023</td>\n",
       "      <td>42531</td>\n",
       "    </tr>\n",
       "    <tr>\n",
       "      <th>F9</th>\n",
       "      <td>1177</td>\n",
       "      <td>0</td>\n",
       "      <td>4698</td>\n",
       "      <td>141</td>\n",
       "      <td>2424</td>\n",
       "      <td>73843</td>\n",
       "      <td>27340</td>\n",
       "    </tr>\n",
       "    <tr>\n",
       "      <th>FL</th>\n",
       "      <td>2282</td>\n",
       "      <td>0</td>\n",
       "      <td>8862</td>\n",
       "      <td>76</td>\n",
       "      <td>3103</td>\n",
       "      <td>184947</td>\n",
       "      <td>54919</td>\n",
       "    </tr>\n",
       "    <tr>\n",
       "      <th>HA</th>\n",
       "      <td>368</td>\n",
       "      <td>0</td>\n",
       "      <td>13</td>\n",
       "      <td>48</td>\n",
       "      <td>448</td>\n",
       "      <td>47723</td>\n",
       "      <td>10330</td>\n",
       "    </tr>\n",
       "    <tr>\n",
       "      <th>MQ</th>\n",
       "      <td>3215</td>\n",
       "      <td>10</td>\n",
       "      <td>9979</td>\n",
       "      <td>458</td>\n",
       "      <td>2981</td>\n",
       "      <td>328469</td>\n",
       "      <td>77260</td>\n",
       "    </tr>\n",
       "    <tr>\n",
       "      <th>NW</th>\n",
       "      <td>1483</td>\n",
       "      <td>39</td>\n",
       "      <td>12667</td>\n",
       "      <td>218</td>\n",
       "      <td>4347</td>\n",
       "      <td>233742</td>\n",
       "      <td>70043</td>\n",
       "    </tr>\n",
       "    <tr>\n",
       "      <th>OH</th>\n",
       "      <td>104</td>\n",
       "      <td>10</td>\n",
       "      <td>6240</td>\n",
       "      <td>721</td>\n",
       "      <td>2292</td>\n",
       "      <td>119626</td>\n",
       "      <td>36820</td>\n",
       "    </tr>\n",
       "    <tr>\n",
       "      <th>OO</th>\n",
       "      <td>4531</td>\n",
       "      <td>122</td>\n",
       "      <td>9288</td>\n",
       "      <td>347</td>\n",
       "      <td>5901</td>\n",
       "      <td>429857</td>\n",
       "      <td>106380</td>\n",
       "    </tr>\n",
       "    <tr>\n",
       "      <th>UA</th>\n",
       "      <td>1923</td>\n",
       "      <td>0</td>\n",
       "      <td>8564</td>\n",
       "      <td>145</td>\n",
       "      <td>2537</td>\n",
       "      <td>237746</td>\n",
       "      <td>55197</td>\n",
       "    </tr>\n",
       "    <tr>\n",
       "      <th>US</th>\n",
       "      <td>1835</td>\n",
       "      <td>58</td>\n",
       "      <td>9237</td>\n",
       "      <td>125</td>\n",
       "      <td>4057</td>\n",
       "      <td>287174</td>\n",
       "      <td>58652</td>\n",
       "    </tr>\n",
       "    <tr>\n",
       "      <th>WN</th>\n",
       "      <td>9086</td>\n",
       "      <td>295</td>\n",
       "      <td>20466</td>\n",
       "      <td>419</td>\n",
       "      <td>7731</td>\n",
       "      <td>899734</td>\n",
       "      <td>218005</td>\n",
       "    </tr>\n",
       "    <tr>\n",
       "      <th>XE</th>\n",
       "      <td>2019</td>\n",
       "      <td>192</td>\n",
       "      <td>10956</td>\n",
       "      <td>325</td>\n",
       "      <td>3014</td>\n",
       "      <td>254882</td>\n",
       "      <td>67731</td>\n",
       "    </tr>\n",
       "    <tr>\n",
       "      <th>YV</th>\n",
       "      <td>464</td>\n",
       "      <td>47</td>\n",
       "      <td>2860</td>\n",
       "      <td>126</td>\n",
       "      <td>2869</td>\n",
       "      <td>170669</td>\n",
       "      <td>44984</td>\n",
       "    </tr>\n",
       "  </tbody>\n",
       "</table>\n",
       "</div>"
      ],
      "text/plain": [
       "               LateAircraftDelayCount  SecurityDelayCount  NASDelayCount  \\\n",
       "UniqueCarrier                                                              \n",
       "9E                                661                   7           4185   \n",
       "AA                               3125                  18          15913   \n",
       "AQ                                 14                   2              2   \n",
       "AS                               1129                  55           5721   \n",
       "B6                                786                  16           3631   \n",
       "CO                                573                 128           6068   \n",
       "DL                               2573                   0          10144   \n",
       "EV                                987                  38           5698   \n",
       "F9                               1177                   0           4698   \n",
       "FL                               2282                   0           8862   \n",
       "HA                                368                   0             13   \n",
       "MQ                               3215                  10           9979   \n",
       "NW                               1483                  39          12667   \n",
       "OH                                104                  10           6240   \n",
       "OO                               4531                 122           9288   \n",
       "UA                               1923                   0           8564   \n",
       "US                               1835                  58           9237   \n",
       "WN                               9086                 295          20466   \n",
       "XE                               2019                 192          10956   \n",
       "YV                                464                  47           2860   \n",
       "\n",
       "               WeatherDelayCount  CarrierDelayCount  UniqueCarrierCount  \\\n",
       "UniqueCarrier                                                             \n",
       "9E                           155               1032              177627   \n",
       "AA                           536               4864              340780   \n",
       "AQ                             0                 29                6519   \n",
       "AS                            68               1417              106312   \n",
       "B6                            12               1085              102867   \n",
       "CO                           172               1810              162159   \n",
       "DL                           131               2885              249612   \n",
       "EV                           239               2444              184023   \n",
       "F9                           141               2424               73843   \n",
       "FL                            76               3103              184947   \n",
       "HA                            48                448               47723   \n",
       "MQ                           458               2981              328469   \n",
       "NW                           218               4347              233742   \n",
       "OH                           721               2292              119626   \n",
       "OO                           347               5901              429857   \n",
       "UA                           145               2537              237746   \n",
       "US                           125               4057              287174   \n",
       "WN                           419               7731              899734   \n",
       "XE                           325               3014              254882   \n",
       "YV                           126               2869              170669   \n",
       "\n",
       "               ArrDelaycount  \n",
       "UniqueCarrier                 \n",
       "9E                     31574  \n",
       "AA                     96860  \n",
       "AQ                      1324  \n",
       "AS                     30643  \n",
       "B6                     21414  \n",
       "CO                     43855  \n",
       "DL                     70357  \n",
       "EV                     42531  \n",
       "F9                     27340  \n",
       "FL                     54919  \n",
       "HA                     10330  \n",
       "MQ                     77260  \n",
       "NW                     70043  \n",
       "OH                     36820  \n",
       "OO                    106380  \n",
       "UA                     55197  \n",
       "US                     58652  \n",
       "WN                    218005  \n",
       "XE                     67731  \n",
       "YV                     44984  "
      ]
     },
     "execution_count": 146,
     "metadata": {},
     "output_type": "execute_result"
    }
   ],
   "source": [
    "df_delay = pd.merge(df_delay, df_row,  on='UniqueCarrier', how='inner')\n",
    "df_delay"
   ]
  },
  {
   "cell_type": "code",
   "execution_count": 147,
   "metadata": {},
   "outputs": [
    {
     "data": {
      "image/png": "[encoded data removed]",
      "text/plain": [
       "<Figure size 1260x1260 with 56 Axes>"
      ]
     },
     "metadata": {
      "needs_background": "light"
     },
     "output_type": "display_data"
    }
   ],
   "source": [
    "sns.pairplot(df_delay, size = 2.5);"
   ]
  },
  {
   "cell_type": "code",
   "execution_count": 148,
   "metadata": {},
   "outputs": [
    {
     "data": {
      "image/png": "[encoded data removed]",
      "text/plain": [
       "<Figure size 1080x720 with 2 Axes>"
      ]
     },
     "metadata": {
      "needs_background": "light"
     },
     "output_type": "display_data"
    }
   ],
   "source": [
    "#correlation matrix\n",
    "corrmat = df_delay.corr()\n",
    "f, ax = plt.subplots(figsize=(15, 10))\n",
    "sns.heatmap(corrmat, vmin=-1, square=True, annot=True, fmt='.2f', cmap='vlag_r', center=0);"
   ]
  },
  {
   "cell_type": "code",
   "execution_count": 149,
   "metadata": {},
   "outputs": [],
   "source": [
    "df_delay['pct'] = (df_delay['ArrDelaycount'].astype(float)/df_delay['UniqueCarrierCount'].astype(float)).round(2)"
   ]
  },
  {
   "cell_type": "code",
   "execution_count": 150,
   "metadata": {},
   "outputs": [
    {
     "data": {
      "text/html": [
       "<div>\n",
       "<style scoped>\n",
       "    .dataframe tbody tr th:only-of-type {\n",
       "        vertical-align: middle;\n",
       "    }\n",
       "\n",
       "    .dataframe tbody tr th {\n",
       "        vertical-align: top;\n",
       "    }\n",
       "\n",
       "    .dataframe thead th {\n",
       "        text-align: right;\n",
       "    }\n",
       "</style>\n",
       "<table border=\"1\" class=\"dataframe\">\n",
       "  <thead>\n",
       "    <tr style=\"text-align: right;\">\n",
       "      <th></th>\n",
       "      <th>LateAircraftDelayCount</th>\n",
       "      <th>SecurityDelayCount</th>\n",
       "      <th>NASDelayCount</th>\n",
       "      <th>WeatherDelayCount</th>\n",
       "      <th>CarrierDelayCount</th>\n",
       "      <th>UniqueCarrierCount</th>\n",
       "      <th>ArrDelaycount</th>\n",
       "      <th>pct</th>\n",
       "    </tr>\n",
       "    <tr>\n",
       "      <th>UniqueCarrier</th>\n",
       "      <th></th>\n",
       "      <th></th>\n",
       "      <th></th>\n",
       "      <th></th>\n",
       "      <th></th>\n",
       "      <th></th>\n",
       "      <th></th>\n",
       "      <th></th>\n",
       "    </tr>\n",
       "  </thead>\n",
       "  <tbody>\n",
       "    <tr>\n",
       "      <th>9E</th>\n",
       "      <td>661</td>\n",
       "      <td>7</td>\n",
       "      <td>4185</td>\n",
       "      <td>155</td>\n",
       "      <td>1032</td>\n",
       "      <td>177627</td>\n",
       "      <td>31574</td>\n",
       "      <td>0.18</td>\n",
       "    </tr>\n",
       "    <tr>\n",
       "      <th>AA</th>\n",
       "      <td>3125</td>\n",
       "      <td>18</td>\n",
       "      <td>15913</td>\n",
       "      <td>536</td>\n",
       "      <td>4864</td>\n",
       "      <td>340780</td>\n",
       "      <td>96860</td>\n",
       "      <td>0.28</td>\n",
       "    </tr>\n",
       "    <tr>\n",
       "      <th>AQ</th>\n",
       "      <td>14</td>\n",
       "      <td>2</td>\n",
       "      <td>2</td>\n",
       "      <td>0</td>\n",
       "      <td>29</td>\n",
       "      <td>6519</td>\n",
       "      <td>1324</td>\n",
       "      <td>0.20</td>\n",
       "    </tr>\n",
       "    <tr>\n",
       "      <th>AS</th>\n",
       "      <td>1129</td>\n",
       "      <td>55</td>\n",
       "      <td>5721</td>\n",
       "      <td>68</td>\n",
       "      <td>1417</td>\n",
       "      <td>106312</td>\n",
       "      <td>30643</td>\n",
       "      <td>0.29</td>\n",
       "    </tr>\n",
       "    <tr>\n",
       "      <th>B6</th>\n",
       "      <td>786</td>\n",
       "      <td>16</td>\n",
       "      <td>3631</td>\n",
       "      <td>12</td>\n",
       "      <td>1085</td>\n",
       "      <td>102867</td>\n",
       "      <td>21414</td>\n",
       "      <td>0.21</td>\n",
       "    </tr>\n",
       "    <tr>\n",
       "      <th>CO</th>\n",
       "      <td>573</td>\n",
       "      <td>128</td>\n",
       "      <td>6068</td>\n",
       "      <td>172</td>\n",
       "      <td>1810</td>\n",
       "      <td>162159</td>\n",
       "      <td>43855</td>\n",
       "      <td>0.27</td>\n",
       "    </tr>\n",
       "    <tr>\n",
       "      <th>DL</th>\n",
       "      <td>2573</td>\n",
       "      <td>0</td>\n",
       "      <td>10144</td>\n",
       "      <td>131</td>\n",
       "      <td>2885</td>\n",
       "      <td>249612</td>\n",
       "      <td>70357</td>\n",
       "      <td>0.28</td>\n",
       "    </tr>\n",
       "    <tr>\n",
       "      <th>EV</th>\n",
       "      <td>987</td>\n",
       "      <td>38</td>\n",
       "      <td>5698</td>\n",
       "      <td>239</td>\n",
       "      <td>2444</td>\n",
       "      <td>184023</td>\n",
       "      <td>42531</td>\n",
       "      <td>0.23</td>\n",
       "    </tr>\n",
       "    <tr>\n",
       "      <th>F9</th>\n",
       "      <td>1177</td>\n",
       "      <td>0</td>\n",
       "      <td>4698</td>\n",
       "      <td>141</td>\n",
       "      <td>2424</td>\n",
       "      <td>73843</td>\n",
       "      <td>27340</td>\n",
       "      <td>0.37</td>\n",
       "    </tr>\n",
       "    <tr>\n",
       "      <th>FL</th>\n",
       "      <td>2282</td>\n",
       "      <td>0</td>\n",
       "      <td>8862</td>\n",
       "      <td>76</td>\n",
       "      <td>3103</td>\n",
       "      <td>184947</td>\n",
       "      <td>54919</td>\n",
       "      <td>0.30</td>\n",
       "    </tr>\n",
       "    <tr>\n",
       "      <th>HA</th>\n",
       "      <td>368</td>\n",
       "      <td>0</td>\n",
       "      <td>13</td>\n",
       "      <td>48</td>\n",
       "      <td>448</td>\n",
       "      <td>47723</td>\n",
       "      <td>10330</td>\n",
       "      <td>0.22</td>\n",
       "    </tr>\n",
       "    <tr>\n",
       "      <th>MQ</th>\n",
       "      <td>3215</td>\n",
       "      <td>10</td>\n",
       "      <td>9979</td>\n",
       "      <td>458</td>\n",
       "      <td>2981</td>\n",
       "      <td>328469</td>\n",
       "      <td>77260</td>\n",
       "      <td>0.24</td>\n",
       "    </tr>\n",
       "    <tr>\n",
       "      <th>NW</th>\n",
       "      <td>1483</td>\n",
       "      <td>39</td>\n",
       "      <td>12667</td>\n",
       "      <td>218</td>\n",
       "      <td>4347</td>\n",
       "      <td>233742</td>\n",
       "      <td>70043</td>\n",
       "      <td>0.30</td>\n",
       "    </tr>\n",
       "    <tr>\n",
       "      <th>OH</th>\n",
       "      <td>104</td>\n",
       "      <td>10</td>\n",
       "      <td>6240</td>\n",
       "      <td>721</td>\n",
       "      <td>2292</td>\n",
       "      <td>119626</td>\n",
       "      <td>36820</td>\n",
       "      <td>0.31</td>\n",
       "    </tr>\n",
       "    <tr>\n",
       "      <th>OO</th>\n",
       "      <td>4531</td>\n",
       "      <td>122</td>\n",
       "      <td>9288</td>\n",
       "      <td>347</td>\n",
       "      <td>5901</td>\n",
       "      <td>429857</td>\n",
       "      <td>106380</td>\n",
       "      <td>0.25</td>\n",
       "    </tr>\n",
       "    <tr>\n",
       "      <th>UA</th>\n",
       "      <td>1923</td>\n",
       "      <td>0</td>\n",
       "      <td>8564</td>\n",
       "      <td>145</td>\n",
       "      <td>2537</td>\n",
       "      <td>237746</td>\n",
       "      <td>55197</td>\n",
       "      <td>0.23</td>\n",
       "    </tr>\n",
       "    <tr>\n",
       "      <th>US</th>\n",
       "      <td>1835</td>\n",
       "      <td>58</td>\n",
       "      <td>9237</td>\n",
       "      <td>125</td>\n",
       "      <td>4057</td>\n",
       "      <td>287174</td>\n",
       "      <td>58652</td>\n",
       "      <td>0.20</td>\n",
       "    </tr>\n",
       "    <tr>\n",
       "      <th>WN</th>\n",
       "      <td>9086</td>\n",
       "      <td>295</td>\n",
       "      <td>20466</td>\n",
       "      <td>419</td>\n",
       "      <td>7731</td>\n",
       "      <td>899734</td>\n",
       "      <td>218005</td>\n",
       "      <td>0.24</td>\n",
       "    </tr>\n",
       "    <tr>\n",
       "      <th>XE</th>\n",
       "      <td>2019</td>\n",
       "      <td>192</td>\n",
       "      <td>10956</td>\n",
       "      <td>325</td>\n",
       "      <td>3014</td>\n",
       "      <td>254882</td>\n",
       "      <td>67731</td>\n",
       "      <td>0.27</td>\n",
       "    </tr>\n",
       "    <tr>\n",
       "      <th>YV</th>\n",
       "      <td>464</td>\n",
       "      <td>47</td>\n",
       "      <td>2860</td>\n",
       "      <td>126</td>\n",
       "      <td>2869</td>\n",
       "      <td>170669</td>\n",
       "      <td>44984</td>\n",
       "      <td>0.26</td>\n",
       "    </tr>\n",
       "  </tbody>\n",
       "</table>\n",
       "</div>"
      ],
      "text/plain": [
       "               LateAircraftDelayCount  SecurityDelayCount  NASDelayCount  \\\n",
       "UniqueCarrier                                                              \n",
       "9E                                661                   7           4185   \n",
       "AA                               3125                  18          15913   \n",
       "AQ                                 14                   2              2   \n",
       "AS                               1129                  55           5721   \n",
       "B6                                786                  16           3631   \n",
       "CO                                573                 128           6068   \n",
       "DL                               2573                   0          10144   \n",
       "EV                                987                  38           5698   \n",
       "F9                               1177                   0           4698   \n",
       "FL                               2282                   0           8862   \n",
       "HA                                368                   0             13   \n",
       "MQ                               3215                  10           9979   \n",
       "NW                               1483                  39          12667   \n",
       "OH                                104                  10           6240   \n",
       "OO                               4531                 122           9288   \n",
       "UA                               1923                   0           8564   \n",
       "US                               1835                  58           9237   \n",
       "WN                               9086                 295          20466   \n",
       "XE                               2019                 192          10956   \n",
       "YV                                464                  47           2860   \n",
       "\n",
       "               WeatherDelayCount  CarrierDelayCount  UniqueCarrierCount  \\\n",
       "UniqueCarrier                                                             \n",
       "9E                           155               1032              177627   \n",
       "AA                           536               4864              340780   \n",
       "AQ                             0                 29                6519   \n",
       "AS                            68               1417              106312   \n",
       "B6                            12               1085              102867   \n",
       "CO                           172               1810              162159   \n",
       "DL                           131               2885              249612   \n",
       "EV                           239               2444              184023   \n",
       "F9                           141               2424               73843   \n",
       "FL                            76               3103              184947   \n",
       "HA                            48                448               47723   \n",
       "MQ                           458               2981              328469   \n",
       "NW                           218               4347              233742   \n",
       "OH                           721               2292              119626   \n",
       "OO                           347               5901              429857   \n",
       "UA                           145               2537              237746   \n",
       "US                           125               4057              287174   \n",
       "WN                           419               7731              899734   \n",
       "XE                           325               3014              254882   \n",
       "YV                           126               2869              170669   \n",
       "\n",
       "               ArrDelaycount   pct  \n",
       "UniqueCarrier                       \n",
       "9E                     31574  0.18  \n",
       "AA                     96860  0.28  \n",
       "AQ                      1324  0.20  \n",
       "AS                     30643  0.29  \n",
       "B6                     21414  0.21  \n",
       "CO                     43855  0.27  \n",
       "DL                     70357  0.28  \n",
       "EV                     42531  0.23  \n",
       "F9                     27340  0.37  \n",
       "FL                     54919  0.30  \n",
       "HA                     10330  0.22  \n",
       "MQ                     77260  0.24  \n",
       "NW                     70043  0.30  \n",
       "OH                     36820  0.31  \n",
       "OO                    106380  0.25  \n",
       "UA                     55197  0.23  \n",
       "US                     58652  0.20  \n",
       "WN                    218005  0.24  \n",
       "XE                     67731  0.27  \n",
       "YV                     44984  0.26  "
      ]
     },
     "execution_count": 150,
     "metadata": {},
     "output_type": "execute_result"
    }
   ],
   "source": [
    "df_delay"
   ]
  },
  {
   "cell_type": "code",
   "execution_count": 152,
   "metadata": {
    "slideshow": {
     "slide_type": "slide"
    }
   },
   "outputs": [
    {
     "data": {
      "image/png": "[encoded data removed]",
      "text/plain": [
       "<Figure size 720x504 with 1 Axes>"
      ]
     },
     "metadata": {},
     "output_type": "display_data"
    }
   ],
   "source": [
    "wethear_sum   = df_delay['WeatherDelayCount'].sum()\n",
    "nas_sum       = df_delay['NASDelayCount'].sum()\n",
    "carrier_sum   = df_delay['CarrierDelayCount'].sum()\n",
    "security_sum  = df_delay['SecurityDelayCount'].sum()\n",
    "aircraft_sum  = df_delay['LateAircraftDelayCount'].sum()\n",
    "#ArrDelaycount_sum = df_delay['ArrDelaycount'].sum()\n",
    "\n",
    "num_of_overall = wethear_sum + nas_sum + carrier_sum + security_sum + aircraft_sum\n",
    "\n",
    "wethear_sum  = (wethear_sum/num_of_overall).round(2)*100\n",
    "nas_sum      = (nas_sum/num_of_overall).round(2)*100\n",
    "carrier_sum  = (carrier_sum/num_of_overall).round(2)*100\n",
    "security_sum = (security_sum/num_of_overall).round(2)*100\n",
    "aircraft_sum = (aircraft_sum/num_of_overall).round(2)*100\n",
    "\n",
    "plt.figure(figsize=(10,7))\n",
    "X = ['weather delays' , 'nas delays','carrier delays','late air craft','secuirity delays']\n",
    "Y = [wethear_sum, nas_sum, carrier_sum, aircraft_sum, security_sum]\n",
    "plt.pie(Y, labels=X , explode=[0.09,0,0,0,0.3],  autopct='%1.2f%%');\n",
    "plt.title('Contribution of each Delay reason to overall delays');"
   ]
  },
  {
   "cell_type": "markdown",
   "metadata": {
    "slideshow": {
     "slide_type": "slide"
    }
   },
   "source": [
    "We also see that the weather is not the main reason for delays. Weather only contributes to 2% of the delays."
   ]
  },
  {
   "cell_type": "markdown",
   "metadata": {},
   "source": [
    "> At the end of your report, make sure that you export the notebook as an\n",
    "html file from the `File > Download as... > HTML` menu. Make sure you keep\n",
    "track of where the exported file goes, so you can put it in the same folder\n",
    "as this notebook for project submission. Also, make sure you remove all of\n",
    "the quote-formatted guide notes like this one before you finish your report!"
   ]
  }
 ],
 "metadata": {
  "celltoolbar": "Slideshow",
  "kernelspec": {
   "display_name": "Python 3",
   "language": "python",
   "name": "python3"
  },
  "language_info": {
   "codemirror_mode": {
    "name": "ipython",
    "version": 3
   },
   "file_extension": ".py",
   "mimetype": "text/x-python",
   "name": "python",
   "nbconvert_exporter": "python",
   "pygments_lexer": "ipython3",
   "version": "3.8.8"
  }
 },
 "nbformat": 4,
 "nbformat_minor": 2
}
